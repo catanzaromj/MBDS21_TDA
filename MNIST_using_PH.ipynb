{
 "cells": [
  {
   "cell_type": "markdown",
   "id": "grateful-workstation",
   "metadata": {},
   "source": [
    "# MNIST classification using persistent homology and vectorizations"
   ]
  },
  {
   "cell_type": "markdown",
   "id": "entire-community",
   "metadata": {},
   "source": [
    "In this notebook, we apply TDA to the MNIST dataset consisting of handwritten digits for classification. This notebook borrows heavily from the `giotto-tda` tutorial notebook [Classifying handwritten digits](https://giotto-ai.github.io/gtda-docs/0.4.0/notebooks/MNIST_classification.html), except for some slight modifications in the beginning and the end. I strongly encourage you to check out all that `giottto-tda` has to offer, and especially read the [giotto-tda documentation](https://giotto-ai.github.io/gtda-docs/0.4.0/index.html).\n",
    "\n",
    "The MNIST dataset consists of 70,000 handwritten digits, stored as grey scale images of 28 x 28 pixels. We will build a classifier to predict which digit is written from the image. See [The MNIST Database of Handwritten Digits](http://yann.lecun.com/exdb/mnist/) by Yann LeCun, Corinna Cortes, and Christopher J.C. Burges for more details. \n",
    "\n",
    "For a more in-depth study of look at the basic pipeline outlined here, see [A Topological \"Reading\" Lesson: Classification of MNIST using TDA](https://arxiv.org/abs/1910.08345) by Adélie Garin and Guillaume Tauzin."
   ]
  },
  {
   "cell_type": "markdown",
   "id": "early-regulation",
   "metadata": {},
   "source": [
    "### Load the dataset, binarize, split into training and test sets"
   ]
  },
  {
   "cell_type": "code",
   "execution_count": 62,
   "id": "swiss-strengthening",
   "metadata": {},
   "outputs": [],
   "source": [
    "from sklearn.datasets import fetch_openml\n",
    "import numpy as np\n",
    "\n",
    "mnist = fetch_openml('mnist_784', version=1, as_frame=False)\n",
    "X, y = mnist['data'], mnist['target']\n",
    "y = y.astype(np.uint8)"
   ]
  },
  {
   "cell_type": "code",
   "execution_count": 63,
   "id": "above-inspiration",
   "metadata": {},
   "outputs": [
    {
     "data": {
      "text/plain": [
       "((70000, 784), (70000,))"
      ]
     },
     "execution_count": 63,
     "metadata": {},
     "output_type": "execute_result"
    }
   ],
   "source": [
    "X.shape, y.shape"
   ]
  },
  {
   "cell_type": "markdown",
   "id": "independent-packaging",
   "metadata": {},
   "source": [
    "So we do indeed have 70,000 images, each of which has 784 = 28 * 28 pixels. Let's check out a digit to make sure things work the way we think."
   ]
  },
  {
   "cell_type": "code",
   "execution_count": 64,
   "id": "broken-sitting",
   "metadata": {},
   "outputs": [
    {
     "data": {
      "text/plain": [
       "(-0.5, 27.5, 27.5, -0.5)"
      ]
     },
     "execution_count": 64,
     "metadata": {},
     "output_type": "execute_result"
    },
    {
     "data": {
      "image/png": "[encoded data removed]",
      "text/plain": [
       "<Figure size 432x288 with 1 Axes>"
      ]
     },
     "metadata": {
      "needs_background": "light"
     },
     "output_type": "display_data"
    }
   ],
   "source": [
    "import matplotlib.pyplot as plt\n",
    "digit = X[4].reshape(28,28)\n",
    "\n",
    "plt.imshow(digit, cmap = 'binary')\n",
    "plt.axis('off')"
   ]
  },
  {
   "cell_type": "markdown",
   "id": "athletic-airline",
   "metadata": {},
   "source": [
    "I guess that looks like a 9. Is it?"
   ]
  },
  {
   "cell_type": "code",
   "execution_count": 65,
   "id": "effective-contemporary",
   "metadata": {},
   "outputs": [
    {
     "data": {
      "text/plain": [
       "9"
      ]
     },
     "execution_count": 65,
     "metadata": {},
     "output_type": "execute_result"
    }
   ],
   "source": [
    "y[4]"
   ]
  },
  {
   "cell_type": "markdown",
   "id": "asian-desperate",
   "metadata": {},
   "source": [
    "We choose the same threshold as the [Garin et al] paper and see what the binarized digit looks like."
   ]
  },
  {
   "cell_type": "code",
   "execution_count": 66,
   "id": "protecting-matthew",
   "metadata": {},
   "outputs": [
    {
     "data": {
      "text/plain": [
       "<matplotlib.image.AxesImage at 0x18a06aa66d0>"
      ]
     },
     "execution_count": 66,
     "metadata": {},
     "output_type": "execute_result"
    },
    {
     "data": {
      "image/png": "[encoded data removed]",
      "text/plain": [
       "<Figure size 432x288 with 1 Axes>"
      ]
     },
     "metadata": {
      "needs_background": "light"
     },
     "output_type": "display_data"
    }
   ],
   "source": [
    "from sklearn.preprocessing import Binarizer\n",
    "binarizer = Binarizer(threshold=0.4)\n",
    "digit_bin = binarizer.fit_transform(digit)\n",
    "\n",
    "plt.imshow(digit_bin, cmap='binary')"
   ]
  },
  {
   "cell_type": "markdown",
   "id": "supported-training",
   "metadata": {},
   "source": [
    "Finally, we're ready to split the data into a training set and a test set."
   ]
  },
  {
   "cell_type": "code",
   "execution_count": 67,
   "id": "extraordinary-species",
   "metadata": {},
   "outputs": [
    {
     "name": "stdout",
     "output_type": "stream",
     "text": [
      "X_train shape: (600, 28, 28), y_train shape: (600,)\n",
      "X_test shape: (100, 28, 28), y_test shape: (100,)\n"
     ]
    }
   ],
   "source": [
    "from sklearn.model_selection import train_test_split\n",
    "\n",
    "train_size, test_size = 600, 100\n",
    "\n",
    "# Reshape to (n_samples, n_pixels_x, n_pixels_y)\n",
    "X = X.reshape((-1, 28, 28))\n",
    "\n",
    "X_train, X_test, y_train, y_test = train_test_split(\n",
    "    X, y, train_size=train_size, test_size=test_size, stratify=y, random_state=42\n",
    ")\n",
    "\n",
    "print(f\"X_train shape: {X_train.shape}, y_train shape: {y_train.shape}\")\n",
    "print(f\"X_test shape: {X_test.shape}, y_test shape: {y_test.shape}\")"
   ]
  },
  {
   "cell_type": "markdown",
   "id": "suburban-phone",
   "metadata": {},
   "source": [
    "### Pipeline"
   ]
  },
  {
   "cell_type": "markdown",
   "id": "obvious-renaissance",
   "metadata": {},
   "source": [
    "The following pipeline can be a bit much if you're new to data science and TDA, so lets step through the entire pipeline using our binarized digit `digit`. We will think of the digit as a _cubical complex_ $C$ and build a filtration of the digit using various filtrations discussed earlier. \n",
    "\n",
    "The _height filtration_ is determined by a _height_ function $h : C \\times S^{1} \\to \\mathbb{R}$, assigning to each voxel, direction pair $(c,\\theta)$ the distance from the first seen edge (hyperplane) of $C$ in the direction of $\\theta$ to $c$. Typically we fix the direction $\\theta$ and use $h_{\\theta} : C \\to \\mathbb{R}$ to construct the filtration. If $v$ is a unit vector pointing in the direction of $\\theta$, then $h_{\\theta}(c) = \\langle c ,v \\rangle$. Thus $\\mathcal{F}_{\\theta}(r) = \\{ c | h(c,\\theta) \\leq r \\}$.\n",
    "\n",
    "The _radial filtration_ is determined by a _radial_ function $r : C \\times C \\to \\mathbb{R}$, assigning to each voxel, 'center' pairs $(c,\\rho)$ the distance from $c$ to $\\rho$. Again, this is a function of the 'center' point $\\rho$, which we fix and use $r_{\\rho} : C \\to \\mathbb{R}$. If a voxel $v$ is not in the binarized image, we set $r_{\\rho}(v) = r_{\\infty}$, the maximum value of $r_{\\rho}$. Note that this function also depends on how we measure 'distance', but for this code, we'll use either the $L_1$ or $L_2$ norm of the difference.\n",
    "\n",
    "Let's try these out for the binarized digit we've been working with."
   ]
  },
  {
   "cell_type": "code",
   "execution_count": 68,
   "id": "original-russian",
   "metadata": {},
   "outputs": [
    {
     "data": {
      "application/vnd.plotly.v1+json": {
       "config": {
        "plotlyServerURL": "https://plot.ly"
       },
       "data": [
        {
         "colorscale": [
          [
           0,
           "#440154"
          ],
          [
           0.1111111111111111,
           "#482878"
          ],
          [
           0.2222222222222222,
           "#3e4989"
          ],
          [
           0.3333333333333333,
           "#31688e"
          ],
          [
           0.4444444444444444,
           "#26828e"
          ],
          [
           0.5555555555555556,
           "#1f9e89"
          ],
          [
           0.6666666666666666,
           "#35b779"
          ],
          [
           0.7777777777777778,
           "#6ece58"
          ],
          [
           0.8888888888888888,
           "#b5de2b"
          ],
          [
           1,
           "#fde725"
          ]
         ],
         "type": "heatmap",
         "z": [
          [
           34.301651610693426,
           34.301651610693426,
           34.301651610693426,
           34.301651610693426,
           34.301651610693426,
           34.301651610693426,
           34.301651610693426,
           34.301651610693426,
           34.301651610693426,
           34.301651610693426,
           34.301651610693426,
           34.301651610693426,
           34.301651610693426,
           34.301651610693426,
           34.301651610693426,
           34.301651610693426,
           34.301651610693426,
           34.301651610693426,
           34.301651610693426,
           34.301651610693426,
           34.301651610693426,
           34.301651610693426,
           34.301651610693426,
           34.301651610693426,
           34.301651610693426,
           34.301651610693426,
           34.301651610693426,
           34.301651610693426
          ],
          [
           34.301651610693426,
           34.301651610693426,
           34.301651610693426,
           34.301651610693426,
           34.301651610693426,
           34.301651610693426,
           34.301651610693426,
           34.301651610693426,
           34.301651610693426,
           34.301651610693426,
           34.301651610693426,
           34.301651610693426,
           34.301651610693426,
           34.301651610693426,
           34.301651610693426,
           34.301651610693426,
           34.301651610693426,
           34.301651610693426,
           34.301651610693426,
           34.301651610693426,
           34.301651610693426,
           34.301651610693426,
           34.301651610693426,
           34.301651610693426,
           34.301651610693426,
           34.301651610693426,
           34.301651610693426,
           34.301651610693426
          ],
          [
           34.301651610693426,
           34.301651610693426,
           34.301651610693426,
           34.301651610693426,
           34.301651610693426,
           34.301651610693426,
           34.301651610693426,
           34.301651610693426,
           34.301651610693426,
           34.301651610693426,
           34.301651610693426,
           34.301651610693426,
           34.301651610693426,
           34.301651610693426,
           34.301651610693426,
           34.301651610693426,
           34.301651610693426,
           34.301651610693426,
           34.301651610693426,
           34.301651610693426,
           34.301651610693426,
           34.301651610693426,
           34.301651610693426,
           34.301651610693426,
           34.301651610693426,
           34.301651610693426,
           34.301651610693426,
           34.301651610693426
          ],
          [
           34.301651610693426,
           34.301651610693426,
           34.301651610693426,
           34.301651610693426,
           34.301651610693426,
           34.301651610693426,
           34.301651610693426,
           34.301651610693426,
           34.301651610693426,
           34.301651610693426,
           34.301651610693426,
           34.301651610693426,
           34.301651610693426,
           34.301651610693426,
           34.301651610693426,
           34.301651610693426,
           34.301651610693426,
           34.301651610693426,
           34.301651610693426,
           34.301651610693426,
           34.301651610693426,
           34.301651610693426,
           34.301651610693426,
           34.301651610693426,
           34.301651610693426,
           34.301651610693426,
           34.301651610693426,
           34.301651610693426
          ],
          [
           34.301651610693426,
           34.301651610693426,
           34.301651610693426,
           34.301651610693426,
           34.301651610693426,
           34.301651610693426,
           34.301651610693426,
           34.301651610693426,
           34.301651610693426,
           34.301651610693426,
           34.301651610693426,
           34.301651610693426,
           34.301651610693426,
           34.301651610693426,
           34.301651610693426,
           34.301651610693426,
           34.301651610693426,
           34.301651610693426,
           34.301651610693426,
           34.301651610693426,
           34.301651610693426,
           34.301651610693426,
           34.301651610693426,
           34.301651610693426,
           34.301651610693426,
           34.301651610693426,
           34.301651610693426,
           34.301651610693426
          ],
          [
           34.301651610693426,
           34.301651610693426,
           34.301651610693426,
           34.301651610693426,
           34.301651610693426,
           34.301651610693426,
           34.301651610693426,
           34.301651610693426,
           34.301651610693426,
           34.301651610693426,
           34.301651610693426,
           34.301651610693426,
           34.301651610693426,
           34.301651610693426,
           34.301651610693426,
           34.301651610693426,
           34.301651610693426,
           34.301651610693426,
           34.301651610693426,
           34.301651610693426,
           34.301651610693426,
           34.301651610693426,
           34.301651610693426,
           34.301651610693426,
           34.301651610693426,
           34.301651610693426,
           34.301651610693426,
           34.301651610693426
          ],
          [
           34.301651610693426,
           34.301651610693426,
           34.301651610693426,
           34.301651610693426,
           34.301651610693426,
           34.301651610693426,
           34.301651610693426,
           34.301651610693426,
           34.301651610693426,
           34.301651610693426,
           34.301651610693426,
           34.301651610693426,
           34.301651610693426,
           34.301651610693426,
           34.301651610693426,
           34.301651610693426,
           34.301651610693426,
           34.301651610693426,
           34.301651610693426,
           34.301651610693426,
           34.301651610693426,
           34.301651610693426,
           34.301651610693426,
           34.301651610693426,
           34.301651610693426,
           34.301651610693426,
           34.301651610693426,
           34.301651610693426
          ],
          [
           34.301651610693426,
           34.301651610693426,
           34.301651610693426,
           34.301651610693426,
           34.301651610693426,
           34.301651610693426,
           34.301651610693426,
           34.301651610693426,
           34.301651610693426,
           34.301651610693426,
           34.301651610693426,
           34.301651610693426,
           19.313207915827967,
           19.697715603592208,
           20.12461179749811,
           20.591260281974,
           21.095023109728988,
           21.633307652783937,
           22.20360331117452,
           22.80350850198276,
           23.430749027719962,
           34.301651610693426,
           34.301651610693426,
           34.301651610693426,
           34.301651610693426,
           34.301651610693426,
           34.301651610693426,
           34.301651610693426
          ],
          [
           34.301651610693426,
           34.301651610693426,
           34.301651610693426,
           34.301651610693426,
           34.301651610693426,
           34.301651610693426,
           34.301651610693426,
           34.301651610693426,
           34.301651610693426,
           34.301651610693426,
           34.301651610693426,
           18.027756377319946,
           18.384776310850235,
           18.788294228055936,
           19.235384061671343,
           19.72308292331602,
           20.248456731316587,
           20.808652046684813,
           21.400934559032695,
           22.02271554554524,
           22.67156809750927,
           34.301651610693426,
           34.301651610693426,
           34.301651610693426,
           34.301651610693426,
           34.301651610693426,
           34.301651610693426,
           34.301651610693426
          ],
          [
           34.301651610693426,
           34.301651610693426,
           34.301651610693426,
           34.301651610693426,
           34.301651610693426,
           34.301651610693426,
           34.301651610693426,
           34.301651610693426,
           34.301651610693426,
           16.492422502470642,
           16.76305461424021,
           17.08800749063506,
           17.46424919657298,
           17.88854381999832,
           18.35755975068582,
           18.867962264113206,
           19.4164878389476,
           20,
           20.615528128088304,
           21.2602916254693,
           21.93171219946131,
           34.301651610693426,
           34.301651610693426,
           34.301651610693426,
           34.301651610693426,
           34.301651610693426,
           34.301651610693426,
           34.301651610693426
          ],
          [
           34.301651610693426,
           34.301651610693426,
           34.301651610693426,
           34.301651610693426,
           34.301651610693426,
           34.301651610693426,
           34.301651610693426,
           34.301651610693426,
           34.301651610693426,
           15.524174696260024,
           15.811388300841896,
           16.15549442140351,
           16.55294535724685,
           17,
           34.301651610693426,
           34.301651610693426,
           18.601075237738275,
           19.209372712298546,
           19.849433241279208,
           20.518284528683193,
           21.213203435596427,
           34.301651610693426,
           34.301651610693426,
           34.301651610693426,
           34.301651610693426,
           34.301651610693426,
           34.301651610693426,
           34.301651610693426
          ],
          [
           34.301651610693426,
           34.301651610693426,
           34.301651610693426,
           34.301651610693426,
           34.301651610693426,
           34.301651610693426,
           34.301651610693426,
           34.301651610693426,
           14.317821063276353,
           14.560219778561036,
           14.866068747318506,
           15.231546211727817,
           15.652475842498529,
           34.301651610693426,
           34.301651610693426,
           34.301651610693426,
           17.804493814764857,
           18.439088914585774,
           19.1049731745428,
           19.79898987322333,
           34.301651610693426,
           34.301651610693426,
           34.301651610693426,
           34.301651610693426,
           34.301651610693426,
           34.301651610693426,
           34.301651610693426,
           34.301651610693426
          ],
          [
           34.301651610693426,
           34.301651610693426,
           34.301651610693426,
           34.301651610693426,
           34.301651610693426,
           34.301651610693426,
           34.301651610693426,
           13.152946437965905,
           13.341664064126334,
           13.601470508735444,
           13.92838827718412,
           14.317821063276353,
           34.301651610693426,
           34.301651610693426,
           15.811388300841896,
           16.401219466856727,
           17.029386365926403,
           17.69180601295413,
           18.384776310850235,
           34.301651610693426,
           34.301651610693426,
           34.301651610693426,
           34.301651610693426,
           34.301651610693426,
           34.301651610693426,
           34.301651610693426,
           34.301651610693426,
           34.301651610693426
          ],
          [
           34.301651610693426,
           34.301651610693426,
           34.301651610693426,
           34.301651610693426,
           34.301651610693426,
           34.301651610693426,
           12.041594578792296,
           12.165525060596439,
           12.36931687685298,
           12.649110640673518,
           34.301651610693426,
           34.301651610693426,
           34.301651610693426,
           14.422205101855956,
           15,
           15.620499351813308,
           16.278820596099706,
           16.97056274847714,
           17.69180601295413,
           34.301651610693426,
           34.301651610693426,
           34.301651610693426,
           34.301651610693426,
           34.301651610693426,
           34.301651610693426,
           34.301651610693426,
           34.301651610693426,
           34.301651610693426
          ],
          [
           34.301651610693426,
           34.301651610693426,
           34.301651610693426,
           34.301651610693426,
           34.301651610693426,
           34.301651610693426,
           11.045361017187261,
           11.180339887498949,
           11.40175425099138,
           11.704699910719626,
           12.083045973594572,
           12.529964086141668,
           13.038404810405298,
           13.601470508735444,
           14.212670403551895,
           14.866068747318506,
           15.556349186104045,
           16.278820596099706,
           34.301651610693426,
           34.301651610693426,
           34.301651610693426,
           34.301651610693426,
           34.301651610693426,
           34.301651610693426,
           34.301651610693426,
           34.301651610693426,
           34.301651610693426,
           34.301651610693426
          ],
          [
           34.301651610693426,
           34.301651610693426,
           34.301651610693426,
           34.301651610693426,
           34.301651610693426,
           34.301651610693426,
           10.04987562112089,
           10.198039027185569,
           10.44030650891055,
           10.770329614269007,
           11.180339887498949,
           11.661903789690601,
           12.206555615733702,
           12.806248474865697,
           13.45362404707371,
           14.142135623730951,
           14.866068747318506,
           34.301651610693426,
           34.301651610693426,
           34.301651610693426,
           34.301651610693426,
           34.301651610693426,
           34.301651610693426,
           34.301651610693426,
           34.301651610693426,
           34.301651610693426,
           34.301651610693426,
           34.301651610693426
          ],
          [
           34.301651610693426,
           34.301651610693426,
           34.301651610693426,
           34.301651610693426,
           34.301651610693426,
           34.301651610693426,
           34.301651610693426,
           9.219544457292887,
           9.486832980505138,
           9.848857801796104,
           10.295630140987,
           10.816653826391969,
           11.40175425099138,
           12.041594578792296,
           12.727922061357855,
           13.45362404707371,
           14.212670403551895,
           34.301651610693426,
           34.301651610693426,
           34.301651610693426,
           34.301651610693426,
           34.301651610693426,
           34.301651610693426,
           34.301651610693426,
           34.301651610693426,
           34.301651610693426,
           34.301651610693426,
           34.301651610693426
          ],
          [
           34.301651610693426,
           34.301651610693426,
           34.301651610693426,
           34.301651610693426,
           34.301651610693426,
           34.301651610693426,
           34.301651610693426,
           34.301651610693426,
           34.301651610693426,
           34.301651610693426,
           34.301651610693426,
           34.301651610693426,
           34.301651610693426,
           11.313708498984761,
           12.041594578792296,
           12.806248474865697,
           13.601470508735444,
           34.301651610693426,
           34.301651610693426,
           34.301651610693426,
           34.301651610693426,
           34.301651610693426,
           34.301651610693426,
           34.301651610693426,
           34.301651610693426,
           34.301651610693426,
           34.301651610693426,
           34.301651610693426
          ],
          [
           34.301651610693426,
           34.301651610693426,
           34.301651610693426,
           34.301651610693426,
           34.301651610693426,
           34.301651610693426,
           34.301651610693426,
           34.301651610693426,
           34.301651610693426,
           34.301651610693426,
           34.301651610693426,
           34.301651610693426,
           34.301651610693426,
           10.63014581273465,
           11.40175425099138,
           12.206555615733702,
           13.038404810405298,
           34.301651610693426,
           34.301651610693426,
           34.301651610693426,
           34.301651610693426,
           34.301651610693426,
           34.301651610693426,
           34.301651610693426,
           34.301651610693426,
           34.301651610693426,
           34.301651610693426,
           34.301651610693426
          ],
          [
           34.301651610693426,
           34.301651610693426,
           34.301651610693426,
           34.301651610693426,
           34.301651610693426,
           34.301651610693426,
           34.301651610693426,
           34.301651610693426,
           34.301651610693426,
           34.301651610693426,
           34.301651610693426,
           34.301651610693426,
           34.301651610693426,
           34.301651610693426,
           10.816653826391969,
           11.661903789690601,
           12.529964086141668,
           34.301651610693426,
           34.301651610693426,
           34.301651610693426,
           34.301651610693426,
           34.301651610693426,
           34.301651610693426,
           34.301651610693426,
           34.301651610693426,
           34.301651610693426,
           34.301651610693426,
           34.301651610693426
          ],
          [
           34.301651610693426,
           34.301651610693426,
           34.301651610693426,
           34.301651610693426,
           34.301651610693426,
           34.301651610693426,
           34.301651610693426,
           34.301651610693426,
           34.301651610693426,
           34.301651610693426,
           34.301651610693426,
           34.301651610693426,
           34.301651610693426,
           9.433981132056603,
           10.295630140987,
           11.180339887498949,
           12.083045973594572,
           34.301651610693426,
           34.301651610693426,
           34.301651610693426,
           34.301651610693426,
           34.301651610693426,
           34.301651610693426,
           34.301651610693426,
           34.301651610693426,
           34.301651610693426,
           34.301651610693426,
           34.301651610693426
          ],
          [
           34.301651610693426,
           34.301651610693426,
           34.301651610693426,
           34.301651610693426,
           34.301651610693426,
           34.301651610693426,
           34.301651610693426,
           34.301651610693426,
           34.301651610693426,
           34.301651610693426,
           34.301651610693426,
           34.301651610693426,
           34.301651610693426,
           8.94427190999916,
           9.848857801796104,
           10.770329614269007,
           11.704699910719626,
           34.301651610693426,
           34.301651610693426,
           34.301651610693426,
           34.301651610693426,
           34.301651610693426,
           34.301651610693426,
           34.301651610693426,
           34.301651610693426,
           34.301651610693426,
           34.301651610693426,
           34.301651610693426
          ],
          [
           34.301651610693426,
           34.301651610693426,
           34.301651610693426,
           34.301651610693426,
           34.301651610693426,
           34.301651610693426,
           34.301651610693426,
           34.301651610693426,
           34.301651610693426,
           34.301651610693426,
           34.301651610693426,
           34.301651610693426,
           34.301651610693426,
           8.54400374531753,
           9.486832980505138,
           10.44030650891055,
           11.40175425099138,
           34.301651610693426,
           34.301651610693426,
           34.301651610693426,
           34.301651610693426,
           34.301651610693426,
           34.301651610693426,
           34.301651610693426,
           34.301651610693426,
           34.301651610693426,
           34.301651610693426,
           34.301651610693426
          ],
          [
           34.301651610693426,
           34.301651610693426,
           34.301651610693426,
           34.301651610693426,
           34.301651610693426,
           34.301651610693426,
           34.301651610693426,
           34.301651610693426,
           34.301651610693426,
           34.301651610693426,
           34.301651610693426,
           34.301651610693426,
           34.301651610693426,
           34.301651610693426,
           9.219544457292887,
           10.198039027185569,
           11.180339887498949,
           34.301651610693426,
           34.301651610693426,
           34.301651610693426,
           34.301651610693426,
           34.301651610693426,
           34.301651610693426,
           34.301651610693426,
           34.301651610693426,
           34.301651610693426,
           34.301651610693426,
           34.301651610693426
          ],
          [
           34.301651610693426,
           34.301651610693426,
           34.301651610693426,
           34.301651610693426,
           34.301651610693426,
           34.301651610693426,
           34.301651610693426,
           34.301651610693426,
           34.301651610693426,
           34.301651610693426,
           34.301651610693426,
           34.301651610693426,
           34.301651610693426,
           34.301651610693426,
           9.055385138137417,
           10.04987562112089,
           11.045361017187261,
           12.041594578792296,
           34.301651610693426,
           34.301651610693426,
           34.301651610693426,
           34.301651610693426,
           34.301651610693426,
           34.301651610693426,
           34.301651610693426,
           34.301651610693426,
           34.301651610693426,
           34.301651610693426
          ],
          [
           34.301651610693426,
           34.301651610693426,
           34.301651610693426,
           34.301651610693426,
           34.301651610693426,
           34.301651610693426,
           34.301651610693426,
           34.301651610693426,
           34.301651610693426,
           34.301651610693426,
           34.301651610693426,
           34.301651610693426,
           34.301651610693426,
           34.301651610693426,
           9,
           10,
           11,
           12,
           13,
           34.301651610693426,
           34.301651610693426,
           34.301651610693426,
           34.301651610693426,
           34.301651610693426,
           34.301651610693426,
           34.301651610693426,
           34.301651610693426,
           34.301651610693426
          ],
          [
           34.301651610693426,
           34.301651610693426,
           34.301651610693426,
           34.301651610693426,
           34.301651610693426,
           34.301651610693426,
           34.301651610693426,
           34.301651610693426,
           34.301651610693426,
           34.301651610693426,
           34.301651610693426,
           34.301651610693426,
           34.301651610693426,
           34.301651610693426,
           34.301651610693426,
           10.04987562112089,
           11.045361017187261,
           12.041594578792296,
           13.038404810405298,
           34.301651610693426,
           34.301651610693426,
           34.301651610693426,
           34.301651610693426,
           34.301651610693426,
           34.301651610693426,
           34.301651610693426,
           34.301651610693426,
           34.301651610693426
          ],
          [
           34.301651610693426,
           34.301651610693426,
           34.301651610693426,
           34.301651610693426,
           34.301651610693426,
           34.301651610693426,
           34.301651610693426,
           34.301651610693426,
           34.301651610693426,
           34.301651610693426,
           34.301651610693426,
           34.301651610693426,
           34.301651610693426,
           34.301651610693426,
           34.301651610693426,
           34.301651610693426,
           34.301651610693426,
           34.301651610693426,
           34.301651610693426,
           34.301651610693426,
           34.301651610693426,
           34.301651610693426,
           34.301651610693426,
           34.301651610693426,
           34.301651610693426,
           34.301651610693426,
           34.301651610693426,
           34.301651610693426
          ]
         ]
        }
       ],
       "layout": {
        "plot_bgcolor": "white",
        "template": {
         "data": {
          "bar": [
           {
            "error_x": {
             "color": "#2a3f5f"
            },
            "error_y": {
             "color": "#2a3f5f"
            },
            "marker": {
             "line": {
              "color": "#E5ECF6",
              "width": 0.5
             }
            },
            "type": "bar"
           }
          ],
          "barpolar": [
           {
            "marker": {
             "line": {
              "color": "#E5ECF6",
              "width": 0.5
             }
            },
            "type": "barpolar"
           }
          ],
          "carpet": [
           {
            "aaxis": {
             "endlinecolor": "#2a3f5f",
             "gridcolor": "white",
             "linecolor": "white",
             "minorgridcolor": "white",
             "startlinecolor": "#2a3f5f"
            },
            "baxis": {
             "endlinecolor": "#2a3f5f",
             "gridcolor": "white",
             "linecolor": "white",
             "minorgridcolor": "white",
             "startlinecolor": "#2a3f5f"
            },
            "type": "carpet"
           }
          ],
          "choropleth": [
           {
            "colorbar": {
             "outlinewidth": 0,
             "ticks": ""
            },
            "type": "choropleth"
           }
          ],
          "contour": [
           {
            "colorbar": {
             "outlinewidth": 0,
             "ticks": ""
            },
            "colorscale": [
             [
              0,
              "#0d0887"
             ],
             [
              0.1111111111111111,
              "#46039f"
             ],
             [
              0.2222222222222222,
              "#7201a8"
             ],
             [
              0.3333333333333333,
              "#9c179e"
             ],
             [
              0.4444444444444444,
              "#bd3786"
             ],
             [
              0.5555555555555556,
              "#d8576b"
             ],
             [
              0.6666666666666666,
              "#ed7953"
             ],
             [
              0.7777777777777778,
              "#fb9f3a"
             ],
             [
              0.8888888888888888,
              "#fdca26"
             ],
             [
              1,
              "#f0f921"
             ]
            ],
            "type": "contour"
           }
          ],
          "contourcarpet": [
           {
            "colorbar": {
             "outlinewidth": 0,
             "ticks": ""
            },
            "type": "contourcarpet"
           }
          ],
          "heatmap": [
           {
            "colorbar": {
             "outlinewidth": 0,
             "ticks": ""
            },
            "colorscale": [
             [
              0,
              "#0d0887"
             ],
             [
              0.1111111111111111,
              "#46039f"
             ],
             [
              0.2222222222222222,
              "#7201a8"
             ],
             [
              0.3333333333333333,
              "#9c179e"
             ],
             [
              0.4444444444444444,
              "#bd3786"
             ],
             [
              0.5555555555555556,
              "#d8576b"
             ],
             [
              0.6666666666666666,
              "#ed7953"
             ],
             [
              0.7777777777777778,
              "#fb9f3a"
             ],
             [
              0.8888888888888888,
              "#fdca26"
             ],
             [
              1,
              "#f0f921"
             ]
            ],
            "type": "heatmap"
           }
          ],
          "heatmapgl": [
           {
            "colorbar": {
             "outlinewidth": 0,
             "ticks": ""
            },
            "colorscale": [
             [
              0,
              "#0d0887"
             ],
             [
              0.1111111111111111,
              "#46039f"
             ],
             [
              0.2222222222222222,
              "#7201a8"
             ],
             [
              0.3333333333333333,
              "#9c179e"
             ],
             [
              0.4444444444444444,
              "#bd3786"
             ],
             [
              0.5555555555555556,
              "#d8576b"
             ],
             [
              0.6666666666666666,
              "#ed7953"
             ],
             [
              0.7777777777777778,
              "#fb9f3a"
             ],
             [
              0.8888888888888888,
              "#fdca26"
             ],
             [
              1,
              "#f0f921"
             ]
            ],
            "type": "heatmapgl"
           }
          ],
          "histogram": [
           {
            "marker": {
             "colorbar": {
              "outlinewidth": 0,
              "ticks": ""
             }
            },
            "type": "histogram"
           }
          ],
          "histogram2d": [
           {
            "colorbar": {
             "outlinewidth": 0,
             "ticks": ""
            },
            "colorscale": [
             [
              0,
              "#0d0887"
             ],
             [
              0.1111111111111111,
              "#46039f"
             ],
             [
              0.2222222222222222,
              "#7201a8"
             ],
             [
              0.3333333333333333,
              "#9c179e"
             ],
             [
              0.4444444444444444,
              "#bd3786"
             ],
             [
              0.5555555555555556,
              "#d8576b"
             ],
             [
              0.6666666666666666,
              "#ed7953"
             ],
             [
              0.7777777777777778,
              "#fb9f3a"
             ],
             [
              0.8888888888888888,
              "#fdca26"
             ],
             [
              1,
              "#f0f921"
             ]
            ],
            "type": "histogram2d"
           }
          ],
          "histogram2dcontour": [
           {
            "colorbar": {
             "outlinewidth": 0,
             "ticks": ""
            },
            "colorscale": [
             [
              0,
              "#0d0887"
             ],
             [
              0.1111111111111111,
              "#46039f"
             ],
             [
              0.2222222222222222,
              "#7201a8"
             ],
             [
              0.3333333333333333,
              "#9c179e"
             ],
             [
              0.4444444444444444,
              "#bd3786"
             ],
             [
              0.5555555555555556,
              "#d8576b"
             ],
             [
              0.6666666666666666,
              "#ed7953"
             ],
             [
              0.7777777777777778,
              "#fb9f3a"
             ],
             [
              0.8888888888888888,
              "#fdca26"
             ],
             [
              1,
              "#f0f921"
             ]
            ],
            "type": "histogram2dcontour"
           }
          ],
          "mesh3d": [
           {
            "colorbar": {
             "outlinewidth": 0,
             "ticks": ""
            },
            "type": "mesh3d"
           }
          ],
          "parcoords": [
           {
            "line": {
             "colorbar": {
              "outlinewidth": 0,
              "ticks": ""
             }
            },
            "type": "parcoords"
           }
          ],
          "pie": [
           {
            "automargin": true,
            "type": "pie"
           }
          ],
          "scatter": [
           {
            "marker": {
             "colorbar": {
              "outlinewidth": 0,
              "ticks": ""
             }
            },
            "type": "scatter"
           }
          ],
          "scatter3d": [
           {
            "line": {
             "colorbar": {
              "outlinewidth": 0,
              "ticks": ""
             }
            },
            "marker": {
             "colorbar": {
              "outlinewidth": 0,
              "ticks": ""
             }
            },
            "type": "scatter3d"
           }
          ],
          "scattercarpet": [
           {
            "marker": {
             "colorbar": {
              "outlinewidth": 0,
              "ticks": ""
             }
            },
            "type": "scattercarpet"
           }
          ],
          "scattergeo": [
           {
            "marker": {
             "colorbar": {
              "outlinewidth": 0,
              "ticks": ""
             }
            },
            "type": "scattergeo"
           }
          ],
          "scattergl": [
           {
            "marker": {
             "colorbar": {
              "outlinewidth": 0,
              "ticks": ""
             }
            },
            "type": "scattergl"
           }
          ],
          "scattermapbox": [
           {
            "marker": {
             "colorbar": {
              "outlinewidth": 0,
              "ticks": ""
             }
            },
            "type": "scattermapbox"
           }
          ],
          "scatterpolar": [
           {
            "marker": {
             "colorbar": {
              "outlinewidth": 0,
              "ticks": ""
             }
            },
            "type": "scatterpolar"
           }
          ],
          "scatterpolargl": [
           {
            "marker": {
             "colorbar": {
              "outlinewidth": 0,
              "ticks": ""
             }
            },
            "type": "scatterpolargl"
           }
          ],
          "scatterternary": [
           {
            "marker": {
             "colorbar": {
              "outlinewidth": 0,
              "ticks": ""
             }
            },
            "type": "scatterternary"
           }
          ],
          "surface": [
           {
            "colorbar": {
             "outlinewidth": 0,
             "ticks": ""
            },
            "colorscale": [
             [
              0,
              "#0d0887"
             ],
             [
              0.1111111111111111,
              "#46039f"
             ],
             [
              0.2222222222222222,
              "#7201a8"
             ],
             [
              0.3333333333333333,
              "#9c179e"
             ],
             [
              0.4444444444444444,
              "#bd3786"
             ],
             [
              0.5555555555555556,
              "#d8576b"
             ],
             [
              0.6666666666666666,
              "#ed7953"
             ],
             [
              0.7777777777777778,
              "#fb9f3a"
             ],
             [
              0.8888888888888888,
              "#fdca26"
             ],
             [
              1,
              "#f0f921"
             ]
            ],
            "type": "surface"
           }
          ],
          "table": [
           {
            "cells": {
             "fill": {
              "color": "#EBF0F8"
             },
             "line": {
              "color": "white"
             }
            },
            "header": {
             "fill": {
              "color": "#C8D4E3"
             },
             "line": {
              "color": "white"
             }
            },
            "type": "table"
           }
          ]
         },
         "layout": {
          "annotationdefaults": {
           "arrowcolor": "#2a3f5f",
           "arrowhead": 0,
           "arrowwidth": 1
          },
          "autotypenumbers": "strict",
          "coloraxis": {
           "colorbar": {
            "outlinewidth": 0,
            "ticks": ""
           }
          },
          "colorscale": {
           "diverging": [
            [
             0,
             "#8e0152"
            ],
            [
             0.1,
             "#c51b7d"
            ],
            [
             0.2,
             "#de77ae"
            ],
            [
             0.3,
             "#f1b6da"
            ],
            [
             0.4,
             "#fde0ef"
            ],
            [
             0.5,
             "#f7f7f7"
            ],
            [
             0.6,
             "#e6f5d0"
            ],
            [
             0.7,
             "#b8e186"
            ],
            [
             0.8,
             "#7fbc41"
            ],
            [
             0.9,
             "#4d9221"
            ],
            [
             1,
             "#276419"
            ]
           ],
           "sequential": [
            [
             0,
             "#0d0887"
            ],
            [
             0.1111111111111111,
             "#46039f"
            ],
            [
             0.2222222222222222,
             "#7201a8"
            ],
            [
             0.3333333333333333,
             "#9c179e"
            ],
            [
             0.4444444444444444,
             "#bd3786"
            ],
            [
             0.5555555555555556,
             "#d8576b"
            ],
            [
             0.6666666666666666,
             "#ed7953"
            ],
            [
             0.7777777777777778,
             "#fb9f3a"
            ],
            [
             0.8888888888888888,
             "#fdca26"
            ],
            [
             1,
             "#f0f921"
            ]
           ],
           "sequentialminus": [
            [
             0,
             "#0d0887"
            ],
            [
             0.1111111111111111,
             "#46039f"
            ],
            [
             0.2222222222222222,
             "#7201a8"
            ],
            [
             0.3333333333333333,
             "#9c179e"
            ],
            [
             0.4444444444444444,
             "#bd3786"
            ],
            [
             0.5555555555555556,
             "#d8576b"
            ],
            [
             0.6666666666666666,
             "#ed7953"
            ],
            [
             0.7777777777777778,
             "#fb9f3a"
            ],
            [
             0.8888888888888888,
             "#fdca26"
            ],
            [
             1,
             "#f0f921"
            ]
           ]
          },
          "colorway": [
           "#636efa",
           "#EF553B",
           "#00cc96",
           "#ab63fa",
           "#FFA15A",
           "#19d3f3",
           "#FF6692",
           "#B6E880",
           "#FF97FF",
           "#FECB52"
          ],
          "font": {
           "color": "#2a3f5f"
          },
          "geo": {
           "bgcolor": "white",
           "lakecolor": "white",
           "landcolor": "#E5ECF6",
           "showlakes": true,
           "showland": true,
           "subunitcolor": "white"
          },
          "hoverlabel": {
           "align": "left"
          },
          "hovermode": "closest",
          "mapbox": {
           "style": "light"
          },
          "paper_bgcolor": "white",
          "plot_bgcolor": "#E5ECF6",
          "polar": {
           "angularaxis": {
            "gridcolor": "white",
            "linecolor": "white",
            "ticks": ""
           },
           "bgcolor": "#E5ECF6",
           "radialaxis": {
            "gridcolor": "white",
            "linecolor": "white",
            "ticks": ""
           }
          },
          "scene": {
           "xaxis": {
            "backgroundcolor": "#E5ECF6",
            "gridcolor": "white",
            "gridwidth": 2,
            "linecolor": "white",
            "showbackground": true,
            "ticks": "",
            "zerolinecolor": "white"
           },
           "yaxis": {
            "backgroundcolor": "#E5ECF6",
            "gridcolor": "white",
            "gridwidth": 2,
            "linecolor": "white",
            "showbackground": true,
            "ticks": "",
            "zerolinecolor": "white"
           },
           "zaxis": {
            "backgroundcolor": "#E5ECF6",
            "gridcolor": "white",
            "gridwidth": 2,
            "linecolor": "white",
            "showbackground": true,
            "ticks": "",
            "zerolinecolor": "white"
           }
          },
          "shapedefaults": {
           "line": {
            "color": "#2a3f5f"
           }
          },
          "ternary": {
           "aaxis": {
            "gridcolor": "white",
            "linecolor": "white",
            "ticks": ""
           },
           "baxis": {
            "gridcolor": "white",
            "linecolor": "white",
            "ticks": ""
           },
           "bgcolor": "#E5ECF6",
           "caxis": {
            "gridcolor": "white",
            "linecolor": "white",
            "ticks": ""
           }
          },
          "title": {
           "x": 0.05
          },
          "xaxis": {
           "automargin": true,
           "gridcolor": "white",
           "linecolor": "white",
           "ticks": "",
           "title": {
            "standoff": 15
           },
           "zerolinecolor": "white",
           "zerolinewidth": 2
          },
          "yaxis": {
           "automargin": true,
           "gridcolor": "white",
           "linecolor": "white",
           "ticks": "",
           "title": {
            "standoff": 15
           },
           "zerolinecolor": "white",
           "zerolinewidth": 2
          }
         }
        },
        "title": {
         "text": "Radial filtration of image 0"
        },
        "xaxis": {
         "constrain": "domain",
         "scaleanchor": "y"
        },
        "yaxis": {
         "autorange": "reversed",
         "constrain": "domain"
        }
       }
      },
      "text/html": [
       "<div>                            <div id=\"9cfe7a0b-d24a-4b3d-8a44-3677ea1b719b\" class=\"plotly-graph-div\" style=\"height:525px; width:100%;\"></div>            <script type=\"text/javascript\">                require([\"plotly\"], function(Plotly) {                    window.PLOTLYENV=window.PLOTLYENV || {};                                    if (document.getElementById(\"9cfe7a0b-d24a-4b3d-8a44-3677ea1b719b\")) {                    Plotly.newPlot(                        \"9cfe7a0b-d24a-4b3d-8a44-3677ea1b719b\",                        [{\"colorscale\": [[0.0, \"#440154\"], [0.1111111111111111, \"#482878\"], [0.2222222222222222, \"#3e4989\"], [0.3333333333333333, \"#31688e\"], [0.4444444444444444, \"#26828e\"], [0.5555555555555556, \"#1f9e89\"], [0.6666666666666666, \"#35b779\"], [0.7777777777777778, \"#6ece58\"], [0.8888888888888888, \"#b5de2b\"], [1.0, \"#fde725\"]], \"type\": \"heatmap\", \"z\": [[34.301651610693426, 34.301651610693426, 34.301651610693426, 34.301651610693426, 34.301651610693426, 34.301651610693426, 34.301651610693426, 34.301651610693426, 34.301651610693426, 34.301651610693426, 34.301651610693426, 34.301651610693426, 34.301651610693426, 34.301651610693426, 34.301651610693426, 34.301651610693426, 34.301651610693426, 34.301651610693426, 34.301651610693426, 34.301651610693426, 34.301651610693426, 34.301651610693426, 34.301651610693426, 34.301651610693426, 34.301651610693426, 34.301651610693426, 34.301651610693426, 34.301651610693426], [34.301651610693426, 34.301651610693426, 34.301651610693426, 34.301651610693426, 34.301651610693426, 34.301651610693426, 34.301651610693426, 34.301651610693426, 34.301651610693426, 34.301651610693426, 34.301651610693426, 34.301651610693426, 34.301651610693426, 34.301651610693426, 34.301651610693426, 34.301651610693426, 34.301651610693426, 34.301651610693426, 34.301651610693426, 34.301651610693426, 34.301651610693426, 34.301651610693426, 34.301651610693426, 34.301651610693426, 34.301651610693426, 34.301651610693426, 34.301651610693426, 34.301651610693426], [34.301651610693426, 34.301651610693426, 34.301651610693426, 34.301651610693426, 34.301651610693426, 34.301651610693426, 34.301651610693426, 34.301651610693426, 34.301651610693426, 34.301651610693426, 34.301651610693426, 34.301651610693426, 34.301651610693426, 34.301651610693426, 34.301651610693426, 34.301651610693426, 34.301651610693426, 34.301651610693426, 34.301651610693426, 34.301651610693426, 34.301651610693426, 34.301651610693426, 34.301651610693426, 34.301651610693426, 34.301651610693426, 34.301651610693426, 34.301651610693426, 34.301651610693426], [34.301651610693426, 34.301651610693426, 34.301651610693426, 34.301651610693426, 34.301651610693426, 34.301651610693426, 34.301651610693426, 34.301651610693426, 34.301651610693426, 34.301651610693426, 34.301651610693426, 34.301651610693426, 34.301651610693426, 34.301651610693426, 34.301651610693426, 34.301651610693426, 34.301651610693426, 34.301651610693426, 34.301651610693426, 34.301651610693426, 34.301651610693426, 34.301651610693426, 34.301651610693426, 34.301651610693426, 34.301651610693426, 34.301651610693426, 34.301651610693426, 34.301651610693426], [34.301651610693426, 34.301651610693426, 34.301651610693426, 34.301651610693426, 34.301651610693426, 34.301651610693426, 34.301651610693426, 34.301651610693426, 34.301651610693426, 34.301651610693426, 34.301651610693426, 34.301651610693426, 34.301651610693426, 34.301651610693426, 34.301651610693426, 34.301651610693426, 34.301651610693426, 34.301651610693426, 34.301651610693426, 34.301651610693426, 34.301651610693426, 34.301651610693426, 34.301651610693426, 34.301651610693426, 34.301651610693426, 34.301651610693426, 34.301651610693426, 34.301651610693426], [34.301651610693426, 34.301651610693426, 34.301651610693426, 34.301651610693426, 34.301651610693426, 34.301651610693426, 34.301651610693426, 34.301651610693426, 34.301651610693426, 34.301651610693426, 34.301651610693426, 34.301651610693426, 34.301651610693426, 34.301651610693426, 34.301651610693426, 34.301651610693426, 34.301651610693426, 34.301651610693426, 34.301651610693426, 34.301651610693426, 34.301651610693426, 34.301651610693426, 34.301651610693426, 34.301651610693426, 34.301651610693426, 34.301651610693426, 34.301651610693426, 34.301651610693426], [34.301651610693426, 34.301651610693426, 34.301651610693426, 34.301651610693426, 34.301651610693426, 34.301651610693426, 34.301651610693426, 34.301651610693426, 34.301651610693426, 34.301651610693426, 34.301651610693426, 34.301651610693426, 34.301651610693426, 34.301651610693426, 34.301651610693426, 34.301651610693426, 34.301651610693426, 34.301651610693426, 34.301651610693426, 34.301651610693426, 34.301651610693426, 34.301651610693426, 34.301651610693426, 34.301651610693426, 34.301651610693426, 34.301651610693426, 34.301651610693426, 34.301651610693426], [34.301651610693426, 34.301651610693426, 34.301651610693426, 34.301651610693426, 34.301651610693426, 34.301651610693426, 34.301651610693426, 34.301651610693426, 34.301651610693426, 34.301651610693426, 34.301651610693426, 34.301651610693426, 19.313207915827967, 19.697715603592208, 20.12461179749811, 20.591260281974, 21.095023109728988, 21.633307652783937, 22.20360331117452, 22.80350850198276, 23.430749027719962, 34.301651610693426, 34.301651610693426, 34.301651610693426, 34.301651610693426, 34.301651610693426, 34.301651610693426, 34.301651610693426], [34.301651610693426, 34.301651610693426, 34.301651610693426, 34.301651610693426, 34.301651610693426, 34.301651610693426, 34.301651610693426, 34.301651610693426, 34.301651610693426, 34.301651610693426, 34.301651610693426, 18.027756377319946, 18.384776310850235, 18.788294228055936, 19.235384061671343, 19.72308292331602, 20.248456731316587, 20.808652046684813, 21.400934559032695, 22.02271554554524, 22.67156809750927, 34.301651610693426, 34.301651610693426, 34.301651610693426, 34.301651610693426, 34.301651610693426, 34.301651610693426, 34.301651610693426], [34.301651610693426, 34.301651610693426, 34.301651610693426, 34.301651610693426, 34.301651610693426, 34.301651610693426, 34.301651610693426, 34.301651610693426, 34.301651610693426, 16.492422502470642, 16.76305461424021, 17.08800749063506, 17.46424919657298, 17.88854381999832, 18.35755975068582, 18.867962264113206, 19.4164878389476, 20.0, 20.615528128088304, 21.2602916254693, 21.93171219946131, 34.301651610693426, 34.301651610693426, 34.301651610693426, 34.301651610693426, 34.301651610693426, 34.301651610693426, 34.301651610693426], [34.301651610693426, 34.301651610693426, 34.301651610693426, 34.301651610693426, 34.301651610693426, 34.301651610693426, 34.301651610693426, 34.301651610693426, 34.301651610693426, 15.524174696260024, 15.811388300841896, 16.15549442140351, 16.55294535724685, 17.0, 34.301651610693426, 34.301651610693426, 18.601075237738275, 19.209372712298546, 19.849433241279208, 20.518284528683193, 21.213203435596427, 34.301651610693426, 34.301651610693426, 34.301651610693426, 34.301651610693426, 34.301651610693426, 34.301651610693426, 34.301651610693426], [34.301651610693426, 34.301651610693426, 34.301651610693426, 34.301651610693426, 34.301651610693426, 34.301651610693426, 34.301651610693426, 34.301651610693426, 14.317821063276353, 14.560219778561036, 14.866068747318506, 15.231546211727817, 15.652475842498529, 34.301651610693426, 34.301651610693426, 34.301651610693426, 17.804493814764857, 18.439088914585774, 19.1049731745428, 19.79898987322333, 34.301651610693426, 34.301651610693426, 34.301651610693426, 34.301651610693426, 34.301651610693426, 34.301651610693426, 34.301651610693426, 34.301651610693426], [34.301651610693426, 34.301651610693426, 34.301651610693426, 34.301651610693426, 34.301651610693426, 34.301651610693426, 34.301651610693426, 13.152946437965905, 13.341664064126334, 13.601470508735444, 13.92838827718412, 14.317821063276353, 34.301651610693426, 34.301651610693426, 15.811388300841896, 16.401219466856727, 17.029386365926403, 17.69180601295413, 18.384776310850235, 34.301651610693426, 34.301651610693426, 34.301651610693426, 34.301651610693426, 34.301651610693426, 34.301651610693426, 34.301651610693426, 34.301651610693426, 34.301651610693426], [34.301651610693426, 34.301651610693426, 34.301651610693426, 34.301651610693426, 34.301651610693426, 34.301651610693426, 12.041594578792296, 12.165525060596439, 12.36931687685298, 12.649110640673518, 34.301651610693426, 34.301651610693426, 34.301651610693426, 14.422205101855956, 15.0, 15.620499351813308, 16.278820596099706, 16.97056274847714, 17.69180601295413, 34.301651610693426, 34.301651610693426, 34.301651610693426, 34.301651610693426, 34.301651610693426, 34.301651610693426, 34.301651610693426, 34.301651610693426, 34.301651610693426], [34.301651610693426, 34.301651610693426, 34.301651610693426, 34.301651610693426, 34.301651610693426, 34.301651610693426, 11.045361017187261, 11.180339887498949, 11.40175425099138, 11.704699910719626, 12.083045973594572, 12.529964086141668, 13.038404810405298, 13.601470508735444, 14.212670403551895, 14.866068747318506, 15.556349186104045, 16.278820596099706, 34.301651610693426, 34.301651610693426, 34.301651610693426, 34.301651610693426, 34.301651610693426, 34.301651610693426, 34.301651610693426, 34.301651610693426, 34.301651610693426, 34.301651610693426], [34.301651610693426, 34.301651610693426, 34.301651610693426, 34.301651610693426, 34.301651610693426, 34.301651610693426, 10.04987562112089, 10.198039027185569, 10.44030650891055, 10.770329614269007, 11.180339887498949, 11.661903789690601, 12.206555615733702, 12.806248474865697, 13.45362404707371, 14.142135623730951, 14.866068747318506, 34.301651610693426, 34.301651610693426, 34.301651610693426, 34.301651610693426, 34.301651610693426, 34.301651610693426, 34.301651610693426, 34.301651610693426, 34.301651610693426, 34.301651610693426, 34.301651610693426], [34.301651610693426, 34.301651610693426, 34.301651610693426, 34.301651610693426, 34.301651610693426, 34.301651610693426, 34.301651610693426, 9.219544457292887, 9.486832980505138, 9.848857801796104, 10.295630140987, 10.816653826391969, 11.40175425099138, 12.041594578792296, 12.727922061357855, 13.45362404707371, 14.212670403551895, 34.301651610693426, 34.301651610693426, 34.301651610693426, 34.301651610693426, 34.301651610693426, 34.301651610693426, 34.301651610693426, 34.301651610693426, 34.301651610693426, 34.301651610693426, 34.301651610693426], [34.301651610693426, 34.301651610693426, 34.301651610693426, 34.301651610693426, 34.301651610693426, 34.301651610693426, 34.301651610693426, 34.301651610693426, 34.301651610693426, 34.301651610693426, 34.301651610693426, 34.301651610693426, 34.301651610693426, 11.313708498984761, 12.041594578792296, 12.806248474865697, 13.601470508735444, 34.301651610693426, 34.301651610693426, 34.301651610693426, 34.301651610693426, 34.301651610693426, 34.301651610693426, 34.301651610693426, 34.301651610693426, 34.301651610693426, 34.301651610693426, 34.301651610693426], [34.301651610693426, 34.301651610693426, 34.301651610693426, 34.301651610693426, 34.301651610693426, 34.301651610693426, 34.301651610693426, 34.301651610693426, 34.301651610693426, 34.301651610693426, 34.301651610693426, 34.301651610693426, 34.301651610693426, 10.63014581273465, 11.40175425099138, 12.206555615733702, 13.038404810405298, 34.301651610693426, 34.301651610693426, 34.301651610693426, 34.301651610693426, 34.301651610693426, 34.301651610693426, 34.301651610693426, 34.301651610693426, 34.301651610693426, 34.301651610693426, 34.301651610693426], [34.301651610693426, 34.301651610693426, 34.301651610693426, 34.301651610693426, 34.301651610693426, 34.301651610693426, 34.301651610693426, 34.301651610693426, 34.301651610693426, 34.301651610693426, 34.301651610693426, 34.301651610693426, 34.301651610693426, 34.301651610693426, 10.816653826391969, 11.661903789690601, 12.529964086141668, 34.301651610693426, 34.301651610693426, 34.301651610693426, 34.301651610693426, 34.301651610693426, 34.301651610693426, 34.301651610693426, 34.301651610693426, 34.301651610693426, 34.301651610693426, 34.301651610693426], [34.301651610693426, 34.301651610693426, 34.301651610693426, 34.301651610693426, 34.301651610693426, 34.301651610693426, 34.301651610693426, 34.301651610693426, 34.301651610693426, 34.301651610693426, 34.301651610693426, 34.301651610693426, 34.301651610693426, 9.433981132056603, 10.295630140987, 11.180339887498949, 12.083045973594572, 34.301651610693426, 34.301651610693426, 34.301651610693426, 34.301651610693426, 34.301651610693426, 34.301651610693426, 34.301651610693426, 34.301651610693426, 34.301651610693426, 34.301651610693426, 34.301651610693426], [34.301651610693426, 34.301651610693426, 34.301651610693426, 34.301651610693426, 34.301651610693426, 34.301651610693426, 34.301651610693426, 34.301651610693426, 34.301651610693426, 34.301651610693426, 34.301651610693426, 34.301651610693426, 34.301651610693426, 8.94427190999916, 9.848857801796104, 10.770329614269007, 11.704699910719626, 34.301651610693426, 34.301651610693426, 34.301651610693426, 34.301651610693426, 34.301651610693426, 34.301651610693426, 34.301651610693426, 34.301651610693426, 34.301651610693426, 34.301651610693426, 34.301651610693426], [34.301651610693426, 34.301651610693426, 34.301651610693426, 34.301651610693426, 34.301651610693426, 34.301651610693426, 34.301651610693426, 34.301651610693426, 34.301651610693426, 34.301651610693426, 34.301651610693426, 34.301651610693426, 34.301651610693426, 8.54400374531753, 9.486832980505138, 10.44030650891055, 11.40175425099138, 34.301651610693426, 34.301651610693426, 34.301651610693426, 34.301651610693426, 34.301651610693426, 34.301651610693426, 34.301651610693426, 34.301651610693426, 34.301651610693426, 34.301651610693426, 34.301651610693426], [34.301651610693426, 34.301651610693426, 34.301651610693426, 34.301651610693426, 34.301651610693426, 34.301651610693426, 34.301651610693426, 34.301651610693426, 34.301651610693426, 34.301651610693426, 34.301651610693426, 34.301651610693426, 34.301651610693426, 34.301651610693426, 9.219544457292887, 10.198039027185569, 11.180339887498949, 34.301651610693426, 34.301651610693426, 34.301651610693426, 34.301651610693426, 34.301651610693426, 34.301651610693426, 34.301651610693426, 34.301651610693426, 34.301651610693426, 34.301651610693426, 34.301651610693426], [34.301651610693426, 34.301651610693426, 34.301651610693426, 34.301651610693426, 34.301651610693426, 34.301651610693426, 34.301651610693426, 34.301651610693426, 34.301651610693426, 34.301651610693426, 34.301651610693426, 34.301651610693426, 34.301651610693426, 34.301651610693426, 9.055385138137417, 10.04987562112089, 11.045361017187261, 12.041594578792296, 34.301651610693426, 34.301651610693426, 34.301651610693426, 34.301651610693426, 34.301651610693426, 34.301651610693426, 34.301651610693426, 34.301651610693426, 34.301651610693426, 34.301651610693426], [34.301651610693426, 34.301651610693426, 34.301651610693426, 34.301651610693426, 34.301651610693426, 34.301651610693426, 34.301651610693426, 34.301651610693426, 34.301651610693426, 34.301651610693426, 34.301651610693426, 34.301651610693426, 34.301651610693426, 34.301651610693426, 9.0, 10.0, 11.0, 12.0, 13.0, 34.301651610693426, 34.301651610693426, 34.301651610693426, 34.301651610693426, 34.301651610693426, 34.301651610693426, 34.301651610693426, 34.301651610693426, 34.301651610693426], [34.301651610693426, 34.301651610693426, 34.301651610693426, 34.301651610693426, 34.301651610693426, 34.301651610693426, 34.301651610693426, 34.301651610693426, 34.301651610693426, 34.301651610693426, 34.301651610693426, 34.301651610693426, 34.301651610693426, 34.301651610693426, 34.301651610693426, 10.04987562112089, 11.045361017187261, 12.041594578792296, 13.038404810405298, 34.301651610693426, 34.301651610693426, 34.301651610693426, 34.301651610693426, 34.301651610693426, 34.301651610693426, 34.301651610693426, 34.301651610693426, 34.301651610693426], [34.301651610693426, 34.301651610693426, 34.301651610693426, 34.301651610693426, 34.301651610693426, 34.301651610693426, 34.301651610693426, 34.301651610693426, 34.301651610693426, 34.301651610693426, 34.301651610693426, 34.301651610693426, 34.301651610693426, 34.301651610693426, 34.301651610693426, 34.301651610693426, 34.301651610693426, 34.301651610693426, 34.301651610693426, 34.301651610693426, 34.301651610693426, 34.301651610693426, 34.301651610693426, 34.301651610693426, 34.301651610693426, 34.301651610693426, 34.301651610693426, 34.301651610693426]]}],                        {\"plot_bgcolor\": \"white\", \"template\": {\"data\": {\"bar\": [{\"error_x\": {\"color\": \"#2a3f5f\"}, \"error_y\": {\"color\": \"#2a3f5f\"}, \"marker\": {\"line\": {\"color\": \"#E5ECF6\", \"width\": 0.5}}, \"type\": \"bar\"}], \"barpolar\": [{\"marker\": {\"line\": {\"color\": \"#E5ECF6\", \"width\": 0.5}}, \"type\": \"barpolar\"}], \"carpet\": [{\"aaxis\": {\"endlinecolor\": \"#2a3f5f\", \"gridcolor\": \"white\", \"linecolor\": \"white\", \"minorgridcolor\": \"white\", \"startlinecolor\": \"#2a3f5f\"}, \"baxis\": {\"endlinecolor\": \"#2a3f5f\", \"gridcolor\": \"white\", \"linecolor\": \"white\", \"minorgridcolor\": \"white\", \"startlinecolor\": \"#2a3f5f\"}, \"type\": \"carpet\"}], \"choropleth\": [{\"colorbar\": {\"outlinewidth\": 0, \"ticks\": \"\"}, \"type\": \"choropleth\"}], \"contour\": [{\"colorbar\": {\"outlinewidth\": 0, \"ticks\": \"\"}, \"colorscale\": [[0.0, \"#0d0887\"], [0.1111111111111111, \"#46039f\"], [0.2222222222222222, \"#7201a8\"], [0.3333333333333333, \"#9c179e\"], [0.4444444444444444, \"#bd3786\"], [0.5555555555555556, \"#d8576b\"], [0.6666666666666666, \"#ed7953\"], [0.7777777777777778, \"#fb9f3a\"], [0.8888888888888888, \"#fdca26\"], [1.0, \"#f0f921\"]], \"type\": \"contour\"}], \"contourcarpet\": [{\"colorbar\": {\"outlinewidth\": 0, \"ticks\": \"\"}, \"type\": \"contourcarpet\"}], \"heatmap\": [{\"colorbar\": {\"outlinewidth\": 0, \"ticks\": \"\"}, \"colorscale\": [[0.0, \"#0d0887\"], [0.1111111111111111, \"#46039f\"], [0.2222222222222222, \"#7201a8\"], [0.3333333333333333, \"#9c179e\"], [0.4444444444444444, \"#bd3786\"], [0.5555555555555556, \"#d8576b\"], [0.6666666666666666, \"#ed7953\"], [0.7777777777777778, \"#fb9f3a\"], [0.8888888888888888, \"#fdca26\"], [1.0, \"#f0f921\"]], \"type\": \"heatmap\"}], \"heatmapgl\": [{\"colorbar\": {\"outlinewidth\": 0, \"ticks\": \"\"}, \"colorscale\": [[0.0, \"#0d0887\"], [0.1111111111111111, \"#46039f\"], [0.2222222222222222, \"#7201a8\"], [0.3333333333333333, \"#9c179e\"], [0.4444444444444444, \"#bd3786\"], [0.5555555555555556, \"#d8576b\"], [0.6666666666666666, \"#ed7953\"], [0.7777777777777778, \"#fb9f3a\"], [0.8888888888888888, \"#fdca26\"], [1.0, \"#f0f921\"]], \"type\": \"heatmapgl\"}], \"histogram\": [{\"marker\": {\"colorbar\": {\"outlinewidth\": 0, \"ticks\": \"\"}}, \"type\": \"histogram\"}], \"histogram2d\": [{\"colorbar\": {\"outlinewidth\": 0, \"ticks\": \"\"}, \"colorscale\": [[0.0, \"#0d0887\"], [0.1111111111111111, \"#46039f\"], [0.2222222222222222, \"#7201a8\"], [0.3333333333333333, \"#9c179e\"], [0.4444444444444444, \"#bd3786\"], [0.5555555555555556, \"#d8576b\"], [0.6666666666666666, \"#ed7953\"], [0.7777777777777778, \"#fb9f3a\"], [0.8888888888888888, \"#fdca26\"], [1.0, \"#f0f921\"]], \"type\": \"histogram2d\"}], \"histogram2dcontour\": [{\"colorbar\": {\"outlinewidth\": 0, \"ticks\": \"\"}, \"colorscale\": [[0.0, \"#0d0887\"], [0.1111111111111111, \"#46039f\"], [0.2222222222222222, \"#7201a8\"], [0.3333333333333333, \"#9c179e\"], [0.4444444444444444, \"#bd3786\"], [0.5555555555555556, \"#d8576b\"], [0.6666666666666666, \"#ed7953\"], [0.7777777777777778, \"#fb9f3a\"], [0.8888888888888888, \"#fdca26\"], [1.0, \"#f0f921\"]], \"type\": \"histogram2dcontour\"}], \"mesh3d\": [{\"colorbar\": {\"outlinewidth\": 0, \"ticks\": \"\"}, \"type\": \"mesh3d\"}], \"parcoords\": [{\"line\": {\"colorbar\": {\"outlinewidth\": 0, \"ticks\": \"\"}}, \"type\": \"parcoords\"}], \"pie\": [{\"automargin\": true, \"type\": \"pie\"}], \"scatter\": [{\"marker\": {\"colorbar\": {\"outlinewidth\": 0, \"ticks\": \"\"}}, \"type\": \"scatter\"}], \"scatter3d\": [{\"line\": {\"colorbar\": {\"outlinewidth\": 0, \"ticks\": \"\"}}, \"marker\": {\"colorbar\": {\"outlinewidth\": 0, \"ticks\": \"\"}}, \"type\": \"scatter3d\"}], \"scattercarpet\": [{\"marker\": {\"colorbar\": {\"outlinewidth\": 0, \"ticks\": \"\"}}, \"type\": \"scattercarpet\"}], \"scattergeo\": [{\"marker\": {\"colorbar\": {\"outlinewidth\": 0, \"ticks\": \"\"}}, \"type\": \"scattergeo\"}], \"scattergl\": [{\"marker\": {\"colorbar\": {\"outlinewidth\": 0, \"ticks\": \"\"}}, \"type\": \"scattergl\"}], \"scattermapbox\": [{\"marker\": {\"colorbar\": {\"outlinewidth\": 0, \"ticks\": \"\"}}, \"type\": \"scattermapbox\"}], \"scatterpolar\": [{\"marker\": {\"colorbar\": {\"outlinewidth\": 0, \"ticks\": \"\"}}, \"type\": \"scatterpolar\"}], \"scatterpolargl\": [{\"marker\": {\"colorbar\": {\"outlinewidth\": 0, \"ticks\": \"\"}}, \"type\": \"scatterpolargl\"}], \"scatterternary\": [{\"marker\": {\"colorbar\": {\"outlinewidth\": 0, \"ticks\": \"\"}}, \"type\": \"scatterternary\"}], \"surface\": [{\"colorbar\": {\"outlinewidth\": 0, \"ticks\": \"\"}, \"colorscale\": [[0.0, \"#0d0887\"], [0.1111111111111111, \"#46039f\"], [0.2222222222222222, \"#7201a8\"], [0.3333333333333333, \"#9c179e\"], [0.4444444444444444, \"#bd3786\"], [0.5555555555555556, \"#d8576b\"], [0.6666666666666666, \"#ed7953\"], [0.7777777777777778, \"#fb9f3a\"], [0.8888888888888888, \"#fdca26\"], [1.0, \"#f0f921\"]], \"type\": \"surface\"}], \"table\": [{\"cells\": {\"fill\": {\"color\": \"#EBF0F8\"}, \"line\": {\"color\": \"white\"}}, \"header\": {\"fill\": {\"color\": \"#C8D4E3\"}, \"line\": {\"color\": \"white\"}}, \"type\": \"table\"}]}, \"layout\": {\"annotationdefaults\": {\"arrowcolor\": \"#2a3f5f\", \"arrowhead\": 0, \"arrowwidth\": 1}, \"autotypenumbers\": \"strict\", \"coloraxis\": {\"colorbar\": {\"outlinewidth\": 0, \"ticks\": \"\"}}, \"colorscale\": {\"diverging\": [[0, \"#8e0152\"], [0.1, \"#c51b7d\"], [0.2, \"#de77ae\"], [0.3, \"#f1b6da\"], [0.4, \"#fde0ef\"], [0.5, \"#f7f7f7\"], [0.6, \"#e6f5d0\"], [0.7, \"#b8e186\"], [0.8, \"#7fbc41\"], [0.9, \"#4d9221\"], [1, \"#276419\"]], \"sequential\": [[0.0, \"#0d0887\"], [0.1111111111111111, \"#46039f\"], [0.2222222222222222, \"#7201a8\"], [0.3333333333333333, \"#9c179e\"], [0.4444444444444444, \"#bd3786\"], [0.5555555555555556, \"#d8576b\"], [0.6666666666666666, \"#ed7953\"], [0.7777777777777778, \"#fb9f3a\"], [0.8888888888888888, \"#fdca26\"], [1.0, \"#f0f921\"]], \"sequentialminus\": [[0.0, \"#0d0887\"], [0.1111111111111111, \"#46039f\"], [0.2222222222222222, \"#7201a8\"], [0.3333333333333333, \"#9c179e\"], [0.4444444444444444, \"#bd3786\"], [0.5555555555555556, \"#d8576b\"], [0.6666666666666666, \"#ed7953\"], [0.7777777777777778, \"#fb9f3a\"], [0.8888888888888888, \"#fdca26\"], [1.0, \"#f0f921\"]]}, \"colorway\": [\"#636efa\", \"#EF553B\", \"#00cc96\", \"#ab63fa\", \"#FFA15A\", \"#19d3f3\", \"#FF6692\", \"#B6E880\", \"#FF97FF\", \"#FECB52\"], \"font\": {\"color\": \"#2a3f5f\"}, \"geo\": {\"bgcolor\": \"white\", \"lakecolor\": \"white\", \"landcolor\": \"#E5ECF6\", \"showlakes\": true, \"showland\": true, \"subunitcolor\": \"white\"}, \"hoverlabel\": {\"align\": \"left\"}, \"hovermode\": \"closest\", \"mapbox\": {\"style\": \"light\"}, \"paper_bgcolor\": \"white\", \"plot_bgcolor\": \"#E5ECF6\", \"polar\": {\"angularaxis\": {\"gridcolor\": \"white\", \"linecolor\": \"white\", \"ticks\": \"\"}, \"bgcolor\": \"#E5ECF6\", \"radialaxis\": {\"gridcolor\": \"white\", \"linecolor\": \"white\", \"ticks\": \"\"}}, \"scene\": {\"xaxis\": {\"backgroundcolor\": \"#E5ECF6\", \"gridcolor\": \"white\", \"gridwidth\": 2, \"linecolor\": \"white\", \"showbackground\": true, \"ticks\": \"\", \"zerolinecolor\": \"white\"}, \"yaxis\": {\"backgroundcolor\": \"#E5ECF6\", \"gridcolor\": \"white\", \"gridwidth\": 2, \"linecolor\": \"white\", \"showbackground\": true, \"ticks\": \"\", \"zerolinecolor\": \"white\"}, \"zaxis\": {\"backgroundcolor\": \"#E5ECF6\", \"gridcolor\": \"white\", \"gridwidth\": 2, \"linecolor\": \"white\", \"showbackground\": true, \"ticks\": \"\", \"zerolinecolor\": \"white\"}}, \"shapedefaults\": {\"line\": {\"color\": \"#2a3f5f\"}}, \"ternary\": {\"aaxis\": {\"gridcolor\": \"white\", \"linecolor\": \"white\", \"ticks\": \"\"}, \"baxis\": {\"gridcolor\": \"white\", \"linecolor\": \"white\", \"ticks\": \"\"}, \"bgcolor\": \"#E5ECF6\", \"caxis\": {\"gridcolor\": \"white\", \"linecolor\": \"white\", \"ticks\": \"\"}}, \"title\": {\"x\": 0.05}, \"xaxis\": {\"automargin\": true, \"gridcolor\": \"white\", \"linecolor\": \"white\", \"ticks\": \"\", \"title\": {\"standoff\": 15}, \"zerolinecolor\": \"white\", \"zerolinewidth\": 2}, \"yaxis\": {\"automargin\": true, \"gridcolor\": \"white\", \"linecolor\": \"white\", \"ticks\": \"\", \"title\": {\"standoff\": 15}, \"zerolinecolor\": \"white\", \"zerolinewidth\": 2}}}, \"title\": {\"text\": \"Radial filtration of image 0\"}, \"xaxis\": {\"constrain\": \"domain\", \"scaleanchor\": \"y\"}, \"yaxis\": {\"autorange\": \"reversed\", \"constrain\": \"domain\"}},                        {\"responsive\": true}                    ).then(function(){\n",
       "                            \n",
       "var gd = document.getElementById('9cfe7a0b-d24a-4b3d-8a44-3677ea1b719b');\n",
       "var x = new MutationObserver(function (mutations, observer) {{\n",
       "        var display = window.getComputedStyle(gd).display;\n",
       "        if (!display || display === 'none') {{\n",
       "            console.log([gd, 'removed!']);\n",
       "            Plotly.purge(gd);\n",
       "            observer.disconnect();\n",
       "        }}\n",
       "}});\n",
       "\n",
       "// Listen for the removal of the full notebook cells\n",
       "var notebookContainer = gd.closest('#notebook-container');\n",
       "if (notebookContainer) {{\n",
       "    x.observe(notebookContainer, {childList: true});\n",
       "}}\n",
       "\n",
       "// Listen for the clearing of the current output cell\n",
       "var outputEl = gd.closest('.output');\n",
       "if (outputEl) {{\n",
       "    x.observe(outputEl, {childList: true});\n",
       "}}\n",
       "\n",
       "                        })                };                });            </script>        </div>"
      ]
     },
     "metadata": {},
     "output_type": "display_data"
    }
   ],
   "source": [
    "from gtda.images import RadialFiltration\n",
    "\n",
    "radial_filtration = RadialFiltration(center=np.array([5,25]))\n",
    "digit_rad_filtration = radial_filtration.fit_transform_plot(digit_bin[None,:,:],colorscale='Viridis')"
   ]
  },
  {
   "cell_type": "code",
   "execution_count": 69,
   "id": "helpful-robert",
   "metadata": {},
   "outputs": [
    {
     "data": {
      "application/vnd.plotly.v1+json": {
       "config": {
        "plotlyServerURL": "https://plot.ly"
       },
       "data": [
        {
         "colorscale": [
          [
           0,
           "#440154"
          ],
          [
           0.1111111111111111,
           "#482878"
          ],
          [
           0.2222222222222222,
           "#3e4989"
          ],
          [
           0.3333333333333333,
           "#31688e"
          ],
          [
           0.4444444444444444,
           "#26828e"
          ],
          [
           0.5555555555555556,
           "#1f9e89"
          ],
          [
           0.6666666666666666,
           "#35b779"
          ],
          [
           0.7777777777777778,
           "#6ece58"
          ],
          [
           0.8888888888888888,
           "#b5de2b"
          ],
          [
           1,
           "#fde725"
          ]
         ],
         "type": "heatmap",
         "z": [
          [
           28,
           28,
           28,
           28,
           28,
           28,
           28,
           28,
           28,
           28,
           28,
           28,
           28,
           28,
           28,
           28,
           28,
           28,
           28,
           28,
           28,
           28,
           28,
           28,
           28,
           28,
           28,
           28
          ],
          [
           28,
           28,
           28,
           28,
           28,
           28,
           28,
           28,
           28,
           28,
           28,
           28,
           28,
           28,
           28,
           28,
           28,
           28,
           28,
           28,
           28,
           28,
           28,
           28,
           28,
           28,
           28,
           28
          ],
          [
           28,
           28,
           28,
           28,
           28,
           28,
           28,
           28,
           28,
           28,
           28,
           28,
           28,
           28,
           28,
           28,
           28,
           28,
           28,
           28,
           28,
           28,
           28,
           28,
           28,
           28,
           28,
           28
          ],
          [
           28,
           28,
           28,
           28,
           28,
           28,
           28,
           28,
           28,
           28,
           28,
           28,
           28,
           28,
           28,
           28,
           28,
           28,
           28,
           28,
           28,
           28,
           28,
           28,
           28,
           28,
           28,
           28
          ],
          [
           28,
           28,
           28,
           28,
           28,
           28,
           28,
           28,
           28,
           28,
           28,
           28,
           28,
           28,
           28,
           28,
           28,
           28,
           28,
           28,
           28,
           28,
           28,
           28,
           28,
           28,
           28,
           28
          ],
          [
           28,
           28,
           28,
           28,
           28,
           28,
           28,
           28,
           28,
           28,
           28,
           28,
           28,
           28,
           28,
           28,
           28,
           28,
           28,
           28,
           28,
           28,
           28,
           28,
           28,
           28,
           28,
           28
          ],
          [
           28,
           28,
           28,
           28,
           28,
           28,
           28,
           28,
           28,
           28,
           28,
           28,
           28,
           28,
           28,
           28,
           28,
           28,
           28,
           28,
           28,
           28,
           28,
           28,
           28,
           28,
           28,
           28
          ],
          [
           28,
           28,
           28,
           28,
           28,
           28,
           28,
           28,
           28,
           28,
           28,
           28,
           12,
           13,
           14,
           15,
           16,
           17,
           18,
           19,
           20,
           28,
           28,
           28,
           28,
           28,
           28,
           28
          ],
          [
           28,
           28,
           28,
           28,
           28,
           28,
           28,
           28,
           28,
           28,
           28,
           11,
           12,
           13,
           14,
           15,
           16,
           17,
           18,
           19,
           20,
           28,
           28,
           28,
           28,
           28,
           28,
           28
          ],
          [
           28,
           28,
           28,
           28,
           28,
           28,
           28,
           28,
           28,
           9,
           10,
           11,
           12,
           13,
           14,
           15,
           16,
           17,
           18,
           19,
           20,
           28,
           28,
           28,
           28,
           28,
           28,
           28
          ],
          [
           28,
           28,
           28,
           28,
           28,
           28,
           28,
           28,
           28,
           9,
           10,
           11,
           12,
           13,
           28,
           28,
           16,
           17,
           18,
           19,
           20,
           28,
           28,
           28,
           28,
           28,
           28,
           28
          ],
          [
           28,
           28,
           28,
           28,
           28,
           28,
           28,
           28,
           8,
           9,
           10,
           11,
           12,
           28,
           28,
           28,
           16,
           17,
           18,
           19,
           28,
           28,
           28,
           28,
           28,
           28,
           28,
           28
          ],
          [
           28,
           28,
           28,
           28,
           28,
           28,
           28,
           7,
           8,
           9,
           10,
           11,
           28,
           28,
           14,
           15,
           16,
           17,
           18,
           28,
           28,
           28,
           28,
           28,
           28,
           28,
           28,
           28
          ],
          [
           28,
           28,
           28,
           28,
           28,
           28,
           6,
           7,
           8,
           9,
           28,
           28,
           28,
           13,
           14,
           15,
           16,
           17,
           18,
           28,
           28,
           28,
           28,
           28,
           28,
           28,
           28,
           28
          ],
          [
           28,
           28,
           28,
           28,
           28,
           28,
           6,
           7,
           8,
           9,
           10,
           11,
           12,
           13,
           14,
           15,
           16,
           17,
           28,
           28,
           28,
           28,
           28,
           28,
           28,
           28,
           28,
           28
          ],
          [
           28,
           28,
           28,
           28,
           28,
           28,
           6,
           7,
           8,
           9,
           10,
           11,
           12,
           13,
           14,
           15,
           16,
           28,
           28,
           28,
           28,
           28,
           28,
           28,
           28,
           28,
           28,
           28
          ],
          [
           28,
           28,
           28,
           28,
           28,
           28,
           28,
           7,
           8,
           9,
           10,
           11,
           12,
           13,
           14,
           15,
           16,
           28,
           28,
           28,
           28,
           28,
           28,
           28,
           28,
           28,
           28,
           28
          ],
          [
           28,
           28,
           28,
           28,
           28,
           28,
           28,
           28,
           28,
           28,
           28,
           28,
           28,
           13,
           14,
           15,
           16,
           28,
           28,
           28,
           28,
           28,
           28,
           28,
           28,
           28,
           28,
           28
          ],
          [
           28,
           28,
           28,
           28,
           28,
           28,
           28,
           28,
           28,
           28,
           28,
           28,
           28,
           13,
           14,
           15,
           16,
           28,
           28,
           28,
           28,
           28,
           28,
           28,
           28,
           28,
           28,
           28
          ],
          [
           28,
           28,
           28,
           28,
           28,
           28,
           28,
           28,
           28,
           28,
           28,
           28,
           28,
           28,
           14,
           15,
           16,
           28,
           28,
           28,
           28,
           28,
           28,
           28,
           28,
           28,
           28,
           28
          ],
          [
           28,
           28,
           28,
           28,
           28,
           28,
           28,
           28,
           28,
           28,
           28,
           28,
           28,
           13,
           14,
           15,
           16,
           28,
           28,
           28,
           28,
           28,
           28,
           28,
           28,
           28,
           28,
           28
          ],
          [
           28,
           28,
           28,
           28,
           28,
           28,
           28,
           28,
           28,
           28,
           28,
           28,
           28,
           13,
           14,
           15,
           16,
           28,
           28,
           28,
           28,
           28,
           28,
           28,
           28,
           28,
           28,
           28
          ],
          [
           28,
           28,
           28,
           28,
           28,
           28,
           28,
           28,
           28,
           28,
           28,
           28,
           28,
           13,
           14,
           15,
           16,
           28,
           28,
           28,
           28,
           28,
           28,
           28,
           28,
           28,
           28,
           28
          ],
          [
           28,
           28,
           28,
           28,
           28,
           28,
           28,
           28,
           28,
           28,
           28,
           28,
           28,
           28,
           14,
           15,
           16,
           28,
           28,
           28,
           28,
           28,
           28,
           28,
           28,
           28,
           28,
           28
          ],
          [
           28,
           28,
           28,
           28,
           28,
           28,
           28,
           28,
           28,
           28,
           28,
           28,
           28,
           28,
           14,
           15,
           16,
           17,
           28,
           28,
           28,
           28,
           28,
           28,
           28,
           28,
           28,
           28
          ],
          [
           28,
           28,
           28,
           28,
           28,
           28,
           28,
           28,
           28,
           28,
           28,
           28,
           28,
           28,
           14,
           15,
           16,
           17,
           18,
           28,
           28,
           28,
           28,
           28,
           28,
           28,
           28,
           28
          ],
          [
           28,
           28,
           28,
           28,
           28,
           28,
           28,
           28,
           28,
           28,
           28,
           28,
           28,
           28,
           28,
           15,
           16,
           17,
           18,
           28,
           28,
           28,
           28,
           28,
           28,
           28,
           28,
           28
          ],
          [
           28,
           28,
           28,
           28,
           28,
           28,
           28,
           28,
           28,
           28,
           28,
           28,
           28,
           28,
           28,
           28,
           28,
           28,
           28,
           28,
           28,
           28,
           28,
           28,
           28,
           28,
           28,
           28
          ]
         ]
        }
       ],
       "layout": {
        "plot_bgcolor": "white",
        "template": {
         "data": {
          "bar": [
           {
            "error_x": {
             "color": "#2a3f5f"
            },
            "error_y": {
             "color": "#2a3f5f"
            },
            "marker": {
             "line": {
              "color": "#E5ECF6",
              "width": 0.5
             }
            },
            "type": "bar"
           }
          ],
          "barpolar": [
           {
            "marker": {
             "line": {
              "color": "#E5ECF6",
              "width": 0.5
             }
            },
            "type": "barpolar"
           }
          ],
          "carpet": [
           {
            "aaxis": {
             "endlinecolor": "#2a3f5f",
             "gridcolor": "white",
             "linecolor": "white",
             "minorgridcolor": "white",
             "startlinecolor": "#2a3f5f"
            },
            "baxis": {
             "endlinecolor": "#2a3f5f",
             "gridcolor": "white",
             "linecolor": "white",
             "minorgridcolor": "white",
             "startlinecolor": "#2a3f5f"
            },
            "type": "carpet"
           }
          ],
          "choropleth": [
           {
            "colorbar": {
             "outlinewidth": 0,
             "ticks": ""
            },
            "type": "choropleth"
           }
          ],
          "contour": [
           {
            "colorbar": {
             "outlinewidth": 0,
             "ticks": ""
            },
            "colorscale": [
             [
              0,
              "#0d0887"
             ],
             [
              0.1111111111111111,
              "#46039f"
             ],
             [
              0.2222222222222222,
              "#7201a8"
             ],
             [
              0.3333333333333333,
              "#9c179e"
             ],
             [
              0.4444444444444444,
              "#bd3786"
             ],
             [
              0.5555555555555556,
              "#d8576b"
             ],
             [
              0.6666666666666666,
              "#ed7953"
             ],
             [
              0.7777777777777778,
              "#fb9f3a"
             ],
             [
              0.8888888888888888,
              "#fdca26"
             ],
             [
              1,
              "#f0f921"
             ]
            ],
            "type": "contour"
           }
          ],
          "contourcarpet": [
           {
            "colorbar": {
             "outlinewidth": 0,
             "ticks": ""
            },
            "type": "contourcarpet"
           }
          ],
          "heatmap": [
           {
            "colorbar": {
             "outlinewidth": 0,
             "ticks": ""
            },
            "colorscale": [
             [
              0,
              "#0d0887"
             ],
             [
              0.1111111111111111,
              "#46039f"
             ],
             [
              0.2222222222222222,
              "#7201a8"
             ],
             [
              0.3333333333333333,
              "#9c179e"
             ],
             [
              0.4444444444444444,
              "#bd3786"
             ],
             [
              0.5555555555555556,
              "#d8576b"
             ],
             [
              0.6666666666666666,
              "#ed7953"
             ],
             [
              0.7777777777777778,
              "#fb9f3a"
             ],
             [
              0.8888888888888888,
              "#fdca26"
             ],
             [
              1,
              "#f0f921"
             ]
            ],
            "type": "heatmap"
           }
          ],
          "heatmapgl": [
           {
            "colorbar": {
             "outlinewidth": 0,
             "ticks": ""
            },
            "colorscale": [
             [
              0,
              "#0d0887"
             ],
             [
              0.1111111111111111,
              "#46039f"
             ],
             [
              0.2222222222222222,
              "#7201a8"
             ],
             [
              0.3333333333333333,
              "#9c179e"
             ],
             [
              0.4444444444444444,
              "#bd3786"
             ],
             [
              0.5555555555555556,
              "#d8576b"
             ],
             [
              0.6666666666666666,
              "#ed7953"
             ],
             [
              0.7777777777777778,
              "#fb9f3a"
             ],
             [
              0.8888888888888888,
              "#fdca26"
             ],
             [
              1,
              "#f0f921"
             ]
            ],
            "type": "heatmapgl"
           }
          ],
          "histogram": [
           {
            "marker": {
             "colorbar": {
              "outlinewidth": 0,
              "ticks": ""
             }
            },
            "type": "histogram"
           }
          ],
          "histogram2d": [
           {
            "colorbar": {
             "outlinewidth": 0,
             "ticks": ""
            },
            "colorscale": [
             [
              0,
              "#0d0887"
             ],
             [
              0.1111111111111111,
              "#46039f"
             ],
             [
              0.2222222222222222,
              "#7201a8"
             ],
             [
              0.3333333333333333,
              "#9c179e"
             ],
             [
              0.4444444444444444,
              "#bd3786"
             ],
             [
              0.5555555555555556,
              "#d8576b"
             ],
             [
              0.6666666666666666,
              "#ed7953"
             ],
             [
              0.7777777777777778,
              "#fb9f3a"
             ],
             [
              0.8888888888888888,
              "#fdca26"
             ],
             [
              1,
              "#f0f921"
             ]
            ],
            "type": "histogram2d"
           }
          ],
          "histogram2dcontour": [
           {
            "colorbar": {
             "outlinewidth": 0,
             "ticks": ""
            },
            "colorscale": [
             [
              0,
              "#0d0887"
             ],
             [
              0.1111111111111111,
              "#46039f"
             ],
             [
              0.2222222222222222,
              "#7201a8"
             ],
             [
              0.3333333333333333,
              "#9c179e"
             ],
             [
              0.4444444444444444,
              "#bd3786"
             ],
             [
              0.5555555555555556,
              "#d8576b"
             ],
             [
              0.6666666666666666,
              "#ed7953"
             ],
             [
              0.7777777777777778,
              "#fb9f3a"
             ],
             [
              0.8888888888888888,
              "#fdca26"
             ],
             [
              1,
              "#f0f921"
             ]
            ],
            "type": "histogram2dcontour"
           }
          ],
          "mesh3d": [
           {
            "colorbar": {
             "outlinewidth": 0,
             "ticks": ""
            },
            "type": "mesh3d"
           }
          ],
          "parcoords": [
           {
            "line": {
             "colorbar": {
              "outlinewidth": 0,
              "ticks": ""
             }
            },
            "type": "parcoords"
           }
          ],
          "pie": [
           {
            "automargin": true,
            "type": "pie"
           }
          ],
          "scatter": [
           {
            "marker": {
             "colorbar": {
              "outlinewidth": 0,
              "ticks": ""
             }
            },
            "type": "scatter"
           }
          ],
          "scatter3d": [
           {
            "line": {
             "colorbar": {
              "outlinewidth": 0,
              "ticks": ""
             }
            },
            "marker": {
             "colorbar": {
              "outlinewidth": 0,
              "ticks": ""
             }
            },
            "type": "scatter3d"
           }
          ],
          "scattercarpet": [
           {
            "marker": {
             "colorbar": {
              "outlinewidth": 0,
              "ticks": ""
             }
            },
            "type": "scattercarpet"
           }
          ],
          "scattergeo": [
           {
            "marker": {
             "colorbar": {
              "outlinewidth": 0,
              "ticks": ""
             }
            },
            "type": "scattergeo"
           }
          ],
          "scattergl": [
           {
            "marker": {
             "colorbar": {
              "outlinewidth": 0,
              "ticks": ""
             }
            },
            "type": "scattergl"
           }
          ],
          "scattermapbox": [
           {
            "marker": {
             "colorbar": {
              "outlinewidth": 0,
              "ticks": ""
             }
            },
            "type": "scattermapbox"
           }
          ],
          "scatterpolar": [
           {
            "marker": {
             "colorbar": {
              "outlinewidth": 0,
              "ticks": ""
             }
            },
            "type": "scatterpolar"
           }
          ],
          "scatterpolargl": [
           {
            "marker": {
             "colorbar": {
              "outlinewidth": 0,
              "ticks": ""
             }
            },
            "type": "scatterpolargl"
           }
          ],
          "scatterternary": [
           {
            "marker": {
             "colorbar": {
              "outlinewidth": 0,
              "ticks": ""
             }
            },
            "type": "scatterternary"
           }
          ],
          "surface": [
           {
            "colorbar": {
             "outlinewidth": 0,
             "ticks": ""
            },
            "colorscale": [
             [
              0,
              "#0d0887"
             ],
             [
              0.1111111111111111,
              "#46039f"
             ],
             [
              0.2222222222222222,
              "#7201a8"
             ],
             [
              0.3333333333333333,
              "#9c179e"
             ],
             [
              0.4444444444444444,
              "#bd3786"
             ],
             [
              0.5555555555555556,
              "#d8576b"
             ],
             [
              0.6666666666666666,
              "#ed7953"
             ],
             [
              0.7777777777777778,
              "#fb9f3a"
             ],
             [
              0.8888888888888888,
              "#fdca26"
             ],
             [
              1,
              "#f0f921"
             ]
            ],
            "type": "surface"
           }
          ],
          "table": [
           {
            "cells": {
             "fill": {
              "color": "#EBF0F8"
             },
             "line": {
              "color": "white"
             }
            },
            "header": {
             "fill": {
              "color": "#C8D4E3"
             },
             "line": {
              "color": "white"
             }
            },
            "type": "table"
           }
          ]
         },
         "layout": {
          "annotationdefaults": {
           "arrowcolor": "#2a3f5f",
           "arrowhead": 0,
           "arrowwidth": 1
          },
          "autotypenumbers": "strict",
          "coloraxis": {
           "colorbar": {
            "outlinewidth": 0,
            "ticks": ""
           }
          },
          "colorscale": {
           "diverging": [
            [
             0,
             "#8e0152"
            ],
            [
             0.1,
             "#c51b7d"
            ],
            [
             0.2,
             "#de77ae"
            ],
            [
             0.3,
             "#f1b6da"
            ],
            [
             0.4,
             "#fde0ef"
            ],
            [
             0.5,
             "#f7f7f7"
            ],
            [
             0.6,
             "#e6f5d0"
            ],
            [
             0.7,
             "#b8e186"
            ],
            [
             0.8,
             "#7fbc41"
            ],
            [
             0.9,
             "#4d9221"
            ],
            [
             1,
             "#276419"
            ]
           ],
           "sequential": [
            [
             0,
             "#0d0887"
            ],
            [
             0.1111111111111111,
             "#46039f"
            ],
            [
             0.2222222222222222,
             "#7201a8"
            ],
            [
             0.3333333333333333,
             "#9c179e"
            ],
            [
             0.4444444444444444,
             "#bd3786"
            ],
            [
             0.5555555555555556,
             "#d8576b"
            ],
            [
             0.6666666666666666,
             "#ed7953"
            ],
            [
             0.7777777777777778,
             "#fb9f3a"
            ],
            [
             0.8888888888888888,
             "#fdca26"
            ],
            [
             1,
             "#f0f921"
            ]
           ],
           "sequentialminus": [
            [
             0,
             "#0d0887"
            ],
            [
             0.1111111111111111,
             "#46039f"
            ],
            [
             0.2222222222222222,
             "#7201a8"
            ],
            [
             0.3333333333333333,
             "#9c179e"
            ],
            [
             0.4444444444444444,
             "#bd3786"
            ],
            [
             0.5555555555555556,
             "#d8576b"
            ],
            [
             0.6666666666666666,
             "#ed7953"
            ],
            [
             0.7777777777777778,
             "#fb9f3a"
            ],
            [
             0.8888888888888888,
             "#fdca26"
            ],
            [
             1,
             "#f0f921"
            ]
           ]
          },
          "colorway": [
           "#636efa",
           "#EF553B",
           "#00cc96",
           "#ab63fa",
           "#FFA15A",
           "#19d3f3",
           "#FF6692",
           "#B6E880",
           "#FF97FF",
           "#FECB52"
          ],
          "font": {
           "color": "#2a3f5f"
          },
          "geo": {
           "bgcolor": "white",
           "lakecolor": "white",
           "landcolor": "#E5ECF6",
           "showlakes": true,
           "showland": true,
           "subunitcolor": "white"
          },
          "hoverlabel": {
           "align": "left"
          },
          "hovermode": "closest",
          "mapbox": {
           "style": "light"
          },
          "paper_bgcolor": "white",
          "plot_bgcolor": "#E5ECF6",
          "polar": {
           "angularaxis": {
            "gridcolor": "white",
            "linecolor": "white",
            "ticks": ""
           },
           "bgcolor": "#E5ECF6",
           "radialaxis": {
            "gridcolor": "white",
            "linecolor": "white",
            "ticks": ""
           }
          },
          "scene": {
           "xaxis": {
            "backgroundcolor": "#E5ECF6",
            "gridcolor": "white",
            "gridwidth": 2,
            "linecolor": "white",
            "showbackground": true,
            "ticks": "",
            "zerolinecolor": "white"
           },
           "yaxis": {
            "backgroundcolor": "#E5ECF6",
            "gridcolor": "white",
            "gridwidth": 2,
            "linecolor": "white",
            "showbackground": true,
            "ticks": "",
            "zerolinecolor": "white"
           },
           "zaxis": {
            "backgroundcolor": "#E5ECF6",
            "gridcolor": "white",
            "gridwidth": 2,
            "linecolor": "white",
            "showbackground": true,
            "ticks": "",
            "zerolinecolor": "white"
           }
          },
          "shapedefaults": {
           "line": {
            "color": "#2a3f5f"
           }
          },
          "ternary": {
           "aaxis": {
            "gridcolor": "white",
            "linecolor": "white",
            "ticks": ""
           },
           "baxis": {
            "gridcolor": "white",
            "linecolor": "white",
            "ticks": ""
           },
           "bgcolor": "#E5ECF6",
           "caxis": {
            "gridcolor": "white",
            "linecolor": "white",
            "ticks": ""
           }
          },
          "title": {
           "x": 0.05
          },
          "xaxis": {
           "automargin": true,
           "gridcolor": "white",
           "linecolor": "white",
           "ticks": "",
           "title": {
            "standoff": 15
           },
           "zerolinecolor": "white",
           "zerolinewidth": 2
          },
          "yaxis": {
           "automargin": true,
           "gridcolor": "white",
           "linecolor": "white",
           "ticks": "",
           "title": {
            "standoff": 15
           },
           "zerolinecolor": "white",
           "zerolinewidth": 2
          }
         }
        },
        "title": {
         "text": "Height filtration of image 0"
        },
        "xaxis": {
         "constrain": "domain",
         "scaleanchor": "y"
        },
        "yaxis": {
         "autorange": "reversed",
         "constrain": "domain"
        }
       }
      },
      "text/html": [
       "<div>                            <div id=\"4c4cafce-9d78-4766-a650-9cafa85d8b31\" class=\"plotly-graph-div\" style=\"height:525px; width:100%;\"></div>            <script type=\"text/javascript\">                require([\"plotly\"], function(Plotly) {                    window.PLOTLYENV=window.PLOTLYENV || {};                                    if (document.getElementById(\"4c4cafce-9d78-4766-a650-9cafa85d8b31\")) {                    Plotly.newPlot(                        \"4c4cafce-9d78-4766-a650-9cafa85d8b31\",                        [{\"colorscale\": [[0.0, \"#440154\"], [0.1111111111111111, \"#482878\"], [0.2222222222222222, \"#3e4989\"], [0.3333333333333333, \"#31688e\"], [0.4444444444444444, \"#26828e\"], [0.5555555555555556, \"#1f9e89\"], [0.6666666666666666, \"#35b779\"], [0.7777777777777778, \"#6ece58\"], [0.8888888888888888, \"#b5de2b\"], [1.0, \"#fde725\"]], \"type\": \"heatmap\", \"z\": [[28.0, 28.0, 28.0, 28.0, 28.0, 28.0, 28.0, 28.0, 28.0, 28.0, 28.0, 28.0, 28.0, 28.0, 28.0, 28.0, 28.0, 28.0, 28.0, 28.0, 28.0, 28.0, 28.0, 28.0, 28.0, 28.0, 28.0, 28.0], [28.0, 28.0, 28.0, 28.0, 28.0, 28.0, 28.0, 28.0, 28.0, 28.0, 28.0, 28.0, 28.0, 28.0, 28.0, 28.0, 28.0, 28.0, 28.0, 28.0, 28.0, 28.0, 28.0, 28.0, 28.0, 28.0, 28.0, 28.0], [28.0, 28.0, 28.0, 28.0, 28.0, 28.0, 28.0, 28.0, 28.0, 28.0, 28.0, 28.0, 28.0, 28.0, 28.0, 28.0, 28.0, 28.0, 28.0, 28.0, 28.0, 28.0, 28.0, 28.0, 28.0, 28.0, 28.0, 28.0], [28.0, 28.0, 28.0, 28.0, 28.0, 28.0, 28.0, 28.0, 28.0, 28.0, 28.0, 28.0, 28.0, 28.0, 28.0, 28.0, 28.0, 28.0, 28.0, 28.0, 28.0, 28.0, 28.0, 28.0, 28.0, 28.0, 28.0, 28.0], [28.0, 28.0, 28.0, 28.0, 28.0, 28.0, 28.0, 28.0, 28.0, 28.0, 28.0, 28.0, 28.0, 28.0, 28.0, 28.0, 28.0, 28.0, 28.0, 28.0, 28.0, 28.0, 28.0, 28.0, 28.0, 28.0, 28.0, 28.0], [28.0, 28.0, 28.0, 28.0, 28.0, 28.0, 28.0, 28.0, 28.0, 28.0, 28.0, 28.0, 28.0, 28.0, 28.0, 28.0, 28.0, 28.0, 28.0, 28.0, 28.0, 28.0, 28.0, 28.0, 28.0, 28.0, 28.0, 28.0], [28.0, 28.0, 28.0, 28.0, 28.0, 28.0, 28.0, 28.0, 28.0, 28.0, 28.0, 28.0, 28.0, 28.0, 28.0, 28.0, 28.0, 28.0, 28.0, 28.0, 28.0, 28.0, 28.0, 28.0, 28.0, 28.0, 28.0, 28.0], [28.0, 28.0, 28.0, 28.0, 28.0, 28.0, 28.0, 28.0, 28.0, 28.0, 28.0, 28.0, 12.0, 13.0, 14.0, 15.0, 16.0, 17.0, 18.0, 19.0, 20.0, 28.0, 28.0, 28.0, 28.0, 28.0, 28.0, 28.0], [28.0, 28.0, 28.0, 28.0, 28.0, 28.0, 28.0, 28.0, 28.0, 28.0, 28.0, 11.0, 12.0, 13.0, 14.0, 15.0, 16.0, 17.0, 18.0, 19.0, 20.0, 28.0, 28.0, 28.0, 28.0, 28.0, 28.0, 28.0], [28.0, 28.0, 28.0, 28.0, 28.0, 28.0, 28.0, 28.0, 28.0, 9.0, 10.0, 11.0, 12.0, 13.0, 14.0, 15.0, 16.0, 17.0, 18.0, 19.0, 20.0, 28.0, 28.0, 28.0, 28.0, 28.0, 28.0, 28.0], [28.0, 28.0, 28.0, 28.0, 28.0, 28.0, 28.0, 28.0, 28.0, 9.0, 10.0, 11.0, 12.0, 13.0, 28.0, 28.0, 16.0, 17.0, 18.0, 19.0, 20.0, 28.0, 28.0, 28.0, 28.0, 28.0, 28.0, 28.0], [28.0, 28.0, 28.0, 28.0, 28.0, 28.0, 28.0, 28.0, 8.0, 9.0, 10.0, 11.0, 12.0, 28.0, 28.0, 28.0, 16.0, 17.0, 18.0, 19.0, 28.0, 28.0, 28.0, 28.0, 28.0, 28.0, 28.0, 28.0], [28.0, 28.0, 28.0, 28.0, 28.0, 28.0, 28.0, 7.0, 8.0, 9.0, 10.0, 11.0, 28.0, 28.0, 14.0, 15.0, 16.0, 17.0, 18.0, 28.0, 28.0, 28.0, 28.0, 28.0, 28.0, 28.0, 28.0, 28.0], [28.0, 28.0, 28.0, 28.0, 28.0, 28.0, 6.0, 7.0, 8.0, 9.0, 28.0, 28.0, 28.0, 13.0, 14.0, 15.0, 16.0, 17.0, 18.0, 28.0, 28.0, 28.0, 28.0, 28.0, 28.0, 28.0, 28.0, 28.0], [28.0, 28.0, 28.0, 28.0, 28.0, 28.0, 6.0, 7.0, 8.0, 9.0, 10.0, 11.0, 12.0, 13.0, 14.0, 15.0, 16.0, 17.0, 28.0, 28.0, 28.0, 28.0, 28.0, 28.0, 28.0, 28.0, 28.0, 28.0], [28.0, 28.0, 28.0, 28.0, 28.0, 28.0, 6.0, 7.0, 8.0, 9.0, 10.0, 11.0, 12.0, 13.0, 14.0, 15.0, 16.0, 28.0, 28.0, 28.0, 28.0, 28.0, 28.0, 28.0, 28.0, 28.0, 28.0, 28.0], [28.0, 28.0, 28.0, 28.0, 28.0, 28.0, 28.0, 7.0, 8.0, 9.0, 10.0, 11.0, 12.0, 13.0, 14.0, 15.0, 16.0, 28.0, 28.0, 28.0, 28.0, 28.0, 28.0, 28.0, 28.0, 28.0, 28.0, 28.0], [28.0, 28.0, 28.0, 28.0, 28.0, 28.0, 28.0, 28.0, 28.0, 28.0, 28.0, 28.0, 28.0, 13.0, 14.0, 15.0, 16.0, 28.0, 28.0, 28.0, 28.0, 28.0, 28.0, 28.0, 28.0, 28.0, 28.0, 28.0], [28.0, 28.0, 28.0, 28.0, 28.0, 28.0, 28.0, 28.0, 28.0, 28.0, 28.0, 28.0, 28.0, 13.0, 14.0, 15.0, 16.0, 28.0, 28.0, 28.0, 28.0, 28.0, 28.0, 28.0, 28.0, 28.0, 28.0, 28.0], [28.0, 28.0, 28.0, 28.0, 28.0, 28.0, 28.0, 28.0, 28.0, 28.0, 28.0, 28.0, 28.0, 28.0, 14.0, 15.0, 16.0, 28.0, 28.0, 28.0, 28.0, 28.0, 28.0, 28.0, 28.0, 28.0, 28.0, 28.0], [28.0, 28.0, 28.0, 28.0, 28.0, 28.0, 28.0, 28.0, 28.0, 28.0, 28.0, 28.0, 28.0, 13.0, 14.0, 15.0, 16.0, 28.0, 28.0, 28.0, 28.0, 28.0, 28.0, 28.0, 28.0, 28.0, 28.0, 28.0], [28.0, 28.0, 28.0, 28.0, 28.0, 28.0, 28.0, 28.0, 28.0, 28.0, 28.0, 28.0, 28.0, 13.0, 14.0, 15.0, 16.0, 28.0, 28.0, 28.0, 28.0, 28.0, 28.0, 28.0, 28.0, 28.0, 28.0, 28.0], [28.0, 28.0, 28.0, 28.0, 28.0, 28.0, 28.0, 28.0, 28.0, 28.0, 28.0, 28.0, 28.0, 13.0, 14.0, 15.0, 16.0, 28.0, 28.0, 28.0, 28.0, 28.0, 28.0, 28.0, 28.0, 28.0, 28.0, 28.0], [28.0, 28.0, 28.0, 28.0, 28.0, 28.0, 28.0, 28.0, 28.0, 28.0, 28.0, 28.0, 28.0, 28.0, 14.0, 15.0, 16.0, 28.0, 28.0, 28.0, 28.0, 28.0, 28.0, 28.0, 28.0, 28.0, 28.0, 28.0], [28.0, 28.0, 28.0, 28.0, 28.0, 28.0, 28.0, 28.0, 28.0, 28.0, 28.0, 28.0, 28.0, 28.0, 14.0, 15.0, 16.0, 17.0, 28.0, 28.0, 28.0, 28.0, 28.0, 28.0, 28.0, 28.0, 28.0, 28.0], [28.0, 28.0, 28.0, 28.0, 28.0, 28.0, 28.0, 28.0, 28.0, 28.0, 28.0, 28.0, 28.0, 28.0, 14.0, 15.0, 16.0, 17.0, 18.0, 28.0, 28.0, 28.0, 28.0, 28.0, 28.0, 28.0, 28.0, 28.0], [28.0, 28.0, 28.0, 28.0, 28.0, 28.0, 28.0, 28.0, 28.0, 28.0, 28.0, 28.0, 28.0, 28.0, 28.0, 15.0, 16.0, 17.0, 18.0, 28.0, 28.0, 28.0, 28.0, 28.0, 28.0, 28.0, 28.0, 28.0], [28.0, 28.0, 28.0, 28.0, 28.0, 28.0, 28.0, 28.0, 28.0, 28.0, 28.0, 28.0, 28.0, 28.0, 28.0, 28.0, 28.0, 28.0, 28.0, 28.0, 28.0, 28.0, 28.0, 28.0, 28.0, 28.0, 28.0, 28.0]]}],                        {\"plot_bgcolor\": \"white\", \"template\": {\"data\": {\"bar\": [{\"error_x\": {\"color\": \"#2a3f5f\"}, \"error_y\": {\"color\": \"#2a3f5f\"}, \"marker\": {\"line\": {\"color\": \"#E5ECF6\", \"width\": 0.5}}, \"type\": \"bar\"}], \"barpolar\": [{\"marker\": {\"line\": {\"color\": \"#E5ECF6\", \"width\": 0.5}}, \"type\": \"barpolar\"}], \"carpet\": [{\"aaxis\": {\"endlinecolor\": \"#2a3f5f\", \"gridcolor\": \"white\", \"linecolor\": \"white\", \"minorgridcolor\": \"white\", \"startlinecolor\": \"#2a3f5f\"}, \"baxis\": {\"endlinecolor\": \"#2a3f5f\", \"gridcolor\": \"white\", \"linecolor\": \"white\", \"minorgridcolor\": \"white\", \"startlinecolor\": \"#2a3f5f\"}, \"type\": \"carpet\"}], \"choropleth\": [{\"colorbar\": {\"outlinewidth\": 0, \"ticks\": \"\"}, \"type\": \"choropleth\"}], \"contour\": [{\"colorbar\": {\"outlinewidth\": 0, \"ticks\": \"\"}, \"colorscale\": [[0.0, \"#0d0887\"], [0.1111111111111111, \"#46039f\"], [0.2222222222222222, \"#7201a8\"], [0.3333333333333333, \"#9c179e\"], [0.4444444444444444, \"#bd3786\"], [0.5555555555555556, \"#d8576b\"], [0.6666666666666666, \"#ed7953\"], [0.7777777777777778, \"#fb9f3a\"], [0.8888888888888888, \"#fdca26\"], [1.0, \"#f0f921\"]], \"type\": \"contour\"}], \"contourcarpet\": [{\"colorbar\": {\"outlinewidth\": 0, \"ticks\": \"\"}, \"type\": \"contourcarpet\"}], \"heatmap\": [{\"colorbar\": {\"outlinewidth\": 0, \"ticks\": \"\"}, \"colorscale\": [[0.0, \"#0d0887\"], [0.1111111111111111, \"#46039f\"], [0.2222222222222222, \"#7201a8\"], [0.3333333333333333, \"#9c179e\"], [0.4444444444444444, \"#bd3786\"], [0.5555555555555556, \"#d8576b\"], [0.6666666666666666, \"#ed7953\"], [0.7777777777777778, \"#fb9f3a\"], [0.8888888888888888, \"#fdca26\"], [1.0, \"#f0f921\"]], \"type\": \"heatmap\"}], \"heatmapgl\": [{\"colorbar\": {\"outlinewidth\": 0, \"ticks\": \"\"}, \"colorscale\": [[0.0, \"#0d0887\"], [0.1111111111111111, \"#46039f\"], [0.2222222222222222, \"#7201a8\"], [0.3333333333333333, \"#9c179e\"], [0.4444444444444444, \"#bd3786\"], [0.5555555555555556, \"#d8576b\"], [0.6666666666666666, \"#ed7953\"], [0.7777777777777778, \"#fb9f3a\"], [0.8888888888888888, \"#fdca26\"], [1.0, \"#f0f921\"]], \"type\": \"heatmapgl\"}], \"histogram\": [{\"marker\": {\"colorbar\": {\"outlinewidth\": 0, \"ticks\": \"\"}}, \"type\": \"histogram\"}], \"histogram2d\": [{\"colorbar\": {\"outlinewidth\": 0, \"ticks\": \"\"}, \"colorscale\": [[0.0, \"#0d0887\"], [0.1111111111111111, \"#46039f\"], [0.2222222222222222, \"#7201a8\"], [0.3333333333333333, \"#9c179e\"], [0.4444444444444444, \"#bd3786\"], [0.5555555555555556, \"#d8576b\"], [0.6666666666666666, \"#ed7953\"], [0.7777777777777778, \"#fb9f3a\"], [0.8888888888888888, \"#fdca26\"], [1.0, \"#f0f921\"]], \"type\": \"histogram2d\"}], \"histogram2dcontour\": [{\"colorbar\": {\"outlinewidth\": 0, \"ticks\": \"\"}, \"colorscale\": [[0.0, \"#0d0887\"], [0.1111111111111111, \"#46039f\"], [0.2222222222222222, \"#7201a8\"], [0.3333333333333333, \"#9c179e\"], [0.4444444444444444, \"#bd3786\"], [0.5555555555555556, \"#d8576b\"], [0.6666666666666666, \"#ed7953\"], [0.7777777777777778, \"#fb9f3a\"], [0.8888888888888888, \"#fdca26\"], [1.0, \"#f0f921\"]], \"type\": \"histogram2dcontour\"}], \"mesh3d\": [{\"colorbar\": {\"outlinewidth\": 0, \"ticks\": \"\"}, \"type\": \"mesh3d\"}], \"parcoords\": [{\"line\": {\"colorbar\": {\"outlinewidth\": 0, \"ticks\": \"\"}}, \"type\": \"parcoords\"}], \"pie\": [{\"automargin\": true, \"type\": \"pie\"}], \"scatter\": [{\"marker\": {\"colorbar\": {\"outlinewidth\": 0, \"ticks\": \"\"}}, \"type\": \"scatter\"}], \"scatter3d\": [{\"line\": {\"colorbar\": {\"outlinewidth\": 0, \"ticks\": \"\"}}, \"marker\": {\"colorbar\": {\"outlinewidth\": 0, \"ticks\": \"\"}}, \"type\": \"scatter3d\"}], \"scattercarpet\": [{\"marker\": {\"colorbar\": {\"outlinewidth\": 0, \"ticks\": \"\"}}, \"type\": \"scattercarpet\"}], \"scattergeo\": [{\"marker\": {\"colorbar\": {\"outlinewidth\": 0, \"ticks\": \"\"}}, \"type\": \"scattergeo\"}], \"scattergl\": [{\"marker\": {\"colorbar\": {\"outlinewidth\": 0, \"ticks\": \"\"}}, \"type\": \"scattergl\"}], \"scattermapbox\": [{\"marker\": {\"colorbar\": {\"outlinewidth\": 0, \"ticks\": \"\"}}, \"type\": \"scattermapbox\"}], \"scatterpolar\": [{\"marker\": {\"colorbar\": {\"outlinewidth\": 0, \"ticks\": \"\"}}, \"type\": \"scatterpolar\"}], \"scatterpolargl\": [{\"marker\": {\"colorbar\": {\"outlinewidth\": 0, \"ticks\": \"\"}}, \"type\": \"scatterpolargl\"}], \"scatterternary\": [{\"marker\": {\"colorbar\": {\"outlinewidth\": 0, \"ticks\": \"\"}}, \"type\": \"scatterternary\"}], \"surface\": [{\"colorbar\": {\"outlinewidth\": 0, \"ticks\": \"\"}, \"colorscale\": [[0.0, \"#0d0887\"], [0.1111111111111111, \"#46039f\"], [0.2222222222222222, \"#7201a8\"], [0.3333333333333333, \"#9c179e\"], [0.4444444444444444, \"#bd3786\"], [0.5555555555555556, \"#d8576b\"], [0.6666666666666666, \"#ed7953\"], [0.7777777777777778, \"#fb9f3a\"], [0.8888888888888888, \"#fdca26\"], [1.0, \"#f0f921\"]], \"type\": \"surface\"}], \"table\": [{\"cells\": {\"fill\": {\"color\": \"#EBF0F8\"}, \"line\": {\"color\": \"white\"}}, \"header\": {\"fill\": {\"color\": \"#C8D4E3\"}, \"line\": {\"color\": \"white\"}}, \"type\": \"table\"}]}, \"layout\": {\"annotationdefaults\": {\"arrowcolor\": \"#2a3f5f\", \"arrowhead\": 0, \"arrowwidth\": 1}, \"autotypenumbers\": \"strict\", \"coloraxis\": {\"colorbar\": {\"outlinewidth\": 0, \"ticks\": \"\"}}, \"colorscale\": {\"diverging\": [[0, \"#8e0152\"], [0.1, \"#c51b7d\"], [0.2, \"#de77ae\"], [0.3, \"#f1b6da\"], [0.4, \"#fde0ef\"], [0.5, \"#f7f7f7\"], [0.6, \"#e6f5d0\"], [0.7, \"#b8e186\"], [0.8, \"#7fbc41\"], [0.9, \"#4d9221\"], [1, \"#276419\"]], \"sequential\": [[0.0, \"#0d0887\"], [0.1111111111111111, \"#46039f\"], [0.2222222222222222, \"#7201a8\"], [0.3333333333333333, \"#9c179e\"], [0.4444444444444444, \"#bd3786\"], [0.5555555555555556, \"#d8576b\"], [0.6666666666666666, \"#ed7953\"], [0.7777777777777778, \"#fb9f3a\"], [0.8888888888888888, \"#fdca26\"], [1.0, \"#f0f921\"]], \"sequentialminus\": [[0.0, \"#0d0887\"], [0.1111111111111111, \"#46039f\"], [0.2222222222222222, \"#7201a8\"], [0.3333333333333333, \"#9c179e\"], [0.4444444444444444, \"#bd3786\"], [0.5555555555555556, \"#d8576b\"], [0.6666666666666666, \"#ed7953\"], [0.7777777777777778, \"#fb9f3a\"], [0.8888888888888888, \"#fdca26\"], [1.0, \"#f0f921\"]]}, \"colorway\": [\"#636efa\", \"#EF553B\", \"#00cc96\", \"#ab63fa\", \"#FFA15A\", \"#19d3f3\", \"#FF6692\", \"#B6E880\", \"#FF97FF\", \"#FECB52\"], \"font\": {\"color\": \"#2a3f5f\"}, \"geo\": {\"bgcolor\": \"white\", \"lakecolor\": \"white\", \"landcolor\": \"#E5ECF6\", \"showlakes\": true, \"showland\": true, \"subunitcolor\": \"white\"}, \"hoverlabel\": {\"align\": \"left\"}, \"hovermode\": \"closest\", \"mapbox\": {\"style\": \"light\"}, \"paper_bgcolor\": \"white\", \"plot_bgcolor\": \"#E5ECF6\", \"polar\": {\"angularaxis\": {\"gridcolor\": \"white\", \"linecolor\": \"white\", \"ticks\": \"\"}, \"bgcolor\": \"#E5ECF6\", \"radialaxis\": {\"gridcolor\": \"white\", \"linecolor\": \"white\", \"ticks\": \"\"}}, \"scene\": {\"xaxis\": {\"backgroundcolor\": \"#E5ECF6\", \"gridcolor\": \"white\", \"gridwidth\": 2, \"linecolor\": \"white\", \"showbackground\": true, \"ticks\": \"\", \"zerolinecolor\": \"white\"}, \"yaxis\": {\"backgroundcolor\": \"#E5ECF6\", \"gridcolor\": \"white\", \"gridwidth\": 2, \"linecolor\": \"white\", \"showbackground\": true, \"ticks\": \"\", \"zerolinecolor\": \"white\"}, \"zaxis\": {\"backgroundcolor\": \"#E5ECF6\", \"gridcolor\": \"white\", \"gridwidth\": 2, \"linecolor\": \"white\", \"showbackground\": true, \"ticks\": \"\", \"zerolinecolor\": \"white\"}}, \"shapedefaults\": {\"line\": {\"color\": \"#2a3f5f\"}}, \"ternary\": {\"aaxis\": {\"gridcolor\": \"white\", \"linecolor\": \"white\", \"ticks\": \"\"}, \"baxis\": {\"gridcolor\": \"white\", \"linecolor\": \"white\", \"ticks\": \"\"}, \"bgcolor\": \"#E5ECF6\", \"caxis\": {\"gridcolor\": \"white\", \"linecolor\": \"white\", \"ticks\": \"\"}}, \"title\": {\"x\": 0.05}, \"xaxis\": {\"automargin\": true, \"gridcolor\": \"white\", \"linecolor\": \"white\", \"ticks\": \"\", \"title\": {\"standoff\": 15}, \"zerolinecolor\": \"white\", \"zerolinewidth\": 2}, \"yaxis\": {\"automargin\": true, \"gridcolor\": \"white\", \"linecolor\": \"white\", \"ticks\": \"\", \"title\": {\"standoff\": 15}, \"zerolinecolor\": \"white\", \"zerolinewidth\": 2}}}, \"title\": {\"text\": \"Height filtration of image 0\"}, \"xaxis\": {\"constrain\": \"domain\", \"scaleanchor\": \"y\"}, \"yaxis\": {\"autorange\": \"reversed\", \"constrain\": \"domain\"}},                        {\"responsive\": true}                    ).then(function(){\n",
       "                            \n",
       "var gd = document.getElementById('4c4cafce-9d78-4766-a650-9cafa85d8b31');\n",
       "var x = new MutationObserver(function (mutations, observer) {{\n",
       "        var display = window.getComputedStyle(gd).display;\n",
       "        if (!display || display === 'none') {{\n",
       "            console.log([gd, 'removed!']);\n",
       "            Plotly.purge(gd);\n",
       "            observer.disconnect();\n",
       "        }}\n",
       "}});\n",
       "\n",
       "// Listen for the removal of the full notebook cells\n",
       "var notebookContainer = gd.closest('#notebook-container');\n",
       "if (notebookContainer) {{\n",
       "    x.observe(notebookContainer, {childList: true});\n",
       "}}\n",
       "\n",
       "// Listen for the clearing of the current output cell\n",
       "var outputEl = gd.closest('.output');\n",
       "if (outputEl) {{\n",
       "    x.observe(outputEl, {childList: true});\n",
       "}}\n",
       "\n",
       "                        })                };                });            </script>        </div>"
      ]
     },
     "metadata": {},
     "output_type": "display_data"
    }
   ],
   "source": [
    "from gtda.images import HeightFiltration\n",
    "\n",
    "height_filtration = HeightFiltration(direction=np.array([1,0]))\n",
    "digit_height_filtration = height_filtration.fit_transform_plot(digit_bin[None,:,:], colorscale='Viridis')"
   ]
  },
  {
   "cell_type": "markdown",
   "id": "ecological-ghost",
   "metadata": {},
   "source": [
    "The next step is to use either of these filtrations to compute the corresponding persistent homology."
   ]
  },
  {
   "cell_type": "code",
   "execution_count": 70,
   "id": "periodic-homeless",
   "metadata": {},
   "outputs": [
    {
     "data": {
      "application/vnd.plotly.v1+json": {
       "config": {
        "plotlyServerURL": "https://plot.ly"
       },
       "data": [
        {
         "hoverinfo": "none",
         "line": {
          "color": "black",
          "dash": "dash",
          "width": 1
         },
         "mode": "lines",
         "showlegend": false,
         "type": "scatter",
         "x": [
          12.7,
          28.3
         ],
         "y": [
          12.7,
          28.3
         ]
        },
        {
         "hoverinfo": "text",
         "hovertext": [
          "(13.0, 14.0)"
         ],
         "mode": "markers",
         "name": "H0",
         "type": "scatter",
         "x": [
          13
         ],
         "y": [
          14
         ]
        },
        {
         "hoverinfo": "text",
         "hovertext": [
          "(16.0, 28.0)"
         ],
         "mode": "markers",
         "name": "H1",
         "type": "scatter",
         "x": [
          16
         ],
         "y": [
          28
         ]
        }
       ],
       "layout": {
        "height": 500,
        "plot_bgcolor": "white",
        "template": {
         "data": {
          "bar": [
           {
            "error_x": {
             "color": "#2a3f5f"
            },
            "error_y": {
             "color": "#2a3f5f"
            },
            "marker": {
             "line": {
              "color": "#E5ECF6",
              "width": 0.5
             }
            },
            "type": "bar"
           }
          ],
          "barpolar": [
           {
            "marker": {
             "line": {
              "color": "#E5ECF6",
              "width": 0.5
             }
            },
            "type": "barpolar"
           }
          ],
          "carpet": [
           {
            "aaxis": {
             "endlinecolor": "#2a3f5f",
             "gridcolor": "white",
             "linecolor": "white",
             "minorgridcolor": "white",
             "startlinecolor": "#2a3f5f"
            },
            "baxis": {
             "endlinecolor": "#2a3f5f",
             "gridcolor": "white",
             "linecolor": "white",
             "minorgridcolor": "white",
             "startlinecolor": "#2a3f5f"
            },
            "type": "carpet"
           }
          ],
          "choropleth": [
           {
            "colorbar": {
             "outlinewidth": 0,
             "ticks": ""
            },
            "type": "choropleth"
           }
          ],
          "contour": [
           {
            "colorbar": {
             "outlinewidth": 0,
             "ticks": ""
            },
            "colorscale": [
             [
              0,
              "#0d0887"
             ],
             [
              0.1111111111111111,
              "#46039f"
             ],
             [
              0.2222222222222222,
              "#7201a8"
             ],
             [
              0.3333333333333333,
              "#9c179e"
             ],
             [
              0.4444444444444444,
              "#bd3786"
             ],
             [
              0.5555555555555556,
              "#d8576b"
             ],
             [
              0.6666666666666666,
              "#ed7953"
             ],
             [
              0.7777777777777778,
              "#fb9f3a"
             ],
             [
              0.8888888888888888,
              "#fdca26"
             ],
             [
              1,
              "#f0f921"
             ]
            ],
            "type": "contour"
           }
          ],
          "contourcarpet": [
           {
            "colorbar": {
             "outlinewidth": 0,
             "ticks": ""
            },
            "type": "contourcarpet"
           }
          ],
          "heatmap": [
           {
            "colorbar": {
             "outlinewidth": 0,
             "ticks": ""
            },
            "colorscale": [
             [
              0,
              "#0d0887"
             ],
             [
              0.1111111111111111,
              "#46039f"
             ],
             [
              0.2222222222222222,
              "#7201a8"
             ],
             [
              0.3333333333333333,
              "#9c179e"
             ],
             [
              0.4444444444444444,
              "#bd3786"
             ],
             [
              0.5555555555555556,
              "#d8576b"
             ],
             [
              0.6666666666666666,
              "#ed7953"
             ],
             [
              0.7777777777777778,
              "#fb9f3a"
             ],
             [
              0.8888888888888888,
              "#fdca26"
             ],
             [
              1,
              "#f0f921"
             ]
            ],
            "type": "heatmap"
           }
          ],
          "heatmapgl": [
           {
            "colorbar": {
             "outlinewidth": 0,
             "ticks": ""
            },
            "colorscale": [
             [
              0,
              "#0d0887"
             ],
             [
              0.1111111111111111,
              "#46039f"
             ],
             [
              0.2222222222222222,
              "#7201a8"
             ],
             [
              0.3333333333333333,
              "#9c179e"
             ],
             [
              0.4444444444444444,
              "#bd3786"
             ],
             [
              0.5555555555555556,
              "#d8576b"
             ],
             [
              0.6666666666666666,
              "#ed7953"
             ],
             [
              0.7777777777777778,
              "#fb9f3a"
             ],
             [
              0.8888888888888888,
              "#fdca26"
             ],
             [
              1,
              "#f0f921"
             ]
            ],
            "type": "heatmapgl"
           }
          ],
          "histogram": [
           {
            "marker": {
             "colorbar": {
              "outlinewidth": 0,
              "ticks": ""
             }
            },
            "type": "histogram"
           }
          ],
          "histogram2d": [
           {
            "colorbar": {
             "outlinewidth": 0,
             "ticks": ""
            },
            "colorscale": [
             [
              0,
              "#0d0887"
             ],
             [
              0.1111111111111111,
              "#46039f"
             ],
             [
              0.2222222222222222,
              "#7201a8"
             ],
             [
              0.3333333333333333,
              "#9c179e"
             ],
             [
              0.4444444444444444,
              "#bd3786"
             ],
             [
              0.5555555555555556,
              "#d8576b"
             ],
             [
              0.6666666666666666,
              "#ed7953"
             ],
             [
              0.7777777777777778,
              "#fb9f3a"
             ],
             [
              0.8888888888888888,
              "#fdca26"
             ],
             [
              1,
              "#f0f921"
             ]
            ],
            "type": "histogram2d"
           }
          ],
          "histogram2dcontour": [
           {
            "colorbar": {
             "outlinewidth": 0,
             "ticks": ""
            },
            "colorscale": [
             [
              0,
              "#0d0887"
             ],
             [
              0.1111111111111111,
              "#46039f"
             ],
             [
              0.2222222222222222,
              "#7201a8"
             ],
             [
              0.3333333333333333,
              "#9c179e"
             ],
             [
              0.4444444444444444,
              "#bd3786"
             ],
             [
              0.5555555555555556,
              "#d8576b"
             ],
             [
              0.6666666666666666,
              "#ed7953"
             ],
             [
              0.7777777777777778,
              "#fb9f3a"
             ],
             [
              0.8888888888888888,
              "#fdca26"
             ],
             [
              1,
              "#f0f921"
             ]
            ],
            "type": "histogram2dcontour"
           }
          ],
          "mesh3d": [
           {
            "colorbar": {
             "outlinewidth": 0,
             "ticks": ""
            },
            "type": "mesh3d"
           }
          ],
          "parcoords": [
           {
            "line": {
             "colorbar": {
              "outlinewidth": 0,
              "ticks": ""
             }
            },
            "type": "parcoords"
           }
          ],
          "pie": [
           {
            "automargin": true,
            "type": "pie"
           }
          ],
          "scatter": [
           {
            "marker": {
             "colorbar": {
              "outlinewidth": 0,
              "ticks": ""
             }
            },
            "type": "scatter"
           }
          ],
          "scatter3d": [
           {
            "line": {
             "colorbar": {
              "outlinewidth": 0,
              "ticks": ""
             }
            },
            "marker": {
             "colorbar": {
              "outlinewidth": 0,
              "ticks": ""
             }
            },
            "type": "scatter3d"
           }
          ],
          "scattercarpet": [
           {
            "marker": {
             "colorbar": {
              "outlinewidth": 0,
              "ticks": ""
             }
            },
            "type": "scattercarpet"
           }
          ],
          "scattergeo": [
           {
            "marker": {
             "colorbar": {
              "outlinewidth": 0,
              "ticks": ""
             }
            },
            "type": "scattergeo"
           }
          ],
          "scattergl": [
           {
            "marker": {
             "colorbar": {
              "outlinewidth": 0,
              "ticks": ""
             }
            },
            "type": "scattergl"
           }
          ],
          "scattermapbox": [
           {
            "marker": {
             "colorbar": {
              "outlinewidth": 0,
              "ticks": ""
             }
            },
            "type": "scattermapbox"
           }
          ],
          "scatterpolar": [
           {
            "marker": {
             "colorbar": {
              "outlinewidth": 0,
              "ticks": ""
             }
            },
            "type": "scatterpolar"
           }
          ],
          "scatterpolargl": [
           {
            "marker": {
             "colorbar": {
              "outlinewidth": 0,
              "ticks": ""
             }
            },
            "type": "scatterpolargl"
           }
          ],
          "scatterternary": [
           {
            "marker": {
             "colorbar": {
              "outlinewidth": 0,
              "ticks": ""
             }
            },
            "type": "scatterternary"
           }
          ],
          "surface": [
           {
            "colorbar": {
             "outlinewidth": 0,
             "ticks": ""
            },
            "colorscale": [
             [
              0,
              "#0d0887"
             ],
             [
              0.1111111111111111,
              "#46039f"
             ],
             [
              0.2222222222222222,
              "#7201a8"
             ],
             [
              0.3333333333333333,
              "#9c179e"
             ],
             [
              0.4444444444444444,
              "#bd3786"
             ],
             [
              0.5555555555555556,
              "#d8576b"
             ],
             [
              0.6666666666666666,
              "#ed7953"
             ],
             [
              0.7777777777777778,
              "#fb9f3a"
             ],
             [
              0.8888888888888888,
              "#fdca26"
             ],
             [
              1,
              "#f0f921"
             ]
            ],
            "type": "surface"
           }
          ],
          "table": [
           {
            "cells": {
             "fill": {
              "color": "#EBF0F8"
             },
             "line": {
              "color": "white"
             }
            },
            "header": {
             "fill": {
              "color": "#C8D4E3"
             },
             "line": {
              "color": "white"
             }
            },
            "type": "table"
           }
          ]
         },
         "layout": {
          "annotationdefaults": {
           "arrowcolor": "#2a3f5f",
           "arrowhead": 0,
           "arrowwidth": 1
          },
          "autotypenumbers": "strict",
          "coloraxis": {
           "colorbar": {
            "outlinewidth": 0,
            "ticks": ""
           }
          },
          "colorscale": {
           "diverging": [
            [
             0,
             "#8e0152"
            ],
            [
             0.1,
             "#c51b7d"
            ],
            [
             0.2,
             "#de77ae"
            ],
            [
             0.3,
             "#f1b6da"
            ],
            [
             0.4,
             "#fde0ef"
            ],
            [
             0.5,
             "#f7f7f7"
            ],
            [
             0.6,
             "#e6f5d0"
            ],
            [
             0.7,
             "#b8e186"
            ],
            [
             0.8,
             "#7fbc41"
            ],
            [
             0.9,
             "#4d9221"
            ],
            [
             1,
             "#276419"
            ]
           ],
           "sequential": [
            [
             0,
             "#0d0887"
            ],
            [
             0.1111111111111111,
             "#46039f"
            ],
            [
             0.2222222222222222,
             "#7201a8"
            ],
            [
             0.3333333333333333,
             "#9c179e"
            ],
            [
             0.4444444444444444,
             "#bd3786"
            ],
            [
             0.5555555555555556,
             "#d8576b"
            ],
            [
             0.6666666666666666,
             "#ed7953"
            ],
            [
             0.7777777777777778,
             "#fb9f3a"
            ],
            [
             0.8888888888888888,
             "#fdca26"
            ],
            [
             1,
             "#f0f921"
            ]
           ],
           "sequentialminus": [
            [
             0,
             "#0d0887"
            ],
            [
             0.1111111111111111,
             "#46039f"
            ],
            [
             0.2222222222222222,
             "#7201a8"
            ],
            [
             0.3333333333333333,
             "#9c179e"
            ],
            [
             0.4444444444444444,
             "#bd3786"
            ],
            [
             0.5555555555555556,
             "#d8576b"
            ],
            [
             0.6666666666666666,
             "#ed7953"
            ],
            [
             0.7777777777777778,
             "#fb9f3a"
            ],
            [
             0.8888888888888888,
             "#fdca26"
            ],
            [
             1,
             "#f0f921"
            ]
           ]
          },
          "colorway": [
           "#636efa",
           "#EF553B",
           "#00cc96",
           "#ab63fa",
           "#FFA15A",
           "#19d3f3",
           "#FF6692",
           "#B6E880",
           "#FF97FF",
           "#FECB52"
          ],
          "font": {
           "color": "#2a3f5f"
          },
          "geo": {
           "bgcolor": "white",
           "lakecolor": "white",
           "landcolor": "#E5ECF6",
           "showlakes": true,
           "showland": true,
           "subunitcolor": "white"
          },
          "hoverlabel": {
           "align": "left"
          },
          "hovermode": "closest",
          "mapbox": {
           "style": "light"
          },
          "paper_bgcolor": "white",
          "plot_bgcolor": "#E5ECF6",
          "polar": {
           "angularaxis": {
            "gridcolor": "white",
            "linecolor": "white",
            "ticks": ""
           },
           "bgcolor": "#E5ECF6",
           "radialaxis": {
            "gridcolor": "white",
            "linecolor": "white",
            "ticks": ""
           }
          },
          "scene": {
           "xaxis": {
            "backgroundcolor": "#E5ECF6",
            "gridcolor": "white",
            "gridwidth": 2,
            "linecolor": "white",
            "showbackground": true,
            "ticks": "",
            "zerolinecolor": "white"
           },
           "yaxis": {
            "backgroundcolor": "#E5ECF6",
            "gridcolor": "white",
            "gridwidth": 2,
            "linecolor": "white",
            "showbackground": true,
            "ticks": "",
            "zerolinecolor": "white"
           },
           "zaxis": {
            "backgroundcolor": "#E5ECF6",
            "gridcolor": "white",
            "gridwidth": 2,
            "linecolor": "white",
            "showbackground": true,
            "ticks": "",
            "zerolinecolor": "white"
           }
          },
          "shapedefaults": {
           "line": {
            "color": "#2a3f5f"
           }
          },
          "ternary": {
           "aaxis": {
            "gridcolor": "white",
            "linecolor": "white",
            "ticks": ""
           },
           "baxis": {
            "gridcolor": "white",
            "linecolor": "white",
            "ticks": ""
           },
           "bgcolor": "#E5ECF6",
           "caxis": {
            "gridcolor": "white",
            "linecolor": "white",
            "ticks": ""
           }
          },
          "title": {
           "x": 0.05
          },
          "xaxis": {
           "automargin": true,
           "gridcolor": "white",
           "linecolor": "white",
           "ticks": "",
           "title": {
            "standoff": 15
           },
           "zerolinecolor": "white",
           "zerolinewidth": 2
          },
          "yaxis": {
           "automargin": true,
           "gridcolor": "white",
           "linecolor": "white",
           "ticks": "",
           "title": {
            "standoff": 15
           },
           "zerolinecolor": "white",
           "zerolinewidth": 2
          }
         }
        },
        "width": 500,
        "xaxis": {
         "autorange": false,
         "exponentformat": "e",
         "linecolor": "black",
         "linewidth": 1,
         "mirror": false,
         "range": [
          12.7,
          28.3
         ],
         "showexponent": "all",
         "showline": true,
         "side": "bottom",
         "ticks": "outside",
         "title": {
          "text": "Birth"
         },
         "type": "linear",
         "zeroline": true
        },
        "yaxis": {
         "autorange": false,
         "exponentformat": "e",
         "linecolor": "black",
         "linewidth": 1,
         "mirror": false,
         "range": [
          12.7,
          28.3
         ],
         "scaleanchor": "x",
         "scaleratio": 1,
         "showexponent": "all",
         "showline": true,
         "side": "left",
         "ticks": "outside",
         "title": {
          "text": "Death"
         },
         "type": "linear",
         "zeroline": true
        }
       }
      },
      "text/html": [
       "<div>                            <div id=\"68b70a7e-2cd8-4e30-93db-c05b40804927\" class=\"plotly-graph-div\" style=\"height:500px; width:500px;\"></div>            <script type=\"text/javascript\">                require([\"plotly\"], function(Plotly) {                    window.PLOTLYENV=window.PLOTLYENV || {};                                    if (document.getElementById(\"68b70a7e-2cd8-4e30-93db-c05b40804927\")) {                    Plotly.newPlot(                        \"68b70a7e-2cd8-4e30-93db-c05b40804927\",                        [{\"hoverinfo\": \"none\", \"line\": {\"color\": \"black\", \"dash\": \"dash\", \"width\": 1}, \"mode\": \"lines\", \"showlegend\": false, \"type\": \"scatter\", \"x\": [12.7, 28.3], \"y\": [12.7, 28.3]}, {\"hoverinfo\": \"text\", \"hovertext\": [\"(13.0, 14.0)\"], \"mode\": \"markers\", \"name\": \"H0\", \"type\": \"scatter\", \"x\": [13.0], \"y\": [14.0]}, {\"hoverinfo\": \"text\", \"hovertext\": [\"(16.0, 28.0)\"], \"mode\": \"markers\", \"name\": \"H1\", \"type\": \"scatter\", \"x\": [16.0], \"y\": [28.0]}],                        {\"height\": 500, \"plot_bgcolor\": \"white\", \"template\": {\"data\": {\"bar\": [{\"error_x\": {\"color\": \"#2a3f5f\"}, \"error_y\": {\"color\": \"#2a3f5f\"}, \"marker\": {\"line\": {\"color\": \"#E5ECF6\", \"width\": 0.5}}, \"type\": \"bar\"}], \"barpolar\": [{\"marker\": {\"line\": {\"color\": \"#E5ECF6\", \"width\": 0.5}}, \"type\": \"barpolar\"}], \"carpet\": [{\"aaxis\": {\"endlinecolor\": \"#2a3f5f\", \"gridcolor\": \"white\", \"linecolor\": \"white\", \"minorgridcolor\": \"white\", \"startlinecolor\": \"#2a3f5f\"}, \"baxis\": {\"endlinecolor\": \"#2a3f5f\", \"gridcolor\": \"white\", \"linecolor\": \"white\", \"minorgridcolor\": \"white\", \"startlinecolor\": \"#2a3f5f\"}, \"type\": \"carpet\"}], \"choropleth\": [{\"colorbar\": {\"outlinewidth\": 0, \"ticks\": \"\"}, \"type\": \"choropleth\"}], \"contour\": [{\"colorbar\": {\"outlinewidth\": 0, \"ticks\": \"\"}, \"colorscale\": [[0.0, \"#0d0887\"], [0.1111111111111111, \"#46039f\"], [0.2222222222222222, \"#7201a8\"], [0.3333333333333333, \"#9c179e\"], [0.4444444444444444, \"#bd3786\"], [0.5555555555555556, \"#d8576b\"], [0.6666666666666666, \"#ed7953\"], [0.7777777777777778, \"#fb9f3a\"], [0.8888888888888888, \"#fdca26\"], [1.0, \"#f0f921\"]], \"type\": \"contour\"}], \"contourcarpet\": [{\"colorbar\": {\"outlinewidth\": 0, \"ticks\": \"\"}, \"type\": \"contourcarpet\"}], \"heatmap\": [{\"colorbar\": {\"outlinewidth\": 0, \"ticks\": \"\"}, \"colorscale\": [[0.0, \"#0d0887\"], [0.1111111111111111, \"#46039f\"], [0.2222222222222222, \"#7201a8\"], [0.3333333333333333, \"#9c179e\"], [0.4444444444444444, \"#bd3786\"], [0.5555555555555556, \"#d8576b\"], [0.6666666666666666, \"#ed7953\"], [0.7777777777777778, \"#fb9f3a\"], [0.8888888888888888, \"#fdca26\"], [1.0, \"#f0f921\"]], \"type\": \"heatmap\"}], \"heatmapgl\": [{\"colorbar\": {\"outlinewidth\": 0, \"ticks\": \"\"}, \"colorscale\": [[0.0, \"#0d0887\"], [0.1111111111111111, \"#46039f\"], [0.2222222222222222, \"#7201a8\"], [0.3333333333333333, \"#9c179e\"], [0.4444444444444444, \"#bd3786\"], [0.5555555555555556, \"#d8576b\"], [0.6666666666666666, \"#ed7953\"], [0.7777777777777778, \"#fb9f3a\"], [0.8888888888888888, \"#fdca26\"], [1.0, \"#f0f921\"]], \"type\": \"heatmapgl\"}], \"histogram\": [{\"marker\": {\"colorbar\": {\"outlinewidth\": 0, \"ticks\": \"\"}}, \"type\": \"histogram\"}], \"histogram2d\": [{\"colorbar\": {\"outlinewidth\": 0, \"ticks\": \"\"}, \"colorscale\": [[0.0, \"#0d0887\"], [0.1111111111111111, \"#46039f\"], [0.2222222222222222, \"#7201a8\"], [0.3333333333333333, \"#9c179e\"], [0.4444444444444444, \"#bd3786\"], [0.5555555555555556, \"#d8576b\"], [0.6666666666666666, \"#ed7953\"], [0.7777777777777778, \"#fb9f3a\"], [0.8888888888888888, \"#fdca26\"], [1.0, \"#f0f921\"]], \"type\": \"histogram2d\"}], \"histogram2dcontour\": [{\"colorbar\": {\"outlinewidth\": 0, \"ticks\": \"\"}, \"colorscale\": [[0.0, \"#0d0887\"], [0.1111111111111111, \"#46039f\"], [0.2222222222222222, \"#7201a8\"], [0.3333333333333333, \"#9c179e\"], [0.4444444444444444, \"#bd3786\"], [0.5555555555555556, \"#d8576b\"], [0.6666666666666666, \"#ed7953\"], [0.7777777777777778, \"#fb9f3a\"], [0.8888888888888888, \"#fdca26\"], [1.0, \"#f0f921\"]], \"type\": \"histogram2dcontour\"}], \"mesh3d\": [{\"colorbar\": {\"outlinewidth\": 0, \"ticks\": \"\"}, \"type\": \"mesh3d\"}], \"parcoords\": [{\"line\": {\"colorbar\": {\"outlinewidth\": 0, \"ticks\": \"\"}}, \"type\": \"parcoords\"}], \"pie\": [{\"automargin\": true, \"type\": \"pie\"}], \"scatter\": [{\"marker\": {\"colorbar\": {\"outlinewidth\": 0, \"ticks\": \"\"}}, \"type\": \"scatter\"}], \"scatter3d\": [{\"line\": {\"colorbar\": {\"outlinewidth\": 0, \"ticks\": \"\"}}, \"marker\": {\"colorbar\": {\"outlinewidth\": 0, \"ticks\": \"\"}}, \"type\": \"scatter3d\"}], \"scattercarpet\": [{\"marker\": {\"colorbar\": {\"outlinewidth\": 0, \"ticks\": \"\"}}, \"type\": \"scattercarpet\"}], \"scattergeo\": [{\"marker\": {\"colorbar\": {\"outlinewidth\": 0, \"ticks\": \"\"}}, \"type\": \"scattergeo\"}], \"scattergl\": [{\"marker\": {\"colorbar\": {\"outlinewidth\": 0, \"ticks\": \"\"}}, \"type\": \"scattergl\"}], \"scattermapbox\": [{\"marker\": {\"colorbar\": {\"outlinewidth\": 0, \"ticks\": \"\"}}, \"type\": \"scattermapbox\"}], \"scatterpolar\": [{\"marker\": {\"colorbar\": {\"outlinewidth\": 0, \"ticks\": \"\"}}, \"type\": \"scatterpolar\"}], \"scatterpolargl\": [{\"marker\": {\"colorbar\": {\"outlinewidth\": 0, \"ticks\": \"\"}}, \"type\": \"scatterpolargl\"}], \"scatterternary\": [{\"marker\": {\"colorbar\": {\"outlinewidth\": 0, \"ticks\": \"\"}}, \"type\": \"scatterternary\"}], \"surface\": [{\"colorbar\": {\"outlinewidth\": 0, \"ticks\": \"\"}, \"colorscale\": [[0.0, \"#0d0887\"], [0.1111111111111111, \"#46039f\"], [0.2222222222222222, \"#7201a8\"], [0.3333333333333333, \"#9c179e\"], [0.4444444444444444, \"#bd3786\"], [0.5555555555555556, \"#d8576b\"], [0.6666666666666666, \"#ed7953\"], [0.7777777777777778, \"#fb9f3a\"], [0.8888888888888888, \"#fdca26\"], [1.0, \"#f0f921\"]], \"type\": \"surface\"}], \"table\": [{\"cells\": {\"fill\": {\"color\": \"#EBF0F8\"}, \"line\": {\"color\": \"white\"}}, \"header\": {\"fill\": {\"color\": \"#C8D4E3\"}, \"line\": {\"color\": \"white\"}}, \"type\": \"table\"}]}, \"layout\": {\"annotationdefaults\": {\"arrowcolor\": \"#2a3f5f\", \"arrowhead\": 0, \"arrowwidth\": 1}, \"autotypenumbers\": \"strict\", \"coloraxis\": {\"colorbar\": {\"outlinewidth\": 0, \"ticks\": \"\"}}, \"colorscale\": {\"diverging\": [[0, \"#8e0152\"], [0.1, \"#c51b7d\"], [0.2, \"#de77ae\"], [0.3, \"#f1b6da\"], [0.4, \"#fde0ef\"], [0.5, \"#f7f7f7\"], [0.6, \"#e6f5d0\"], [0.7, \"#b8e186\"], [0.8, \"#7fbc41\"], [0.9, \"#4d9221\"], [1, \"#276419\"]], \"sequential\": [[0.0, \"#0d0887\"], [0.1111111111111111, \"#46039f\"], [0.2222222222222222, \"#7201a8\"], [0.3333333333333333, \"#9c179e\"], [0.4444444444444444, \"#bd3786\"], [0.5555555555555556, \"#d8576b\"], [0.6666666666666666, \"#ed7953\"], [0.7777777777777778, \"#fb9f3a\"], [0.8888888888888888, \"#fdca26\"], [1.0, \"#f0f921\"]], \"sequentialminus\": [[0.0, \"#0d0887\"], [0.1111111111111111, \"#46039f\"], [0.2222222222222222, \"#7201a8\"], [0.3333333333333333, \"#9c179e\"], [0.4444444444444444, \"#bd3786\"], [0.5555555555555556, \"#d8576b\"], [0.6666666666666666, \"#ed7953\"], [0.7777777777777778, \"#fb9f3a\"], [0.8888888888888888, \"#fdca26\"], [1.0, \"#f0f921\"]]}, \"colorway\": [\"#636efa\", \"#EF553B\", \"#00cc96\", \"#ab63fa\", \"#FFA15A\", \"#19d3f3\", \"#FF6692\", \"#B6E880\", \"#FF97FF\", \"#FECB52\"], \"font\": {\"color\": \"#2a3f5f\"}, \"geo\": {\"bgcolor\": \"white\", \"lakecolor\": \"white\", \"landcolor\": \"#E5ECF6\", \"showlakes\": true, \"showland\": true, \"subunitcolor\": \"white\"}, \"hoverlabel\": {\"align\": \"left\"}, \"hovermode\": \"closest\", \"mapbox\": {\"style\": \"light\"}, \"paper_bgcolor\": \"white\", \"plot_bgcolor\": \"#E5ECF6\", \"polar\": {\"angularaxis\": {\"gridcolor\": \"white\", \"linecolor\": \"white\", \"ticks\": \"\"}, \"bgcolor\": \"#E5ECF6\", \"radialaxis\": {\"gridcolor\": \"white\", \"linecolor\": \"white\", \"ticks\": \"\"}}, \"scene\": {\"xaxis\": {\"backgroundcolor\": \"#E5ECF6\", \"gridcolor\": \"white\", \"gridwidth\": 2, \"linecolor\": \"white\", \"showbackground\": true, \"ticks\": \"\", \"zerolinecolor\": \"white\"}, \"yaxis\": {\"backgroundcolor\": \"#E5ECF6\", \"gridcolor\": \"white\", \"gridwidth\": 2, \"linecolor\": \"white\", \"showbackground\": true, \"ticks\": \"\", \"zerolinecolor\": \"white\"}, \"zaxis\": {\"backgroundcolor\": \"#E5ECF6\", \"gridcolor\": \"white\", \"gridwidth\": 2, \"linecolor\": \"white\", \"showbackground\": true, \"ticks\": \"\", \"zerolinecolor\": \"white\"}}, \"shapedefaults\": {\"line\": {\"color\": \"#2a3f5f\"}}, \"ternary\": {\"aaxis\": {\"gridcolor\": \"white\", \"linecolor\": \"white\", \"ticks\": \"\"}, \"baxis\": {\"gridcolor\": \"white\", \"linecolor\": \"white\", \"ticks\": \"\"}, \"bgcolor\": \"#E5ECF6\", \"caxis\": {\"gridcolor\": \"white\", \"linecolor\": \"white\", \"ticks\": \"\"}}, \"title\": {\"x\": 0.05}, \"xaxis\": {\"automargin\": true, \"gridcolor\": \"white\", \"linecolor\": \"white\", \"ticks\": \"\", \"title\": {\"standoff\": 15}, \"zerolinecolor\": \"white\", \"zerolinewidth\": 2}, \"yaxis\": {\"automargin\": true, \"gridcolor\": \"white\", \"linecolor\": \"white\", \"ticks\": \"\", \"title\": {\"standoff\": 15}, \"zerolinecolor\": \"white\", \"zerolinewidth\": 2}}}, \"width\": 500, \"xaxis\": {\"autorange\": false, \"exponentformat\": \"e\", \"linecolor\": \"black\", \"linewidth\": 1, \"mirror\": false, \"range\": [12.7, 28.3], \"showexponent\": \"all\", \"showline\": true, \"side\": \"bottom\", \"ticks\": \"outside\", \"title\": {\"text\": \"Birth\"}, \"type\": \"linear\", \"zeroline\": true}, \"yaxis\": {\"autorange\": false, \"exponentformat\": \"e\", \"linecolor\": \"black\", \"linewidth\": 1, \"mirror\": false, \"range\": [12.7, 28.3], \"scaleanchor\": \"x\", \"scaleratio\": 1, \"showexponent\": \"all\", \"showline\": true, \"side\": \"left\", \"ticks\": \"outside\", \"title\": {\"text\": \"Death\"}, \"type\": \"linear\", \"zeroline\": true}},                        {\"responsive\": true}                    ).then(function(){\n",
       "                            \n",
       "var gd = document.getElementById('68b70a7e-2cd8-4e30-93db-c05b40804927');\n",
       "var x = new MutationObserver(function (mutations, observer) {{\n",
       "        var display = window.getComputedStyle(gd).display;\n",
       "        if (!display || display === 'none') {{\n",
       "            console.log([gd, 'removed!']);\n",
       "            Plotly.purge(gd);\n",
       "            observer.disconnect();\n",
       "        }}\n",
       "}});\n",
       "\n",
       "// Listen for the removal of the full notebook cells\n",
       "var notebookContainer = gd.closest('#notebook-container');\n",
       "if (notebookContainer) {{\n",
       "    x.observe(notebookContainer, {childList: true});\n",
       "}}\n",
       "\n",
       "// Listen for the clearing of the current output cell\n",
       "var outputEl = gd.closest('.output');\n",
       "if (outputEl) {{\n",
       "    x.observe(outputEl, {childList: true});\n",
       "}}\n",
       "\n",
       "                        })                };                });            </script>        </div>"
      ]
     },
     "metadata": {},
     "output_type": "display_data"
    }
   ],
   "source": [
    "from gtda.homology import CubicalPersistence\n",
    "\n",
    "cubical_persistence = CubicalPersistence(n_jobs=-1)\n",
    "digit_height_persistence = cubical_persistence.fit_transform_plot(digit_height_filtration)"
   ]
  },
  {
   "cell_type": "code",
   "execution_count": 71,
   "id": "illegal-reaction",
   "metadata": {},
   "outputs": [
    {
     "data": {
      "text/plain": [
       "array([[[13., 14.,  0.],\n",
       "        [16., 28.,  1.]]])"
      ]
     },
     "execution_count": 71,
     "metadata": {},
     "output_type": "execute_result"
    }
   ],
   "source": [
    "digit_height_persistence"
   ]
  },
  {
   "cell_type": "markdown",
   "id": "suspended-impossible",
   "metadata": {},
   "source": [
    "Now its time for vectorization."
   ]
  },
  {
   "cell_type": "code",
   "execution_count": 72,
   "id": "incorporate-sending",
   "metadata": {},
   "outputs": [
    {
     "data": {
      "application/vnd.plotly.v1+json": {
       "config": {
        "plotlyServerURL": "https://plot.ly"
       },
       "data": [
        {
         "hoverinfo": "none",
         "line": {
          "color": "black",
          "dash": "dash",
          "width": 1
         },
         "mode": "lines",
         "showlegend": false,
         "type": "scatter",
         "x": [
          2.1166666666666667,
          4.716666666666667
         ],
         "y": [
          2.1166666666666667,
          4.716666666666667
         ]
        },
        {
         "hoverinfo": "text",
         "hovertext": [
          "(2.1666666666666665, 2.3333333333333335)"
         ],
         "mode": "markers",
         "name": "H0",
         "type": "scatter",
         "x": [
          2.1666666666666665
         ],
         "y": [
          2.3333333333333335
         ]
        },
        {
         "hoverinfo": "text",
         "hovertext": [
          "(2.6666666666666665, 4.666666666666667)"
         ],
         "mode": "markers",
         "name": "H1",
         "type": "scatter",
         "x": [
          2.6666666666666665
         ],
         "y": [
          4.666666666666667
         ]
        }
       ],
       "layout": {
        "height": 500,
        "plot_bgcolor": "white",
        "template": {
         "data": {
          "bar": [
           {
            "error_x": {
             "color": "#2a3f5f"
            },
            "error_y": {
             "color": "#2a3f5f"
            },
            "marker": {
             "line": {
              "color": "#E5ECF6",
              "width": 0.5
             }
            },
            "type": "bar"
           }
          ],
          "barpolar": [
           {
            "marker": {
             "line": {
              "color": "#E5ECF6",
              "width": 0.5
             }
            },
            "type": "barpolar"
           }
          ],
          "carpet": [
           {
            "aaxis": {
             "endlinecolor": "#2a3f5f",
             "gridcolor": "white",
             "linecolor": "white",
             "minorgridcolor": "white",
             "startlinecolor": "#2a3f5f"
            },
            "baxis": {
             "endlinecolor": "#2a3f5f",
             "gridcolor": "white",
             "linecolor": "white",
             "minorgridcolor": "white",
             "startlinecolor": "#2a3f5f"
            },
            "type": "carpet"
           }
          ],
          "choropleth": [
           {
            "colorbar": {
             "outlinewidth": 0,
             "ticks": ""
            },
            "type": "choropleth"
           }
          ],
          "contour": [
           {
            "colorbar": {
             "outlinewidth": 0,
             "ticks": ""
            },
            "colorscale": [
             [
              0,
              "#0d0887"
             ],
             [
              0.1111111111111111,
              "#46039f"
             ],
             [
              0.2222222222222222,
              "#7201a8"
             ],
             [
              0.3333333333333333,
              "#9c179e"
             ],
             [
              0.4444444444444444,
              "#bd3786"
             ],
             [
              0.5555555555555556,
              "#d8576b"
             ],
             [
              0.6666666666666666,
              "#ed7953"
             ],
             [
              0.7777777777777778,
              "#fb9f3a"
             ],
             [
              0.8888888888888888,
              "#fdca26"
             ],
             [
              1,
              "#f0f921"
             ]
            ],
            "type": "contour"
           }
          ],
          "contourcarpet": [
           {
            "colorbar": {
             "outlinewidth": 0,
             "ticks": ""
            },
            "type": "contourcarpet"
           }
          ],
          "heatmap": [
           {
            "colorbar": {
             "outlinewidth": 0,
             "ticks": ""
            },
            "colorscale": [
             [
              0,
              "#0d0887"
             ],
             [
              0.1111111111111111,
              "#46039f"
             ],
             [
              0.2222222222222222,
              "#7201a8"
             ],
             [
              0.3333333333333333,
              "#9c179e"
             ],
             [
              0.4444444444444444,
              "#bd3786"
             ],
             [
              0.5555555555555556,
              "#d8576b"
             ],
             [
              0.6666666666666666,
              "#ed7953"
             ],
             [
              0.7777777777777778,
              "#fb9f3a"
             ],
             [
              0.8888888888888888,
              "#fdca26"
             ],
             [
              1,
              "#f0f921"
             ]
            ],
            "type": "heatmap"
           }
          ],
          "heatmapgl": [
           {
            "colorbar": {
             "outlinewidth": 0,
             "ticks": ""
            },
            "colorscale": [
             [
              0,
              "#0d0887"
             ],
             [
              0.1111111111111111,
              "#46039f"
             ],
             [
              0.2222222222222222,
              "#7201a8"
             ],
             [
              0.3333333333333333,
              "#9c179e"
             ],
             [
              0.4444444444444444,
              "#bd3786"
             ],
             [
              0.5555555555555556,
              "#d8576b"
             ],
             [
              0.6666666666666666,
              "#ed7953"
             ],
             [
              0.7777777777777778,
              "#fb9f3a"
             ],
             [
              0.8888888888888888,
              "#fdca26"
             ],
             [
              1,
              "#f0f921"
             ]
            ],
            "type": "heatmapgl"
           }
          ],
          "histogram": [
           {
            "marker": {
             "colorbar": {
              "outlinewidth": 0,
              "ticks": ""
             }
            },
            "type": "histogram"
           }
          ],
          "histogram2d": [
           {
            "colorbar": {
             "outlinewidth": 0,
             "ticks": ""
            },
            "colorscale": [
             [
              0,
              "#0d0887"
             ],
             [
              0.1111111111111111,
              "#46039f"
             ],
             [
              0.2222222222222222,
              "#7201a8"
             ],
             [
              0.3333333333333333,
              "#9c179e"
             ],
             [
              0.4444444444444444,
              "#bd3786"
             ],
             [
              0.5555555555555556,
              "#d8576b"
             ],
             [
              0.6666666666666666,
              "#ed7953"
             ],
             [
              0.7777777777777778,
              "#fb9f3a"
             ],
             [
              0.8888888888888888,
              "#fdca26"
             ],
             [
              1,
              "#f0f921"
             ]
            ],
            "type": "histogram2d"
           }
          ],
          "histogram2dcontour": [
           {
            "colorbar": {
             "outlinewidth": 0,
             "ticks": ""
            },
            "colorscale": [
             [
              0,
              "#0d0887"
             ],
             [
              0.1111111111111111,
              "#46039f"
             ],
             [
              0.2222222222222222,
              "#7201a8"
             ],
             [
              0.3333333333333333,
              "#9c179e"
             ],
             [
              0.4444444444444444,
              "#bd3786"
             ],
             [
              0.5555555555555556,
              "#d8576b"
             ],
             [
              0.6666666666666666,
              "#ed7953"
             ],
             [
              0.7777777777777778,
              "#fb9f3a"
             ],
             [
              0.8888888888888888,
              "#fdca26"
             ],
             [
              1,
              "#f0f921"
             ]
            ],
            "type": "histogram2dcontour"
           }
          ],
          "mesh3d": [
           {
            "colorbar": {
             "outlinewidth": 0,
             "ticks": ""
            },
            "type": "mesh3d"
           }
          ],
          "parcoords": [
           {
            "line": {
             "colorbar": {
              "outlinewidth": 0,
              "ticks": ""
             }
            },
            "type": "parcoords"
           }
          ],
          "pie": [
           {
            "automargin": true,
            "type": "pie"
           }
          ],
          "scatter": [
           {
            "marker": {
             "colorbar": {
              "outlinewidth": 0,
              "ticks": ""
             }
            },
            "type": "scatter"
           }
          ],
          "scatter3d": [
           {
            "line": {
             "colorbar": {
              "outlinewidth": 0,
              "ticks": ""
             }
            },
            "marker": {
             "colorbar": {
              "outlinewidth": 0,
              "ticks": ""
             }
            },
            "type": "scatter3d"
           }
          ],
          "scattercarpet": [
           {
            "marker": {
             "colorbar": {
              "outlinewidth": 0,
              "ticks": ""
             }
            },
            "type": "scattercarpet"
           }
          ],
          "scattergeo": [
           {
            "marker": {
             "colorbar": {
              "outlinewidth": 0,
              "ticks": ""
             }
            },
            "type": "scattergeo"
           }
          ],
          "scattergl": [
           {
            "marker": {
             "colorbar": {
              "outlinewidth": 0,
              "ticks": ""
             }
            },
            "type": "scattergl"
           }
          ],
          "scattermapbox": [
           {
            "marker": {
             "colorbar": {
              "outlinewidth": 0,
              "ticks": ""
             }
            },
            "type": "scattermapbox"
           }
          ],
          "scatterpolar": [
           {
            "marker": {
             "colorbar": {
              "outlinewidth": 0,
              "ticks": ""
             }
            },
            "type": "scatterpolar"
           }
          ],
          "scatterpolargl": [
           {
            "marker": {
             "colorbar": {
              "outlinewidth": 0,
              "ticks": ""
             }
            },
            "type": "scatterpolargl"
           }
          ],
          "scatterternary": [
           {
            "marker": {
             "colorbar": {
              "outlinewidth": 0,
              "ticks": ""
             }
            },
            "type": "scatterternary"
           }
          ],
          "surface": [
           {
            "colorbar": {
             "outlinewidth": 0,
             "ticks": ""
            },
            "colorscale": [
             [
              0,
              "#0d0887"
             ],
             [
              0.1111111111111111,
              "#46039f"
             ],
             [
              0.2222222222222222,
              "#7201a8"
             ],
             [
              0.3333333333333333,
              "#9c179e"
             ],
             [
              0.4444444444444444,
              "#bd3786"
             ],
             [
              0.5555555555555556,
              "#d8576b"
             ],
             [
              0.6666666666666666,
              "#ed7953"
             ],
             [
              0.7777777777777778,
              "#fb9f3a"
             ],
             [
              0.8888888888888888,
              "#fdca26"
             ],
             [
              1,
              "#f0f921"
             ]
            ],
            "type": "surface"
           }
          ],
          "table": [
           {
            "cells": {
             "fill": {
              "color": "#EBF0F8"
             },
             "line": {
              "color": "white"
             }
            },
            "header": {
             "fill": {
              "color": "#C8D4E3"
             },
             "line": {
              "color": "white"
             }
            },
            "type": "table"
           }
          ]
         },
         "layout": {
          "annotationdefaults": {
           "arrowcolor": "#2a3f5f",
           "arrowhead": 0,
           "arrowwidth": 1
          },
          "autotypenumbers": "strict",
          "coloraxis": {
           "colorbar": {
            "outlinewidth": 0,
            "ticks": ""
           }
          },
          "colorscale": {
           "diverging": [
            [
             0,
             "#8e0152"
            ],
            [
             0.1,
             "#c51b7d"
            ],
            [
             0.2,
             "#de77ae"
            ],
            [
             0.3,
             "#f1b6da"
            ],
            [
             0.4,
             "#fde0ef"
            ],
            [
             0.5,
             "#f7f7f7"
            ],
            [
             0.6,
             "#e6f5d0"
            ],
            [
             0.7,
             "#b8e186"
            ],
            [
             0.8,
             "#7fbc41"
            ],
            [
             0.9,
             "#4d9221"
            ],
            [
             1,
             "#276419"
            ]
           ],
           "sequential": [
            [
             0,
             "#0d0887"
            ],
            [
             0.1111111111111111,
             "#46039f"
            ],
            [
             0.2222222222222222,
             "#7201a8"
            ],
            [
             0.3333333333333333,
             "#9c179e"
            ],
            [
             0.4444444444444444,
             "#bd3786"
            ],
            [
             0.5555555555555556,
             "#d8576b"
            ],
            [
             0.6666666666666666,
             "#ed7953"
            ],
            [
             0.7777777777777778,
             "#fb9f3a"
            ],
            [
             0.8888888888888888,
             "#fdca26"
            ],
            [
             1,
             "#f0f921"
            ]
           ],
           "sequentialminus": [
            [
             0,
             "#0d0887"
            ],
            [
             0.1111111111111111,
             "#46039f"
            ],
            [
             0.2222222222222222,
             "#7201a8"
            ],
            [
             0.3333333333333333,
             "#9c179e"
            ],
            [
             0.4444444444444444,
             "#bd3786"
            ],
            [
             0.5555555555555556,
             "#d8576b"
            ],
            [
             0.6666666666666666,
             "#ed7953"
            ],
            [
             0.7777777777777778,
             "#fb9f3a"
            ],
            [
             0.8888888888888888,
             "#fdca26"
            ],
            [
             1,
             "#f0f921"
            ]
           ]
          },
          "colorway": [
           "#636efa",
           "#EF553B",
           "#00cc96",
           "#ab63fa",
           "#FFA15A",
           "#19d3f3",
           "#FF6692",
           "#B6E880",
           "#FF97FF",
           "#FECB52"
          ],
          "font": {
           "color": "#2a3f5f"
          },
          "geo": {
           "bgcolor": "white",
           "lakecolor": "white",
           "landcolor": "#E5ECF6",
           "showlakes": true,
           "showland": true,
           "subunitcolor": "white"
          },
          "hoverlabel": {
           "align": "left"
          },
          "hovermode": "closest",
          "mapbox": {
           "style": "light"
          },
          "paper_bgcolor": "white",
          "plot_bgcolor": "#E5ECF6",
          "polar": {
           "angularaxis": {
            "gridcolor": "white",
            "linecolor": "white",
            "ticks": ""
           },
           "bgcolor": "#E5ECF6",
           "radialaxis": {
            "gridcolor": "white",
            "linecolor": "white",
            "ticks": ""
           }
          },
          "scene": {
           "xaxis": {
            "backgroundcolor": "#E5ECF6",
            "gridcolor": "white",
            "gridwidth": 2,
            "linecolor": "white",
            "showbackground": true,
            "ticks": "",
            "zerolinecolor": "white"
           },
           "yaxis": {
            "backgroundcolor": "#E5ECF6",
            "gridcolor": "white",
            "gridwidth": 2,
            "linecolor": "white",
            "showbackground": true,
            "ticks": "",
            "zerolinecolor": "white"
           },
           "zaxis": {
            "backgroundcolor": "#E5ECF6",
            "gridcolor": "white",
            "gridwidth": 2,
            "linecolor": "white",
            "showbackground": true,
            "ticks": "",
            "zerolinecolor": "white"
           }
          },
          "shapedefaults": {
           "line": {
            "color": "#2a3f5f"
           }
          },
          "ternary": {
           "aaxis": {
            "gridcolor": "white",
            "linecolor": "white",
            "ticks": ""
           },
           "baxis": {
            "gridcolor": "white",
            "linecolor": "white",
            "ticks": ""
           },
           "bgcolor": "#E5ECF6",
           "caxis": {
            "gridcolor": "white",
            "linecolor": "white",
            "ticks": ""
           }
          },
          "title": {
           "x": 0.05
          },
          "xaxis": {
           "automargin": true,
           "gridcolor": "white",
           "linecolor": "white",
           "ticks": "",
           "title": {
            "standoff": 15
           },
           "zerolinecolor": "white",
           "zerolinewidth": 2
          },
          "yaxis": {
           "automargin": true,
           "gridcolor": "white",
           "linecolor": "white",
           "ticks": "",
           "title": {
            "standoff": 15
           },
           "zerolinecolor": "white",
           "zerolinewidth": 2
          }
         }
        },
        "width": 500,
        "xaxis": {
         "autorange": false,
         "exponentformat": "e",
         "linecolor": "black",
         "linewidth": 1,
         "mirror": false,
         "range": [
          2.1166666666666667,
          4.716666666666667
         ],
         "showexponent": "all",
         "showline": true,
         "side": "bottom",
         "ticks": "outside",
         "title": {
          "text": "Birth"
         },
         "type": "linear",
         "zeroline": true
        },
        "yaxis": {
         "autorange": false,
         "exponentformat": "e",
         "linecolor": "black",
         "linewidth": 1,
         "mirror": false,
         "range": [
          2.1166666666666667,
          4.716666666666667
         ],
         "scaleanchor": "x",
         "scaleratio": 1,
         "showexponent": "all",
         "showline": true,
         "side": "left",
         "ticks": "outside",
         "title": {
          "text": "Death"
         },
         "type": "linear",
         "zeroline": true
        }
       }
      },
      "text/html": [
       "<div>                            <div id=\"4b355612-6490-4de1-8d6d-4b4af8e2e751\" class=\"plotly-graph-div\" style=\"height:500px; width:500px;\"></div>            <script type=\"text/javascript\">                require([\"plotly\"], function(Plotly) {                    window.PLOTLYENV=window.PLOTLYENV || {};                                    if (document.getElementById(\"4b355612-6490-4de1-8d6d-4b4af8e2e751\")) {                    Plotly.newPlot(                        \"4b355612-6490-4de1-8d6d-4b4af8e2e751\",                        [{\"hoverinfo\": \"none\", \"line\": {\"color\": \"black\", \"dash\": \"dash\", \"width\": 1}, \"mode\": \"lines\", \"showlegend\": false, \"type\": \"scatter\", \"x\": [2.1166666666666667, 4.716666666666667], \"y\": [2.1166666666666667, 4.716666666666667]}, {\"hoverinfo\": \"text\", \"hovertext\": [\"(2.1666666666666665, 2.3333333333333335)\"], \"mode\": \"markers\", \"name\": \"H0\", \"type\": \"scatter\", \"x\": [2.1666666666666665], \"y\": [2.3333333333333335]}, {\"hoverinfo\": \"text\", \"hovertext\": [\"(2.6666666666666665, 4.666666666666667)\"], \"mode\": \"markers\", \"name\": \"H1\", \"type\": \"scatter\", \"x\": [2.6666666666666665], \"y\": [4.666666666666667]}],                        {\"height\": 500, \"plot_bgcolor\": \"white\", \"template\": {\"data\": {\"bar\": [{\"error_x\": {\"color\": \"#2a3f5f\"}, \"error_y\": {\"color\": \"#2a3f5f\"}, \"marker\": {\"line\": {\"color\": \"#E5ECF6\", \"width\": 0.5}}, \"type\": \"bar\"}], \"barpolar\": [{\"marker\": {\"line\": {\"color\": \"#E5ECF6\", \"width\": 0.5}}, \"type\": \"barpolar\"}], \"carpet\": [{\"aaxis\": {\"endlinecolor\": \"#2a3f5f\", \"gridcolor\": \"white\", \"linecolor\": \"white\", \"minorgridcolor\": \"white\", \"startlinecolor\": \"#2a3f5f\"}, \"baxis\": {\"endlinecolor\": \"#2a3f5f\", \"gridcolor\": \"white\", \"linecolor\": \"white\", \"minorgridcolor\": \"white\", \"startlinecolor\": \"#2a3f5f\"}, \"type\": \"carpet\"}], \"choropleth\": [{\"colorbar\": {\"outlinewidth\": 0, \"ticks\": \"\"}, \"type\": \"choropleth\"}], \"contour\": [{\"colorbar\": {\"outlinewidth\": 0, \"ticks\": \"\"}, \"colorscale\": [[0.0, \"#0d0887\"], [0.1111111111111111, \"#46039f\"], [0.2222222222222222, \"#7201a8\"], [0.3333333333333333, \"#9c179e\"], [0.4444444444444444, \"#bd3786\"], [0.5555555555555556, \"#d8576b\"], [0.6666666666666666, \"#ed7953\"], [0.7777777777777778, \"#fb9f3a\"], [0.8888888888888888, \"#fdca26\"], [1.0, \"#f0f921\"]], \"type\": \"contour\"}], \"contourcarpet\": [{\"colorbar\": {\"outlinewidth\": 0, \"ticks\": \"\"}, \"type\": \"contourcarpet\"}], \"heatmap\": [{\"colorbar\": {\"outlinewidth\": 0, \"ticks\": \"\"}, \"colorscale\": [[0.0, \"#0d0887\"], [0.1111111111111111, \"#46039f\"], [0.2222222222222222, \"#7201a8\"], [0.3333333333333333, \"#9c179e\"], [0.4444444444444444, \"#bd3786\"], [0.5555555555555556, \"#d8576b\"], [0.6666666666666666, \"#ed7953\"], [0.7777777777777778, \"#fb9f3a\"], [0.8888888888888888, \"#fdca26\"], [1.0, \"#f0f921\"]], \"type\": \"heatmap\"}], \"heatmapgl\": [{\"colorbar\": {\"outlinewidth\": 0, \"ticks\": \"\"}, \"colorscale\": [[0.0, \"#0d0887\"], [0.1111111111111111, \"#46039f\"], [0.2222222222222222, \"#7201a8\"], [0.3333333333333333, \"#9c179e\"], [0.4444444444444444, \"#bd3786\"], [0.5555555555555556, \"#d8576b\"], [0.6666666666666666, \"#ed7953\"], [0.7777777777777778, \"#fb9f3a\"], [0.8888888888888888, \"#fdca26\"], [1.0, \"#f0f921\"]], \"type\": \"heatmapgl\"}], \"histogram\": [{\"marker\": {\"colorbar\": {\"outlinewidth\": 0, \"ticks\": \"\"}}, \"type\": \"histogram\"}], \"histogram2d\": [{\"colorbar\": {\"outlinewidth\": 0, \"ticks\": \"\"}, \"colorscale\": [[0.0, \"#0d0887\"], [0.1111111111111111, \"#46039f\"], [0.2222222222222222, \"#7201a8\"], [0.3333333333333333, \"#9c179e\"], [0.4444444444444444, \"#bd3786\"], [0.5555555555555556, \"#d8576b\"], [0.6666666666666666, \"#ed7953\"], [0.7777777777777778, \"#fb9f3a\"], [0.8888888888888888, \"#fdca26\"], [1.0, \"#f0f921\"]], \"type\": \"histogram2d\"}], \"histogram2dcontour\": [{\"colorbar\": {\"outlinewidth\": 0, \"ticks\": \"\"}, \"colorscale\": [[0.0, \"#0d0887\"], [0.1111111111111111, \"#46039f\"], [0.2222222222222222, \"#7201a8\"], [0.3333333333333333, \"#9c179e\"], [0.4444444444444444, \"#bd3786\"], [0.5555555555555556, \"#d8576b\"], [0.6666666666666666, \"#ed7953\"], [0.7777777777777778, \"#fb9f3a\"], [0.8888888888888888, \"#fdca26\"], [1.0, \"#f0f921\"]], \"type\": \"histogram2dcontour\"}], \"mesh3d\": [{\"colorbar\": {\"outlinewidth\": 0, \"ticks\": \"\"}, \"type\": \"mesh3d\"}], \"parcoords\": [{\"line\": {\"colorbar\": {\"outlinewidth\": 0, \"ticks\": \"\"}}, \"type\": \"parcoords\"}], \"pie\": [{\"automargin\": true, \"type\": \"pie\"}], \"scatter\": [{\"marker\": {\"colorbar\": {\"outlinewidth\": 0, \"ticks\": \"\"}}, \"type\": \"scatter\"}], \"scatter3d\": [{\"line\": {\"colorbar\": {\"outlinewidth\": 0, \"ticks\": \"\"}}, \"marker\": {\"colorbar\": {\"outlinewidth\": 0, \"ticks\": \"\"}}, \"type\": \"scatter3d\"}], \"scattercarpet\": [{\"marker\": {\"colorbar\": {\"outlinewidth\": 0, \"ticks\": \"\"}}, \"type\": \"scattercarpet\"}], \"scattergeo\": [{\"marker\": {\"colorbar\": {\"outlinewidth\": 0, \"ticks\": \"\"}}, \"type\": \"scattergeo\"}], \"scattergl\": [{\"marker\": {\"colorbar\": {\"outlinewidth\": 0, \"ticks\": \"\"}}, \"type\": \"scattergl\"}], \"scattermapbox\": [{\"marker\": {\"colorbar\": {\"outlinewidth\": 0, \"ticks\": \"\"}}, \"type\": \"scattermapbox\"}], \"scatterpolar\": [{\"marker\": {\"colorbar\": {\"outlinewidth\": 0, \"ticks\": \"\"}}, \"type\": \"scatterpolar\"}], \"scatterpolargl\": [{\"marker\": {\"colorbar\": {\"outlinewidth\": 0, \"ticks\": \"\"}}, \"type\": \"scatterpolargl\"}], \"scatterternary\": [{\"marker\": {\"colorbar\": {\"outlinewidth\": 0, \"ticks\": \"\"}}, \"type\": \"scatterternary\"}], \"surface\": [{\"colorbar\": {\"outlinewidth\": 0, \"ticks\": \"\"}, \"colorscale\": [[0.0, \"#0d0887\"], [0.1111111111111111, \"#46039f\"], [0.2222222222222222, \"#7201a8\"], [0.3333333333333333, \"#9c179e\"], [0.4444444444444444, \"#bd3786\"], [0.5555555555555556, \"#d8576b\"], [0.6666666666666666, \"#ed7953\"], [0.7777777777777778, \"#fb9f3a\"], [0.8888888888888888, \"#fdca26\"], [1.0, \"#f0f921\"]], \"type\": \"surface\"}], \"table\": [{\"cells\": {\"fill\": {\"color\": \"#EBF0F8\"}, \"line\": {\"color\": \"white\"}}, \"header\": {\"fill\": {\"color\": \"#C8D4E3\"}, \"line\": {\"color\": \"white\"}}, \"type\": \"table\"}]}, \"layout\": {\"annotationdefaults\": {\"arrowcolor\": \"#2a3f5f\", \"arrowhead\": 0, \"arrowwidth\": 1}, \"autotypenumbers\": \"strict\", \"coloraxis\": {\"colorbar\": {\"outlinewidth\": 0, \"ticks\": \"\"}}, \"colorscale\": {\"diverging\": [[0, \"#8e0152\"], [0.1, \"#c51b7d\"], [0.2, \"#de77ae\"], [0.3, \"#f1b6da\"], [0.4, \"#fde0ef\"], [0.5, \"#f7f7f7\"], [0.6, \"#e6f5d0\"], [0.7, \"#b8e186\"], [0.8, \"#7fbc41\"], [0.9, \"#4d9221\"], [1, \"#276419\"]], \"sequential\": [[0.0, \"#0d0887\"], [0.1111111111111111, \"#46039f\"], [0.2222222222222222, \"#7201a8\"], [0.3333333333333333, \"#9c179e\"], [0.4444444444444444, \"#bd3786\"], [0.5555555555555556, \"#d8576b\"], [0.6666666666666666, \"#ed7953\"], [0.7777777777777778, \"#fb9f3a\"], [0.8888888888888888, \"#fdca26\"], [1.0, \"#f0f921\"]], \"sequentialminus\": [[0.0, \"#0d0887\"], [0.1111111111111111, \"#46039f\"], [0.2222222222222222, \"#7201a8\"], [0.3333333333333333, \"#9c179e\"], [0.4444444444444444, \"#bd3786\"], [0.5555555555555556, \"#d8576b\"], [0.6666666666666666, \"#ed7953\"], [0.7777777777777778, \"#fb9f3a\"], [0.8888888888888888, \"#fdca26\"], [1.0, \"#f0f921\"]]}, \"colorway\": [\"#636efa\", \"#EF553B\", \"#00cc96\", \"#ab63fa\", \"#FFA15A\", \"#19d3f3\", \"#FF6692\", \"#B6E880\", \"#FF97FF\", \"#FECB52\"], \"font\": {\"color\": \"#2a3f5f\"}, \"geo\": {\"bgcolor\": \"white\", \"lakecolor\": \"white\", \"landcolor\": \"#E5ECF6\", \"showlakes\": true, \"showland\": true, \"subunitcolor\": \"white\"}, \"hoverlabel\": {\"align\": \"left\"}, \"hovermode\": \"closest\", \"mapbox\": {\"style\": \"light\"}, \"paper_bgcolor\": \"white\", \"plot_bgcolor\": \"#E5ECF6\", \"polar\": {\"angularaxis\": {\"gridcolor\": \"white\", \"linecolor\": \"white\", \"ticks\": \"\"}, \"bgcolor\": \"#E5ECF6\", \"radialaxis\": {\"gridcolor\": \"white\", \"linecolor\": \"white\", \"ticks\": \"\"}}, \"scene\": {\"xaxis\": {\"backgroundcolor\": \"#E5ECF6\", \"gridcolor\": \"white\", \"gridwidth\": 2, \"linecolor\": \"white\", \"showbackground\": true, \"ticks\": \"\", \"zerolinecolor\": \"white\"}, \"yaxis\": {\"backgroundcolor\": \"#E5ECF6\", \"gridcolor\": \"white\", \"gridwidth\": 2, \"linecolor\": \"white\", \"showbackground\": true, \"ticks\": \"\", \"zerolinecolor\": \"white\"}, \"zaxis\": {\"backgroundcolor\": \"#E5ECF6\", \"gridcolor\": \"white\", \"gridwidth\": 2, \"linecolor\": \"white\", \"showbackground\": true, \"ticks\": \"\", \"zerolinecolor\": \"white\"}}, \"shapedefaults\": {\"line\": {\"color\": \"#2a3f5f\"}}, \"ternary\": {\"aaxis\": {\"gridcolor\": \"white\", \"linecolor\": \"white\", \"ticks\": \"\"}, \"baxis\": {\"gridcolor\": \"white\", \"linecolor\": \"white\", \"ticks\": \"\"}, \"bgcolor\": \"#E5ECF6\", \"caxis\": {\"gridcolor\": \"white\", \"linecolor\": \"white\", \"ticks\": \"\"}}, \"title\": {\"x\": 0.05}, \"xaxis\": {\"automargin\": true, \"gridcolor\": \"white\", \"linecolor\": \"white\", \"ticks\": \"\", \"title\": {\"standoff\": 15}, \"zerolinecolor\": \"white\", \"zerolinewidth\": 2}, \"yaxis\": {\"automargin\": true, \"gridcolor\": \"white\", \"linecolor\": \"white\", \"ticks\": \"\", \"title\": {\"standoff\": 15}, \"zerolinecolor\": \"white\", \"zerolinewidth\": 2}}}, \"width\": 500, \"xaxis\": {\"autorange\": false, \"exponentformat\": \"e\", \"linecolor\": \"black\", \"linewidth\": 1, \"mirror\": false, \"range\": [2.1166666666666667, 4.716666666666667], \"showexponent\": \"all\", \"showline\": true, \"side\": \"bottom\", \"ticks\": \"outside\", \"title\": {\"text\": \"Birth\"}, \"type\": \"linear\", \"zeroline\": true}, \"yaxis\": {\"autorange\": false, \"exponentformat\": \"e\", \"linecolor\": \"black\", \"linewidth\": 1, \"mirror\": false, \"range\": [2.1166666666666667, 4.716666666666667], \"scaleanchor\": \"x\", \"scaleratio\": 1, \"showexponent\": \"all\", \"showline\": true, \"side\": \"left\", \"ticks\": \"outside\", \"title\": {\"text\": \"Death\"}, \"type\": \"linear\", \"zeroline\": true}},                        {\"responsive\": true}                    ).then(function(){\n",
       "                            \n",
       "var gd = document.getElementById('4b355612-6490-4de1-8d6d-4b4af8e2e751');\n",
       "var x = new MutationObserver(function (mutations, observer) {{\n",
       "        var display = window.getComputedStyle(gd).display;\n",
       "        if (!display || display === 'none') {{\n",
       "            console.log([gd, 'removed!']);\n",
       "            Plotly.purge(gd);\n",
       "            observer.disconnect();\n",
       "        }}\n",
       "}});\n",
       "\n",
       "// Listen for the removal of the full notebook cells\n",
       "var notebookContainer = gd.closest('#notebook-container');\n",
       "if (notebookContainer) {{\n",
       "    x.observe(notebookContainer, {childList: true});\n",
       "}}\n",
       "\n",
       "// Listen for the clearing of the current output cell\n",
       "var outputEl = gd.closest('.output');\n",
       "if (outputEl) {{\n",
       "    x.observe(outputEl, {childList: true});\n",
       "}}\n",
       "\n",
       "                        })                };                });            </script>        </div>"
      ]
     },
     "metadata": {},
     "output_type": "display_data"
    }
   ],
   "source": [
    "from gtda.diagrams import Scaler\n",
    "\n",
    "scaler = Scaler()\n",
    "digit_scaled = scaler.fit_transform(digit_height_persistence)\n",
    "\n",
    "scaler.plot(digit_scaled)"
   ]
  },
  {
   "cell_type": "code",
   "execution_count": 73,
   "id": "iraqi-facial",
   "metadata": {},
   "outputs": [
    {
     "data": {
      "text/plain": [
       "array([[[2.16666667, 2.33333333, 0.        ],\n",
       "        [2.66666667, 4.66666667, 1.        ]]])"
      ]
     },
     "execution_count": 73,
     "metadata": {},
     "output_type": "execute_result"
    }
   ],
   "source": [
    "digit_scaled"
   ]
  },
  {
   "cell_type": "code",
   "execution_count": 74,
   "id": "immediate-ambassador",
   "metadata": {},
   "outputs": [
    {
     "data": {
      "application/vnd.plotly.v1+json": {
       "config": {
        "plotlyServerURL": "https://plot.ly"
       },
       "data": [
        {
         "hoverinfo": "none",
         "mode": "lines",
         "name": "Layer 1 (H0)",
         "showlegend": true,
         "type": "scatter",
         "x": [
          2.1666666666666665,
          2.1683501683501682,
          2.17003367003367,
          2.1717171717171717,
          2.1734006734006734,
          2.1750841750841747,
          2.1767676767676765,
          2.178451178451178,
          2.18013468013468,
          2.1818181818181817,
          2.1835016835016834,
          2.185185185185185,
          2.186868686868687,
          2.1885521885521886,
          2.1902356902356903,
          2.1919191919191916,
          2.1936026936026933,
          2.195286195286195,
          2.196969696969697,
          2.1986531986531985,
          2.2003367003367003,
          2.202020202020202,
          2.2037037037037037,
          2.2053872053872055,
          2.207070707070707,
          2.2087542087542085,
          2.21043771043771,
          2.212121212121212,
          2.2138047138047137,
          2.2154882154882154,
          2.217171717171717,
          2.218855218855219,
          2.2205387205387206,
          2.2222222222222223,
          2.223905723905724,
          2.2255892255892253,
          2.227272727272727,
          2.228956228956229,
          2.2306397306397305,
          2.2323232323232323,
          2.234006734006734,
          2.2356902356902357,
          2.2373737373737375,
          2.239057239057239,
          2.240740740740741,
          2.242424242424242,
          2.244107744107744,
          2.2457912457912457,
          2.2474747474747474,
          2.249158249158249,
          2.250841750841751,
          2.2525252525252526,
          2.2542087542087543,
          2.255892255892256,
          2.257575757575758,
          2.259259259259259,
          2.260942760942761,
          2.2626262626262625,
          2.2643097643097643,
          2.265993265993266,
          2.2676767676767677,
          2.2693602693602695,
          2.271043771043771,
          2.272727272727273,
          2.2744107744107747,
          2.276094276094276,
          2.2777777777777777,
          2.2794612794612794,
          2.281144781144781,
          2.282828282828283,
          2.2845117845117846,
          2.2861952861952863,
          2.287878787878788,
          2.28956228956229,
          2.2912457912457915,
          2.292929292929293,
          2.2946127946127945,
          2.2962962962962963,
          2.297979797979798,
          2.2996632996632997,
          2.3013468013468015,
          2.303030303030303,
          2.304713804713805,
          2.3063973063973067,
          2.308080808080808,
          2.3097643097643097,
          2.3114478114478114,
          2.313131313131313,
          2.314814814814815,
          2.3164983164983166,
          2.3181818181818183,
          2.31986531986532,
          2.321548821548822,
          2.3232323232323235,
          2.3249158249158253,
          2.3265993265993266,
          2.3282828282828283,
          2.32996632996633,
          2.3316498316498318,
          2.3333333333333335
         ],
         "xaxis": "x",
         "y": [
          0,
          0.0016835016835017313,
          0.0033670033670034627,
          0.005050505050505194,
          0.006734006734006925,
          0.008417508417508213,
          0.010101010101009944,
          0.011784511784511675,
          0.013468013468013407,
          0.015151515151515138,
          0.01683501683501687,
          0.0185185185185186,
          0.020202020202020332,
          0.021885521885522063,
          0.023569023569023795,
          0.025252525252525082,
          0.026936026936026813,
          0.028619528619528545,
          0.030303030303030276,
          0.03198653198653201,
          0.03367003367003374,
          0.03535353535353547,
          0.0370370370370372,
          0.03872053872053893,
          0.040404040404040664,
          0.04208754208754195,
          0.04377104377104368,
          0.045454545454545414,
          0.047138047138047146,
          0.04882154882154888,
          0.05050505050505061,
          0.05218855218855234,
          0.05387205387205407,
          0.0555555555555558,
          0.057239057239057534,
          0.05892255892255882,
          0.06060606060606055,
          0.062289562289562284,
          0.06397306397306401,
          0.06565656565656575,
          0.06734006734006748,
          0.06902356902356921,
          0.07070707070707094,
          0.07239057239057267,
          0.0740740740740744,
          0.07575757575757569,
          0.07744107744107742,
          0.07912457912457915,
          0.08080808080808088,
          0.08249158249158262,
          0.08249158249158262,
          0.08080808080808088,
          0.07912457912457915,
          0.07744107744107742,
          0.07575757575757569,
          0.0740740740740744,
          0.07239057239057267,
          0.07070707070707094,
          0.06902356902356921,
          0.06734006734006748,
          0.06565656565656575,
          0.06397306397306401,
          0.062289562289562284,
          0.06060606060606055,
          0.05892255892255882,
          0.057239057239057534,
          0.0555555555555558,
          0.05387205387205407,
          0.05218855218855234,
          0.05050505050505061,
          0.04882154882154888,
          0.047138047138047146,
          0.045454545454545414,
          0.04377104377104368,
          0.04208754208754195,
          0.040404040404040664,
          0.03872053872053893,
          0.0370370370370372,
          0.03535353535353547,
          0.03367003367003374,
          0.03198653198653201,
          0.030303030303030276,
          0.028619528619528545,
          0.026936026936026813,
          0.025252525252525526,
          0.023569023569023795,
          0.021885521885522063,
          0.020202020202020332,
          0.0185185185185186,
          0.01683501683501687,
          0.015151515151515138,
          0.013468013468013407,
          0.011784511784511675,
          0.010101010101009944,
          0.008417508417508213,
          0.006734006734006925,
          0.005050505050505194,
          0.0033670033670034627,
          0.0016835016835017313,
          0
         ],
         "yaxis": "y"
        },
        {
         "hoverinfo": "none",
         "mode": "lines",
         "name": "Layer 1 (H1)",
         "showlegend": true,
         "type": "scatter",
         "x": [
          2.6666666666666665,
          2.686868686868687,
          2.7070707070707067,
          2.727272727272727,
          2.7474747474747474,
          2.7676767676767677,
          2.7878787878787876,
          2.808080808080808,
          2.8282828282828283,
          2.8484848484848486,
          2.8686868686868685,
          2.888888888888889,
          2.909090909090909,
          2.929292929292929,
          2.9494949494949494,
          2.9696969696969697,
          2.9898989898989896,
          3.01010101010101,
          3.0303030303030303,
          3.0505050505050506,
          3.0707070707070705,
          3.090909090909091,
          3.111111111111111,
          3.1313131313131315,
          3.1515151515151514,
          3.1717171717171717,
          3.191919191919192,
          3.212121212121212,
          3.2323232323232323,
          3.2525252525252526,
          3.2727272727272725,
          3.292929292929293,
          3.313131313131313,
          3.3333333333333335,
          3.353535353535354,
          3.3737373737373737,
          3.393939393939394,
          3.4141414141414144,
          3.4343434343434343,
          3.4545454545454546,
          3.474747474747475,
          3.494949494949495,
          3.515151515151515,
          3.5353535353535355,
          3.5555555555555554,
          3.5757575757575757,
          3.595959595959596,
          3.6161616161616164,
          3.6363636363636367,
          3.6565656565656566,
          3.676767676767677,
          3.6969696969696972,
          3.717171717171717,
          3.7373737373737375,
          3.757575757575758,
          3.7777777777777777,
          3.797979797979798,
          3.8181818181818183,
          3.8383838383838382,
          3.858585858585859,
          3.878787878787879,
          3.8989898989898992,
          3.9191919191919196,
          3.9393939393939394,
          3.95959595959596,
          3.97979797979798,
          4,
          4.020202020202021,
          4.040404040404041,
          4.0606060606060606,
          4.080808080808081,
          4.101010101010101,
          4.121212121212121,
          4.141414141414142,
          4.161616161616162,
          4.181818181818182,
          4.202020202020202,
          4.222222222222222,
          4.242424242424242,
          4.262626262626263,
          4.282828282828283,
          4.303030303030303,
          4.3232323232323235,
          4.343434343434343,
          4.363636363636364,
          4.383838383838384,
          4.404040404040405,
          4.424242424242425,
          4.444444444444445,
          4.464646464646465,
          4.484848484848485,
          4.505050505050505,
          4.525252525252526,
          4.545454545454546,
          4.565656565656566,
          4.5858585858585865,
          4.606060606060606,
          4.626262626262626,
          4.646464646464647,
          4.666666666666667
         ],
         "xaxis": "x2",
         "y": [
          0,
          0.02020202020202011,
          0.04040404040404,
          0.06060606060606033,
          0.08080808080808066,
          0.101010101010101,
          0.12121212121212088,
          0.14141414141414121,
          0.16161616161616155,
          0.18181818181818188,
          0.20202020202020177,
          0.2222222222222221,
          0.24242424242424243,
          0.2626262626262623,
          0.28282828282828265,
          0.303030303030303,
          0.32323232323232287,
          0.3434343434343432,
          0.36363636363636354,
          0.38383838383838387,
          0.40404040404040376,
          0.4242424242424241,
          0.4444444444444444,
          0.46464646464646475,
          0.48484848484848464,
          0.505050505050505,
          0.5252525252525253,
          0.5454545454545452,
          0.5656565656565655,
          0.5858585858585859,
          0.6060606060606057,
          0.6262626262626261,
          0.6464646464646464,
          0.6666666666666667,
          0.6868686868686871,
          0.707070707070707,
          0.7272727272727273,
          0.7474747474747476,
          0.7676767676767675,
          0.7878787878787878,
          0.8080808080808082,
          0.8282828282828281,
          0.8484848484848484,
          0.8686868686868687,
          0.8888888888888886,
          0.909090909090909,
          0.9292929292929293,
          0.9494949494949496,
          0.96969696969697,
          0.9898989898989898,
          0.9898989898989903,
          0.96969696969697,
          0.9494949494949501,
          0.9292929292929297,
          0.9090909090909094,
          0.8888888888888895,
          0.8686868686868692,
          0.8484848484848488,
          0.828282828282829,
          0.8080808080808082,
          0.7878787878787883,
          0.767676767676768,
          0.7474747474747476,
          0.7272727272727277,
          0.7070707070707074,
          0.6868686868686871,
          0.6666666666666672,
          0.6464646464646464,
          0.6262626262626265,
          0.6060606060606066,
          0.5858585858585859,
          0.565656565656566,
          0.5454545454545461,
          0.5252525252525253,
          0.5050505050505054,
          0.48484848484848553,
          0.46464646464646475,
          0.44444444444444486,
          0.424242424242425,
          0.4040404040404042,
          0.3838383838383843,
          0.3636363636363644,
          0.34343434343434365,
          0.32323232323232376,
          0.303030303030303,
          0.2828282828282831,
          0.2626262626262623,
          0.24242424242424243,
          0.22222222222222254,
          0.20202020202020177,
          0.18181818181818188,
          0.161616161616162,
          0.14141414141414121,
          0.12121212121212133,
          0.10101010101010144,
          0.08080808080808066,
          0.060606060606060774,
          0.040404040404040886,
          0.02020202020202011,
          2.220446049250313e-16
         ],
         "yaxis": "y2"
        }
       ],
       "layout": {
        "annotations": [
         {
          "font": {
           "size": 16
          },
          "showarrow": false,
          "text": "H0",
          "x": 0.5,
          "xanchor": "center",
          "xref": "paper",
          "y": 1,
          "yanchor": "bottom",
          "yref": "paper"
         },
         {
          "font": {
           "size": 16
          },
          "showarrow": false,
          "text": "H1",
          "x": 0.5,
          "xanchor": "center",
          "xref": "paper",
          "y": 0.375,
          "yanchor": "bottom",
          "yref": "paper"
         }
        ],
        "plot_bgcolor": "white",
        "template": {
         "data": {
          "bar": [
           {
            "error_x": {
             "color": "#2a3f5f"
            },
            "error_y": {
             "color": "#2a3f5f"
            },
            "marker": {
             "line": {
              "color": "#E5ECF6",
              "width": 0.5
             }
            },
            "type": "bar"
           }
          ],
          "barpolar": [
           {
            "marker": {
             "line": {
              "color": "#E5ECF6",
              "width": 0.5
             }
            },
            "type": "barpolar"
           }
          ],
          "carpet": [
           {
            "aaxis": {
             "endlinecolor": "#2a3f5f",
             "gridcolor": "white",
             "linecolor": "white",
             "minorgridcolor": "white",
             "startlinecolor": "#2a3f5f"
            },
            "baxis": {
             "endlinecolor": "#2a3f5f",
             "gridcolor": "white",
             "linecolor": "white",
             "minorgridcolor": "white",
             "startlinecolor": "#2a3f5f"
            },
            "type": "carpet"
           }
          ],
          "choropleth": [
           {
            "colorbar": {
             "outlinewidth": 0,
             "ticks": ""
            },
            "type": "choropleth"
           }
          ],
          "contour": [
           {
            "colorbar": {
             "outlinewidth": 0,
             "ticks": ""
            },
            "colorscale": [
             [
              0,
              "#0d0887"
             ],
             [
              0.1111111111111111,
              "#46039f"
             ],
             [
              0.2222222222222222,
              "#7201a8"
             ],
             [
              0.3333333333333333,
              "#9c179e"
             ],
             [
              0.4444444444444444,
              "#bd3786"
             ],
             [
              0.5555555555555556,
              "#d8576b"
             ],
             [
              0.6666666666666666,
              "#ed7953"
             ],
             [
              0.7777777777777778,
              "#fb9f3a"
             ],
             [
              0.8888888888888888,
              "#fdca26"
             ],
             [
              1,
              "#f0f921"
             ]
            ],
            "type": "contour"
           }
          ],
          "contourcarpet": [
           {
            "colorbar": {
             "outlinewidth": 0,
             "ticks": ""
            },
            "type": "contourcarpet"
           }
          ],
          "heatmap": [
           {
            "colorbar": {
             "outlinewidth": 0,
             "ticks": ""
            },
            "colorscale": [
             [
              0,
              "#0d0887"
             ],
             [
              0.1111111111111111,
              "#46039f"
             ],
             [
              0.2222222222222222,
              "#7201a8"
             ],
             [
              0.3333333333333333,
              "#9c179e"
             ],
             [
              0.4444444444444444,
              "#bd3786"
             ],
             [
              0.5555555555555556,
              "#d8576b"
             ],
             [
              0.6666666666666666,
              "#ed7953"
             ],
             [
              0.7777777777777778,
              "#fb9f3a"
             ],
             [
              0.8888888888888888,
              "#fdca26"
             ],
             [
              1,
              "#f0f921"
             ]
            ],
            "type": "heatmap"
           }
          ],
          "heatmapgl": [
           {
            "colorbar": {
             "outlinewidth": 0,
             "ticks": ""
            },
            "colorscale": [
             [
              0,
              "#0d0887"
             ],
             [
              0.1111111111111111,
              "#46039f"
             ],
             [
              0.2222222222222222,
              "#7201a8"
             ],
             [
              0.3333333333333333,
              "#9c179e"
             ],
             [
              0.4444444444444444,
              "#bd3786"
             ],
             [
              0.5555555555555556,
              "#d8576b"
             ],
             [
              0.6666666666666666,
              "#ed7953"
             ],
             [
              0.7777777777777778,
              "#fb9f3a"
             ],
             [
              0.8888888888888888,
              "#fdca26"
             ],
             [
              1,
              "#f0f921"
             ]
            ],
            "type": "heatmapgl"
           }
          ],
          "histogram": [
           {
            "marker": {
             "colorbar": {
              "outlinewidth": 0,
              "ticks": ""
             }
            },
            "type": "histogram"
           }
          ],
          "histogram2d": [
           {
            "colorbar": {
             "outlinewidth": 0,
             "ticks": ""
            },
            "colorscale": [
             [
              0,
              "#0d0887"
             ],
             [
              0.1111111111111111,
              "#46039f"
             ],
             [
              0.2222222222222222,
              "#7201a8"
             ],
             [
              0.3333333333333333,
              "#9c179e"
             ],
             [
              0.4444444444444444,
              "#bd3786"
             ],
             [
              0.5555555555555556,
              "#d8576b"
             ],
             [
              0.6666666666666666,
              "#ed7953"
             ],
             [
              0.7777777777777778,
              "#fb9f3a"
             ],
             [
              0.8888888888888888,
              "#fdca26"
             ],
             [
              1,
              "#f0f921"
             ]
            ],
            "type": "histogram2d"
           }
          ],
          "histogram2dcontour": [
           {
            "colorbar": {
             "outlinewidth": 0,
             "ticks": ""
            },
            "colorscale": [
             [
              0,
              "#0d0887"
             ],
             [
              0.1111111111111111,
              "#46039f"
             ],
             [
              0.2222222222222222,
              "#7201a8"
             ],
             [
              0.3333333333333333,
              "#9c179e"
             ],
             [
              0.4444444444444444,
              "#bd3786"
             ],
             [
              0.5555555555555556,
              "#d8576b"
             ],
             [
              0.6666666666666666,
              "#ed7953"
             ],
             [
              0.7777777777777778,
              "#fb9f3a"
             ],
             [
              0.8888888888888888,
              "#fdca26"
             ],
             [
              1,
              "#f0f921"
             ]
            ],
            "type": "histogram2dcontour"
           }
          ],
          "mesh3d": [
           {
            "colorbar": {
             "outlinewidth": 0,
             "ticks": ""
            },
            "type": "mesh3d"
           }
          ],
          "parcoords": [
           {
            "line": {
             "colorbar": {
              "outlinewidth": 0,
              "ticks": ""
             }
            },
            "type": "parcoords"
           }
          ],
          "pie": [
           {
            "automargin": true,
            "type": "pie"
           }
          ],
          "scatter": [
           {
            "marker": {
             "colorbar": {
              "outlinewidth": 0,
              "ticks": ""
             }
            },
            "type": "scatter"
           }
          ],
          "scatter3d": [
           {
            "line": {
             "colorbar": {
              "outlinewidth": 0,
              "ticks": ""
             }
            },
            "marker": {
             "colorbar": {
              "outlinewidth": 0,
              "ticks": ""
             }
            },
            "type": "scatter3d"
           }
          ],
          "scattercarpet": [
           {
            "marker": {
             "colorbar": {
              "outlinewidth": 0,
              "ticks": ""
             }
            },
            "type": "scattercarpet"
           }
          ],
          "scattergeo": [
           {
            "marker": {
             "colorbar": {
              "outlinewidth": 0,
              "ticks": ""
             }
            },
            "type": "scattergeo"
           }
          ],
          "scattergl": [
           {
            "marker": {
             "colorbar": {
              "outlinewidth": 0,
              "ticks": ""
             }
            },
            "type": "scattergl"
           }
          ],
          "scattermapbox": [
           {
            "marker": {
             "colorbar": {
              "outlinewidth": 0,
              "ticks": ""
             }
            },
            "type": "scattermapbox"
           }
          ],
          "scatterpolar": [
           {
            "marker": {
             "colorbar": {
              "outlinewidth": 0,
              "ticks": ""
             }
            },
            "type": "scatterpolar"
           }
          ],
          "scatterpolargl": [
           {
            "marker": {
             "colorbar": {
              "outlinewidth": 0,
              "ticks": ""
             }
            },
            "type": "scatterpolargl"
           }
          ],
          "scatterternary": [
           {
            "marker": {
             "colorbar": {
              "outlinewidth": 0,
              "ticks": ""
             }
            },
            "type": "scatterternary"
           }
          ],
          "surface": [
           {
            "colorbar": {
             "outlinewidth": 0,
             "ticks": ""
            },
            "colorscale": [
             [
              0,
              "#0d0887"
             ],
             [
              0.1111111111111111,
              "#46039f"
             ],
             [
              0.2222222222222222,
              "#7201a8"
             ],
             [
              0.3333333333333333,
              "#9c179e"
             ],
             [
              0.4444444444444444,
              "#bd3786"
             ],
             [
              0.5555555555555556,
              "#d8576b"
             ],
             [
              0.6666666666666666,
              "#ed7953"
             ],
             [
              0.7777777777777778,
              "#fb9f3a"
             ],
             [
              0.8888888888888888,
              "#fdca26"
             ],
             [
              1,
              "#f0f921"
             ]
            ],
            "type": "surface"
           }
          ],
          "table": [
           {
            "cells": {
             "fill": {
              "color": "#EBF0F8"
             },
             "line": {
              "color": "white"
             }
            },
            "header": {
             "fill": {
              "color": "#C8D4E3"
             },
             "line": {
              "color": "white"
             }
            },
            "type": "table"
           }
          ]
         },
         "layout": {
          "annotationdefaults": {
           "arrowcolor": "#2a3f5f",
           "arrowhead": 0,
           "arrowwidth": 1
          },
          "autotypenumbers": "strict",
          "coloraxis": {
           "colorbar": {
            "outlinewidth": 0,
            "ticks": ""
           }
          },
          "colorscale": {
           "diverging": [
            [
             0,
             "#8e0152"
            ],
            [
             0.1,
             "#c51b7d"
            ],
            [
             0.2,
             "#de77ae"
            ],
            [
             0.3,
             "#f1b6da"
            ],
            [
             0.4,
             "#fde0ef"
            ],
            [
             0.5,
             "#f7f7f7"
            ],
            [
             0.6,
             "#e6f5d0"
            ],
            [
             0.7,
             "#b8e186"
            ],
            [
             0.8,
             "#7fbc41"
            ],
            [
             0.9,
             "#4d9221"
            ],
            [
             1,
             "#276419"
            ]
           ],
           "sequential": [
            [
             0,
             "#0d0887"
            ],
            [
             0.1111111111111111,
             "#46039f"
            ],
            [
             0.2222222222222222,
             "#7201a8"
            ],
            [
             0.3333333333333333,
             "#9c179e"
            ],
            [
             0.4444444444444444,
             "#bd3786"
            ],
            [
             0.5555555555555556,
             "#d8576b"
            ],
            [
             0.6666666666666666,
             "#ed7953"
            ],
            [
             0.7777777777777778,
             "#fb9f3a"
            ],
            [
             0.8888888888888888,
             "#fdca26"
            ],
            [
             1,
             "#f0f921"
            ]
           ],
           "sequentialminus": [
            [
             0,
             "#0d0887"
            ],
            [
             0.1111111111111111,
             "#46039f"
            ],
            [
             0.2222222222222222,
             "#7201a8"
            ],
            [
             0.3333333333333333,
             "#9c179e"
            ],
            [
             0.4444444444444444,
             "#bd3786"
            ],
            [
             0.5555555555555556,
             "#d8576b"
            ],
            [
             0.6666666666666666,
             "#ed7953"
            ],
            [
             0.7777777777777778,
             "#fb9f3a"
            ],
            [
             0.8888888888888888,
             "#fdca26"
            ],
            [
             1,
             "#f0f921"
            ]
           ]
          },
          "colorway": [
           "#636efa",
           "#EF553B",
           "#00cc96",
           "#ab63fa",
           "#FFA15A",
           "#19d3f3",
           "#FF6692",
           "#B6E880",
           "#FF97FF",
           "#FECB52"
          ],
          "font": {
           "color": "#2a3f5f"
          },
          "geo": {
           "bgcolor": "white",
           "lakecolor": "white",
           "landcolor": "#E5ECF6",
           "showlakes": true,
           "showland": true,
           "subunitcolor": "white"
          },
          "hoverlabel": {
           "align": "left"
          },
          "hovermode": "closest",
          "mapbox": {
           "style": "light"
          },
          "paper_bgcolor": "white",
          "plot_bgcolor": "#E5ECF6",
          "polar": {
           "angularaxis": {
            "gridcolor": "white",
            "linecolor": "white",
            "ticks": ""
           },
           "bgcolor": "#E5ECF6",
           "radialaxis": {
            "gridcolor": "white",
            "linecolor": "white",
            "ticks": ""
           }
          },
          "scene": {
           "xaxis": {
            "backgroundcolor": "#E5ECF6",
            "gridcolor": "white",
            "gridwidth": 2,
            "linecolor": "white",
            "showbackground": true,
            "ticks": "",
            "zerolinecolor": "white"
           },
           "yaxis": {
            "backgroundcolor": "#E5ECF6",
            "gridcolor": "white",
            "gridwidth": 2,
            "linecolor": "white",
            "showbackground": true,
            "ticks": "",
            "zerolinecolor": "white"
           },
           "zaxis": {
            "backgroundcolor": "#E5ECF6",
            "gridcolor": "white",
            "gridwidth": 2,
            "linecolor": "white",
            "showbackground": true,
            "ticks": "",
            "zerolinecolor": "white"
           }
          },
          "shapedefaults": {
           "line": {
            "color": "#2a3f5f"
           }
          },
          "ternary": {
           "aaxis": {
            "gridcolor": "white",
            "linecolor": "white",
            "ticks": ""
           },
           "baxis": {
            "gridcolor": "white",
            "linecolor": "white",
            "ticks": ""
           },
           "bgcolor": "#E5ECF6",
           "caxis": {
            "gridcolor": "white",
            "linecolor": "white",
            "ticks": ""
           }
          },
          "title": {
           "x": 0.05
          },
          "xaxis": {
           "automargin": true,
           "gridcolor": "white",
           "linecolor": "white",
           "ticks": "",
           "title": {
            "standoff": 15
           },
           "zerolinecolor": "white",
           "zerolinewidth": 2
          },
          "yaxis": {
           "automargin": true,
           "gridcolor": "white",
           "linecolor": "white",
           "ticks": "",
           "title": {
            "standoff": 15
           },
           "zerolinecolor": "white",
           "zerolinewidth": 2
          }
         }
        },
        "title": {
         "text": "Landscape representations of diagram 0"
        },
        "xaxis": {
         "anchor": "y",
         "domain": [
          0,
          1
         ],
         "exponentformat": "e",
         "linecolor": "black",
         "linewidth": 1,
         "mirror": false,
         "showexponent": "all",
         "showline": true,
         "side": "bottom",
         "ticks": "outside",
         "type": "linear",
         "zeroline": true
        },
        "xaxis2": {
         "anchor": "y2",
         "domain": [
          0,
          1
         ]
        },
        "yaxis": {
         "anchor": "x",
         "domain": [
          0.625,
          1
         ],
         "exponentformat": "e",
         "linecolor": "black",
         "linewidth": 1,
         "mirror": false,
         "showexponent": "all",
         "showline": true,
         "side": "left",
         "ticks": "outside",
         "type": "linear",
         "zeroline": true
        },
        "yaxis2": {
         "anchor": "x2",
         "domain": [
          0,
          0.375
         ]
        }
       }
      },
      "text/html": [
       "<div>                            <div id=\"76512c36-4e2c-4bd8-be36-d33e37a58724\" class=\"plotly-graph-div\" style=\"height:525px; width:100%;\"></div>            <script type=\"text/javascript\">                require([\"plotly\"], function(Plotly) {                    window.PLOTLYENV=window.PLOTLYENV || {};                                    if (document.getElementById(\"76512c36-4e2c-4bd8-be36-d33e37a58724\")) {                    Plotly.newPlot(                        \"76512c36-4e2c-4bd8-be36-d33e37a58724\",                        [{\"hoverinfo\": \"none\", \"mode\": \"lines\", \"name\": \"Layer 1 (H0)\", \"showlegend\": true, \"type\": \"scatter\", \"x\": [2.1666666666666665, 2.1683501683501682, 2.17003367003367, 2.1717171717171717, 2.1734006734006734, 2.1750841750841747, 2.1767676767676765, 2.178451178451178, 2.18013468013468, 2.1818181818181817, 2.1835016835016834, 2.185185185185185, 2.186868686868687, 2.1885521885521886, 2.1902356902356903, 2.1919191919191916, 2.1936026936026933, 2.195286195286195, 2.196969696969697, 2.1986531986531985, 2.2003367003367003, 2.202020202020202, 2.2037037037037037, 2.2053872053872055, 2.207070707070707, 2.2087542087542085, 2.21043771043771, 2.212121212121212, 2.2138047138047137, 2.2154882154882154, 2.217171717171717, 2.218855218855219, 2.2205387205387206, 2.2222222222222223, 2.223905723905724, 2.2255892255892253, 2.227272727272727, 2.228956228956229, 2.2306397306397305, 2.2323232323232323, 2.234006734006734, 2.2356902356902357, 2.2373737373737375, 2.239057239057239, 2.240740740740741, 2.242424242424242, 2.244107744107744, 2.2457912457912457, 2.2474747474747474, 2.249158249158249, 2.250841750841751, 2.2525252525252526, 2.2542087542087543, 2.255892255892256, 2.257575757575758, 2.259259259259259, 2.260942760942761, 2.2626262626262625, 2.2643097643097643, 2.265993265993266, 2.2676767676767677, 2.2693602693602695, 2.271043771043771, 2.272727272727273, 2.2744107744107747, 2.276094276094276, 2.2777777777777777, 2.2794612794612794, 2.281144781144781, 2.282828282828283, 2.2845117845117846, 2.2861952861952863, 2.287878787878788, 2.28956228956229, 2.2912457912457915, 2.292929292929293, 2.2946127946127945, 2.2962962962962963, 2.297979797979798, 2.2996632996632997, 2.3013468013468015, 2.303030303030303, 2.304713804713805, 2.3063973063973067, 2.308080808080808, 2.3097643097643097, 2.3114478114478114, 2.313131313131313, 2.314814814814815, 2.3164983164983166, 2.3181818181818183, 2.31986531986532, 2.321548821548822, 2.3232323232323235, 2.3249158249158253, 2.3265993265993266, 2.3282828282828283, 2.32996632996633, 2.3316498316498318, 2.3333333333333335], \"xaxis\": \"x\", \"y\": [0.0, 0.0016835016835017313, 0.0033670033670034627, 0.005050505050505194, 0.006734006734006925, 0.008417508417508213, 0.010101010101009944, 0.011784511784511675, 0.013468013468013407, 0.015151515151515138, 0.01683501683501687, 0.0185185185185186, 0.020202020202020332, 0.021885521885522063, 0.023569023569023795, 0.025252525252525082, 0.026936026936026813, 0.028619528619528545, 0.030303030303030276, 0.03198653198653201, 0.03367003367003374, 0.03535353535353547, 0.0370370370370372, 0.03872053872053893, 0.040404040404040664, 0.04208754208754195, 0.04377104377104368, 0.045454545454545414, 0.047138047138047146, 0.04882154882154888, 0.05050505050505061, 0.05218855218855234, 0.05387205387205407, 0.0555555555555558, 0.057239057239057534, 0.05892255892255882, 0.06060606060606055, 0.062289562289562284, 0.06397306397306401, 0.06565656565656575, 0.06734006734006748, 0.06902356902356921, 0.07070707070707094, 0.07239057239057267, 0.0740740740740744, 0.07575757575757569, 0.07744107744107742, 0.07912457912457915, 0.08080808080808088, 0.08249158249158262, 0.08249158249158262, 0.08080808080808088, 0.07912457912457915, 0.07744107744107742, 0.07575757575757569, 0.0740740740740744, 0.07239057239057267, 0.07070707070707094, 0.06902356902356921, 0.06734006734006748, 0.06565656565656575, 0.06397306397306401, 0.062289562289562284, 0.06060606060606055, 0.05892255892255882, 0.057239057239057534, 0.0555555555555558, 0.05387205387205407, 0.05218855218855234, 0.05050505050505061, 0.04882154882154888, 0.047138047138047146, 0.045454545454545414, 0.04377104377104368, 0.04208754208754195, 0.040404040404040664, 0.03872053872053893, 0.0370370370370372, 0.03535353535353547, 0.03367003367003374, 0.03198653198653201, 0.030303030303030276, 0.028619528619528545, 0.026936026936026813, 0.025252525252525526, 0.023569023569023795, 0.021885521885522063, 0.020202020202020332, 0.0185185185185186, 0.01683501683501687, 0.015151515151515138, 0.013468013468013407, 0.011784511784511675, 0.010101010101009944, 0.008417508417508213, 0.006734006734006925, 0.005050505050505194, 0.0033670033670034627, 0.0016835016835017313, 0.0], \"yaxis\": \"y\"}, {\"hoverinfo\": \"none\", \"mode\": \"lines\", \"name\": \"Layer 1 (H1)\", \"showlegend\": true, \"type\": \"scatter\", \"x\": [2.6666666666666665, 2.686868686868687, 2.7070707070707067, 2.727272727272727, 2.7474747474747474, 2.7676767676767677, 2.7878787878787876, 2.808080808080808, 2.8282828282828283, 2.8484848484848486, 2.8686868686868685, 2.888888888888889, 2.909090909090909, 2.929292929292929, 2.9494949494949494, 2.9696969696969697, 2.9898989898989896, 3.01010101010101, 3.0303030303030303, 3.0505050505050506, 3.0707070707070705, 3.090909090909091, 3.111111111111111, 3.1313131313131315, 3.1515151515151514, 3.1717171717171717, 3.191919191919192, 3.212121212121212, 3.2323232323232323, 3.2525252525252526, 3.2727272727272725, 3.292929292929293, 3.313131313131313, 3.3333333333333335, 3.353535353535354, 3.3737373737373737, 3.393939393939394, 3.4141414141414144, 3.4343434343434343, 3.4545454545454546, 3.474747474747475, 3.494949494949495, 3.515151515151515, 3.5353535353535355, 3.5555555555555554, 3.5757575757575757, 3.595959595959596, 3.6161616161616164, 3.6363636363636367, 3.6565656565656566, 3.676767676767677, 3.6969696969696972, 3.717171717171717, 3.7373737373737375, 3.757575757575758, 3.7777777777777777, 3.797979797979798, 3.8181818181818183, 3.8383838383838382, 3.858585858585859, 3.878787878787879, 3.8989898989898992, 3.9191919191919196, 3.9393939393939394, 3.95959595959596, 3.97979797979798, 4.0, 4.020202020202021, 4.040404040404041, 4.0606060606060606, 4.080808080808081, 4.101010101010101, 4.121212121212121, 4.141414141414142, 4.161616161616162, 4.181818181818182, 4.202020202020202, 4.222222222222222, 4.242424242424242, 4.262626262626263, 4.282828282828283, 4.303030303030303, 4.3232323232323235, 4.343434343434343, 4.363636363636364, 4.383838383838384, 4.404040404040405, 4.424242424242425, 4.444444444444445, 4.464646464646465, 4.484848484848485, 4.505050505050505, 4.525252525252526, 4.545454545454546, 4.565656565656566, 4.5858585858585865, 4.606060606060606, 4.626262626262626, 4.646464646464647, 4.666666666666667], \"xaxis\": \"x2\", \"y\": [0.0, 0.02020202020202011, 0.04040404040404, 0.06060606060606033, 0.08080808080808066, 0.101010101010101, 0.12121212121212088, 0.14141414141414121, 0.16161616161616155, 0.18181818181818188, 0.20202020202020177, 0.2222222222222221, 0.24242424242424243, 0.2626262626262623, 0.28282828282828265, 0.303030303030303, 0.32323232323232287, 0.3434343434343432, 0.36363636363636354, 0.38383838383838387, 0.40404040404040376, 0.4242424242424241, 0.4444444444444444, 0.46464646464646475, 0.48484848484848464, 0.505050505050505, 0.5252525252525253, 0.5454545454545452, 0.5656565656565655, 0.5858585858585859, 0.6060606060606057, 0.6262626262626261, 0.6464646464646464, 0.6666666666666667, 0.6868686868686871, 0.707070707070707, 0.7272727272727273, 0.7474747474747476, 0.7676767676767675, 0.7878787878787878, 0.8080808080808082, 0.8282828282828281, 0.8484848484848484, 0.8686868686868687, 0.8888888888888886, 0.909090909090909, 0.9292929292929293, 0.9494949494949496, 0.96969696969697, 0.9898989898989898, 0.9898989898989903, 0.96969696969697, 0.9494949494949501, 0.9292929292929297, 0.9090909090909094, 0.8888888888888895, 0.8686868686868692, 0.8484848484848488, 0.828282828282829, 0.8080808080808082, 0.7878787878787883, 0.767676767676768, 0.7474747474747476, 0.7272727272727277, 0.7070707070707074, 0.6868686868686871, 0.6666666666666672, 0.6464646464646464, 0.6262626262626265, 0.6060606060606066, 0.5858585858585859, 0.565656565656566, 0.5454545454545461, 0.5252525252525253, 0.5050505050505054, 0.48484848484848553, 0.46464646464646475, 0.44444444444444486, 0.424242424242425, 0.4040404040404042, 0.3838383838383843, 0.3636363636363644, 0.34343434343434365, 0.32323232323232376, 0.303030303030303, 0.2828282828282831, 0.2626262626262623, 0.24242424242424243, 0.22222222222222254, 0.20202020202020177, 0.18181818181818188, 0.161616161616162, 0.14141414141414121, 0.12121212121212133, 0.10101010101010144, 0.08080808080808066, 0.060606060606060774, 0.040404040404040886, 0.02020202020202011, 2.220446049250313e-16], \"yaxis\": \"y2\"}],                        {\"annotations\": [{\"font\": {\"size\": 16}, \"showarrow\": false, \"text\": \"H0\", \"x\": 0.5, \"xanchor\": \"center\", \"xref\": \"paper\", \"y\": 1.0, \"yanchor\": \"bottom\", \"yref\": \"paper\"}, {\"font\": {\"size\": 16}, \"showarrow\": false, \"text\": \"H1\", \"x\": 0.5, \"xanchor\": \"center\", \"xref\": \"paper\", \"y\": 0.375, \"yanchor\": \"bottom\", \"yref\": \"paper\"}], \"plot_bgcolor\": \"white\", \"template\": {\"data\": {\"bar\": [{\"error_x\": {\"color\": \"#2a3f5f\"}, \"error_y\": {\"color\": \"#2a3f5f\"}, \"marker\": {\"line\": {\"color\": \"#E5ECF6\", \"width\": 0.5}}, \"type\": \"bar\"}], \"barpolar\": [{\"marker\": {\"line\": {\"color\": \"#E5ECF6\", \"width\": 0.5}}, \"type\": \"barpolar\"}], \"carpet\": [{\"aaxis\": {\"endlinecolor\": \"#2a3f5f\", \"gridcolor\": \"white\", \"linecolor\": \"white\", \"minorgridcolor\": \"white\", \"startlinecolor\": \"#2a3f5f\"}, \"baxis\": {\"endlinecolor\": \"#2a3f5f\", \"gridcolor\": \"white\", \"linecolor\": \"white\", \"minorgridcolor\": \"white\", \"startlinecolor\": \"#2a3f5f\"}, \"type\": \"carpet\"}], \"choropleth\": [{\"colorbar\": {\"outlinewidth\": 0, \"ticks\": \"\"}, \"type\": \"choropleth\"}], \"contour\": [{\"colorbar\": {\"outlinewidth\": 0, \"ticks\": \"\"}, \"colorscale\": [[0.0, \"#0d0887\"], [0.1111111111111111, \"#46039f\"], [0.2222222222222222, \"#7201a8\"], [0.3333333333333333, \"#9c179e\"], [0.4444444444444444, \"#bd3786\"], [0.5555555555555556, \"#d8576b\"], [0.6666666666666666, \"#ed7953\"], [0.7777777777777778, \"#fb9f3a\"], [0.8888888888888888, \"#fdca26\"], [1.0, \"#f0f921\"]], \"type\": \"contour\"}], \"contourcarpet\": [{\"colorbar\": {\"outlinewidth\": 0, \"ticks\": \"\"}, \"type\": \"contourcarpet\"}], \"heatmap\": [{\"colorbar\": {\"outlinewidth\": 0, \"ticks\": \"\"}, \"colorscale\": [[0.0, \"#0d0887\"], [0.1111111111111111, \"#46039f\"], [0.2222222222222222, \"#7201a8\"], [0.3333333333333333, \"#9c179e\"], [0.4444444444444444, \"#bd3786\"], [0.5555555555555556, \"#d8576b\"], [0.6666666666666666, \"#ed7953\"], [0.7777777777777778, \"#fb9f3a\"], [0.8888888888888888, \"#fdca26\"], [1.0, \"#f0f921\"]], \"type\": \"heatmap\"}], \"heatmapgl\": [{\"colorbar\": {\"outlinewidth\": 0, \"ticks\": \"\"}, \"colorscale\": [[0.0, \"#0d0887\"], [0.1111111111111111, \"#46039f\"], [0.2222222222222222, \"#7201a8\"], [0.3333333333333333, \"#9c179e\"], [0.4444444444444444, \"#bd3786\"], [0.5555555555555556, \"#d8576b\"], [0.6666666666666666, \"#ed7953\"], [0.7777777777777778, \"#fb9f3a\"], [0.8888888888888888, \"#fdca26\"], [1.0, \"#f0f921\"]], \"type\": \"heatmapgl\"}], \"histogram\": [{\"marker\": {\"colorbar\": {\"outlinewidth\": 0, \"ticks\": \"\"}}, \"type\": \"histogram\"}], \"histogram2d\": [{\"colorbar\": {\"outlinewidth\": 0, \"ticks\": \"\"}, \"colorscale\": [[0.0, \"#0d0887\"], [0.1111111111111111, \"#46039f\"], [0.2222222222222222, \"#7201a8\"], [0.3333333333333333, \"#9c179e\"], [0.4444444444444444, \"#bd3786\"], [0.5555555555555556, \"#d8576b\"], [0.6666666666666666, \"#ed7953\"], [0.7777777777777778, \"#fb9f3a\"], [0.8888888888888888, \"#fdca26\"], [1.0, \"#f0f921\"]], \"type\": \"histogram2d\"}], \"histogram2dcontour\": [{\"colorbar\": {\"outlinewidth\": 0, \"ticks\": \"\"}, \"colorscale\": [[0.0, \"#0d0887\"], [0.1111111111111111, \"#46039f\"], [0.2222222222222222, \"#7201a8\"], [0.3333333333333333, \"#9c179e\"], [0.4444444444444444, \"#bd3786\"], [0.5555555555555556, \"#d8576b\"], [0.6666666666666666, \"#ed7953\"], [0.7777777777777778, \"#fb9f3a\"], [0.8888888888888888, \"#fdca26\"], [1.0, \"#f0f921\"]], \"type\": \"histogram2dcontour\"}], \"mesh3d\": [{\"colorbar\": {\"outlinewidth\": 0, \"ticks\": \"\"}, \"type\": \"mesh3d\"}], \"parcoords\": [{\"line\": {\"colorbar\": {\"outlinewidth\": 0, \"ticks\": \"\"}}, \"type\": \"parcoords\"}], \"pie\": [{\"automargin\": true, \"type\": \"pie\"}], \"scatter\": [{\"marker\": {\"colorbar\": {\"outlinewidth\": 0, \"ticks\": \"\"}}, \"type\": \"scatter\"}], \"scatter3d\": [{\"line\": {\"colorbar\": {\"outlinewidth\": 0, \"ticks\": \"\"}}, \"marker\": {\"colorbar\": {\"outlinewidth\": 0, \"ticks\": \"\"}}, \"type\": \"scatter3d\"}], \"scattercarpet\": [{\"marker\": {\"colorbar\": {\"outlinewidth\": 0, \"ticks\": \"\"}}, \"type\": \"scattercarpet\"}], \"scattergeo\": [{\"marker\": {\"colorbar\": {\"outlinewidth\": 0, \"ticks\": \"\"}}, \"type\": \"scattergeo\"}], \"scattergl\": [{\"marker\": {\"colorbar\": {\"outlinewidth\": 0, \"ticks\": \"\"}}, \"type\": \"scattergl\"}], \"scattermapbox\": [{\"marker\": {\"colorbar\": {\"outlinewidth\": 0, \"ticks\": \"\"}}, \"type\": \"scattermapbox\"}], \"scatterpolar\": [{\"marker\": {\"colorbar\": {\"outlinewidth\": 0, \"ticks\": \"\"}}, \"type\": \"scatterpolar\"}], \"scatterpolargl\": [{\"marker\": {\"colorbar\": {\"outlinewidth\": 0, \"ticks\": \"\"}}, \"type\": \"scatterpolargl\"}], \"scatterternary\": [{\"marker\": {\"colorbar\": {\"outlinewidth\": 0, \"ticks\": \"\"}}, \"type\": \"scatterternary\"}], \"surface\": [{\"colorbar\": {\"outlinewidth\": 0, \"ticks\": \"\"}, \"colorscale\": [[0.0, \"#0d0887\"], [0.1111111111111111, \"#46039f\"], [0.2222222222222222, \"#7201a8\"], [0.3333333333333333, \"#9c179e\"], [0.4444444444444444, \"#bd3786\"], [0.5555555555555556, \"#d8576b\"], [0.6666666666666666, \"#ed7953\"], [0.7777777777777778, \"#fb9f3a\"], [0.8888888888888888, \"#fdca26\"], [1.0, \"#f0f921\"]], \"type\": \"surface\"}], \"table\": [{\"cells\": {\"fill\": {\"color\": \"#EBF0F8\"}, \"line\": {\"color\": \"white\"}}, \"header\": {\"fill\": {\"color\": \"#C8D4E3\"}, \"line\": {\"color\": \"white\"}}, \"type\": \"table\"}]}, \"layout\": {\"annotationdefaults\": {\"arrowcolor\": \"#2a3f5f\", \"arrowhead\": 0, \"arrowwidth\": 1}, \"autotypenumbers\": \"strict\", \"coloraxis\": {\"colorbar\": {\"outlinewidth\": 0, \"ticks\": \"\"}}, \"colorscale\": {\"diverging\": [[0, \"#8e0152\"], [0.1, \"#c51b7d\"], [0.2, \"#de77ae\"], [0.3, \"#f1b6da\"], [0.4, \"#fde0ef\"], [0.5, \"#f7f7f7\"], [0.6, \"#e6f5d0\"], [0.7, \"#b8e186\"], [0.8, \"#7fbc41\"], [0.9, \"#4d9221\"], [1, \"#276419\"]], \"sequential\": [[0.0, \"#0d0887\"], [0.1111111111111111, \"#46039f\"], [0.2222222222222222, \"#7201a8\"], [0.3333333333333333, \"#9c179e\"], [0.4444444444444444, \"#bd3786\"], [0.5555555555555556, \"#d8576b\"], [0.6666666666666666, \"#ed7953\"], [0.7777777777777778, \"#fb9f3a\"], [0.8888888888888888, \"#fdca26\"], [1.0, \"#f0f921\"]], \"sequentialminus\": [[0.0, \"#0d0887\"], [0.1111111111111111, \"#46039f\"], [0.2222222222222222, \"#7201a8\"], [0.3333333333333333, \"#9c179e\"], [0.4444444444444444, \"#bd3786\"], [0.5555555555555556, \"#d8576b\"], [0.6666666666666666, \"#ed7953\"], [0.7777777777777778, \"#fb9f3a\"], [0.8888888888888888, \"#fdca26\"], [1.0, \"#f0f921\"]]}, \"colorway\": [\"#636efa\", \"#EF553B\", \"#00cc96\", \"#ab63fa\", \"#FFA15A\", \"#19d3f3\", \"#FF6692\", \"#B6E880\", \"#FF97FF\", \"#FECB52\"], \"font\": {\"color\": \"#2a3f5f\"}, \"geo\": {\"bgcolor\": \"white\", \"lakecolor\": \"white\", \"landcolor\": \"#E5ECF6\", \"showlakes\": true, \"showland\": true, \"subunitcolor\": \"white\"}, \"hoverlabel\": {\"align\": \"left\"}, \"hovermode\": \"closest\", \"mapbox\": {\"style\": \"light\"}, \"paper_bgcolor\": \"white\", \"plot_bgcolor\": \"#E5ECF6\", \"polar\": {\"angularaxis\": {\"gridcolor\": \"white\", \"linecolor\": \"white\", \"ticks\": \"\"}, \"bgcolor\": \"#E5ECF6\", \"radialaxis\": {\"gridcolor\": \"white\", \"linecolor\": \"white\", \"ticks\": \"\"}}, \"scene\": {\"xaxis\": {\"backgroundcolor\": \"#E5ECF6\", \"gridcolor\": \"white\", \"gridwidth\": 2, \"linecolor\": \"white\", \"showbackground\": true, \"ticks\": \"\", \"zerolinecolor\": \"white\"}, \"yaxis\": {\"backgroundcolor\": \"#E5ECF6\", \"gridcolor\": \"white\", \"gridwidth\": 2, \"linecolor\": \"white\", \"showbackground\": true, \"ticks\": \"\", \"zerolinecolor\": \"white\"}, \"zaxis\": {\"backgroundcolor\": \"#E5ECF6\", \"gridcolor\": \"white\", \"gridwidth\": 2, \"linecolor\": \"white\", \"showbackground\": true, \"ticks\": \"\", \"zerolinecolor\": \"white\"}}, \"shapedefaults\": {\"line\": {\"color\": \"#2a3f5f\"}}, \"ternary\": {\"aaxis\": {\"gridcolor\": \"white\", \"linecolor\": \"white\", \"ticks\": \"\"}, \"baxis\": {\"gridcolor\": \"white\", \"linecolor\": \"white\", \"ticks\": \"\"}, \"bgcolor\": \"#E5ECF6\", \"caxis\": {\"gridcolor\": \"white\", \"linecolor\": \"white\", \"ticks\": \"\"}}, \"title\": {\"x\": 0.05}, \"xaxis\": {\"automargin\": true, \"gridcolor\": \"white\", \"linecolor\": \"white\", \"ticks\": \"\", \"title\": {\"standoff\": 15}, \"zerolinecolor\": \"white\", \"zerolinewidth\": 2}, \"yaxis\": {\"automargin\": true, \"gridcolor\": \"white\", \"linecolor\": \"white\", \"ticks\": \"\", \"title\": {\"standoff\": 15}, \"zerolinecolor\": \"white\", \"zerolinewidth\": 2}}}, \"title\": {\"text\": \"Landscape representations of diagram 0\"}, \"xaxis\": {\"anchor\": \"y\", \"domain\": [0.0, 1.0], \"exponentformat\": \"e\", \"linecolor\": \"black\", \"linewidth\": 1, \"mirror\": false, \"showexponent\": \"all\", \"showline\": true, \"side\": \"bottom\", \"ticks\": \"outside\", \"type\": \"linear\", \"zeroline\": true}, \"xaxis2\": {\"anchor\": \"y2\", \"domain\": [0.0, 1.0]}, \"yaxis\": {\"anchor\": \"x\", \"domain\": [0.625, 1.0], \"exponentformat\": \"e\", \"linecolor\": \"black\", \"linewidth\": 1, \"mirror\": false, \"showexponent\": \"all\", \"showline\": true, \"side\": \"left\", \"ticks\": \"outside\", \"type\": \"linear\", \"zeroline\": true}, \"yaxis2\": {\"anchor\": \"x2\", \"domain\": [0.0, 0.375]}},                        {\"responsive\": true}                    ).then(function(){\n",
       "                            \n",
       "var gd = document.getElementById('76512c36-4e2c-4bd8-be36-d33e37a58724');\n",
       "var x = new MutationObserver(function (mutations, observer) {{\n",
       "        var display = window.getComputedStyle(gd).display;\n",
       "        if (!display || display === 'none') {{\n",
       "            console.log([gd, 'removed!']);\n",
       "            Plotly.purge(gd);\n",
       "            observer.disconnect();\n",
       "        }}\n",
       "}});\n",
       "\n",
       "// Listen for the removal of the full notebook cells\n",
       "var notebookContainer = gd.closest('#notebook-container');\n",
       "if (notebookContainer) {{\n",
       "    x.observe(notebookContainer, {childList: true});\n",
       "}}\n",
       "\n",
       "// Listen for the clearing of the current output cell\n",
       "var outputEl = gd.closest('.output');\n",
       "if (outputEl) {{\n",
       "    x.observe(outputEl, {childList: true});\n",
       "}}\n",
       "\n",
       "                        })                };                });            </script>        </div>"
      ]
     },
     "metadata": {},
     "output_type": "display_data"
    }
   ],
   "source": [
    "from gtda.diagrams import PersistenceLandscape\n",
    "\n",
    "pl = PersistenceLandscape(n_bins = 100)\n",
    "digit_pl = pl.fit_transform(digit_scaled)\n",
    "\n",
    "pl.plot(digit_pl)"
   ]
  },
  {
   "cell_type": "code",
   "execution_count": 75,
   "id": "surrounded-monaco",
   "metadata": {},
   "outputs": [
    {
     "data": {
      "text/plain": [
       "array([[0.01964085, 0.81645493]])"
      ]
     },
     "execution_count": 75,
     "metadata": {},
     "output_type": "execute_result"
    }
   ],
   "source": [
    "from gtda.diagrams import Amplitude\n",
    "\n",
    "digit_amp = Amplitude(metric=\"landscape\")\n",
    "digit_amp.fit_transform(digit_scaled)"
   ]
  },
  {
   "cell_type": "code",
   "execution_count": 76,
   "id": "painful-state",
   "metadata": {},
   "outputs": [
    {
     "data": {
      "application/vnd.plotly.v1+json": {
       "config": {
        "plotlyServerURL": "https://plot.ly"
       },
       "data": [
        {
         "colorscale": [
          [
           0,
           "#440154"
          ],
          [
           0.1111111111111111,
           "#482878"
          ],
          [
           0.2222222222222222,
           "#3e4989"
          ],
          [
           0.3333333333333333,
           "#31688e"
          ],
          [
           0.4444444444444444,
           "#26828e"
          ],
          [
           0.5555555555555556,
           "#1f9e89"
          ],
          [
           0.6666666666666666,
           "#35b779"
          ],
          [
           0.7777777777777778,
           "#6ece58"
          ],
          [
           0.8888888888888888,
           "#b5de2b"
          ],
          [
           1,
           "#fde725"
          ]
         ],
         "type": "heatmap",
         "x": [
          2.6666666666666665,
          2.700564971751412,
          2.734463276836158,
          2.768361581920904,
          2.8022598870056497,
          2.8361581920903953,
          2.870056497175141,
          2.9039548022598867,
          2.937853107344633,
          2.9717514124293785,
          3.005649717514124,
          3.03954802259887,
          3.073446327683616,
          3.1073446327683616,
          3.1412429378531073,
          3.175141242937853,
          3.2090395480225986,
          3.2429378531073447,
          3.2768361581920904,
          3.310734463276836,
          3.344632768361582,
          3.378531073446328,
          3.4124293785310735,
          3.446327683615819,
          3.480225988700565,
          3.5141242937853105,
          3.5480225988700567,
          3.5819209039548023,
          3.615819209039548,
          3.6497175141242937,
          3.68361581920904,
          3.7175141242937855,
          3.751412429378531,
          3.785310734463277,
          3.8192090395480225,
          3.853107344632768,
          3.8870056497175143,
          3.92090395480226,
          3.954802259887006,
          3.9887005649717517,
          4.022598870056497,
          4.056497175141243,
          4.090395480225989,
          4.124293785310734,
          4.15819209039548,
          4.192090395480227,
          4.225988700564972,
          4.259887005649718,
          4.293785310734464,
          4.327683615819209,
          4.361581920903955,
          4.395480225988701,
          4.429378531073446,
          4.463276836158192,
          4.497175141242938,
          4.531073446327683,
          4.564971751412429,
          4.598870056497176,
          4.632768361581921,
          4.666666666666667
         ],
         "y": [
          4.666666666666667,
          4.632768361581921,
          4.598870056497176,
          4.564971751412429,
          4.531073446327683,
          4.497175141242938,
          4.463276836158192,
          4.429378531073446,
          4.395480225988701,
          4.361581920903955,
          4.327683615819209,
          4.293785310734464,
          4.259887005649718,
          4.225988700564972,
          4.192090395480227,
          4.15819209039548,
          4.124293785310734,
          4.090395480225989,
          4.056497175141243,
          4.022598870056497,
          3.9887005649717517,
          3.954802259887006,
          3.92090395480226,
          3.8870056497175143,
          3.853107344632768,
          3.8192090395480225,
          3.785310734463277,
          3.751412429378531,
          3.7175141242937855,
          3.68361581920904,
          3.6497175141242937,
          3.615819209039548,
          3.5819209039548023,
          3.5480225988700567,
          3.5141242937853105,
          3.480225988700565,
          3.446327683615819,
          3.4124293785310735,
          3.378531073446328,
          3.344632768361582,
          3.310734463276836,
          3.2768361581920904,
          3.2429378531073447,
          3.2090395480225986,
          3.175141242937853,
          3.1412429378531073,
          3.1073446327683616,
          3.073446327683616,
          3.03954802259887,
          3.005649717514124,
          2.9717514124293785,
          2.937853107344633,
          2.9039548022598867,
          2.870056497175141,
          2.8361581920903953,
          2.8022598870056497,
          2.768361581920904,
          2.734463276836158,
          2.700564971751412,
          2.6666666666666665
         ],
         "z": [
          [
           7.073948273125359,
           6.895598655866895,
           6.387078677840001,
           5.621506907549484,
           4.701359095827556,
           3.736063879979244,
           2.821144654402945,
           2.024214866886098,
           1.3800920632536333,
           0.8940868336085552,
           0.5503912661651043,
           0.32194639100185496,
           0.17894343979444,
           0.09450791780809509,
           0.04742865418612197,
           0.022616927252444827,
           0.010248176437870998,
           0.004412449821674115,
           0.001805232561881491,
           0,
           0,
           0,
           0,
           0,
           0,
           0,
           0,
           0,
           0,
           0,
           0,
           0,
           0,
           0,
           0,
           0,
           0,
           0,
           0,
           0,
           0,
           0,
           0,
           0,
           0,
           0,
           0,
           0,
           0,
           0,
           0,
           0,
           0,
           0,
           0,
           0,
           0,
           0,
           0,
           0
          ],
          [
           6.895598655866895,
           6.721745620255357,
           6.226046536578784,
           5.479776495244065,
           4.5828276105860075,
           3.6418695860261896,
           2.7500174634882133,
           1.9731800087249818,
           1.3452969415253848,
           0.8715449604688091,
           0.5365147055976662,
           0.313829422458126,
           0.17443188659019934,
           0.09212516770614655,
           0.0462328746872366,
           0.02204670533912373,
           0.009989797626672257,
           0.004301202367426041,
           0.001759718723775373,
           0,
           0,
           0,
           0,
           0,
           0,
           0,
           0,
           0,
           0,
           0,
           0,
           0,
           0,
           0,
           0,
           0,
           0,
           0,
           0,
           0,
           0,
           0,
           0,
           0,
           0,
           0,
           0,
           0,
           0,
           0,
           0,
           0,
           0,
           0,
           0,
           0,
           0,
           0,
           0,
           0
          ],
          [
           6.387078677840001,
           6.226046536578784,
           5.766903073337676,
           5.075667155066191,
           4.244864293383165,
           3.3732977717012407,
           2.5472158084184557,
           1.8276666885977697,
           1.2460872274330366,
           0.8072723648226039,
           0.4969491131208617,
           0.2906858871427667,
           0.16156830453404694,
           0.08533134303687075,
           0.042823404154889035,
           0.02042085808870727,
           0.009253094125912926,
           0.003984007669397644,
           0.0016299472316386589,
           0,
           0,
           0,
           0,
           0,
           0,
           0,
           0,
           0,
           0,
           0,
           0,
           0,
           0,
           0,
           0,
           0,
           0,
           0,
           0,
           0,
           0,
           0,
           0,
           0,
           0,
           0,
           0,
           0,
           0,
           0,
           0,
           0,
           0,
           0,
           0,
           0,
           0,
           0,
           0,
           0
          ],
          [
           5.621506907549484,
           5.479776495244065,
           5.075667155066191,
           4.467284561817228,
           3.736063879979244,
           2.9689655758636695,
           2.2418999333332295,
           1.6085978321038972,
           1.0967279893901243,
           0.7105106111920915,
           0.4373835070799944,
           0.2558435248605446,
           0.14220230966159952,
           0.07510330755381685,
           0.03769048017158657,
           0.017973161220330804,
           0.00814399433116363,
           0.003506474205641531,
           0.0014345775406506445,
           0,
           0,
           0,
           0,
           0,
           0,
           0,
           0,
           0,
           0,
           0,
           0,
           0,
           0,
           0,
           0,
           0,
           0,
           0,
           0,
           0,
           0,
           0,
           0,
           0,
           0,
           0,
           0,
           0,
           0,
           0,
           0,
           0,
           0,
           0,
           0,
           0,
           0,
           0,
           0,
           0
          ],
          [
           4.701359095827556,
           4.5828276105860075,
           4.244864293383165,
           3.736063879979244,
           3.1245319437648664,
           2.4829949593302523,
           1.8749379511313164,
           1.345296941525385,
           0.9172117358147251,
           0.5942117619964041,
           0.365791052682681,
           0.21396616645554078,
           0.11892614079641471,
           0.06281013683727527,
           0.03152117122596223,
           0.01503125165078053,
           0.006810957000473481,
           0.0029325223062233526,
           0.0011997608969136475,
           0,
           0,
           0,
           0,
           0,
           0,
           0,
           0,
           0,
           0,
           0,
           0,
           0,
           0,
           0,
           0,
           0,
           0,
           0,
           0,
           0,
           0,
           0,
           0,
           0,
           0,
           0,
           0,
           0,
           0,
           0,
           0,
           0,
           0,
           0,
           0,
           0,
           0,
           0,
           0,
           0
          ],
          [
           3.736063879979244,
           3.6418695860261896,
           3.3732977717012407,
           2.9689655758636695,
           2.4829949593302523,
           1.9731800087249811,
           1.4899708389943707,
           1.0690770920987942,
           0.7288874486340984,
           0.4722066653074522,
           0.2906858871427668,
           0.1700340794519674,
           0.0945079178080951,
           0.049913797000224976,
           0.025049162778583486,
           0.011944996163598598,
           0.0054125136835737895,
           0.002330409237456037,
           0.0009534228847885035,
           0,
           0,
           0,
           0,
           0,
           0,
           0,
           0,
           0,
           0,
           0,
           0,
           0,
           0,
           0,
           0,
           0,
           0,
           0,
           0,
           0,
           0,
           0,
           0,
           0,
           0,
           0,
           0,
           0,
           0,
           0,
           0,
           0,
           0,
           0,
           0,
           0,
           0,
           0,
           0,
           0
          ],
          [
           2.821144654402945,
           2.7500174634882133,
           2.5472158084184557,
           2.2418999333332295,
           1.8749379511313164,
           1.4899708389943707,
           1.1250940569219048,
           0.8072723648226042,
           0.5503912661651043,
           0.3565686648840063,
           0.21950024490152734,
           0.12839468213667388,
           0.07136401188208313,
           0.03769048017158656,
           0.01891490989989781,
           0.009019803503463406,
           0.0040870511147100145,
           0.001759718723775373,
           0.0007199405473820392,
           0,
           0,
           0,
           0,
           0,
           0,
           0,
           0,
           0,
           0,
           0,
           0,
           0,
           0,
           0,
           0,
           0,
           0,
           0,
           0,
           0,
           0,
           0,
           0,
           0,
           0,
           0,
           0,
           0,
           0,
           0,
           0,
           0,
           0,
           0,
           0,
           0,
           0,
           0,
           0,
           0
          ],
          [
           2.024214866886098,
           1.9731800087249818,
           1.8276666885977697,
           1.6085978321038972,
           1.345296941525385,
           1.0690770920987942,
           0.8072723648226042,
           0.5792303914476323,
           0.3949142351977173,
           0.2558435248605446,
           0.15749481626947773,
           0.09212516770614657,
           0.05120478086329144,
           0.027043501716344166,
           0.01357174002596023,
           0.0064718483398597615,
           0.002932522306223354,
           0.0012626253661416015,
           0.0005165684634463591,
           0,
           0,
           0,
           0,
           0,
           0,
           0,
           0,
           0,
           0,
           0,
           0,
           0,
           0,
           0,
           0,
           0,
           0,
           0,
           0,
           0,
           0,
           0,
           0,
           0,
           0,
           0,
           0,
           0,
           0,
           0,
           0,
           0,
           0,
           0,
           0,
           0,
           0,
           0,
           0,
           0
          ],
          [
           1.3800920632536333,
           1.3452969415253848,
           1.2460872274330366,
           1.0967279893901243,
           0.9172117358147251,
           0.7288874486340984,
           0.5503912661651043,
           0.3949142351977173,
           0.26924908544944315,
           0.17443188659019931,
           0.10737859379101476,
           0.06281013683727528,
           0.03491097354639005,
           0.01843802389354387,
           0.009253094125912926,
           0.0044124498216741165,
           0.0019993681631036175,
           0.000860846975872344,
           0.0003521918785361633,
           0,
           0,
           0,
           0,
           0,
           0,
           0,
           0,
           0,
           0,
           0,
           0,
           0,
           0,
           0,
           0,
           0,
           0,
           0,
           0,
           0,
           0,
           0,
           0,
           0,
           0,
           0,
           0,
           0,
           0,
           0,
           0,
           0,
           0,
           0,
           0,
           0,
           0,
           0,
           0,
           0
          ],
          [
           0.8940868336085552,
           0.8715449604688091,
           0.8072723648226039,
           0.7105106111920915,
           0.5942117619964041,
           0.4722066653074522,
           0.3565686648840063,
           0.2558435248605446,
           0.17443188659019931,
           0.1130049634472364,
           0.06956476997165639,
           0.04069128274744586,
           0.022616927252444827,
           0.011944996163598596,
           0.00599457807808506,
           0.002858587042531388,
           0.0012952822480209712,
           0.0005576960895381615,
           0.00022816602593937,
           0,
           0,
           0,
           0,
           0,
           0,
           0,
           0,
           0,
           0,
           0,
           0,
           0,
           0,
           0,
           0,
           0,
           0,
           0,
           0,
           0,
           0,
           0,
           0,
           0,
           0,
           0,
           0,
           0,
           0,
           0,
           0,
           0,
           0,
           0,
           0,
           0,
           0,
           0,
           0,
           0
          ],
          [
           0.5503912661651043,
           0.5365147055976662,
           0.4969491131208617,
           0.4373835070799944,
           0.365791052682681,
           0.2906858871427668,
           0.21950024490152734,
           0.15749481626947773,
           0.10737859379101476,
           0.06956476997165639,
           0.04282340415488904,
           0.025049162778583486,
           0.013922763158245048,
           0.007353224894595334,
           0.0036902046809105843,
           0.0017597187237753731,
           0.0007973633093914552,
           0.0003433123554871897,
           0.00014045681380384914,
           0,
           0,
           0,
           0,
           0,
           0,
           0,
           0,
           0,
           0,
           0,
           0,
           0,
           0,
           0,
           0,
           0,
           0,
           0,
           0,
           0,
           0,
           0,
           0,
           0,
           0,
           0,
           0,
           0,
           0,
           0,
           0,
           0,
           0,
           0,
           0,
           0,
           0,
           0,
           0,
           0
          ],
          [
           0.32194639100185496,
           0.313829422458126,
           0.2906858871427667,
           0.2558435248605446,
           0.21396616645554078,
           0.1700340794519674,
           0.12839468213667388,
           0.09212516770614657,
           0.06281013683727528,
           0.04069128274744586,
           0.025049162778583486,
           0.014652281113348547,
           0.00814399433116363,
           0.0043012023674260415,
           0.0021585518377773972,
           0.0010293315448939638,
           0.00046641045299375834,
           0.00020081745592650952,
           8.215894232995325e-05,
           0,
           0,
           0,
           0,
           0,
           0,
           0,
           0,
           0,
           0,
           0,
           0,
           0,
           0,
           0,
           0,
           0,
           0,
           0,
           0,
           0,
           0,
           0,
           0,
           0,
           0,
           0,
           0,
           0,
           0,
           0,
           0,
           0,
           0,
           0,
           0,
           0,
           0,
           0,
           0,
           0
          ],
          [
           0.17894343979444,
           0.17443188659019934,
           0.16156830453404694,
           0.14220230966159952,
           0.11892614079641471,
           0.0945079178080951,
           0.07136401188208313,
           0.05120478086329144,
           0.03491097354639005,
           0.022616927252444827,
           0.013922763158245048,
           0.00814399433116363,
           0.00452657460998357,
           0.0023906835684167366,
           0.001199760896913648,
           0.0005721204911136575,
           0.0002592390942947554,
           0.00011161785731603655,
           4.566537834030309e-05,
           0,
           0,
           0,
           0,
           0,
           0,
           0,
           0,
           0,
           0,
           0,
           0,
           0,
           0,
           0,
           0,
           0,
           0,
           0,
           0,
           0,
           0,
           0,
           0,
           0,
           0,
           0,
           0,
           0,
           0,
           0,
           0,
           0,
           0,
           0,
           0,
           0,
           0,
           0,
           0,
           0
          ],
          [
           0.09450791780809509,
           0.09212516770614655,
           0.08533134303687075,
           0.07510330755381685,
           0.06281013683727527,
           0.049913797000224976,
           0.03769048017158656,
           0.027043501716344166,
           0.01843802389354387,
           0.011944996163598596,
           0.007353224894595334,
           0.0043012023674260415,
           0.0023906835684167366,
           0.0012626253661416015,
           0.0006336466112707674,
           0.0003021620485926111,
           0.0001369155921245178,
           5.8950310205601796e-05,
           2.411789908486506e-05,
           0,
           0,
           0,
           0,
           0,
           0,
           0,
           0,
           0,
           0,
           0,
           0,
           0,
           0,
           0,
           0,
           0,
           0,
           0,
           0,
           0,
           0,
           0,
           0,
           0,
           0,
           0,
           0,
           0,
           0,
           0,
           0,
           0,
           0,
           0,
           0,
           0,
           0,
           0,
           0,
           0
          ],
          [
           0.04742865418612197,
           0.0462328746872366,
           0.042823404154889035,
           0.03769048017158657,
           0.03152117122596223,
           0.025049162778583486,
           0.01891490989989781,
           0.01357174002596023,
           0.009253094125912926,
           0.00599457807808506,
           0.0036902046809105843,
           0.0021585518377773972,
           0.001199760896913648,
           0.0006336466112707674,
           0.0003179945839373375,
           0.00015163956251760315,
           6.871088076184089e-05,
           2.9584123126947345e-05,
           1.2103530814366048e-05,
           0,
           0,
           0,
           0,
           0,
           0,
           0,
           0,
           0,
           0,
           0,
           0,
           0,
           0,
           0,
           0,
           0,
           0,
           0,
           0,
           0,
           0,
           0,
           0,
           0,
           0,
           0,
           0,
           0,
           0,
           0,
           0,
           0,
           0,
           0,
           0,
           0,
           0,
           0,
           0,
           0
          ],
          [
           0.022616927252444827,
           0.02204670533912373,
           0.02042085808870727,
           0.017973161220330804,
           0.01503125165078053,
           0.011944996163598598,
           0.009019803503463406,
           0.0064718483398597615,
           0.0044124498216741165,
           0.002858587042531388,
           0.0017597187237753731,
           0.0010293315448939638,
           0.0005721204911136575,
           0.0003021620485926111,
           0.00015163956251760315,
           7.231115900093843e-05,
           3.276561433819239e-05,
           1.4107546842122366e-05,
           5.771715023833445e-06,
           0,
           0,
           0,
           0,
           0,
           0,
           0,
           0,
           0,
           0,
           0,
           0,
           0,
           0,
           0,
           0,
           0,
           0,
           0,
           0,
           0,
           0,
           0,
           0,
           0,
           0,
           0,
           0,
           0,
           0,
           0,
           0,
           0,
           0,
           0,
           0,
           0,
           0,
           0,
           0,
           0
          ],
          [
           0.010248176437870998,
           0.009989797626672257,
           0.009253094125912926,
           0.00814399433116363,
           0.006810957000473481,
           0.0054125136835737895,
           0.0040870511147100145,
           0.002932522306223354,
           0.0019993681631036175,
           0.0012952822480209712,
           0.0007973633093914552,
           0.00046641045299375834,
           0.0002592390942947554,
           0.0001369155921245178,
           6.871088076184089e-05,
           3.276561433819239e-05,
           1.4846746999937116e-05,
           6.392408107868476e-06,
           2.6152780726197916e-06,
           0,
           0,
           0,
           0,
           0,
           0,
           0,
           0,
           0,
           0,
           0,
           0,
           0,
           0,
           0,
           0,
           0,
           0,
           0,
           0,
           0,
           0,
           0,
           0,
           0,
           0,
           0,
           0,
           0,
           0,
           0,
           0,
           0,
           0,
           0,
           0,
           0,
           0,
           0,
           0,
           0
          ],
          [
           0.004412449821674115,
           0.004301202367426041,
           0.003984007669397644,
           0.003506474205641531,
           0.0029325223062233526,
           0.002330409237456037,
           0.001759718723775373,
           0.0012626253661416015,
           0.000860846975872344,
           0.0005576960895381615,
           0.0003433123554871897,
           0.00020081745592650952,
           0.00011161785731603655,
           5.8950310205601796e-05,
           2.9584123126947345e-05,
           1.4107546842122366e-05,
           6.392408107868476e-06,
           2.7523121002678705e-06,
           1.1260328444888435e-06,
           0,
           0,
           0,
           0,
           0,
           0,
           0,
           0,
           0,
           0,
           0,
           0,
           0,
           0,
           0,
           0,
           0,
           0,
           0,
           0,
           0,
           0,
           0,
           0,
           0,
           0,
           0,
           0,
           0,
           0,
           0,
           0,
           0,
           0,
           0,
           0,
           0,
           0,
           0,
           0,
           0
          ],
          [
           0.001805232561881491,
           0.001759718723775373,
           0.0016299472316386589,
           0.0014345775406506445,
           0.0011997608969136475,
           0.0009534228847885035,
           0.0007199405473820392,
           0.0005165684634463591,
           0.0003521918785361633,
           0.00022816602593937,
           0.00014045681380384914,
           8.215894232995325e-05,
           4.566537834030309e-05,
           2.411789908486506e-05,
           1.2103530814366048e-05,
           5.771715023833445e-06,
           2.6152780726197916e-06,
           1.1260328444888435e-06,
           4.6068538765797384e-07,
           0,
           0,
           0,
           0,
           0,
           0,
           0,
           0,
           0,
           0,
           0,
           0,
           0,
           0,
           0,
           0,
           0,
           0,
           0,
           0,
           0,
           0,
           0,
           0,
           0,
           0,
           0,
           0,
           0,
           0,
           0,
           0,
           0,
           0,
           0,
           0,
           0,
           0,
           0,
           0,
           0
          ],
          [
           0,
           0,
           0,
           0,
           0,
           0,
           0,
           0,
           0,
           0,
           0,
           0,
           0,
           0,
           0,
           0,
           0,
           0,
           0,
           0,
           0,
           0,
           0,
           0,
           0,
           0,
           0,
           0,
           0,
           0,
           0,
           0,
           0,
           0,
           0,
           0,
           0,
           0,
           0,
           0,
           0,
           0,
           0,
           0,
           0,
           0,
           0,
           0,
           0,
           0,
           0,
           0,
           0,
           0,
           0,
           0,
           0,
           0,
           0,
           0
          ],
          [
           0,
           0,
           0,
           0,
           0,
           0,
           0,
           0,
           0,
           0,
           0,
           0,
           0,
           0,
           0,
           0,
           0,
           0,
           0,
           0,
           0,
           0,
           0,
           0,
           0,
           0,
           0,
           0,
           0,
           0,
           0,
           0,
           0,
           0,
           0,
           0,
           0,
           0,
           0,
           0,
           0,
           0,
           0,
           0,
           0,
           0,
           0,
           0,
           0,
           0,
           0,
           0,
           0,
           0,
           0,
           0,
           0,
           0,
           0,
           0
          ],
          [
           0,
           0,
           0,
           0,
           0,
           0,
           0,
           0,
           0,
           0,
           0,
           0,
           0,
           0,
           0,
           0,
           0,
           0,
           0,
           0,
           0,
           0,
           0,
           0,
           0,
           0,
           0,
           0,
           0,
           0,
           0,
           0,
           0,
           0,
           0,
           0,
           0,
           0,
           0,
           0,
           0,
           0,
           0,
           0,
           0,
           0,
           0,
           0,
           0,
           0,
           0,
           0,
           0,
           0,
           0,
           0,
           0,
           0,
           0,
           0
          ],
          [
           0,
           0,
           0,
           0,
           0,
           0,
           0,
           0,
           0,
           0,
           0,
           0,
           0,
           0,
           0,
           0,
           0,
           0,
           0,
           0,
           0,
           0,
           0,
           0,
           0,
           0,
           0,
           0,
           0,
           0,
           0,
           0,
           0,
           0,
           0,
           0,
           0,
           0,
           0,
           0,
           0,
           0,
           0,
           0,
           0,
           0,
           0,
           0,
           0,
           0,
           0,
           0,
           0,
           0,
           0,
           0,
           0,
           0,
           0,
           0
          ],
          [
           0,
           0,
           0,
           0,
           0,
           0,
           0,
           0,
           0,
           0,
           0,
           0,
           0,
           0,
           0,
           0,
           0,
           0,
           0,
           0,
           0,
           0,
           0,
           0,
           0,
           0,
           0,
           0,
           0,
           0,
           0,
           0,
           0,
           0,
           0,
           0,
           0,
           0,
           0,
           0,
           0,
           0,
           0,
           0,
           0,
           0,
           0,
           0,
           0,
           0,
           0,
           0,
           0,
           0,
           0,
           0,
           0,
           0,
           0,
           0
          ],
          [
           0,
           0,
           0,
           0,
           0,
           0,
           0,
           0,
           0,
           0,
           0,
           0,
           0,
           0,
           0,
           0,
           0,
           0,
           0,
           0,
           0,
           0,
           0,
           0,
           0,
           0,
           0,
           0,
           0,
           0,
           0,
           0,
           0,
           0,
           0,
           0,
           0,
           0,
           0,
           0,
           0,
           0,
           0,
           0,
           0,
           0,
           0,
           0,
           0,
           0,
           0,
           0,
           0,
           0,
           0,
           0,
           0,
           0,
           0,
           0
          ],
          [
           0,
           0,
           0,
           0,
           0,
           0,
           0,
           0,
           0,
           0,
           0,
           0,
           0,
           0,
           0,
           0,
           0,
           0,
           0,
           0,
           0,
           0,
           0,
           0,
           0,
           0,
           0,
           0,
           0,
           0,
           0,
           0,
           0,
           0,
           0,
           0,
           0,
           0,
           0,
           0,
           0,
           0,
           0,
           0,
           0,
           0,
           0,
           0,
           0,
           0,
           0,
           0,
           0,
           0,
           0,
           0,
           0,
           0,
           0,
           0
          ],
          [
           0,
           0,
           0,
           0,
           0,
           0,
           0,
           0,
           0,
           0,
           0,
           0,
           0,
           0,
           0,
           0,
           0,
           0,
           0,
           0,
           0,
           0,
           0,
           0,
           0,
           0,
           0,
           0,
           0,
           0,
           0,
           0,
           0,
           0,
           0,
           0,
           0,
           0,
           0,
           0,
           0,
           0,
           0,
           0,
           0,
           0,
           0,
           0,
           0,
           0,
           0,
           0,
           0,
           0,
           0,
           0,
           0,
           0,
           0,
           0
          ],
          [
           0,
           0,
           0,
           0,
           0,
           0,
           0,
           0,
           0,
           0,
           0,
           0,
           0,
           0,
           0,
           0,
           0,
           0,
           0,
           0,
           0,
           0,
           0,
           0,
           0,
           0,
           0,
           0,
           0,
           0,
           0,
           0,
           0,
           0,
           0,
           0,
           0,
           0,
           0,
           0,
           0,
           0,
           0,
           0,
           0,
           0,
           0,
           0,
           0,
           0,
           0,
           0,
           0,
           0,
           0,
           0,
           0,
           0,
           0,
           0
          ],
          [
           0,
           0,
           0,
           0,
           0,
           0,
           0,
           0,
           0,
           0,
           0,
           0,
           0,
           0,
           0,
           0,
           0,
           0,
           0,
           0,
           0,
           0,
           0,
           0,
           0,
           0,
           0,
           0,
           0,
           0,
           0,
           0,
           0,
           0,
           0,
           0,
           0,
           0,
           0,
           0,
           0,
           0,
           0,
           0,
           0,
           0,
           0,
           0,
           0,
           0,
           0,
           0,
           0,
           0,
           0,
           0,
           0,
           0,
           0,
           0
          ],
          [
           0,
           0,
           0,
           0,
           0,
           0,
           0,
           0,
           0,
           0,
           0,
           0,
           0,
           0,
           0,
           0,
           0,
           0,
           0,
           0,
           0,
           0,
           0,
           0,
           0,
           0,
           0,
           0,
           0,
           0,
           0,
           0,
           0,
           0,
           0,
           0,
           0,
           0,
           0,
           0,
           0,
           0,
           0,
           0,
           0,
           0,
           0,
           0,
           0,
           0,
           0,
           0,
           0,
           0,
           0,
           0,
           0,
           0,
           0,
           0
          ],
          [
           0,
           0,
           0,
           0,
           0,
           0,
           0,
           0,
           0,
           0,
           0,
           0,
           0,
           0,
           0,
           0,
           0,
           0,
           0,
           0,
           0,
           0,
           0,
           0,
           0,
           0,
           0,
           0,
           0,
           0,
           0,
           0,
           0,
           0,
           0,
           0,
           0,
           0,
           0,
           0,
           0,
           0,
           0,
           0,
           0,
           0,
           0,
           0,
           0,
           0,
           0,
           0,
           0,
           0,
           0,
           0,
           0,
           0,
           0,
           0
          ],
          [
           0,
           0,
           0,
           0,
           0,
           0,
           0,
           0,
           0,
           0,
           0,
           0,
           0,
           0,
           0,
           0,
           0,
           0,
           0,
           0,
           0,
           0,
           0,
           0,
           0,
           0,
           0,
           0,
           0,
           0,
           0,
           0,
           0,
           0,
           0,
           0,
           0,
           0,
           0,
           0,
           0,
           0,
           0,
           0,
           0,
           0,
           0,
           0,
           0,
           0,
           0,
           0,
           0,
           0,
           0,
           0,
           0,
           0,
           0,
           0
          ],
          [
           0,
           0,
           0,
           0,
           0,
           0,
           0,
           0,
           0,
           0,
           0,
           0,
           0,
           0,
           0,
           0,
           0,
           0,
           0,
           0,
           0,
           0,
           0,
           0,
           0,
           0,
           0,
           0,
           0,
           0,
           0,
           0,
           0,
           0,
           0,
           0,
           0,
           0,
           0,
           0,
           0,
           0,
           0,
           0,
           0,
           0,
           0,
           0,
           0,
           0,
           0,
           0,
           0,
           0,
           0,
           0,
           0,
           0,
           0,
           0
          ],
          [
           0,
           0,
           0,
           0,
           0,
           0,
           0,
           0,
           0,
           0,
           0,
           0,
           0,
           0,
           0,
           0,
           0,
           0,
           0,
           0,
           0,
           0,
           0,
           0,
           0,
           0,
           0,
           0,
           0,
           0,
           0,
           0,
           0,
           0,
           0,
           0,
           0,
           0,
           0,
           0,
           0,
           0,
           0,
           0,
           0,
           0,
           0,
           0,
           0,
           0,
           0,
           0,
           0,
           0,
           0,
           0,
           0,
           0,
           0,
           0
          ],
          [
           0,
           0,
           0,
           0,
           0,
           0,
           0,
           0,
           0,
           0,
           0,
           0,
           0,
           0,
           0,
           0,
           0,
           0,
           0,
           0,
           0,
           0,
           0,
           0,
           0,
           0,
           0,
           0,
           0,
           0,
           0,
           0,
           0,
           0,
           0,
           0,
           0,
           0,
           0,
           0,
           0,
           0,
           0,
           0,
           0,
           0,
           0,
           0,
           0,
           0,
           0,
           0,
           0,
           0,
           0,
           0,
           0,
           0,
           0,
           0
          ],
          [
           0,
           0,
           0,
           0,
           0,
           0,
           0,
           0,
           0,
           0,
           0,
           0,
           0,
           0,
           0,
           0,
           0,
           0,
           0,
           0,
           0,
           0,
           0,
           0,
           0,
           0,
           0,
           0,
           0,
           0,
           0,
           0,
           0,
           0,
           0,
           0,
           0,
           0,
           0,
           0,
           0,
           0,
           0,
           0,
           0,
           0,
           0,
           0,
           0,
           0,
           0,
           0,
           0,
           0,
           0,
           0,
           0,
           0,
           0,
           0
          ],
          [
           0,
           0,
           0,
           0,
           0,
           0,
           0,
           0,
           0,
           0,
           0,
           0,
           0,
           0,
           0,
           0,
           0,
           0,
           0,
           0,
           0,
           0,
           0,
           0,
           0,
           0,
           0,
           0,
           0,
           0,
           0,
           0,
           0,
           0,
           0,
           0,
           0,
           0,
           0,
           0,
           0,
           0,
           0,
           0,
           0,
           0,
           0,
           0,
           0,
           0,
           0,
           0,
           0,
           0,
           0,
           0,
           0,
           0,
           0,
           0
          ],
          [
           0,
           0,
           0,
           0,
           0,
           0,
           0,
           0,
           0,
           0,
           0,
           0,
           0,
           0,
           0,
           0,
           0,
           0,
           0,
           0,
           0,
           0,
           0,
           0,
           0,
           0,
           0,
           0,
           0,
           0,
           0,
           0,
           0,
           0,
           0,
           0,
           0,
           0,
           0,
           0,
           0,
           0,
           0,
           0,
           0,
           0,
           0,
           0,
           0,
           0,
           0,
           0,
           0,
           0,
           0,
           0,
           0,
           0,
           0,
           0
          ],
          [
           0,
           0,
           0,
           0,
           0,
           0,
           0,
           0,
           0,
           0,
           0,
           0,
           0,
           0,
           0,
           0,
           0,
           0,
           0,
           0,
           0,
           0,
           0,
           0,
           0,
           0,
           0,
           0,
           0,
           0,
           0,
           0,
           0,
           0,
           0,
           0,
           0,
           0,
           0,
           0,
           0,
           0,
           0,
           0,
           0,
           0,
           0,
           0,
           0,
           0,
           0,
           0,
           0,
           0,
           0,
           0,
           0,
           0,
           0,
           0
          ],
          [
           0,
           0,
           0,
           0,
           0,
           0,
           0,
           0,
           0,
           0,
           0,
           0,
           0,
           0,
           0,
           0,
           0,
           0,
           0,
           0,
           0,
           0,
           0,
           0,
           0,
           0,
           0,
           0,
           0,
           0,
           0,
           0,
           0,
           0,
           0,
           0,
           0,
           0,
           0,
           0,
           0,
           0,
           0,
           0,
           0,
           0,
           0,
           0,
           0,
           0,
           0,
           0,
           0,
           0,
           0,
           0,
           0,
           0,
           0,
           0
          ],
          [
           0,
           0,
           0,
           0,
           0,
           0,
           0,
           0,
           0,
           0,
           0,
           0,
           0,
           0,
           0,
           0,
           0,
           0,
           0,
           0,
           0,
           0,
           0,
           0,
           0,
           0,
           0,
           0,
           0,
           0,
           0,
           0,
           0,
           0,
           0,
           0,
           0,
           0,
           0,
           0,
           0,
           0,
           0,
           0,
           0,
           0,
           0,
           0,
           0,
           0,
           0,
           0,
           0,
           0,
           0,
           0,
           0,
           0,
           0,
           0
          ],
          [
           0,
           0,
           0,
           0,
           0,
           0,
           0,
           0,
           0,
           0,
           0,
           0,
           0,
           0,
           0,
           0,
           0,
           0,
           0,
           0,
           0,
           0,
           0,
           0,
           0,
           0,
           0,
           0,
           0,
           0,
           0,
           0,
           0,
           0,
           0,
           0,
           0,
           0,
           0,
           0,
           0,
           -4.6068538765797384e-07,
           -1.1260328444888435e-06,
           -2.6152780726197916e-06,
           -5.771715023833445e-06,
           -1.2103530814366048e-05,
           -2.411789908486506e-05,
           -4.566537834030309e-05,
           -8.215894232995325e-05,
           -0.00014045681380384914,
           -0.00022816602593937,
           -0.0003521918785361633,
           -0.0005165684634463591,
           -0.0007199405473820392,
           -0.0009534228847885035,
           -0.0011997608969136475,
           -0.0014345775406506445,
           -0.0016299472316386589,
           -0.001759718723775373,
           -0.001805232561881491
          ],
          [
           0,
           0,
           0,
           0,
           0,
           0,
           0,
           0,
           0,
           0,
           0,
           0,
           0,
           0,
           0,
           0,
           0,
           0,
           0,
           0,
           0,
           0,
           0,
           0,
           0,
           0,
           0,
           0,
           0,
           0,
           0,
           0,
           0,
           0,
           0,
           0,
           0,
           0,
           0,
           0,
           0,
           -1.1260328444888435e-06,
           -2.7523121002678705e-06,
           -6.392408107868476e-06,
           -1.4107546842122366e-05,
           -2.9584123126947345e-05,
           -5.8950310205601796e-05,
           -0.00011161785731603655,
           -0.00020081745592650952,
           -0.0003433123554871897,
           -0.0005576960895381615,
           -0.000860846975872344,
           -0.0012626253661416015,
           -0.001759718723775373,
           -0.002330409237456037,
           -0.0029325223062233526,
           -0.003506474205641531,
           -0.003984007669397644,
           -0.004301202367426041,
           -0.004412449821674115
          ],
          [
           0,
           0,
           0,
           0,
           0,
           0,
           0,
           0,
           0,
           0,
           0,
           0,
           0,
           0,
           0,
           0,
           0,
           0,
           0,
           0,
           0,
           0,
           0,
           0,
           0,
           0,
           0,
           0,
           0,
           0,
           0,
           0,
           0,
           0,
           0,
           0,
           0,
           0,
           0,
           0,
           0,
           -2.6152780726197916e-06,
           -6.392408107868476e-06,
           -1.4846746999937116e-05,
           -3.276561433819239e-05,
           -6.871088076184089e-05,
           -0.0001369155921245178,
           -0.0002592390942947554,
           -0.00046641045299375834,
           -0.0007973633093914552,
           -0.0012952822480209712,
           -0.0019993681631036175,
           -0.002932522306223354,
           -0.0040870511147100145,
           -0.0054125136835737895,
           -0.006810957000473481,
           -0.00814399433116363,
           -0.009253094125912926,
           -0.009989797626672257,
           -0.010248176437870998
          ],
          [
           0,
           0,
           0,
           0,
           0,
           0,
           0,
           0,
           0,
           0,
           0,
           0,
           0,
           0,
           0,
           0,
           0,
           0,
           0,
           0,
           0,
           0,
           0,
           0,
           0,
           0,
           0,
           0,
           0,
           0,
           0,
           0,
           0,
           0,
           0,
           0,
           0,
           0,
           0,
           0,
           0,
           -5.771715023833445e-06,
           -1.4107546842122366e-05,
           -3.276561433819239e-05,
           -7.231115900093843e-05,
           -0.00015163956251760315,
           -0.0003021620485926111,
           -0.0005721204911136575,
           -0.0010293315448939638,
           -0.0017597187237753731,
           -0.002858587042531388,
           -0.0044124498216741165,
           -0.0064718483398597615,
           -0.009019803503463406,
           -0.011944996163598598,
           -0.01503125165078053,
           -0.017973161220330804,
           -0.02042085808870727,
           -0.02204670533912373,
           -0.022616927252444827
          ],
          [
           0,
           0,
           0,
           0,
           0,
           0,
           0,
           0,
           0,
           0,
           0,
           0,
           0,
           0,
           0,
           0,
           0,
           0,
           0,
           0,
           0,
           0,
           0,
           0,
           0,
           0,
           0,
           0,
           0,
           0,
           0,
           0,
           0,
           0,
           0,
           0,
           0,
           0,
           0,
           0,
           0,
           -1.2103530814366048e-05,
           -2.9584123126947345e-05,
           -6.871088076184089e-05,
           -0.00015163956251760315,
           -0.0003179945839373375,
           -0.0006336466112707674,
           -0.001199760896913648,
           -0.0021585518377773972,
           -0.0036902046809105843,
           -0.00599457807808506,
           -0.009253094125912926,
           -0.01357174002596023,
           -0.01891490989989781,
           -0.025049162778583486,
           -0.03152117122596223,
           -0.03769048017158657,
           -0.042823404154889035,
           -0.0462328746872366,
           -0.04742865418612197
          ],
          [
           0,
           0,
           0,
           0,
           0,
           0,
           0,
           0,
           0,
           0,
           0,
           0,
           0,
           0,
           0,
           0,
           0,
           0,
           0,
           0,
           0,
           0,
           0,
           0,
           0,
           0,
           0,
           0,
           0,
           0,
           0,
           0,
           0,
           0,
           0,
           0,
           0,
           0,
           0,
           0,
           0,
           -2.411789908486506e-05,
           -5.8950310205601796e-05,
           -0.0001369155921245178,
           -0.0003021620485926111,
           -0.0006336466112707674,
           -0.0012626253661416015,
           -0.0023906835684167366,
           -0.0043012023674260415,
           -0.007353224894595334,
           -0.011944996163598596,
           -0.01843802389354387,
           -0.027043501716344166,
           -0.03769048017158656,
           -0.049913797000224976,
           -0.06281013683727527,
           -0.07510330755381685,
           -0.08533134303687075,
           -0.09212516770614655,
           -0.09450791780809509
          ],
          [
           0,
           0,
           0,
           0,
           0,
           0,
           0,
           0,
           0,
           0,
           0,
           0,
           0,
           0,
           0,
           0,
           0,
           0,
           0,
           0,
           0,
           0,
           0,
           0,
           0,
           0,
           0,
           0,
           0,
           0,
           0,
           0,
           0,
           0,
           0,
           0,
           0,
           0,
           0,
           0,
           0,
           -4.566537834030309e-05,
           -0.00011161785731603655,
           -0.0002592390942947554,
           -0.0005721204911136575,
           -0.001199760896913648,
           -0.0023906835684167366,
           -0.00452657460998357,
           -0.00814399433116363,
           -0.013922763158245048,
           -0.022616927252444827,
           -0.03491097354639005,
           -0.05120478086329144,
           -0.07136401188208313,
           -0.0945079178080951,
           -0.11892614079641471,
           -0.14220230966159952,
           -0.16156830453404694,
           -0.17443188659019934,
           -0.17894343979444
          ],
          [
           0,
           0,
           0,
           0,
           0,
           0,
           0,
           0,
           0,
           0,
           0,
           0,
           0,
           0,
           0,
           0,
           0,
           0,
           0,
           0,
           0,
           0,
           0,
           0,
           0,
           0,
           0,
           0,
           0,
           0,
           0,
           0,
           0,
           0,
           0,
           0,
           0,
           0,
           0,
           0,
           0,
           -8.215894232995325e-05,
           -0.00020081745592650952,
           -0.00046641045299375834,
           -0.0010293315448939638,
           -0.0021585518377773972,
           -0.0043012023674260415,
           -0.00814399433116363,
           -0.014652281113348547,
           -0.025049162778583486,
           -0.04069128274744586,
           -0.06281013683727528,
           -0.09212516770614657,
           -0.12839468213667388,
           -0.1700340794519674,
           -0.21396616645554078,
           -0.2558435248605446,
           -0.2906858871427667,
           -0.313829422458126,
           -0.32194639100185496
          ],
          [
           0,
           0,
           0,
           0,
           0,
           0,
           0,
           0,
           0,
           0,
           0,
           0,
           0,
           0,
           0,
           0,
           0,
           0,
           0,
           0,
           0,
           0,
           0,
           0,
           0,
           0,
           0,
           0,
           0,
           0,
           0,
           0,
           0,
           0,
           0,
           0,
           0,
           0,
           0,
           0,
           0,
           -0.00014045681380384914,
           -0.0003433123554871897,
           -0.0007973633093914552,
           -0.0017597187237753731,
           -0.0036902046809105843,
           -0.007353224894595334,
           -0.013922763158245048,
           -0.025049162778583486,
           -0.04282340415488904,
           -0.06956476997165639,
           -0.10737859379101476,
           -0.15749481626947773,
           -0.21950024490152734,
           -0.2906858871427668,
           -0.365791052682681,
           -0.4373835070799944,
           -0.4969491131208617,
           -0.5365147055976662,
           -0.5503912661651043
          ],
          [
           0,
           0,
           0,
           0,
           0,
           0,
           0,
           0,
           0,
           0,
           0,
           0,
           0,
           0,
           0,
           0,
           0,
           0,
           0,
           0,
           0,
           0,
           0,
           0,
           0,
           0,
           0,
           0,
           0,
           0,
           0,
           0,
           0,
           0,
           0,
           0,
           0,
           0,
           0,
           0,
           0,
           -0.00022816602593937,
           -0.0005576960895381615,
           -0.0012952822480209712,
           -0.002858587042531388,
           -0.00599457807808506,
           -0.011944996163598596,
           -0.022616927252444827,
           -0.04069128274744586,
           -0.06956476997165639,
           -0.1130049634472364,
           -0.17443188659019931,
           -0.2558435248605446,
           -0.3565686648840063,
           -0.4722066653074522,
           -0.5942117619964041,
           -0.7105106111920915,
           -0.8072723648226039,
           -0.8715449604688091,
           -0.8940868336085552
          ],
          [
           0,
           0,
           0,
           0,
           0,
           0,
           0,
           0,
           0,
           0,
           0,
           0,
           0,
           0,
           0,
           0,
           0,
           0,
           0,
           0,
           0,
           0,
           0,
           0,
           0,
           0,
           0,
           0,
           0,
           0,
           0,
           0,
           0,
           0,
           0,
           0,
           0,
           0,
           0,
           0,
           0,
           -0.0003521918785361633,
           -0.000860846975872344,
           -0.0019993681631036175,
           -0.0044124498216741165,
           -0.009253094125912926,
           -0.01843802389354387,
           -0.03491097354639005,
           -0.06281013683727528,
           -0.10737859379101476,
           -0.17443188659019931,
           -0.26924908544944315,
           -0.3949142351977173,
           -0.5503912661651043,
           -0.7288874486340984,
           -0.9172117358147251,
           -1.0967279893901243,
           -1.2460872274330366,
           -1.3452969415253848,
           -1.3800920632536333
          ],
          [
           0,
           0,
           0,
           0,
           0,
           0,
           0,
           0,
           0,
           0,
           0,
           0,
           0,
           0,
           0,
           0,
           0,
           0,
           0,
           0,
           0,
           0,
           0,
           0,
           0,
           0,
           0,
           0,
           0,
           0,
           0,
           0,
           0,
           0,
           0,
           0,
           0,
           0,
           0,
           0,
           0,
           -0.0005165684634463591,
           -0.0012626253661416015,
           -0.002932522306223354,
           -0.0064718483398597615,
           -0.01357174002596023,
           -0.027043501716344166,
           -0.05120478086329144,
           -0.09212516770614657,
           -0.15749481626947773,
           -0.2558435248605446,
           -0.3949142351977173,
           -0.5792303914476323,
           -0.8072723648226042,
           -1.0690770920987942,
           -1.345296941525385,
           -1.6085978321038972,
           -1.8276666885977697,
           -1.9731800087249818,
           -2.024214866886098
          ],
          [
           0,
           0,
           0,
           0,
           0,
           0,
           0,
           0,
           0,
           0,
           0,
           0,
           0,
           0,
           0,
           0,
           0,
           0,
           0,
           0,
           0,
           0,
           0,
           0,
           0,
           0,
           0,
           0,
           0,
           0,
           0,
           0,
           0,
           0,
           0,
           0,
           0,
           0,
           0,
           0,
           0,
           -0.0007199405473820392,
           -0.001759718723775373,
           -0.0040870511147100145,
           -0.009019803503463406,
           -0.01891490989989781,
           -0.03769048017158656,
           -0.07136401188208313,
           -0.12839468213667388,
           -0.21950024490152734,
           -0.3565686648840063,
           -0.5503912661651043,
           -0.8072723648226042,
           -1.1250940569219048,
           -1.4899708389943707,
           -1.8749379511313164,
           -2.2418999333332295,
           -2.5472158084184557,
           -2.7500174634882133,
           -2.821144654402945
          ],
          [
           0,
           0,
           0,
           0,
           0,
           0,
           0,
           0,
           0,
           0,
           0,
           0,
           0,
           0,
           0,
           0,
           0,
           0,
           0,
           0,
           0,
           0,
           0,
           0,
           0,
           0,
           0,
           0,
           0,
           0,
           0,
           0,
           0,
           0,
           0,
           0,
           0,
           0,
           0,
           0,
           0,
           -0.0009534228847885035,
           -0.002330409237456037,
           -0.0054125136835737895,
           -0.011944996163598598,
           -0.025049162778583486,
           -0.049913797000224976,
           -0.0945079178080951,
           -0.1700340794519674,
           -0.2906858871427668,
           -0.4722066653074522,
           -0.7288874486340984,
           -1.0690770920987942,
           -1.4899708389943707,
           -1.9731800087249811,
           -2.4829949593302523,
           -2.9689655758636695,
           -3.3732977717012407,
           -3.6418695860261896,
           -3.736063879979244
          ],
          [
           0,
           0,
           0,
           0,
           0,
           0,
           0,
           0,
           0,
           0,
           0,
           0,
           0,
           0,
           0,
           0,
           0,
           0,
           0,
           0,
           0,
           0,
           0,
           0,
           0,
           0,
           0,
           0,
           0,
           0,
           0,
           0,
           0,
           0,
           0,
           0,
           0,
           0,
           0,
           0,
           0,
           -0.0011997608969136475,
           -0.0029325223062233526,
           -0.006810957000473481,
           -0.01503125165078053,
           -0.03152117122596223,
           -0.06281013683727527,
           -0.11892614079641471,
           -0.21396616645554078,
           -0.365791052682681,
           -0.5942117619964041,
           -0.9172117358147251,
           -1.345296941525385,
           -1.8749379511313164,
           -2.4829949593302523,
           -3.1245319437648664,
           -3.736063879979244,
           -4.244864293383165,
           -4.5828276105860075,
           -4.701359095827556
          ],
          [
           0,
           0,
           0,
           0,
           0,
           0,
           0,
           0,
           0,
           0,
           0,
           0,
           0,
           0,
           0,
           0,
           0,
           0,
           0,
           0,
           0,
           0,
           0,
           0,
           0,
           0,
           0,
           0,
           0,
           0,
           0,
           0,
           0,
           0,
           0,
           0,
           0,
           0,
           0,
           0,
           0,
           -0.0014345775406506445,
           -0.003506474205641531,
           -0.00814399433116363,
           -0.017973161220330804,
           -0.03769048017158657,
           -0.07510330755381685,
           -0.14220230966159952,
           -0.2558435248605446,
           -0.4373835070799944,
           -0.7105106111920915,
           -1.0967279893901243,
           -1.6085978321038972,
           -2.2418999333332295,
           -2.9689655758636695,
           -3.736063879979244,
           -4.467284561817228,
           -5.075667155066191,
           -5.479776495244065,
           -5.621506907549484
          ],
          [
           0,
           0,
           0,
           0,
           0,
           0,
           0,
           0,
           0,
           0,
           0,
           0,
           0,
           0,
           0,
           0,
           0,
           0,
           0,
           0,
           0,
           0,
           0,
           0,
           0,
           0,
           0,
           0,
           0,
           0,
           0,
           0,
           0,
           0,
           0,
           0,
           0,
           0,
           0,
           0,
           0,
           -0.0016299472316386589,
           -0.003984007669397644,
           -0.009253094125912926,
           -0.02042085808870727,
           -0.042823404154889035,
           -0.08533134303687075,
           -0.16156830453404694,
           -0.2906858871427667,
           -0.4969491131208617,
           -0.8072723648226039,
           -1.2460872274330366,
           -1.8276666885977697,
           -2.5472158084184557,
           -3.3732977717012407,
           -4.244864293383165,
           -5.075667155066191,
           -5.766903073337676,
           -6.226046536578784,
           -6.387078677840001
          ],
          [
           0,
           0,
           0,
           0,
           0,
           0,
           0,
           0,
           0,
           0,
           0,
           0,
           0,
           0,
           0,
           0,
           0,
           0,
           0,
           0,
           0,
           0,
           0,
           0,
           0,
           0,
           0,
           0,
           0,
           0,
           0,
           0,
           0,
           0,
           0,
           0,
           0,
           0,
           0,
           0,
           0,
           -0.001759718723775373,
           -0.004301202367426041,
           -0.009989797626672257,
           -0.02204670533912373,
           -0.0462328746872366,
           -0.09212516770614655,
           -0.17443188659019934,
           -0.313829422458126,
           -0.5365147055976662,
           -0.8715449604688091,
           -1.3452969415253848,
           -1.9731800087249818,
           -2.7500174634882133,
           -3.6418695860261896,
           -4.5828276105860075,
           -5.479776495244065,
           -6.226046536578784,
           -6.721745620255357,
           -6.895598655866895
          ],
          [
           0,
           0,
           0,
           0,
           0,
           0,
           0,
           0,
           0,
           0,
           0,
           0,
           0,
           0,
           0,
           0,
           0,
           0,
           0,
           0,
           0,
           0,
           0,
           0,
           0,
           0,
           0,
           0,
           0,
           0,
           0,
           0,
           0,
           0,
           0,
           0,
           0,
           0,
           0,
           0,
           0,
           -0.001805232561881491,
           -0.004412449821674115,
           -0.010248176437870998,
           -0.022616927252444827,
           -0.04742865418612197,
           -0.09450791780809509,
           -0.17894343979444,
           -0.32194639100185496,
           -0.5503912661651043,
           -0.8940868336085552,
           -1.3800920632536333,
           -2.024214866886098,
           -2.821144654402945,
           -3.736063879979244,
           -4.701359095827556,
           -5.621506907549484,
           -6.387078677840001,
           -6.895598655866895,
           -7.073948273125359
          ]
         ]
        }
       ],
       "layout": {
        "plot_bgcolor": "white",
        "template": {
         "data": {
          "bar": [
           {
            "error_x": {
             "color": "#2a3f5f"
            },
            "error_y": {
             "color": "#2a3f5f"
            },
            "marker": {
             "line": {
              "color": "#E5ECF6",
              "width": 0.5
             }
            },
            "type": "bar"
           }
          ],
          "barpolar": [
           {
            "marker": {
             "line": {
              "color": "#E5ECF6",
              "width": 0.5
             }
            },
            "type": "barpolar"
           }
          ],
          "carpet": [
           {
            "aaxis": {
             "endlinecolor": "#2a3f5f",
             "gridcolor": "white",
             "linecolor": "white",
             "minorgridcolor": "white",
             "startlinecolor": "#2a3f5f"
            },
            "baxis": {
             "endlinecolor": "#2a3f5f",
             "gridcolor": "white",
             "linecolor": "white",
             "minorgridcolor": "white",
             "startlinecolor": "#2a3f5f"
            },
            "type": "carpet"
           }
          ],
          "choropleth": [
           {
            "colorbar": {
             "outlinewidth": 0,
             "ticks": ""
            },
            "type": "choropleth"
           }
          ],
          "contour": [
           {
            "colorbar": {
             "outlinewidth": 0,
             "ticks": ""
            },
            "colorscale": [
             [
              0,
              "#0d0887"
             ],
             [
              0.1111111111111111,
              "#46039f"
             ],
             [
              0.2222222222222222,
              "#7201a8"
             ],
             [
              0.3333333333333333,
              "#9c179e"
             ],
             [
              0.4444444444444444,
              "#bd3786"
             ],
             [
              0.5555555555555556,
              "#d8576b"
             ],
             [
              0.6666666666666666,
              "#ed7953"
             ],
             [
              0.7777777777777778,
              "#fb9f3a"
             ],
             [
              0.8888888888888888,
              "#fdca26"
             ],
             [
              1,
              "#f0f921"
             ]
            ],
            "type": "contour"
           }
          ],
          "contourcarpet": [
           {
            "colorbar": {
             "outlinewidth": 0,
             "ticks": ""
            },
            "type": "contourcarpet"
           }
          ],
          "heatmap": [
           {
            "colorbar": {
             "outlinewidth": 0,
             "ticks": ""
            },
            "colorscale": [
             [
              0,
              "#0d0887"
             ],
             [
              0.1111111111111111,
              "#46039f"
             ],
             [
              0.2222222222222222,
              "#7201a8"
             ],
             [
              0.3333333333333333,
              "#9c179e"
             ],
             [
              0.4444444444444444,
              "#bd3786"
             ],
             [
              0.5555555555555556,
              "#d8576b"
             ],
             [
              0.6666666666666666,
              "#ed7953"
             ],
             [
              0.7777777777777778,
              "#fb9f3a"
             ],
             [
              0.8888888888888888,
              "#fdca26"
             ],
             [
              1,
              "#f0f921"
             ]
            ],
            "type": "heatmap"
           }
          ],
          "heatmapgl": [
           {
            "colorbar": {
             "outlinewidth": 0,
             "ticks": ""
            },
            "colorscale": [
             [
              0,
              "#0d0887"
             ],
             [
              0.1111111111111111,
              "#46039f"
             ],
             [
              0.2222222222222222,
              "#7201a8"
             ],
             [
              0.3333333333333333,
              "#9c179e"
             ],
             [
              0.4444444444444444,
              "#bd3786"
             ],
             [
              0.5555555555555556,
              "#d8576b"
             ],
             [
              0.6666666666666666,
              "#ed7953"
             ],
             [
              0.7777777777777778,
              "#fb9f3a"
             ],
             [
              0.8888888888888888,
              "#fdca26"
             ],
             [
              1,
              "#f0f921"
             ]
            ],
            "type": "heatmapgl"
           }
          ],
          "histogram": [
           {
            "marker": {
             "colorbar": {
              "outlinewidth": 0,
              "ticks": ""
             }
            },
            "type": "histogram"
           }
          ],
          "histogram2d": [
           {
            "colorbar": {
             "outlinewidth": 0,
             "ticks": ""
            },
            "colorscale": [
             [
              0,
              "#0d0887"
             ],
             [
              0.1111111111111111,
              "#46039f"
             ],
             [
              0.2222222222222222,
              "#7201a8"
             ],
             [
              0.3333333333333333,
              "#9c179e"
             ],
             [
              0.4444444444444444,
              "#bd3786"
             ],
             [
              0.5555555555555556,
              "#d8576b"
             ],
             [
              0.6666666666666666,
              "#ed7953"
             ],
             [
              0.7777777777777778,
              "#fb9f3a"
             ],
             [
              0.8888888888888888,
              "#fdca26"
             ],
             [
              1,
              "#f0f921"
             ]
            ],
            "type": "histogram2d"
           }
          ],
          "histogram2dcontour": [
           {
            "colorbar": {
             "outlinewidth": 0,
             "ticks": ""
            },
            "colorscale": [
             [
              0,
              "#0d0887"
             ],
             [
              0.1111111111111111,
              "#46039f"
             ],
             [
              0.2222222222222222,
              "#7201a8"
             ],
             [
              0.3333333333333333,
              "#9c179e"
             ],
             [
              0.4444444444444444,
              "#bd3786"
             ],
             [
              0.5555555555555556,
              "#d8576b"
             ],
             [
              0.6666666666666666,
              "#ed7953"
             ],
             [
              0.7777777777777778,
              "#fb9f3a"
             ],
             [
              0.8888888888888888,
              "#fdca26"
             ],
             [
              1,
              "#f0f921"
             ]
            ],
            "type": "histogram2dcontour"
           }
          ],
          "mesh3d": [
           {
            "colorbar": {
             "outlinewidth": 0,
             "ticks": ""
            },
            "type": "mesh3d"
           }
          ],
          "parcoords": [
           {
            "line": {
             "colorbar": {
              "outlinewidth": 0,
              "ticks": ""
             }
            },
            "type": "parcoords"
           }
          ],
          "pie": [
           {
            "automargin": true,
            "type": "pie"
           }
          ],
          "scatter": [
           {
            "marker": {
             "colorbar": {
              "outlinewidth": 0,
              "ticks": ""
             }
            },
            "type": "scatter"
           }
          ],
          "scatter3d": [
           {
            "line": {
             "colorbar": {
              "outlinewidth": 0,
              "ticks": ""
             }
            },
            "marker": {
             "colorbar": {
              "outlinewidth": 0,
              "ticks": ""
             }
            },
            "type": "scatter3d"
           }
          ],
          "scattercarpet": [
           {
            "marker": {
             "colorbar": {
              "outlinewidth": 0,
              "ticks": ""
             }
            },
            "type": "scattercarpet"
           }
          ],
          "scattergeo": [
           {
            "marker": {
             "colorbar": {
              "outlinewidth": 0,
              "ticks": ""
             }
            },
            "type": "scattergeo"
           }
          ],
          "scattergl": [
           {
            "marker": {
             "colorbar": {
              "outlinewidth": 0,
              "ticks": ""
             }
            },
            "type": "scattergl"
           }
          ],
          "scattermapbox": [
           {
            "marker": {
             "colorbar": {
              "outlinewidth": 0,
              "ticks": ""
             }
            },
            "type": "scattermapbox"
           }
          ],
          "scatterpolar": [
           {
            "marker": {
             "colorbar": {
              "outlinewidth": 0,
              "ticks": ""
             }
            },
            "type": "scatterpolar"
           }
          ],
          "scatterpolargl": [
           {
            "marker": {
             "colorbar": {
              "outlinewidth": 0,
              "ticks": ""
             }
            },
            "type": "scatterpolargl"
           }
          ],
          "scatterternary": [
           {
            "marker": {
             "colorbar": {
              "outlinewidth": 0,
              "ticks": ""
             }
            },
            "type": "scatterternary"
           }
          ],
          "surface": [
           {
            "colorbar": {
             "outlinewidth": 0,
             "ticks": ""
            },
            "colorscale": [
             [
              0,
              "#0d0887"
             ],
             [
              0.1111111111111111,
              "#46039f"
             ],
             [
              0.2222222222222222,
              "#7201a8"
             ],
             [
              0.3333333333333333,
              "#9c179e"
             ],
             [
              0.4444444444444444,
              "#bd3786"
             ],
             [
              0.5555555555555556,
              "#d8576b"
             ],
             [
              0.6666666666666666,
              "#ed7953"
             ],
             [
              0.7777777777777778,
              "#fb9f3a"
             ],
             [
              0.8888888888888888,
              "#fdca26"
             ],
             [
              1,
              "#f0f921"
             ]
            ],
            "type": "surface"
           }
          ],
          "table": [
           {
            "cells": {
             "fill": {
              "color": "#EBF0F8"
             },
             "line": {
              "color": "white"
             }
            },
            "header": {
             "fill": {
              "color": "#C8D4E3"
             },
             "line": {
              "color": "white"
             }
            },
            "type": "table"
           }
          ]
         },
         "layout": {
          "annotationdefaults": {
           "arrowcolor": "#2a3f5f",
           "arrowhead": 0,
           "arrowwidth": 1
          },
          "autotypenumbers": "strict",
          "coloraxis": {
           "colorbar": {
            "outlinewidth": 0,
            "ticks": ""
           }
          },
          "colorscale": {
           "diverging": [
            [
             0,
             "#8e0152"
            ],
            [
             0.1,
             "#c51b7d"
            ],
            [
             0.2,
             "#de77ae"
            ],
            [
             0.3,
             "#f1b6da"
            ],
            [
             0.4,
             "#fde0ef"
            ],
            [
             0.5,
             "#f7f7f7"
            ],
            [
             0.6,
             "#e6f5d0"
            ],
            [
             0.7,
             "#b8e186"
            ],
            [
             0.8,
             "#7fbc41"
            ],
            [
             0.9,
             "#4d9221"
            ],
            [
             1,
             "#276419"
            ]
           ],
           "sequential": [
            [
             0,
             "#0d0887"
            ],
            [
             0.1111111111111111,
             "#46039f"
            ],
            [
             0.2222222222222222,
             "#7201a8"
            ],
            [
             0.3333333333333333,
             "#9c179e"
            ],
            [
             0.4444444444444444,
             "#bd3786"
            ],
            [
             0.5555555555555556,
             "#d8576b"
            ],
            [
             0.6666666666666666,
             "#ed7953"
            ],
            [
             0.7777777777777778,
             "#fb9f3a"
            ],
            [
             0.8888888888888888,
             "#fdca26"
            ],
            [
             1,
             "#f0f921"
            ]
           ],
           "sequentialminus": [
            [
             0,
             "#0d0887"
            ],
            [
             0.1111111111111111,
             "#46039f"
            ],
            [
             0.2222222222222222,
             "#7201a8"
            ],
            [
             0.3333333333333333,
             "#9c179e"
            ],
            [
             0.4444444444444444,
             "#bd3786"
            ],
            [
             0.5555555555555556,
             "#d8576b"
            ],
            [
             0.6666666666666666,
             "#ed7953"
            ],
            [
             0.7777777777777778,
             "#fb9f3a"
            ],
            [
             0.8888888888888888,
             "#fdca26"
            ],
            [
             1,
             "#f0f921"
            ]
           ]
          },
          "colorway": [
           "#636efa",
           "#EF553B",
           "#00cc96",
           "#ab63fa",
           "#FFA15A",
           "#19d3f3",
           "#FF6692",
           "#B6E880",
           "#FF97FF",
           "#FECB52"
          ],
          "font": {
           "color": "#2a3f5f"
          },
          "geo": {
           "bgcolor": "white",
           "lakecolor": "white",
           "landcolor": "#E5ECF6",
           "showlakes": true,
           "showland": true,
           "subunitcolor": "white"
          },
          "hoverlabel": {
           "align": "left"
          },
          "hovermode": "closest",
          "mapbox": {
           "style": "light"
          },
          "paper_bgcolor": "white",
          "plot_bgcolor": "#E5ECF6",
          "polar": {
           "angularaxis": {
            "gridcolor": "white",
            "linecolor": "white",
            "ticks": ""
           },
           "bgcolor": "#E5ECF6",
           "radialaxis": {
            "gridcolor": "white",
            "linecolor": "white",
            "ticks": ""
           }
          },
          "scene": {
           "xaxis": {
            "backgroundcolor": "#E5ECF6",
            "gridcolor": "white",
            "gridwidth": 2,
            "linecolor": "white",
            "showbackground": true,
            "ticks": "",
            "zerolinecolor": "white"
           },
           "yaxis": {
            "backgroundcolor": "#E5ECF6",
            "gridcolor": "white",
            "gridwidth": 2,
            "linecolor": "white",
            "showbackground": true,
            "ticks": "",
            "zerolinecolor": "white"
           },
           "zaxis": {
            "backgroundcolor": "#E5ECF6",
            "gridcolor": "white",
            "gridwidth": 2,
            "linecolor": "white",
            "showbackground": true,
            "ticks": "",
            "zerolinecolor": "white"
           }
          },
          "shapedefaults": {
           "line": {
            "color": "#2a3f5f"
           }
          },
          "ternary": {
           "aaxis": {
            "gridcolor": "white",
            "linecolor": "white",
            "ticks": ""
           },
           "baxis": {
            "gridcolor": "white",
            "linecolor": "white",
            "ticks": ""
           },
           "bgcolor": "#E5ECF6",
           "caxis": {
            "gridcolor": "white",
            "linecolor": "white",
            "ticks": ""
           }
          },
          "title": {
           "x": 0.05
          },
          "xaxis": {
           "automargin": true,
           "gridcolor": "white",
           "linecolor": "white",
           "ticks": "",
           "title": {
            "standoff": 15
           },
           "zerolinecolor": "white",
           "zerolinewidth": 2
          },
          "yaxis": {
           "automargin": true,
           "gridcolor": "white",
           "linecolor": "white",
           "ticks": "",
           "title": {
            "standoff": 15
           },
           "zerolinecolor": "white",
           "zerolinewidth": 2
          }
         }
        },
        "title": {
         "text": "Heat kernel representation of diagram 0 in homology dimension 1"
        },
        "xaxis": {
         "constrain": "domain",
         "scaleanchor": "y"
        },
        "yaxis": {
         "autorange": true,
         "constrain": "domain"
        }
       }
      },
      "text/html": [
       "<div>                            <div id=\"ff2fe626-9bb5-427d-a04d-b36aa80b4ada\" class=\"plotly-graph-div\" style=\"height:525px; width:100%;\"></div>            <script type=\"text/javascript\">                require([\"plotly\"], function(Plotly) {                    window.PLOTLYENV=window.PLOTLYENV || {};                                    if (document.getElementById(\"ff2fe626-9bb5-427d-a04d-b36aa80b4ada\")) {                    Plotly.newPlot(                        \"ff2fe626-9bb5-427d-a04d-b36aa80b4ada\",                        [{\"colorscale\": [[0.0, \"#440154\"], [0.1111111111111111, \"#482878\"], [0.2222222222222222, \"#3e4989\"], [0.3333333333333333, \"#31688e\"], [0.4444444444444444, \"#26828e\"], [0.5555555555555556, \"#1f9e89\"], [0.6666666666666666, \"#35b779\"], [0.7777777777777778, \"#6ece58\"], [0.8888888888888888, \"#b5de2b\"], [1.0, \"#fde725\"]], \"type\": \"heatmap\", \"x\": [2.6666666666666665, 2.700564971751412, 2.734463276836158, 2.768361581920904, 2.8022598870056497, 2.8361581920903953, 2.870056497175141, 2.9039548022598867, 2.937853107344633, 2.9717514124293785, 3.005649717514124, 3.03954802259887, 3.073446327683616, 3.1073446327683616, 3.1412429378531073, 3.175141242937853, 3.2090395480225986, 3.2429378531073447, 3.2768361581920904, 3.310734463276836, 3.344632768361582, 3.378531073446328, 3.4124293785310735, 3.446327683615819, 3.480225988700565, 3.5141242937853105, 3.5480225988700567, 3.5819209039548023, 3.615819209039548, 3.6497175141242937, 3.68361581920904, 3.7175141242937855, 3.751412429378531, 3.785310734463277, 3.8192090395480225, 3.853107344632768, 3.8870056497175143, 3.92090395480226, 3.954802259887006, 3.9887005649717517, 4.022598870056497, 4.056497175141243, 4.090395480225989, 4.124293785310734, 4.15819209039548, 4.192090395480227, 4.225988700564972, 4.259887005649718, 4.293785310734464, 4.327683615819209, 4.361581920903955, 4.395480225988701, 4.429378531073446, 4.463276836158192, 4.497175141242938, 4.531073446327683, 4.564971751412429, 4.598870056497176, 4.632768361581921, 4.666666666666667], \"y\": [4.666666666666667, 4.632768361581921, 4.598870056497176, 4.564971751412429, 4.531073446327683, 4.497175141242938, 4.463276836158192, 4.429378531073446, 4.395480225988701, 4.361581920903955, 4.327683615819209, 4.293785310734464, 4.259887005649718, 4.225988700564972, 4.192090395480227, 4.15819209039548, 4.124293785310734, 4.090395480225989, 4.056497175141243, 4.022598870056497, 3.9887005649717517, 3.954802259887006, 3.92090395480226, 3.8870056497175143, 3.853107344632768, 3.8192090395480225, 3.785310734463277, 3.751412429378531, 3.7175141242937855, 3.68361581920904, 3.6497175141242937, 3.615819209039548, 3.5819209039548023, 3.5480225988700567, 3.5141242937853105, 3.480225988700565, 3.446327683615819, 3.4124293785310735, 3.378531073446328, 3.344632768361582, 3.310734463276836, 3.2768361581920904, 3.2429378531073447, 3.2090395480225986, 3.175141242937853, 3.1412429378531073, 3.1073446327683616, 3.073446327683616, 3.03954802259887, 3.005649717514124, 2.9717514124293785, 2.937853107344633, 2.9039548022598867, 2.870056497175141, 2.8361581920903953, 2.8022598870056497, 2.768361581920904, 2.734463276836158, 2.700564971751412, 2.6666666666666665], \"z\": [[7.073948273125359, 6.895598655866895, 6.387078677840001, 5.621506907549484, 4.701359095827556, 3.736063879979244, 2.821144654402945, 2.024214866886098, 1.3800920632536333, 0.8940868336085552, 0.5503912661651043, 0.32194639100185496, 0.17894343979444, 0.09450791780809509, 0.04742865418612197, 0.022616927252444827, 0.010248176437870998, 0.004412449821674115, 0.001805232561881491, 0.0, 0.0, 0.0, 0.0, 0.0, 0.0, 0.0, 0.0, 0.0, 0.0, 0.0, 0.0, 0.0, 0.0, 0.0, 0.0, 0.0, 0.0, 0.0, 0.0, 0.0, 0.0, 0.0, 0.0, 0.0, 0.0, 0.0, 0.0, 0.0, 0.0, 0.0, 0.0, 0.0, 0.0, 0.0, 0.0, 0.0, 0.0, 0.0, 0.0, 0.0], [6.895598655866895, 6.721745620255357, 6.226046536578784, 5.479776495244065, 4.5828276105860075, 3.6418695860261896, 2.7500174634882133, 1.9731800087249818, 1.3452969415253848, 0.8715449604688091, 0.5365147055976662, 0.313829422458126, 0.17443188659019934, 0.09212516770614655, 0.0462328746872366, 0.02204670533912373, 0.009989797626672257, 0.004301202367426041, 0.001759718723775373, 0.0, 0.0, 0.0, 0.0, 0.0, 0.0, 0.0, 0.0, 0.0, 0.0, 0.0, 0.0, 0.0, 0.0, 0.0, 0.0, 0.0, 0.0, 0.0, 0.0, 0.0, 0.0, 0.0, 0.0, 0.0, 0.0, 0.0, 0.0, 0.0, 0.0, 0.0, 0.0, 0.0, 0.0, 0.0, 0.0, 0.0, 0.0, 0.0, 0.0, 0.0], [6.387078677840001, 6.226046536578784, 5.766903073337676, 5.075667155066191, 4.244864293383165, 3.3732977717012407, 2.5472158084184557, 1.8276666885977697, 1.2460872274330366, 0.8072723648226039, 0.4969491131208617, 0.2906858871427667, 0.16156830453404694, 0.08533134303687075, 0.042823404154889035, 0.02042085808870727, 0.009253094125912926, 0.003984007669397644, 0.0016299472316386589, 0.0, 0.0, 0.0, 0.0, 0.0, 0.0, 0.0, 0.0, 0.0, 0.0, 0.0, 0.0, 0.0, 0.0, 0.0, 0.0, 0.0, 0.0, 0.0, 0.0, 0.0, 0.0, 0.0, 0.0, 0.0, 0.0, 0.0, 0.0, 0.0, 0.0, 0.0, 0.0, 0.0, 0.0, 0.0, 0.0, 0.0, 0.0, 0.0, 0.0, 0.0], [5.621506907549484, 5.479776495244065, 5.075667155066191, 4.467284561817228, 3.736063879979244, 2.9689655758636695, 2.2418999333332295, 1.6085978321038972, 1.0967279893901243, 0.7105106111920915, 0.4373835070799944, 0.2558435248605446, 0.14220230966159952, 0.07510330755381685, 0.03769048017158657, 0.017973161220330804, 0.00814399433116363, 0.003506474205641531, 0.0014345775406506445, 0.0, 0.0, 0.0, 0.0, 0.0, 0.0, 0.0, 0.0, 0.0, 0.0, 0.0, 0.0, 0.0, 0.0, 0.0, 0.0, 0.0, 0.0, 0.0, 0.0, 0.0, 0.0, 0.0, 0.0, 0.0, 0.0, 0.0, 0.0, 0.0, 0.0, 0.0, 0.0, 0.0, 0.0, 0.0, 0.0, 0.0, 0.0, 0.0, 0.0, 0.0], [4.701359095827556, 4.5828276105860075, 4.244864293383165, 3.736063879979244, 3.1245319437648664, 2.4829949593302523, 1.8749379511313164, 1.345296941525385, 0.9172117358147251, 0.5942117619964041, 0.365791052682681, 0.21396616645554078, 0.11892614079641471, 0.06281013683727527, 0.03152117122596223, 0.01503125165078053, 0.006810957000473481, 0.0029325223062233526, 0.0011997608969136475, 0.0, 0.0, 0.0, 0.0, 0.0, 0.0, 0.0, 0.0, 0.0, 0.0, 0.0, 0.0, 0.0, 0.0, 0.0, 0.0, 0.0, 0.0, 0.0, 0.0, 0.0, 0.0, 0.0, 0.0, 0.0, 0.0, 0.0, 0.0, 0.0, 0.0, 0.0, 0.0, 0.0, 0.0, 0.0, 0.0, 0.0, 0.0, 0.0, 0.0, 0.0], [3.736063879979244, 3.6418695860261896, 3.3732977717012407, 2.9689655758636695, 2.4829949593302523, 1.9731800087249811, 1.4899708389943707, 1.0690770920987942, 0.7288874486340984, 0.4722066653074522, 0.2906858871427668, 0.1700340794519674, 0.0945079178080951, 0.049913797000224976, 0.025049162778583486, 0.011944996163598598, 0.0054125136835737895, 0.002330409237456037, 0.0009534228847885035, 0.0, 0.0, 0.0, 0.0, 0.0, 0.0, 0.0, 0.0, 0.0, 0.0, 0.0, 0.0, 0.0, 0.0, 0.0, 0.0, 0.0, 0.0, 0.0, 0.0, 0.0, 0.0, 0.0, 0.0, 0.0, 0.0, 0.0, 0.0, 0.0, 0.0, 0.0, 0.0, 0.0, 0.0, 0.0, 0.0, 0.0, 0.0, 0.0, 0.0, 0.0], [2.821144654402945, 2.7500174634882133, 2.5472158084184557, 2.2418999333332295, 1.8749379511313164, 1.4899708389943707, 1.1250940569219048, 0.8072723648226042, 0.5503912661651043, 0.3565686648840063, 0.21950024490152734, 0.12839468213667388, 0.07136401188208313, 0.03769048017158656, 0.01891490989989781, 0.009019803503463406, 0.0040870511147100145, 0.001759718723775373, 0.0007199405473820392, 0.0, 0.0, 0.0, 0.0, 0.0, 0.0, 0.0, 0.0, 0.0, 0.0, 0.0, 0.0, 0.0, 0.0, 0.0, 0.0, 0.0, 0.0, 0.0, 0.0, 0.0, 0.0, 0.0, 0.0, 0.0, 0.0, 0.0, 0.0, 0.0, 0.0, 0.0, 0.0, 0.0, 0.0, 0.0, 0.0, 0.0, 0.0, 0.0, 0.0, 0.0], [2.024214866886098, 1.9731800087249818, 1.8276666885977697, 1.6085978321038972, 1.345296941525385, 1.0690770920987942, 0.8072723648226042, 0.5792303914476323, 0.3949142351977173, 0.2558435248605446, 0.15749481626947773, 0.09212516770614657, 0.05120478086329144, 0.027043501716344166, 0.01357174002596023, 0.0064718483398597615, 0.002932522306223354, 0.0012626253661416015, 0.0005165684634463591, 0.0, 0.0, 0.0, 0.0, 0.0, 0.0, 0.0, 0.0, 0.0, 0.0, 0.0, 0.0, 0.0, 0.0, 0.0, 0.0, 0.0, 0.0, 0.0, 0.0, 0.0, 0.0, 0.0, 0.0, 0.0, 0.0, 0.0, 0.0, 0.0, 0.0, 0.0, 0.0, 0.0, 0.0, 0.0, 0.0, 0.0, 0.0, 0.0, 0.0, 0.0], [1.3800920632536333, 1.3452969415253848, 1.2460872274330366, 1.0967279893901243, 0.9172117358147251, 0.7288874486340984, 0.5503912661651043, 0.3949142351977173, 0.26924908544944315, 0.17443188659019931, 0.10737859379101476, 0.06281013683727528, 0.03491097354639005, 0.01843802389354387, 0.009253094125912926, 0.0044124498216741165, 0.0019993681631036175, 0.000860846975872344, 0.0003521918785361633, 0.0, 0.0, 0.0, 0.0, 0.0, 0.0, 0.0, 0.0, 0.0, 0.0, 0.0, 0.0, 0.0, 0.0, 0.0, 0.0, 0.0, 0.0, 0.0, 0.0, 0.0, 0.0, 0.0, 0.0, 0.0, 0.0, 0.0, 0.0, 0.0, 0.0, 0.0, 0.0, 0.0, 0.0, 0.0, 0.0, 0.0, 0.0, 0.0, 0.0, 0.0], [0.8940868336085552, 0.8715449604688091, 0.8072723648226039, 0.7105106111920915, 0.5942117619964041, 0.4722066653074522, 0.3565686648840063, 0.2558435248605446, 0.17443188659019931, 0.1130049634472364, 0.06956476997165639, 0.04069128274744586, 0.022616927252444827, 0.011944996163598596, 0.00599457807808506, 0.002858587042531388, 0.0012952822480209712, 0.0005576960895381615, 0.00022816602593937, 0.0, 0.0, 0.0, 0.0, 0.0, 0.0, 0.0, 0.0, 0.0, 0.0, 0.0, 0.0, 0.0, 0.0, 0.0, 0.0, 0.0, 0.0, 0.0, 0.0, 0.0, 0.0, 0.0, 0.0, 0.0, 0.0, 0.0, 0.0, 0.0, 0.0, 0.0, 0.0, 0.0, 0.0, 0.0, 0.0, 0.0, 0.0, 0.0, 0.0, 0.0], [0.5503912661651043, 0.5365147055976662, 0.4969491131208617, 0.4373835070799944, 0.365791052682681, 0.2906858871427668, 0.21950024490152734, 0.15749481626947773, 0.10737859379101476, 0.06956476997165639, 0.04282340415488904, 0.025049162778583486, 0.013922763158245048, 0.007353224894595334, 0.0036902046809105843, 0.0017597187237753731, 0.0007973633093914552, 0.0003433123554871897, 0.00014045681380384914, 0.0, 0.0, 0.0, 0.0, 0.0, 0.0, 0.0, 0.0, 0.0, 0.0, 0.0, 0.0, 0.0, 0.0, 0.0, 0.0, 0.0, 0.0, 0.0, 0.0, 0.0, 0.0, 0.0, 0.0, 0.0, 0.0, 0.0, 0.0, 0.0, 0.0, 0.0, 0.0, 0.0, 0.0, 0.0, 0.0, 0.0, 0.0, 0.0, 0.0, 0.0], [0.32194639100185496, 0.313829422458126, 0.2906858871427667, 0.2558435248605446, 0.21396616645554078, 0.1700340794519674, 0.12839468213667388, 0.09212516770614657, 0.06281013683727528, 0.04069128274744586, 0.025049162778583486, 0.014652281113348547, 0.00814399433116363, 0.0043012023674260415, 0.0021585518377773972, 0.0010293315448939638, 0.00046641045299375834, 0.00020081745592650952, 8.215894232995325e-05, 0.0, 0.0, 0.0, 0.0, 0.0, 0.0, 0.0, 0.0, 0.0, 0.0, 0.0, 0.0, 0.0, 0.0, 0.0, 0.0, 0.0, 0.0, 0.0, 0.0, 0.0, 0.0, 0.0, 0.0, 0.0, 0.0, 0.0, 0.0, 0.0, 0.0, 0.0, 0.0, 0.0, 0.0, 0.0, 0.0, 0.0, 0.0, 0.0, 0.0, 0.0], [0.17894343979444, 0.17443188659019934, 0.16156830453404694, 0.14220230966159952, 0.11892614079641471, 0.0945079178080951, 0.07136401188208313, 0.05120478086329144, 0.03491097354639005, 0.022616927252444827, 0.013922763158245048, 0.00814399433116363, 0.00452657460998357, 0.0023906835684167366, 0.001199760896913648, 0.0005721204911136575, 0.0002592390942947554, 0.00011161785731603655, 4.566537834030309e-05, 0.0, 0.0, 0.0, 0.0, 0.0, 0.0, 0.0, 0.0, 0.0, 0.0, 0.0, 0.0, 0.0, 0.0, 0.0, 0.0, 0.0, 0.0, 0.0, 0.0, 0.0, 0.0, 0.0, 0.0, 0.0, 0.0, 0.0, 0.0, 0.0, 0.0, 0.0, 0.0, 0.0, 0.0, 0.0, 0.0, 0.0, 0.0, 0.0, 0.0, 0.0], [0.09450791780809509, 0.09212516770614655, 0.08533134303687075, 0.07510330755381685, 0.06281013683727527, 0.049913797000224976, 0.03769048017158656, 0.027043501716344166, 0.01843802389354387, 0.011944996163598596, 0.007353224894595334, 0.0043012023674260415, 0.0023906835684167366, 0.0012626253661416015, 0.0006336466112707674, 0.0003021620485926111, 0.0001369155921245178, 5.8950310205601796e-05, 2.411789908486506e-05, 0.0, 0.0, 0.0, 0.0, 0.0, 0.0, 0.0, 0.0, 0.0, 0.0, 0.0, 0.0, 0.0, 0.0, 0.0, 0.0, 0.0, 0.0, 0.0, 0.0, 0.0, 0.0, 0.0, 0.0, 0.0, 0.0, 0.0, 0.0, 0.0, 0.0, 0.0, 0.0, 0.0, 0.0, 0.0, 0.0, 0.0, 0.0, 0.0, 0.0, 0.0], [0.04742865418612197, 0.0462328746872366, 0.042823404154889035, 0.03769048017158657, 0.03152117122596223, 0.025049162778583486, 0.01891490989989781, 0.01357174002596023, 0.009253094125912926, 0.00599457807808506, 0.0036902046809105843, 0.0021585518377773972, 0.001199760896913648, 0.0006336466112707674, 0.0003179945839373375, 0.00015163956251760315, 6.871088076184089e-05, 2.9584123126947345e-05, 1.2103530814366048e-05, 0.0, 0.0, 0.0, 0.0, 0.0, 0.0, 0.0, 0.0, 0.0, 0.0, 0.0, 0.0, 0.0, 0.0, 0.0, 0.0, 0.0, 0.0, 0.0, 0.0, 0.0, 0.0, 0.0, 0.0, 0.0, 0.0, 0.0, 0.0, 0.0, 0.0, 0.0, 0.0, 0.0, 0.0, 0.0, 0.0, 0.0, 0.0, 0.0, 0.0, 0.0], [0.022616927252444827, 0.02204670533912373, 0.02042085808870727, 0.017973161220330804, 0.01503125165078053, 0.011944996163598598, 0.009019803503463406, 0.0064718483398597615, 0.0044124498216741165, 0.002858587042531388, 0.0017597187237753731, 0.0010293315448939638, 0.0005721204911136575, 0.0003021620485926111, 0.00015163956251760315, 7.231115900093843e-05, 3.276561433819239e-05, 1.4107546842122366e-05, 5.771715023833445e-06, 0.0, 0.0, 0.0, 0.0, 0.0, 0.0, 0.0, 0.0, 0.0, 0.0, 0.0, 0.0, 0.0, 0.0, 0.0, 0.0, 0.0, 0.0, 0.0, 0.0, 0.0, 0.0, 0.0, 0.0, 0.0, 0.0, 0.0, 0.0, 0.0, 0.0, 0.0, 0.0, 0.0, 0.0, 0.0, 0.0, 0.0, 0.0, 0.0, 0.0, 0.0], [0.010248176437870998, 0.009989797626672257, 0.009253094125912926, 0.00814399433116363, 0.006810957000473481, 0.0054125136835737895, 0.0040870511147100145, 0.002932522306223354, 0.0019993681631036175, 0.0012952822480209712, 0.0007973633093914552, 0.00046641045299375834, 0.0002592390942947554, 0.0001369155921245178, 6.871088076184089e-05, 3.276561433819239e-05, 1.4846746999937116e-05, 6.392408107868476e-06, 2.6152780726197916e-06, 0.0, 0.0, 0.0, 0.0, 0.0, 0.0, 0.0, 0.0, 0.0, 0.0, 0.0, 0.0, 0.0, 0.0, 0.0, 0.0, 0.0, 0.0, 0.0, 0.0, 0.0, 0.0, 0.0, 0.0, 0.0, 0.0, 0.0, 0.0, 0.0, 0.0, 0.0, 0.0, 0.0, 0.0, 0.0, 0.0, 0.0, 0.0, 0.0, 0.0, 0.0], [0.004412449821674115, 0.004301202367426041, 0.003984007669397644, 0.003506474205641531, 0.0029325223062233526, 0.002330409237456037, 0.001759718723775373, 0.0012626253661416015, 0.000860846975872344, 0.0005576960895381615, 0.0003433123554871897, 0.00020081745592650952, 0.00011161785731603655, 5.8950310205601796e-05, 2.9584123126947345e-05, 1.4107546842122366e-05, 6.392408107868476e-06, 2.7523121002678705e-06, 1.1260328444888435e-06, 0.0, 0.0, 0.0, 0.0, 0.0, 0.0, 0.0, 0.0, 0.0, 0.0, 0.0, 0.0, 0.0, 0.0, 0.0, 0.0, 0.0, 0.0, 0.0, 0.0, 0.0, 0.0, 0.0, 0.0, 0.0, 0.0, 0.0, 0.0, 0.0, 0.0, 0.0, 0.0, 0.0, 0.0, 0.0, 0.0, 0.0, 0.0, 0.0, 0.0, 0.0], [0.001805232561881491, 0.001759718723775373, 0.0016299472316386589, 0.0014345775406506445, 0.0011997608969136475, 0.0009534228847885035, 0.0007199405473820392, 0.0005165684634463591, 0.0003521918785361633, 0.00022816602593937, 0.00014045681380384914, 8.215894232995325e-05, 4.566537834030309e-05, 2.411789908486506e-05, 1.2103530814366048e-05, 5.771715023833445e-06, 2.6152780726197916e-06, 1.1260328444888435e-06, 4.6068538765797384e-07, 0.0, 0.0, 0.0, 0.0, 0.0, 0.0, 0.0, 0.0, 0.0, 0.0, 0.0, 0.0, 0.0, 0.0, 0.0, 0.0, 0.0, 0.0, 0.0, 0.0, 0.0, 0.0, 0.0, 0.0, 0.0, 0.0, 0.0, 0.0, 0.0, 0.0, 0.0, 0.0, 0.0, 0.0, 0.0, 0.0, 0.0, 0.0, 0.0, 0.0, 0.0], [0.0, 0.0, 0.0, 0.0, 0.0, 0.0, 0.0, 0.0, 0.0, 0.0, 0.0, 0.0, 0.0, 0.0, 0.0, 0.0, 0.0, 0.0, 0.0, 0.0, 0.0, 0.0, 0.0, 0.0, 0.0, 0.0, 0.0, 0.0, 0.0, 0.0, 0.0, 0.0, 0.0, 0.0, 0.0, 0.0, 0.0, 0.0, 0.0, 0.0, 0.0, 0.0, 0.0, 0.0, 0.0, 0.0, 0.0, 0.0, 0.0, 0.0, 0.0, 0.0, 0.0, 0.0, 0.0, 0.0, 0.0, 0.0, 0.0, 0.0], [0.0, 0.0, 0.0, 0.0, 0.0, 0.0, 0.0, 0.0, 0.0, 0.0, 0.0, 0.0, 0.0, 0.0, 0.0, 0.0, 0.0, 0.0, 0.0, 0.0, 0.0, 0.0, 0.0, 0.0, 0.0, 0.0, 0.0, 0.0, 0.0, 0.0, 0.0, 0.0, 0.0, 0.0, 0.0, 0.0, 0.0, 0.0, 0.0, 0.0, 0.0, 0.0, 0.0, 0.0, 0.0, 0.0, 0.0, 0.0, 0.0, 0.0, 0.0, 0.0, 0.0, 0.0, 0.0, 0.0, 0.0, 0.0, 0.0, 0.0], [0.0, 0.0, 0.0, 0.0, 0.0, 0.0, 0.0, 0.0, 0.0, 0.0, 0.0, 0.0, 0.0, 0.0, 0.0, 0.0, 0.0, 0.0, 0.0, 0.0, 0.0, 0.0, 0.0, 0.0, 0.0, 0.0, 0.0, 0.0, 0.0, 0.0, 0.0, 0.0, 0.0, 0.0, 0.0, 0.0, 0.0, 0.0, 0.0, 0.0, 0.0, 0.0, 0.0, 0.0, 0.0, 0.0, 0.0, 0.0, 0.0, 0.0, 0.0, 0.0, 0.0, 0.0, 0.0, 0.0, 0.0, 0.0, 0.0, 0.0], [0.0, 0.0, 0.0, 0.0, 0.0, 0.0, 0.0, 0.0, 0.0, 0.0, 0.0, 0.0, 0.0, 0.0, 0.0, 0.0, 0.0, 0.0, 0.0, 0.0, 0.0, 0.0, 0.0, 0.0, 0.0, 0.0, 0.0, 0.0, 0.0, 0.0, 0.0, 0.0, 0.0, 0.0, 0.0, 0.0, 0.0, 0.0, 0.0, 0.0, 0.0, 0.0, 0.0, 0.0, 0.0, 0.0, 0.0, 0.0, 0.0, 0.0, 0.0, 0.0, 0.0, 0.0, 0.0, 0.0, 0.0, 0.0, 0.0, 0.0], [0.0, 0.0, 0.0, 0.0, 0.0, 0.0, 0.0, 0.0, 0.0, 0.0, 0.0, 0.0, 0.0, 0.0, 0.0, 0.0, 0.0, 0.0, 0.0, 0.0, 0.0, 0.0, 0.0, 0.0, 0.0, 0.0, 0.0, 0.0, 0.0, 0.0, 0.0, 0.0, 0.0, 0.0, 0.0, 0.0, 0.0, 0.0, 0.0, 0.0, 0.0, 0.0, 0.0, 0.0, 0.0, 0.0, 0.0, 0.0, 0.0, 0.0, 0.0, 0.0, 0.0, 0.0, 0.0, 0.0, 0.0, 0.0, 0.0, 0.0], [0.0, 0.0, 0.0, 0.0, 0.0, 0.0, 0.0, 0.0, 0.0, 0.0, 0.0, 0.0, 0.0, 0.0, 0.0, 0.0, 0.0, 0.0, 0.0, 0.0, 0.0, 0.0, 0.0, 0.0, 0.0, 0.0, 0.0, 0.0, 0.0, 0.0, 0.0, 0.0, 0.0, 0.0, 0.0, 0.0, 0.0, 0.0, 0.0, 0.0, 0.0, 0.0, 0.0, 0.0, 0.0, 0.0, 0.0, 0.0, 0.0, 0.0, 0.0, 0.0, 0.0, 0.0, 0.0, 0.0, 0.0, 0.0, 0.0, 0.0], [0.0, 0.0, 0.0, 0.0, 0.0, 0.0, 0.0, 0.0, 0.0, 0.0, 0.0, 0.0, 0.0, 0.0, 0.0, 0.0, 0.0, 0.0, 0.0, 0.0, 0.0, 0.0, 0.0, 0.0, 0.0, 0.0, 0.0, 0.0, 0.0, 0.0, 0.0, 0.0, 0.0, 0.0, 0.0, 0.0, 0.0, 0.0, 0.0, 0.0, 0.0, 0.0, 0.0, 0.0, 0.0, 0.0, 0.0, 0.0, 0.0, 0.0, 0.0, 0.0, 0.0, 0.0, 0.0, 0.0, 0.0, 0.0, 0.0, 0.0], [0.0, 0.0, 0.0, 0.0, 0.0, 0.0, 0.0, 0.0, 0.0, 0.0, 0.0, 0.0, 0.0, 0.0, 0.0, 0.0, 0.0, 0.0, 0.0, 0.0, 0.0, 0.0, 0.0, 0.0, 0.0, 0.0, 0.0, 0.0, 0.0, 0.0, 0.0, 0.0, 0.0, 0.0, 0.0, 0.0, 0.0, 0.0, 0.0, 0.0, 0.0, 0.0, 0.0, 0.0, 0.0, 0.0, 0.0, 0.0, 0.0, 0.0, 0.0, 0.0, 0.0, 0.0, 0.0, 0.0, 0.0, 0.0, 0.0, 0.0], [0.0, 0.0, 0.0, 0.0, 0.0, 0.0, 0.0, 0.0, 0.0, 0.0, 0.0, 0.0, 0.0, 0.0, 0.0, 0.0, 0.0, 0.0, 0.0, 0.0, 0.0, 0.0, 0.0, 0.0, 0.0, 0.0, 0.0, 0.0, 0.0, 0.0, 0.0, 0.0, 0.0, 0.0, 0.0, 0.0, 0.0, 0.0, 0.0, 0.0, 0.0, 0.0, 0.0, 0.0, 0.0, 0.0, 0.0, 0.0, 0.0, 0.0, 0.0, 0.0, 0.0, 0.0, 0.0, 0.0, 0.0, 0.0, 0.0, 0.0], [0.0, 0.0, 0.0, 0.0, 0.0, 0.0, 0.0, 0.0, 0.0, 0.0, 0.0, 0.0, 0.0, 0.0, 0.0, 0.0, 0.0, 0.0, 0.0, 0.0, 0.0, 0.0, 0.0, 0.0, 0.0, 0.0, 0.0, 0.0, 0.0, 0.0, 0.0, 0.0, 0.0, 0.0, 0.0, 0.0, 0.0, 0.0, 0.0, 0.0, 0.0, 0.0, 0.0, 0.0, 0.0, 0.0, 0.0, 0.0, 0.0, 0.0, 0.0, 0.0, 0.0, 0.0, 0.0, 0.0, 0.0, 0.0, 0.0, 0.0], [0.0, 0.0, 0.0, 0.0, 0.0, 0.0, 0.0, 0.0, 0.0, 0.0, 0.0, 0.0, 0.0, 0.0, 0.0, 0.0, 0.0, 0.0, 0.0, 0.0, 0.0, 0.0, 0.0, 0.0, 0.0, 0.0, 0.0, 0.0, 0.0, 0.0, 0.0, 0.0, 0.0, 0.0, 0.0, 0.0, 0.0, 0.0, 0.0, 0.0, 0.0, 0.0, 0.0, 0.0, 0.0, 0.0, 0.0, 0.0, 0.0, 0.0, 0.0, 0.0, 0.0, 0.0, 0.0, 0.0, 0.0, 0.0, 0.0, 0.0], [0.0, 0.0, 0.0, 0.0, 0.0, 0.0, 0.0, 0.0, 0.0, 0.0, 0.0, 0.0, 0.0, 0.0, 0.0, 0.0, 0.0, 0.0, 0.0, 0.0, 0.0, 0.0, 0.0, 0.0, 0.0, 0.0, 0.0, 0.0, 0.0, 0.0, 0.0, 0.0, 0.0, 0.0, 0.0, 0.0, 0.0, 0.0, 0.0, 0.0, 0.0, 0.0, 0.0, 0.0, 0.0, 0.0, 0.0, 0.0, 0.0, 0.0, 0.0, 0.0, 0.0, 0.0, 0.0, 0.0, 0.0, 0.0, 0.0, 0.0], [0.0, 0.0, 0.0, 0.0, 0.0, 0.0, 0.0, 0.0, 0.0, 0.0, 0.0, 0.0, 0.0, 0.0, 0.0, 0.0, 0.0, 0.0, 0.0, 0.0, 0.0, 0.0, 0.0, 0.0, 0.0, 0.0, 0.0, 0.0, 0.0, 0.0, 0.0, 0.0, 0.0, 0.0, 0.0, 0.0, 0.0, 0.0, 0.0, 0.0, 0.0, 0.0, 0.0, 0.0, 0.0, 0.0, 0.0, 0.0, 0.0, 0.0, 0.0, 0.0, 0.0, 0.0, 0.0, 0.0, 0.0, 0.0, 0.0, 0.0], [0.0, 0.0, 0.0, 0.0, 0.0, 0.0, 0.0, 0.0, 0.0, 0.0, 0.0, 0.0, 0.0, 0.0, 0.0, 0.0, 0.0, 0.0, 0.0, 0.0, 0.0, 0.0, 0.0, 0.0, 0.0, 0.0, 0.0, 0.0, 0.0, 0.0, 0.0, 0.0, 0.0, 0.0, 0.0, 0.0, 0.0, 0.0, 0.0, 0.0, 0.0, 0.0, 0.0, 0.0, 0.0, 0.0, 0.0, 0.0, 0.0, 0.0, 0.0, 0.0, 0.0, 0.0, 0.0, 0.0, 0.0, 0.0, 0.0, 0.0], [0.0, 0.0, 0.0, 0.0, 0.0, 0.0, 0.0, 0.0, 0.0, 0.0, 0.0, 0.0, 0.0, 0.0, 0.0, 0.0, 0.0, 0.0, 0.0, 0.0, 0.0, 0.0, 0.0, 0.0, 0.0, 0.0, 0.0, 0.0, 0.0, 0.0, 0.0, 0.0, 0.0, 0.0, 0.0, 0.0, 0.0, 0.0, 0.0, 0.0, 0.0, 0.0, 0.0, 0.0, 0.0, 0.0, 0.0, 0.0, 0.0, 0.0, 0.0, 0.0, 0.0, 0.0, 0.0, 0.0, 0.0, 0.0, 0.0, 0.0], [0.0, 0.0, 0.0, 0.0, 0.0, 0.0, 0.0, 0.0, 0.0, 0.0, 0.0, 0.0, 0.0, 0.0, 0.0, 0.0, 0.0, 0.0, 0.0, 0.0, 0.0, 0.0, 0.0, 0.0, 0.0, 0.0, 0.0, 0.0, 0.0, 0.0, 0.0, 0.0, 0.0, 0.0, 0.0, 0.0, 0.0, 0.0, 0.0, 0.0, 0.0, 0.0, 0.0, 0.0, 0.0, 0.0, 0.0, 0.0, 0.0, 0.0, 0.0, 0.0, 0.0, 0.0, 0.0, 0.0, 0.0, 0.0, 0.0, 0.0], [0.0, 0.0, 0.0, 0.0, 0.0, 0.0, 0.0, 0.0, 0.0, 0.0, 0.0, 0.0, 0.0, 0.0, 0.0, 0.0, 0.0, 0.0, 0.0, 0.0, 0.0, 0.0, 0.0, 0.0, 0.0, 0.0, 0.0, 0.0, 0.0, 0.0, 0.0, 0.0, 0.0, 0.0, 0.0, 0.0, 0.0, 0.0, 0.0, 0.0, 0.0, 0.0, 0.0, 0.0, 0.0, 0.0, 0.0, 0.0, 0.0, 0.0, 0.0, 0.0, 0.0, 0.0, 0.0, 0.0, 0.0, 0.0, 0.0, 0.0], [0.0, 0.0, 0.0, 0.0, 0.0, 0.0, 0.0, 0.0, 0.0, 0.0, 0.0, 0.0, 0.0, 0.0, 0.0, 0.0, 0.0, 0.0, 0.0, 0.0, 0.0, 0.0, 0.0, 0.0, 0.0, 0.0, 0.0, 0.0, 0.0, 0.0, 0.0, 0.0, 0.0, 0.0, 0.0, 0.0, 0.0, 0.0, 0.0, 0.0, 0.0, 0.0, 0.0, 0.0, 0.0, 0.0, 0.0, 0.0, 0.0, 0.0, 0.0, 0.0, 0.0, 0.0, 0.0, 0.0, 0.0, 0.0, 0.0, 0.0], [0.0, 0.0, 0.0, 0.0, 0.0, 0.0, 0.0, 0.0, 0.0, 0.0, 0.0, 0.0, 0.0, 0.0, 0.0, 0.0, 0.0, 0.0, 0.0, 0.0, 0.0, 0.0, 0.0, 0.0, 0.0, 0.0, 0.0, 0.0, 0.0, 0.0, 0.0, 0.0, 0.0, 0.0, 0.0, 0.0, 0.0, 0.0, 0.0, 0.0, 0.0, 0.0, 0.0, 0.0, 0.0, 0.0, 0.0, 0.0, 0.0, 0.0, 0.0, 0.0, 0.0, 0.0, 0.0, 0.0, 0.0, 0.0, 0.0, 0.0], [0.0, 0.0, 0.0, 0.0, 0.0, 0.0, 0.0, 0.0, 0.0, 0.0, 0.0, 0.0, 0.0, 0.0, 0.0, 0.0, 0.0, 0.0, 0.0, 0.0, 0.0, 0.0, 0.0, 0.0, 0.0, 0.0, 0.0, 0.0, 0.0, 0.0, 0.0, 0.0, 0.0, 0.0, 0.0, 0.0, 0.0, 0.0, 0.0, 0.0, 0.0, 0.0, 0.0, 0.0, 0.0, 0.0, 0.0, 0.0, 0.0, 0.0, 0.0, 0.0, 0.0, 0.0, 0.0, 0.0, 0.0, 0.0, 0.0, 0.0], [0.0, 0.0, 0.0, 0.0, 0.0, 0.0, 0.0, 0.0, 0.0, 0.0, 0.0, 0.0, 0.0, 0.0, 0.0, 0.0, 0.0, 0.0, 0.0, 0.0, 0.0, 0.0, 0.0, 0.0, 0.0, 0.0, 0.0, 0.0, 0.0, 0.0, 0.0, 0.0, 0.0, 0.0, 0.0, 0.0, 0.0, 0.0, 0.0, 0.0, 0.0, 0.0, 0.0, 0.0, 0.0, 0.0, 0.0, 0.0, 0.0, 0.0, 0.0, 0.0, 0.0, 0.0, 0.0, 0.0, 0.0, 0.0, 0.0, 0.0], [0.0, 0.0, 0.0, 0.0, 0.0, 0.0, 0.0, 0.0, 0.0, 0.0, 0.0, 0.0, 0.0, 0.0, 0.0, 0.0, 0.0, 0.0, 0.0, 0.0, 0.0, 0.0, 0.0, 0.0, 0.0, 0.0, 0.0, 0.0, 0.0, 0.0, 0.0, 0.0, 0.0, 0.0, 0.0, 0.0, 0.0, 0.0, 0.0, 0.0, 0.0, 0.0, 0.0, 0.0, 0.0, 0.0, 0.0, 0.0, 0.0, 0.0, 0.0, 0.0, 0.0, 0.0, 0.0, 0.0, 0.0, 0.0, 0.0, 0.0], [0.0, 0.0, 0.0, 0.0, 0.0, 0.0, 0.0, 0.0, 0.0, 0.0, 0.0, 0.0, 0.0, 0.0, 0.0, 0.0, 0.0, 0.0, 0.0, 0.0, 0.0, 0.0, 0.0, 0.0, 0.0, 0.0, 0.0, 0.0, 0.0, 0.0, 0.0, 0.0, 0.0, 0.0, 0.0, 0.0, 0.0, 0.0, 0.0, 0.0, 0.0, -4.6068538765797384e-07, -1.1260328444888435e-06, -2.6152780726197916e-06, -5.771715023833445e-06, -1.2103530814366048e-05, -2.411789908486506e-05, -4.566537834030309e-05, -8.215894232995325e-05, -0.00014045681380384914, -0.00022816602593937, -0.0003521918785361633, -0.0005165684634463591, -0.0007199405473820392, -0.0009534228847885035, -0.0011997608969136475, -0.0014345775406506445, -0.0016299472316386589, -0.001759718723775373, -0.001805232561881491], [0.0, 0.0, 0.0, 0.0, 0.0, 0.0, 0.0, 0.0, 0.0, 0.0, 0.0, 0.0, 0.0, 0.0, 0.0, 0.0, 0.0, 0.0, 0.0, 0.0, 0.0, 0.0, 0.0, 0.0, 0.0, 0.0, 0.0, 0.0, 0.0, 0.0, 0.0, 0.0, 0.0, 0.0, 0.0, 0.0, 0.0, 0.0, 0.0, 0.0, 0.0, -1.1260328444888435e-06, -2.7523121002678705e-06, -6.392408107868476e-06, -1.4107546842122366e-05, -2.9584123126947345e-05, -5.8950310205601796e-05, -0.00011161785731603655, -0.00020081745592650952, -0.0003433123554871897, -0.0005576960895381615, -0.000860846975872344, -0.0012626253661416015, -0.001759718723775373, -0.002330409237456037, -0.0029325223062233526, -0.003506474205641531, -0.003984007669397644, -0.004301202367426041, -0.004412449821674115], [0.0, 0.0, 0.0, 0.0, 0.0, 0.0, 0.0, 0.0, 0.0, 0.0, 0.0, 0.0, 0.0, 0.0, 0.0, 0.0, 0.0, 0.0, 0.0, 0.0, 0.0, 0.0, 0.0, 0.0, 0.0, 0.0, 0.0, 0.0, 0.0, 0.0, 0.0, 0.0, 0.0, 0.0, 0.0, 0.0, 0.0, 0.0, 0.0, 0.0, 0.0, -2.6152780726197916e-06, -6.392408107868476e-06, -1.4846746999937116e-05, -3.276561433819239e-05, -6.871088076184089e-05, -0.0001369155921245178, -0.0002592390942947554, -0.00046641045299375834, -0.0007973633093914552, -0.0012952822480209712, -0.0019993681631036175, -0.002932522306223354, -0.0040870511147100145, -0.0054125136835737895, -0.006810957000473481, -0.00814399433116363, -0.009253094125912926, -0.009989797626672257, -0.010248176437870998], [0.0, 0.0, 0.0, 0.0, 0.0, 0.0, 0.0, 0.0, 0.0, 0.0, 0.0, 0.0, 0.0, 0.0, 0.0, 0.0, 0.0, 0.0, 0.0, 0.0, 0.0, 0.0, 0.0, 0.0, 0.0, 0.0, 0.0, 0.0, 0.0, 0.0, 0.0, 0.0, 0.0, 0.0, 0.0, 0.0, 0.0, 0.0, 0.0, 0.0, 0.0, -5.771715023833445e-06, -1.4107546842122366e-05, -3.276561433819239e-05, -7.231115900093843e-05, -0.00015163956251760315, -0.0003021620485926111, -0.0005721204911136575, -0.0010293315448939638, -0.0017597187237753731, -0.002858587042531388, -0.0044124498216741165, -0.0064718483398597615, -0.009019803503463406, -0.011944996163598598, -0.01503125165078053, -0.017973161220330804, -0.02042085808870727, -0.02204670533912373, -0.022616927252444827], [0.0, 0.0, 0.0, 0.0, 0.0, 0.0, 0.0, 0.0, 0.0, 0.0, 0.0, 0.0, 0.0, 0.0, 0.0, 0.0, 0.0, 0.0, 0.0, 0.0, 0.0, 0.0, 0.0, 0.0, 0.0, 0.0, 0.0, 0.0, 0.0, 0.0, 0.0, 0.0, 0.0, 0.0, 0.0, 0.0, 0.0, 0.0, 0.0, 0.0, 0.0, -1.2103530814366048e-05, -2.9584123126947345e-05, -6.871088076184089e-05, -0.00015163956251760315, -0.0003179945839373375, -0.0006336466112707674, -0.001199760896913648, -0.0021585518377773972, -0.0036902046809105843, -0.00599457807808506, -0.009253094125912926, -0.01357174002596023, -0.01891490989989781, -0.025049162778583486, -0.03152117122596223, -0.03769048017158657, -0.042823404154889035, -0.0462328746872366, -0.04742865418612197], [0.0, 0.0, 0.0, 0.0, 0.0, 0.0, 0.0, 0.0, 0.0, 0.0, 0.0, 0.0, 0.0, 0.0, 0.0, 0.0, 0.0, 0.0, 0.0, 0.0, 0.0, 0.0, 0.0, 0.0, 0.0, 0.0, 0.0, 0.0, 0.0, 0.0, 0.0, 0.0, 0.0, 0.0, 0.0, 0.0, 0.0, 0.0, 0.0, 0.0, 0.0, -2.411789908486506e-05, -5.8950310205601796e-05, -0.0001369155921245178, -0.0003021620485926111, -0.0006336466112707674, -0.0012626253661416015, -0.0023906835684167366, -0.0043012023674260415, -0.007353224894595334, -0.011944996163598596, -0.01843802389354387, -0.027043501716344166, -0.03769048017158656, -0.049913797000224976, -0.06281013683727527, -0.07510330755381685, -0.08533134303687075, -0.09212516770614655, -0.09450791780809509], [0.0, 0.0, 0.0, 0.0, 0.0, 0.0, 0.0, 0.0, 0.0, 0.0, 0.0, 0.0, 0.0, 0.0, 0.0, 0.0, 0.0, 0.0, 0.0, 0.0, 0.0, 0.0, 0.0, 0.0, 0.0, 0.0, 0.0, 0.0, 0.0, 0.0, 0.0, 0.0, 0.0, 0.0, 0.0, 0.0, 0.0, 0.0, 0.0, 0.0, 0.0, -4.566537834030309e-05, -0.00011161785731603655, -0.0002592390942947554, -0.0005721204911136575, -0.001199760896913648, -0.0023906835684167366, -0.00452657460998357, -0.00814399433116363, -0.013922763158245048, -0.022616927252444827, -0.03491097354639005, -0.05120478086329144, -0.07136401188208313, -0.0945079178080951, -0.11892614079641471, -0.14220230966159952, -0.16156830453404694, -0.17443188659019934, -0.17894343979444], [0.0, 0.0, 0.0, 0.0, 0.0, 0.0, 0.0, 0.0, 0.0, 0.0, 0.0, 0.0, 0.0, 0.0, 0.0, 0.0, 0.0, 0.0, 0.0, 0.0, 0.0, 0.0, 0.0, 0.0, 0.0, 0.0, 0.0, 0.0, 0.0, 0.0, 0.0, 0.0, 0.0, 0.0, 0.0, 0.0, 0.0, 0.0, 0.0, 0.0, 0.0, -8.215894232995325e-05, -0.00020081745592650952, -0.00046641045299375834, -0.0010293315448939638, -0.0021585518377773972, -0.0043012023674260415, -0.00814399433116363, -0.014652281113348547, -0.025049162778583486, -0.04069128274744586, -0.06281013683727528, -0.09212516770614657, -0.12839468213667388, -0.1700340794519674, -0.21396616645554078, -0.2558435248605446, -0.2906858871427667, -0.313829422458126, -0.32194639100185496], [0.0, 0.0, 0.0, 0.0, 0.0, 0.0, 0.0, 0.0, 0.0, 0.0, 0.0, 0.0, 0.0, 0.0, 0.0, 0.0, 0.0, 0.0, 0.0, 0.0, 0.0, 0.0, 0.0, 0.0, 0.0, 0.0, 0.0, 0.0, 0.0, 0.0, 0.0, 0.0, 0.0, 0.0, 0.0, 0.0, 0.0, 0.0, 0.0, 0.0, 0.0, -0.00014045681380384914, -0.0003433123554871897, -0.0007973633093914552, -0.0017597187237753731, -0.0036902046809105843, -0.007353224894595334, -0.013922763158245048, -0.025049162778583486, -0.04282340415488904, -0.06956476997165639, -0.10737859379101476, -0.15749481626947773, -0.21950024490152734, -0.2906858871427668, -0.365791052682681, -0.4373835070799944, -0.4969491131208617, -0.5365147055976662, -0.5503912661651043], [0.0, 0.0, 0.0, 0.0, 0.0, 0.0, 0.0, 0.0, 0.0, 0.0, 0.0, 0.0, 0.0, 0.0, 0.0, 0.0, 0.0, 0.0, 0.0, 0.0, 0.0, 0.0, 0.0, 0.0, 0.0, 0.0, 0.0, 0.0, 0.0, 0.0, 0.0, 0.0, 0.0, 0.0, 0.0, 0.0, 0.0, 0.0, 0.0, 0.0, 0.0, -0.00022816602593937, -0.0005576960895381615, -0.0012952822480209712, -0.002858587042531388, -0.00599457807808506, -0.011944996163598596, -0.022616927252444827, -0.04069128274744586, -0.06956476997165639, -0.1130049634472364, -0.17443188659019931, -0.2558435248605446, -0.3565686648840063, -0.4722066653074522, -0.5942117619964041, -0.7105106111920915, -0.8072723648226039, -0.8715449604688091, -0.8940868336085552], [0.0, 0.0, 0.0, 0.0, 0.0, 0.0, 0.0, 0.0, 0.0, 0.0, 0.0, 0.0, 0.0, 0.0, 0.0, 0.0, 0.0, 0.0, 0.0, 0.0, 0.0, 0.0, 0.0, 0.0, 0.0, 0.0, 0.0, 0.0, 0.0, 0.0, 0.0, 0.0, 0.0, 0.0, 0.0, 0.0, 0.0, 0.0, 0.0, 0.0, 0.0, -0.0003521918785361633, -0.000860846975872344, -0.0019993681631036175, -0.0044124498216741165, -0.009253094125912926, -0.01843802389354387, -0.03491097354639005, -0.06281013683727528, -0.10737859379101476, -0.17443188659019931, -0.26924908544944315, -0.3949142351977173, -0.5503912661651043, -0.7288874486340984, -0.9172117358147251, -1.0967279893901243, -1.2460872274330366, -1.3452969415253848, -1.3800920632536333], [0.0, 0.0, 0.0, 0.0, 0.0, 0.0, 0.0, 0.0, 0.0, 0.0, 0.0, 0.0, 0.0, 0.0, 0.0, 0.0, 0.0, 0.0, 0.0, 0.0, 0.0, 0.0, 0.0, 0.0, 0.0, 0.0, 0.0, 0.0, 0.0, 0.0, 0.0, 0.0, 0.0, 0.0, 0.0, 0.0, 0.0, 0.0, 0.0, 0.0, 0.0, -0.0005165684634463591, -0.0012626253661416015, -0.002932522306223354, -0.0064718483398597615, -0.01357174002596023, -0.027043501716344166, -0.05120478086329144, -0.09212516770614657, -0.15749481626947773, -0.2558435248605446, -0.3949142351977173, -0.5792303914476323, -0.8072723648226042, -1.0690770920987942, -1.345296941525385, -1.6085978321038972, -1.8276666885977697, -1.9731800087249818, -2.024214866886098], [0.0, 0.0, 0.0, 0.0, 0.0, 0.0, 0.0, 0.0, 0.0, 0.0, 0.0, 0.0, 0.0, 0.0, 0.0, 0.0, 0.0, 0.0, 0.0, 0.0, 0.0, 0.0, 0.0, 0.0, 0.0, 0.0, 0.0, 0.0, 0.0, 0.0, 0.0, 0.0, 0.0, 0.0, 0.0, 0.0, 0.0, 0.0, 0.0, 0.0, 0.0, -0.0007199405473820392, -0.001759718723775373, -0.0040870511147100145, -0.009019803503463406, -0.01891490989989781, -0.03769048017158656, -0.07136401188208313, -0.12839468213667388, -0.21950024490152734, -0.3565686648840063, -0.5503912661651043, -0.8072723648226042, -1.1250940569219048, -1.4899708389943707, -1.8749379511313164, -2.2418999333332295, -2.5472158084184557, -2.7500174634882133, -2.821144654402945], [0.0, 0.0, 0.0, 0.0, 0.0, 0.0, 0.0, 0.0, 0.0, 0.0, 0.0, 0.0, 0.0, 0.0, 0.0, 0.0, 0.0, 0.0, 0.0, 0.0, 0.0, 0.0, 0.0, 0.0, 0.0, 0.0, 0.0, 0.0, 0.0, 0.0, 0.0, 0.0, 0.0, 0.0, 0.0, 0.0, 0.0, 0.0, 0.0, 0.0, 0.0, -0.0009534228847885035, -0.002330409237456037, -0.0054125136835737895, -0.011944996163598598, -0.025049162778583486, -0.049913797000224976, -0.0945079178080951, -0.1700340794519674, -0.2906858871427668, -0.4722066653074522, -0.7288874486340984, -1.0690770920987942, -1.4899708389943707, -1.9731800087249811, -2.4829949593302523, -2.9689655758636695, -3.3732977717012407, -3.6418695860261896, -3.736063879979244], [0.0, 0.0, 0.0, 0.0, 0.0, 0.0, 0.0, 0.0, 0.0, 0.0, 0.0, 0.0, 0.0, 0.0, 0.0, 0.0, 0.0, 0.0, 0.0, 0.0, 0.0, 0.0, 0.0, 0.0, 0.0, 0.0, 0.0, 0.0, 0.0, 0.0, 0.0, 0.0, 0.0, 0.0, 0.0, 0.0, 0.0, 0.0, 0.0, 0.0, 0.0, -0.0011997608969136475, -0.0029325223062233526, -0.006810957000473481, -0.01503125165078053, -0.03152117122596223, -0.06281013683727527, -0.11892614079641471, -0.21396616645554078, -0.365791052682681, -0.5942117619964041, -0.9172117358147251, -1.345296941525385, -1.8749379511313164, -2.4829949593302523, -3.1245319437648664, -3.736063879979244, -4.244864293383165, -4.5828276105860075, -4.701359095827556], [0.0, 0.0, 0.0, 0.0, 0.0, 0.0, 0.0, 0.0, 0.0, 0.0, 0.0, 0.0, 0.0, 0.0, 0.0, 0.0, 0.0, 0.0, 0.0, 0.0, 0.0, 0.0, 0.0, 0.0, 0.0, 0.0, 0.0, 0.0, 0.0, 0.0, 0.0, 0.0, 0.0, 0.0, 0.0, 0.0, 0.0, 0.0, 0.0, 0.0, 0.0, -0.0014345775406506445, -0.003506474205641531, -0.00814399433116363, -0.017973161220330804, -0.03769048017158657, -0.07510330755381685, -0.14220230966159952, -0.2558435248605446, -0.4373835070799944, -0.7105106111920915, -1.0967279893901243, -1.6085978321038972, -2.2418999333332295, -2.9689655758636695, -3.736063879979244, -4.467284561817228, -5.075667155066191, -5.479776495244065, -5.621506907549484], [0.0, 0.0, 0.0, 0.0, 0.0, 0.0, 0.0, 0.0, 0.0, 0.0, 0.0, 0.0, 0.0, 0.0, 0.0, 0.0, 0.0, 0.0, 0.0, 0.0, 0.0, 0.0, 0.0, 0.0, 0.0, 0.0, 0.0, 0.0, 0.0, 0.0, 0.0, 0.0, 0.0, 0.0, 0.0, 0.0, 0.0, 0.0, 0.0, 0.0, 0.0, -0.0016299472316386589, -0.003984007669397644, -0.009253094125912926, -0.02042085808870727, -0.042823404154889035, -0.08533134303687075, -0.16156830453404694, -0.2906858871427667, -0.4969491131208617, -0.8072723648226039, -1.2460872274330366, -1.8276666885977697, -2.5472158084184557, -3.3732977717012407, -4.244864293383165, -5.075667155066191, -5.766903073337676, -6.226046536578784, -6.387078677840001], [0.0, 0.0, 0.0, 0.0, 0.0, 0.0, 0.0, 0.0, 0.0, 0.0, 0.0, 0.0, 0.0, 0.0, 0.0, 0.0, 0.0, 0.0, 0.0, 0.0, 0.0, 0.0, 0.0, 0.0, 0.0, 0.0, 0.0, 0.0, 0.0, 0.0, 0.0, 0.0, 0.0, 0.0, 0.0, 0.0, 0.0, 0.0, 0.0, 0.0, 0.0, -0.001759718723775373, -0.004301202367426041, -0.009989797626672257, -0.02204670533912373, -0.0462328746872366, -0.09212516770614655, -0.17443188659019934, -0.313829422458126, -0.5365147055976662, -0.8715449604688091, -1.3452969415253848, -1.9731800087249818, -2.7500174634882133, -3.6418695860261896, -4.5828276105860075, -5.479776495244065, -6.226046536578784, -6.721745620255357, -6.895598655866895], [0.0, 0.0, 0.0, 0.0, 0.0, 0.0, 0.0, 0.0, 0.0, 0.0, 0.0, 0.0, 0.0, 0.0, 0.0, 0.0, 0.0, 0.0, 0.0, 0.0, 0.0, 0.0, 0.0, 0.0, 0.0, 0.0, 0.0, 0.0, 0.0, 0.0, 0.0, 0.0, 0.0, 0.0, 0.0, 0.0, 0.0, 0.0, 0.0, 0.0, 0.0, -0.001805232561881491, -0.004412449821674115, -0.010248176437870998, -0.022616927252444827, -0.04742865418612197, -0.09450791780809509, -0.17894343979444, -0.32194639100185496, -0.5503912661651043, -0.8940868336085552, -1.3800920632536333, -2.024214866886098, -2.821144654402945, -3.736063879979244, -4.701359095827556, -5.621506907549484, -6.387078677840001, -6.895598655866895, -7.073948273125359]]}],                        {\"plot_bgcolor\": \"white\", \"template\": {\"data\": {\"bar\": [{\"error_x\": {\"color\": \"#2a3f5f\"}, \"error_y\": {\"color\": \"#2a3f5f\"}, \"marker\": {\"line\": {\"color\": \"#E5ECF6\", \"width\": 0.5}}, \"type\": \"bar\"}], \"barpolar\": [{\"marker\": {\"line\": {\"color\": \"#E5ECF6\", \"width\": 0.5}}, \"type\": \"barpolar\"}], \"carpet\": [{\"aaxis\": {\"endlinecolor\": \"#2a3f5f\", \"gridcolor\": \"white\", \"linecolor\": \"white\", \"minorgridcolor\": \"white\", \"startlinecolor\": \"#2a3f5f\"}, \"baxis\": {\"endlinecolor\": \"#2a3f5f\", \"gridcolor\": \"white\", \"linecolor\": \"white\", \"minorgridcolor\": \"white\", \"startlinecolor\": \"#2a3f5f\"}, \"type\": \"carpet\"}], \"choropleth\": [{\"colorbar\": {\"outlinewidth\": 0, \"ticks\": \"\"}, \"type\": \"choropleth\"}], \"contour\": [{\"colorbar\": {\"outlinewidth\": 0, \"ticks\": \"\"}, \"colorscale\": [[0.0, \"#0d0887\"], [0.1111111111111111, \"#46039f\"], [0.2222222222222222, \"#7201a8\"], [0.3333333333333333, \"#9c179e\"], [0.4444444444444444, \"#bd3786\"], [0.5555555555555556, \"#d8576b\"], [0.6666666666666666, \"#ed7953\"], [0.7777777777777778, \"#fb9f3a\"], [0.8888888888888888, \"#fdca26\"], [1.0, \"#f0f921\"]], \"type\": \"contour\"}], \"contourcarpet\": [{\"colorbar\": {\"outlinewidth\": 0, \"ticks\": \"\"}, \"type\": \"contourcarpet\"}], \"heatmap\": [{\"colorbar\": {\"outlinewidth\": 0, \"ticks\": \"\"}, \"colorscale\": [[0.0, \"#0d0887\"], [0.1111111111111111, \"#46039f\"], [0.2222222222222222, \"#7201a8\"], [0.3333333333333333, \"#9c179e\"], [0.4444444444444444, \"#bd3786\"], [0.5555555555555556, \"#d8576b\"], [0.6666666666666666, \"#ed7953\"], [0.7777777777777778, \"#fb9f3a\"], [0.8888888888888888, \"#fdca26\"], [1.0, \"#f0f921\"]], \"type\": \"heatmap\"}], \"heatmapgl\": [{\"colorbar\": {\"outlinewidth\": 0, \"ticks\": \"\"}, \"colorscale\": [[0.0, \"#0d0887\"], [0.1111111111111111, \"#46039f\"], [0.2222222222222222, \"#7201a8\"], [0.3333333333333333, \"#9c179e\"], [0.4444444444444444, \"#bd3786\"], [0.5555555555555556, \"#d8576b\"], [0.6666666666666666, \"#ed7953\"], [0.7777777777777778, \"#fb9f3a\"], [0.8888888888888888, \"#fdca26\"], [1.0, \"#f0f921\"]], \"type\": \"heatmapgl\"}], \"histogram\": [{\"marker\": {\"colorbar\": {\"outlinewidth\": 0, \"ticks\": \"\"}}, \"type\": \"histogram\"}], \"histogram2d\": [{\"colorbar\": {\"outlinewidth\": 0, \"ticks\": \"\"}, \"colorscale\": [[0.0, \"#0d0887\"], [0.1111111111111111, \"#46039f\"], [0.2222222222222222, \"#7201a8\"], [0.3333333333333333, \"#9c179e\"], [0.4444444444444444, \"#bd3786\"], [0.5555555555555556, \"#d8576b\"], [0.6666666666666666, \"#ed7953\"], [0.7777777777777778, \"#fb9f3a\"], [0.8888888888888888, \"#fdca26\"], [1.0, \"#f0f921\"]], \"type\": \"histogram2d\"}], \"histogram2dcontour\": [{\"colorbar\": {\"outlinewidth\": 0, \"ticks\": \"\"}, \"colorscale\": [[0.0, \"#0d0887\"], [0.1111111111111111, \"#46039f\"], [0.2222222222222222, \"#7201a8\"], [0.3333333333333333, \"#9c179e\"], [0.4444444444444444, \"#bd3786\"], [0.5555555555555556, \"#d8576b\"], [0.6666666666666666, \"#ed7953\"], [0.7777777777777778, \"#fb9f3a\"], [0.8888888888888888, \"#fdca26\"], [1.0, \"#f0f921\"]], \"type\": \"histogram2dcontour\"}], \"mesh3d\": [{\"colorbar\": {\"outlinewidth\": 0, \"ticks\": \"\"}, \"type\": \"mesh3d\"}], \"parcoords\": [{\"line\": {\"colorbar\": {\"outlinewidth\": 0, \"ticks\": \"\"}}, \"type\": \"parcoords\"}], \"pie\": [{\"automargin\": true, \"type\": \"pie\"}], \"scatter\": [{\"marker\": {\"colorbar\": {\"outlinewidth\": 0, \"ticks\": \"\"}}, \"type\": \"scatter\"}], \"scatter3d\": [{\"line\": {\"colorbar\": {\"outlinewidth\": 0, \"ticks\": \"\"}}, \"marker\": {\"colorbar\": {\"outlinewidth\": 0, \"ticks\": \"\"}}, \"type\": \"scatter3d\"}], \"scattercarpet\": [{\"marker\": {\"colorbar\": {\"outlinewidth\": 0, \"ticks\": \"\"}}, \"type\": \"scattercarpet\"}], \"scattergeo\": [{\"marker\": {\"colorbar\": {\"outlinewidth\": 0, \"ticks\": \"\"}}, \"type\": \"scattergeo\"}], \"scattergl\": [{\"marker\": {\"colorbar\": {\"outlinewidth\": 0, \"ticks\": \"\"}}, \"type\": \"scattergl\"}], \"scattermapbox\": [{\"marker\": {\"colorbar\": {\"outlinewidth\": 0, \"ticks\": \"\"}}, \"type\": \"scattermapbox\"}], \"scatterpolar\": [{\"marker\": {\"colorbar\": {\"outlinewidth\": 0, \"ticks\": \"\"}}, \"type\": \"scatterpolar\"}], \"scatterpolargl\": [{\"marker\": {\"colorbar\": {\"outlinewidth\": 0, \"ticks\": \"\"}}, \"type\": \"scatterpolargl\"}], \"scatterternary\": [{\"marker\": {\"colorbar\": {\"outlinewidth\": 0, \"ticks\": \"\"}}, \"type\": \"scatterternary\"}], \"surface\": [{\"colorbar\": {\"outlinewidth\": 0, \"ticks\": \"\"}, \"colorscale\": [[0.0, \"#0d0887\"], [0.1111111111111111, \"#46039f\"], [0.2222222222222222, \"#7201a8\"], [0.3333333333333333, \"#9c179e\"], [0.4444444444444444, \"#bd3786\"], [0.5555555555555556, \"#d8576b\"], [0.6666666666666666, \"#ed7953\"], [0.7777777777777778, \"#fb9f3a\"], [0.8888888888888888, \"#fdca26\"], [1.0, \"#f0f921\"]], \"type\": \"surface\"}], \"table\": [{\"cells\": {\"fill\": {\"color\": \"#EBF0F8\"}, \"line\": {\"color\": \"white\"}}, \"header\": {\"fill\": {\"color\": \"#C8D4E3\"}, \"line\": {\"color\": \"white\"}}, \"type\": \"table\"}]}, \"layout\": {\"annotationdefaults\": {\"arrowcolor\": \"#2a3f5f\", \"arrowhead\": 0, \"arrowwidth\": 1}, \"autotypenumbers\": \"strict\", \"coloraxis\": {\"colorbar\": {\"outlinewidth\": 0, \"ticks\": \"\"}}, \"colorscale\": {\"diverging\": [[0, \"#8e0152\"], [0.1, \"#c51b7d\"], [0.2, \"#de77ae\"], [0.3, \"#f1b6da\"], [0.4, \"#fde0ef\"], [0.5, \"#f7f7f7\"], [0.6, \"#e6f5d0\"], [0.7, \"#b8e186\"], [0.8, \"#7fbc41\"], [0.9, \"#4d9221\"], [1, \"#276419\"]], \"sequential\": [[0.0, \"#0d0887\"], [0.1111111111111111, \"#46039f\"], [0.2222222222222222, \"#7201a8\"], [0.3333333333333333, \"#9c179e\"], [0.4444444444444444, \"#bd3786\"], [0.5555555555555556, \"#d8576b\"], [0.6666666666666666, \"#ed7953\"], [0.7777777777777778, \"#fb9f3a\"], [0.8888888888888888, \"#fdca26\"], [1.0, \"#f0f921\"]], \"sequentialminus\": [[0.0, \"#0d0887\"], [0.1111111111111111, \"#46039f\"], [0.2222222222222222, \"#7201a8\"], [0.3333333333333333, \"#9c179e\"], [0.4444444444444444, \"#bd3786\"], [0.5555555555555556, \"#d8576b\"], [0.6666666666666666, \"#ed7953\"], [0.7777777777777778, \"#fb9f3a\"], [0.8888888888888888, \"#fdca26\"], [1.0, \"#f0f921\"]]}, \"colorway\": [\"#636efa\", \"#EF553B\", \"#00cc96\", \"#ab63fa\", \"#FFA15A\", \"#19d3f3\", \"#FF6692\", \"#B6E880\", \"#FF97FF\", \"#FECB52\"], \"font\": {\"color\": \"#2a3f5f\"}, \"geo\": {\"bgcolor\": \"white\", \"lakecolor\": \"white\", \"landcolor\": \"#E5ECF6\", \"showlakes\": true, \"showland\": true, \"subunitcolor\": \"white\"}, \"hoverlabel\": {\"align\": \"left\"}, \"hovermode\": \"closest\", \"mapbox\": {\"style\": \"light\"}, \"paper_bgcolor\": \"white\", \"plot_bgcolor\": \"#E5ECF6\", \"polar\": {\"angularaxis\": {\"gridcolor\": \"white\", \"linecolor\": \"white\", \"ticks\": \"\"}, \"bgcolor\": \"#E5ECF6\", \"radialaxis\": {\"gridcolor\": \"white\", \"linecolor\": \"white\", \"ticks\": \"\"}}, \"scene\": {\"xaxis\": {\"backgroundcolor\": \"#E5ECF6\", \"gridcolor\": \"white\", \"gridwidth\": 2, \"linecolor\": \"white\", \"showbackground\": true, \"ticks\": \"\", \"zerolinecolor\": \"white\"}, \"yaxis\": {\"backgroundcolor\": \"#E5ECF6\", \"gridcolor\": \"white\", \"gridwidth\": 2, \"linecolor\": \"white\", \"showbackground\": true, \"ticks\": \"\", \"zerolinecolor\": \"white\"}, \"zaxis\": {\"backgroundcolor\": \"#E5ECF6\", \"gridcolor\": \"white\", \"gridwidth\": 2, \"linecolor\": \"white\", \"showbackground\": true, \"ticks\": \"\", \"zerolinecolor\": \"white\"}}, \"shapedefaults\": {\"line\": {\"color\": \"#2a3f5f\"}}, \"ternary\": {\"aaxis\": {\"gridcolor\": \"white\", \"linecolor\": \"white\", \"ticks\": \"\"}, \"baxis\": {\"gridcolor\": \"white\", \"linecolor\": \"white\", \"ticks\": \"\"}, \"bgcolor\": \"#E5ECF6\", \"caxis\": {\"gridcolor\": \"white\", \"linecolor\": \"white\", \"ticks\": \"\"}}, \"title\": {\"x\": 0.05}, \"xaxis\": {\"automargin\": true, \"gridcolor\": \"white\", \"linecolor\": \"white\", \"ticks\": \"\", \"title\": {\"standoff\": 15}, \"zerolinecolor\": \"white\", \"zerolinewidth\": 2}, \"yaxis\": {\"automargin\": true, \"gridcolor\": \"white\", \"linecolor\": \"white\", \"ticks\": \"\", \"title\": {\"standoff\": 15}, \"zerolinecolor\": \"white\", \"zerolinewidth\": 2}}}, \"title\": {\"text\": \"Heat kernel representation of diagram 0 in homology dimension 1\"}, \"xaxis\": {\"constrain\": \"domain\", \"scaleanchor\": \"y\"}, \"yaxis\": {\"autorange\": true, \"constrain\": \"domain\"}},                        {\"responsive\": true}                    ).then(function(){\n",
       "                            \n",
       "var gd = document.getElementById('ff2fe626-9bb5-427d-a04d-b36aa80b4ada');\n",
       "var x = new MutationObserver(function (mutations, observer) {{\n",
       "        var display = window.getComputedStyle(gd).display;\n",
       "        if (!display || display === 'none') {{\n",
       "            console.log([gd, 'removed!']);\n",
       "            Plotly.purge(gd);\n",
       "            observer.disconnect();\n",
       "        }}\n",
       "}});\n",
       "\n",
       "// Listen for the removal of the full notebook cells\n",
       "var notebookContainer = gd.closest('#notebook-container');\n",
       "if (notebookContainer) {{\n",
       "    x.observe(notebookContainer, {childList: true});\n",
       "}}\n",
       "\n",
       "// Listen for the clearing of the current output cell\n",
       "var outputEl = gd.closest('.output');\n",
       "if (outputEl) {{\n",
       "    x.observe(outputEl, {childList: true});\n",
       "}}\n",
       "\n",
       "                        })                };                });            </script>        </div>"
      ]
     },
     "metadata": {},
     "output_type": "display_data"
    }
   ],
   "source": [
    "from gtda.diagrams import HeatKernel\n",
    "\n",
    "heat = HeatKernel(sigma=.15, n_bins=60, n_jobs=-1)\n",
    "digit_heat = heat.fit_transform(digit_scaled)\n",
    "\n",
    "# Visualise the heat kernel for H1\n",
    "heat.plot(digit_heat, homology_dimension_idx=1, colorscale='Viridis')"
   ]
  },
  {
   "cell_type": "markdown",
   "id": "strategic-sight",
   "metadata": {},
   "source": [
    "The final step in our pipeline is to take the 'Amplitude' or $L_p$ norm of each vectorization in each homological degree. The Amplitude is a vector $\\vec{a}=(a_0,a_1,\\ldots)$ where each $a_i$ is the $L_p$ norm of the chosen vectorization scheme in homological degree $i$."
   ]
  },
  {
   "cell_type": "markdown",
   "id": "exposed-butler",
   "metadata": {},
   "source": [
    "### Automation"
   ]
  },
  {
   "cell_type": "code",
   "execution_count": null,
   "id": "charged-ensemble",
   "metadata": {},
   "outputs": [],
   "source": []
  },
  {
   "cell_type": "markdown",
   "id": "italian-casting",
   "metadata": {},
   "source": [
    "We combine all of the different filtrations, vectorization schemes, and amplitudes to make one final pipeline. This is taken directly from "
   ]
  },
  {
   "cell_type": "code",
   "execution_count": 81,
   "id": "settled-default",
   "metadata": {},
   "outputs": [],
   "source": [
    "from sklearn.pipeline import make_pipeline, make_union\n",
    "from gtda.diagrams import PersistenceEntropy\n",
    "from gtda.images import HeightFiltration\n",
    "from gtda.images import Binarizer\n",
    "\n",
    "direction_list = [[1, 0], [1, 1], [0, 1], [-1, 1], [-1, 0], [-1, -1], [0, -1], [1, -1]]\n",
    "\n",
    "center_list = [\n",
    "    [13, 6],\n",
    "    [6, 13],\n",
    "    [13, 13],\n",
    "    [20, 13],\n",
    "    [13, 20],\n",
    "    [6, 6],\n",
    "    [6, 20],\n",
    "    [20, 6],\n",
    "    [20, 20],\n",
    "]\n",
    "\n",
    "# Creating a list of all filtration transformer, we will be applying\n",
    "filtration_list = (\n",
    "    [\n",
    "        HeightFiltration(direction=np.array(direction), n_jobs=-1)\n",
    "        for direction in direction_list\n",
    "    ]\n",
    "    + [RadialFiltration(center=np.array(center), n_jobs=-1) for center in center_list]\n",
    ")\n",
    "\n",
    "# Creating the diagram generation pipeline\n",
    "diagram_steps = [\n",
    "    [\n",
    "        Binarizer(threshold=0.4),\n",
    "        filtration,\n",
    "        CubicalPersistence(n_jobs=-1),\n",
    "        Scaler(n_jobs=-1),\n",
    "    ]\n",
    "    for filtration in filtration_list\n",
    "]\n",
    "\n",
    "# Listing all metrics we want to use to extract diagram amplitudes\n",
    "metric_list = [\n",
    "    {\"metric\": \"bottleneck\", \"metric_params\": {}},\n",
    "    {\"metric\": \"wasserstein\", \"metric_params\": {\"p\": 1}},\n",
    "    {\"metric\": \"wasserstein\", \"metric_params\": {\"p\": 2}},\n",
    "    {\"metric\": \"landscape\", \"metric_params\": {\"p\": 1, \"n_layers\": 1, \"n_bins\": 100}},\n",
    "    {\"metric\": \"landscape\", \"metric_params\": {\"p\": 1, \"n_layers\": 2, \"n_bins\": 100}},\n",
    "    {\"metric\": \"landscape\", \"metric_params\": {\"p\": 2, \"n_layers\": 1, \"n_bins\": 100}},\n",
    "    {\"metric\": \"landscape\", \"metric_params\": {\"p\": 2, \"n_layers\": 2, \"n_bins\": 100}},\n",
    "    {\"metric\": \"betti\", \"metric_params\": {\"p\": 1, \"n_bins\": 100}},\n",
    "    {\"metric\": \"betti\", \"metric_params\": {\"p\": 2, \"n_bins\": 100}},\n",
    "    {\"metric\": \"heat\", \"metric_params\": {\"p\": 1, \"sigma\": 1.6, \"n_bins\": 100}},\n",
    "    {\"metric\": \"heat\", \"metric_params\": {\"p\": 1, \"sigma\": 3.2, \"n_bins\": 100}},\n",
    "    {\"metric\": \"heat\", \"metric_params\": {\"p\": 2, \"sigma\": 1.6, \"n_bins\": 100}},\n",
    "    {\"metric\": \"heat\", \"metric_params\": {\"p\": 2, \"sigma\": 3.2, \"n_bins\": 100}},\n",
    "]\n",
    "\n",
    "#\n",
    "feature_union = make_union(\n",
    "    *[PersistenceEntropy(nan_fill_value=-1)]\n",
    "    + [Amplitude(**metric, n_jobs=-1) for metric in metric_list]\n",
    ")\n",
    "\n",
    "tda_union = make_union(\n",
    "    *[make_pipeline(*diagram_step, feature_union) for diagram_step in diagram_steps],\n",
    "    n_jobs=-1\n",
    ")"
   ]
  },
  {
   "cell_type": "code",
   "execution_count": 82,
   "id": "comprehensive-poland",
   "metadata": {},
   "outputs": [
    {
     "data": {
      "text/html": [
       "<style>div.sk-top-container {color: black;background-color: white;}div.sk-toggleable {background-color: white;}label.sk-toggleable__label {cursor: pointer;display: block;width: 100%;margin-bottom: 0;padding: 0.2em 0.3em;box-sizing: border-box;text-align: center;}div.sk-toggleable__content {max-height: 0;max-width: 0;overflow: hidden;text-align: left;background-color: #f0f8ff;}div.sk-toggleable__content pre {margin: 0.2em;color: black;border-radius: 0.25em;background-color: #f0f8ff;}input.sk-toggleable__control:checked~div.sk-toggleable__content {max-height: 200px;max-width: 100%;overflow: auto;}div.sk-estimator input.sk-toggleable__control:checked~label.sk-toggleable__label {background-color: #d4ebff;}div.sk-label input.sk-toggleable__control:checked~label.sk-toggleable__label {background-color: #d4ebff;}input.sk-hidden--visually {border: 0;clip: rect(1px 1px 1px 1px);clip: rect(1px, 1px, 1px, 1px);height: 1px;margin: -1px;overflow: hidden;padding: 0;position: absolute;width: 1px;}div.sk-estimator {font-family: monospace;background-color: #f0f8ff;margin: 0.25em 0.25em;border: 1px dotted black;border-radius: 0.25em;box-sizing: border-box;}div.sk-estimator:hover {background-color: #d4ebff;}div.sk-parallel-item::after {content: \"\";width: 100%;border-bottom: 1px solid gray;flex-grow: 1;}div.sk-label:hover label.sk-toggleable__label {background-color: #d4ebff;}div.sk-serial::before {content: \"\";position: absolute;border-left: 1px solid gray;box-sizing: border-box;top: 2em;bottom: 0;left: 50%;}div.sk-serial {display: flex;flex-direction: column;align-items: center;background-color: white;}div.sk-item {z-index: 1;}div.sk-parallel {display: flex;align-items: stretch;justify-content: center;background-color: white;}div.sk-parallel-item {display: flex;flex-direction: column;position: relative;background-color: white;}div.sk-parallel-item:first-child::after {align-self: flex-end;width: 50%;}div.sk-parallel-item:last-child::after {align-self: flex-start;width: 50%;}div.sk-parallel-item:only-child::after {width: 0;}div.sk-dashed-wrapped {border: 1px dashed gray;margin: 0.2em;box-sizing: border-box;padding-bottom: 0.1em;background-color: white;position: relative;}div.sk-label label {font-family: monospace;font-weight: bold;background-color: white;display: inline-block;line-height: 1.2em;}div.sk-label-container {position: relative;z-index: 2;text-align: center;}div.sk-container {display: inline-block;position: relative;}</style><div class=\"sk-top-container\"><div class=\"sk-container\"><div class=\"sk-item sk-dashed-wrapped\"><div class=\"sk-label-container\"><div class=\"sk-label sk-toggleable\"><input class=\"sk-toggleable__control sk-hidden--visually\" id=\"96e6886d-625b-4b39-8527-e69b4661aa14\" type=\"checkbox\" ><label class=\"sk-toggleable__label\" for=\"96e6886d-625b-4b39-8527-e69b4661aa14\">FeatureUnion</label><div class=\"sk-toggleable__content\"><pre>FeatureUnion(n_jobs=-1,\n",
       "             transformer_list=[('pipeline-1',\n",
       "                                Pipeline(steps=[('binarizer',\n",
       "                                                 Binarizer(threshold=0.4)),\n",
       "                                                ('heightfiltration',\n",
       "                                                 HeightFiltration(direction=array([1, 0]),\n",
       "                                                                  n_jobs=-1)),\n",
       "                                                ('cubicalpersistence',\n",
       "                                                 CubicalPersistence(n_jobs=-1)),\n",
       "                                                ('scaler', Scaler(n_jobs=-1)),\n",
       "                                                ('featureunion',\n",
       "                                                 FeatureUnion(transformer_list=[('persistenceentropy',\n",
       "                                                                                 PersistenceEntrop...\n",
       "                                                                                           metric_params={'n_bins': 100,\n",
       "                                                                                                          'p': 1,\n",
       "                                                                                                          'sigma': 1.6},\n",
       "                                                                                           n_jobs=-1)),\n",
       "                                                                                ('amplitude-11',\n",
       "                                                                                 Amplitude(metric='heat',\n",
       "                                                                                           metric_params={'n_bins': 100,\n",
       "                                                                                                          'p': 1,\n",
       "                                                                                                          'sigma': 3.2},\n",
       "                                                                                           n_jobs=-1)),\n",
       "                                                                                ('amplitude-12',\n",
       "                                                                                 Amplitude(metric='heat',\n",
       "                                                                                           metric_params={'n_bins': 100,\n",
       "                                                                                                          'p': 2,\n",
       "                                                                                                          'sigma': 1.6},\n",
       "                                                                                           n_jobs=-1)),\n",
       "                                                                                ('amplitude-13',\n",
       "                                                                                 Amplitude(metric='heat',\n",
       "                                                                                           metric_params={'n_bins': 100,\n",
       "                                                                                                          'p': 2,\n",
       "                                                                                                          'sigma': 3.2},\n",
       "                                                                                           n_jobs=-1))]))]))])</pre></div></div></div><div class=\"sk-parallel\"><div class=\"sk-parallel-item\"><div class=\"sk-item\"><div class=\"sk-label-container\"><div class=\"sk-label sk-toggleable\"><label>pipeline-1</label></div></div><div class=\"sk-serial\"><div class=\"sk-item\"><div class=\"sk-serial\"><div class=\"sk-item\"><div class=\"sk-estimator sk-toggleable\"><input class=\"sk-toggleable__control sk-hidden--visually\" id=\"1d62ad2f-721b-43df-b3f2-1abac0189b97\" type=\"checkbox\" ><label class=\"sk-toggleable__label\" for=\"1d62ad2f-721b-43df-b3f2-1abac0189b97\">Binarizer</label><div class=\"sk-toggleable__content\"><pre>Binarizer(threshold=0.4)</pre></div></div></div><div class=\"sk-item\"><div class=\"sk-estimator sk-toggleable\"><input class=\"sk-toggleable__control sk-hidden--visually\" id=\"975e47df-c0ba-4993-8b2c-82fb431d7cf9\" type=\"checkbox\" ><label class=\"sk-toggleable__label\" for=\"975e47df-c0ba-4993-8b2c-82fb431d7cf9\">HeightFiltration</label><div class=\"sk-toggleable__content\"><pre>HeightFiltration(direction=array([1, 0]), n_jobs=-1)</pre></div></div></div><div class=\"sk-item\"><div class=\"sk-estimator sk-toggleable\"><input class=\"sk-toggleable__control sk-hidden--visually\" id=\"8d3095e5-8888-4956-8735-d61671f3b61f\" type=\"checkbox\" ><label class=\"sk-toggleable__label\" for=\"8d3095e5-8888-4956-8735-d61671f3b61f\">CubicalPersistence</label><div class=\"sk-toggleable__content\"><pre>CubicalPersistence(n_jobs=-1)</pre></div></div></div><div class=\"sk-item\"><div class=\"sk-estimator sk-toggleable\"><input class=\"sk-toggleable__control sk-hidden--visually\" id=\"c9cea60c-bb3e-410a-8db3-1868f950a5c3\" type=\"checkbox\" ><label class=\"sk-toggleable__label\" for=\"c9cea60c-bb3e-410a-8db3-1868f950a5c3\">Scaler</label><div class=\"sk-toggleable__content\"><pre>Scaler(n_jobs=-1)</pre></div></div></div><div class=\"sk-item sk-dashed-wrapped\"><div class=\"sk-label-container\"><div class=\"sk-label sk-toggleable\"><input class=\"sk-toggleable__control sk-hidden--visually\" id=\"9bf06458-6875-439b-9fe2-47d431bab024\" type=\"checkbox\" ><label class=\"sk-toggleable__label\" for=\"9bf06458-6875-439b-9fe2-47d431bab024\">featureunion: FeatureUnion</label><div class=\"sk-toggleable__content\"><pre>FeatureUnion(transformer_list=[('persistenceentropy',\n",
       "                                PersistenceEntropy(nan_fill_value=-1)),\n",
       "                               ('amplitude-1',\n",
       "                                Amplitude(metric='bottleneck', metric_params={},\n",
       "                                          n_jobs=-1)),\n",
       "                               ('amplitude-2',\n",
       "                                Amplitude(metric='wasserstein',\n",
       "                                          metric_params={'p': 1}, n_jobs=-1)),\n",
       "                               ('amplitude-3',\n",
       "                                Amplitude(metric='wasserstein',\n",
       "                                          metric_params={'p': 2}, n_jobs=-1)),\n",
       "                               ('amplitude-4',\n",
       "                                Amplitude...\n",
       "                                          metric_params={'n_bins': 100, 'p': 1,\n",
       "                                                         'sigma': 1.6},\n",
       "                                          n_jobs=-1)),\n",
       "                               ('amplitude-11',\n",
       "                                Amplitude(metric='heat',\n",
       "                                          metric_params={'n_bins': 100, 'p': 1,\n",
       "                                                         'sigma': 3.2},\n",
       "                                          n_jobs=-1)),\n",
       "                               ('amplitude-12',\n",
       "                                Amplitude(metric='heat',\n",
       "                                          metric_params={'n_bins': 100, 'p': 2,\n",
       "                                                         'sigma': 1.6},\n",
       "                                          n_jobs=-1)),\n",
       "                               ('amplitude-13',\n",
       "                                Amplitude(metric='heat',\n",
       "                                          metric_params={'n_bins': 100, 'p': 2,\n",
       "                                                         'sigma': 3.2},\n",
       "                                          n_jobs=-1))])</pre></div></div></div><div class=\"sk-parallel\"><div class=\"sk-parallel-item\"><div class=\"sk-item\"><div class=\"sk-label-container\"><div class=\"sk-label sk-toggleable\"><label>persistenceentropy</label></div></div><div class=\"sk-serial\"><div class=\"sk-item\"><div class=\"sk-estimator sk-toggleable\"><input class=\"sk-toggleable__control sk-hidden--visually\" id=\"5b369e50-1f4d-4698-8603-ebb04844ce4d\" type=\"checkbox\" ><label class=\"sk-toggleable__label\" for=\"5b369e50-1f4d-4698-8603-ebb04844ce4d\">PersistenceEntropy</label><div class=\"sk-toggleable__content\"><pre>PersistenceEntropy(nan_fill_value=-1)</pre></div></div></div></div></div></div><div class=\"sk-parallel-item\"><div class=\"sk-item\"><div class=\"sk-label-container\"><div class=\"sk-label sk-toggleable\"><label>amplitude-1</label></div></div><div class=\"sk-serial\"><div class=\"sk-item\"><div class=\"sk-estimator sk-toggleable\"><input class=\"sk-toggleable__control sk-hidden--visually\" id=\"7a3b6d20-cf7b-42b4-afc2-eb0172884495\" type=\"checkbox\" ><label class=\"sk-toggleable__label\" for=\"7a3b6d20-cf7b-42b4-afc2-eb0172884495\">Amplitude</label><div class=\"sk-toggleable__content\"><pre>Amplitude(metric='bottleneck', metric_params={}, n_jobs=-1)</pre></div></div></div></div></div></div><div class=\"sk-parallel-item\"><div class=\"sk-item\"><div class=\"sk-label-container\"><div class=\"sk-label sk-toggleable\"><label>amplitude-2</label></div></div><div class=\"sk-serial\"><div class=\"sk-item\"><div class=\"sk-estimator sk-toggleable\"><input class=\"sk-toggleable__control sk-hidden--visually\" id=\"659ceaf6-83da-4100-a6ae-7c453b0fda4e\" type=\"checkbox\" ><label class=\"sk-toggleable__label\" for=\"659ceaf6-83da-4100-a6ae-7c453b0fda4e\">Amplitude</label><div class=\"sk-toggleable__content\"><pre>Amplitude(metric='wasserstein', metric_params={'p': 1}, n_jobs=-1)</pre></div></div></div></div></div></div><div class=\"sk-parallel-item\"><div class=\"sk-item\"><div class=\"sk-label-container\"><div class=\"sk-label sk-toggleable\"><label>amplitude-3</label></div></div><div class=\"sk-serial\"><div class=\"sk-item\"><div class=\"sk-estimator sk-toggleable\"><input class=\"sk-toggleable__control sk-hidden--visually\" id=\"b8c34c88-0041-4018-891a-4bcd8a889b42\" type=\"checkbox\" ><label class=\"sk-toggleable__label\" for=\"b8c34c88-0041-4018-891a-4bcd8a889b42\">Amplitude</label><div class=\"sk-toggleable__content\"><pre>Amplitude(metric='wasserstein', metric_params={'p': 2}, n_jobs=-1)</pre></div></div></div></div></div></div><div class=\"sk-parallel-item\"><div class=\"sk-item\"><div class=\"sk-label-container\"><div class=\"sk-label sk-toggleable\"><label>amplitude-4</label></div></div><div class=\"sk-serial\"><div class=\"sk-item\"><div class=\"sk-estimator sk-toggleable\"><input class=\"sk-toggleable__control sk-hidden--visually\" id=\"bcce74e8-44e2-4483-9bea-67d1187d4c1e\" type=\"checkbox\" ><label class=\"sk-toggleable__label\" for=\"bcce74e8-44e2-4483-9bea-67d1187d4c1e\">Amplitude</label><div class=\"sk-toggleable__content\"><pre>Amplitude(metric_params={'n_bins': 100, 'n_layers': 1, 'p': 1}, n_jobs=-1)</pre></div></div></div></div></div></div><div class=\"sk-parallel-item\"><div class=\"sk-item\"><div class=\"sk-label-container\"><div class=\"sk-label sk-toggleable\"><label>amplitude-5</label></div></div><div class=\"sk-serial\"><div class=\"sk-item\"><div class=\"sk-estimator sk-toggleable\"><input class=\"sk-toggleable__control sk-hidden--visually\" id=\"de8df2cd-212f-41df-9705-0874d832915c\" type=\"checkbox\" ><label class=\"sk-toggleable__label\" for=\"de8df2cd-212f-41df-9705-0874d832915c\">Amplitude</label><div class=\"sk-toggleable__content\"><pre>Amplitude(metric_params={'n_bins': 100, 'n_layers': 2, 'p': 1}, n_jobs=-1)</pre></div></div></div></div></div></div><div class=\"sk-parallel-item\"><div class=\"sk-item\"><div class=\"sk-label-container\"><div class=\"sk-label sk-toggleable\"><label>amplitude-6</label></div></div><div class=\"sk-serial\"><div class=\"sk-item\"><div class=\"sk-estimator sk-toggleable\"><input class=\"sk-toggleable__control sk-hidden--visually\" id=\"c3085330-531b-4be4-be06-d90638272b27\" type=\"checkbox\" ><label class=\"sk-toggleable__label\" for=\"c3085330-531b-4be4-be06-d90638272b27\">Amplitude</label><div class=\"sk-toggleable__content\"><pre>Amplitude(metric_params={'n_bins': 100, 'n_layers': 1, 'p': 2}, n_jobs=-1)</pre></div></div></div></div></div></div><div class=\"sk-parallel-item\"><div class=\"sk-item\"><div class=\"sk-label-container\"><div class=\"sk-label sk-toggleable\"><label>amplitude-7</label></div></div><div class=\"sk-serial\"><div class=\"sk-item\"><div class=\"sk-estimator sk-toggleable\"><input class=\"sk-toggleable__control sk-hidden--visually\" id=\"b7a545b8-7c40-4385-ae7e-8f8c6bf3cb69\" type=\"checkbox\" ><label class=\"sk-toggleable__label\" for=\"b7a545b8-7c40-4385-ae7e-8f8c6bf3cb69\">Amplitude</label><div class=\"sk-toggleable__content\"><pre>Amplitude(metric_params={'n_bins': 100, 'n_layers': 2, 'p': 2}, n_jobs=-1)</pre></div></div></div></div></div></div><div class=\"sk-parallel-item\"><div class=\"sk-item\"><div class=\"sk-label-container\"><div class=\"sk-label sk-toggleable\"><label>amplitude-8</label></div></div><div class=\"sk-serial\"><div class=\"sk-item\"><div class=\"sk-estimator sk-toggleable\"><input class=\"sk-toggleable__control sk-hidden--visually\" id=\"2ac2605a-05a4-4714-871a-d6c3a8917e63\" type=\"checkbox\" ><label class=\"sk-toggleable__label\" for=\"2ac2605a-05a4-4714-871a-d6c3a8917e63\">Amplitude</label><div class=\"sk-toggleable__content\"><pre>Amplitude(metric='betti', metric_params={'n_bins': 100, 'p': 1}, n_jobs=-1)</pre></div></div></div></div></div></div><div class=\"sk-parallel-item\"><div class=\"sk-item\"><div class=\"sk-label-container\"><div class=\"sk-label sk-toggleable\"><label>amplitude-9</label></div></div><div class=\"sk-serial\"><div class=\"sk-item\"><div class=\"sk-estimator sk-toggleable\"><input class=\"sk-toggleable__control sk-hidden--visually\" id=\"134b50ba-dee4-4737-8fac-cbe6f518757f\" type=\"checkbox\" ><label class=\"sk-toggleable__label\" for=\"134b50ba-dee4-4737-8fac-cbe6f518757f\">Amplitude</label><div class=\"sk-toggleable__content\"><pre>Amplitude(metric='betti', metric_params={'n_bins': 100, 'p': 2}, n_jobs=-1)</pre></div></div></div></div></div></div><div class=\"sk-parallel-item\"><div class=\"sk-item\"><div class=\"sk-label-container\"><div class=\"sk-label sk-toggleable\"><label>amplitude-10</label></div></div><div class=\"sk-serial\"><div class=\"sk-item\"><div class=\"sk-estimator sk-toggleable\"><input class=\"sk-toggleable__control sk-hidden--visually\" id=\"4d1e6265-dbeb-4f0e-a02e-ce6a5c6e9f82\" type=\"checkbox\" ><label class=\"sk-toggleable__label\" for=\"4d1e6265-dbeb-4f0e-a02e-ce6a5c6e9f82\">Amplitude</label><div class=\"sk-toggleable__content\"><pre>Amplitude(metric='heat', metric_params={'n_bins': 100, 'p': 1, 'sigma': 1.6},\n",
       "          n_jobs=-1)</pre></div></div></div></div></div></div><div class=\"sk-parallel-item\"><div class=\"sk-item\"><div class=\"sk-label-container\"><div class=\"sk-label sk-toggleable\"><label>amplitude-11</label></div></div><div class=\"sk-serial\"><div class=\"sk-item\"><div class=\"sk-estimator sk-toggleable\"><input class=\"sk-toggleable__control sk-hidden--visually\" id=\"f19a172f-cc0c-46d8-acaa-d715bc58c092\" type=\"checkbox\" ><label class=\"sk-toggleable__label\" for=\"f19a172f-cc0c-46d8-acaa-d715bc58c092\">Amplitude</label><div class=\"sk-toggleable__content\"><pre>Amplitude(metric='heat', metric_params={'n_bins': 100, 'p': 1, 'sigma': 3.2},\n",
       "          n_jobs=-1)</pre></div></div></div></div></div></div><div class=\"sk-parallel-item\"><div class=\"sk-item\"><div class=\"sk-label-container\"><div class=\"sk-label sk-toggleable\"><label>amplitude-12</label></div></div><div class=\"sk-serial\"><div class=\"sk-item\"><div class=\"sk-estimator sk-toggleable\"><input class=\"sk-toggleable__control sk-hidden--visually\" id=\"3c2fd152-0bdb-469b-a483-79a84755cf25\" type=\"checkbox\" ><label class=\"sk-toggleable__label\" for=\"3c2fd152-0bdb-469b-a483-79a84755cf25\">Amplitude</label><div class=\"sk-toggleable__content\"><pre>Amplitude(metric='heat', metric_params={'n_bins': 100, 'p': 2, 'sigma': 1.6},\n",
       "          n_jobs=-1)</pre></div></div></div></div></div></div><div class=\"sk-parallel-item\"><div class=\"sk-item\"><div class=\"sk-label-container\"><div class=\"sk-label sk-toggleable\"><label>amplitude-13</label></div></div><div class=\"sk-serial\"><div class=\"sk-item\"><div class=\"sk-estimator sk-toggleable\"><input class=\"sk-toggleable__control sk-hidden--visually\" id=\"30e041a7-13a7-4d56-83d4-6029d1ed76ab\" type=\"checkbox\" ><label class=\"sk-toggleable__label\" for=\"30e041a7-13a7-4d56-83d4-6029d1ed76ab\">Amplitude</label><div class=\"sk-toggleable__content\"><pre>Amplitude(metric='heat', metric_params={'n_bins': 100, 'p': 2, 'sigma': 3.2},\n",
       "          n_jobs=-1)</pre></div></div></div></div></div></div></div></div></div></div></div></div></div><div class=\"sk-parallel-item\"><div class=\"sk-item\"><div class=\"sk-label-container\"><div class=\"sk-label sk-toggleable\"><label>pipeline-2</label></div></div><div class=\"sk-serial\"><div class=\"sk-item\"><div class=\"sk-serial\"><div class=\"sk-item\"><div class=\"sk-estimator sk-toggleable\"><input class=\"sk-toggleable__control sk-hidden--visually\" id=\"7bc8218a-244d-487d-9519-8dd6a38ba4fc\" type=\"checkbox\" ><label class=\"sk-toggleable__label\" for=\"7bc8218a-244d-487d-9519-8dd6a38ba4fc\">Binarizer</label><div class=\"sk-toggleable__content\"><pre>Binarizer(threshold=0.4)</pre></div></div></div><div class=\"sk-item\"><div class=\"sk-estimator sk-toggleable\"><input class=\"sk-toggleable__control sk-hidden--visually\" id=\"b9aeccfc-2188-4fb7-815e-6d4150028bfb\" type=\"checkbox\" ><label class=\"sk-toggleable__label\" for=\"b9aeccfc-2188-4fb7-815e-6d4150028bfb\">HeightFiltration</label><div class=\"sk-toggleable__content\"><pre>HeightFiltration(direction=array([1, 1]), n_jobs=-1)</pre></div></div></div><div class=\"sk-item\"><div class=\"sk-estimator sk-toggleable\"><input class=\"sk-toggleable__control sk-hidden--visually\" id=\"d0c9d776-3376-49c8-9922-2ebda1b09ee1\" type=\"checkbox\" ><label class=\"sk-toggleable__label\" for=\"d0c9d776-3376-49c8-9922-2ebda1b09ee1\">CubicalPersistence</label><div class=\"sk-toggleable__content\"><pre>CubicalPersistence(n_jobs=-1)</pre></div></div></div><div class=\"sk-item\"><div class=\"sk-estimator sk-toggleable\"><input class=\"sk-toggleable__control sk-hidden--visually\" id=\"a674346a-6da4-4967-be40-46ca5e207c90\" type=\"checkbox\" ><label class=\"sk-toggleable__label\" for=\"a674346a-6da4-4967-be40-46ca5e207c90\">Scaler</label><div class=\"sk-toggleable__content\"><pre>Scaler(n_jobs=-1)</pre></div></div></div><div class=\"sk-item sk-dashed-wrapped\"><div class=\"sk-label-container\"><div class=\"sk-label sk-toggleable\"><input class=\"sk-toggleable__control sk-hidden--visually\" id=\"174fd0a5-0e70-49a9-9d01-5b0afbe47d61\" type=\"checkbox\" ><label class=\"sk-toggleable__label\" for=\"174fd0a5-0e70-49a9-9d01-5b0afbe47d61\">featureunion: FeatureUnion</label><div class=\"sk-toggleable__content\"><pre>FeatureUnion(transformer_list=[('persistenceentropy',\n",
       "                                PersistenceEntropy(nan_fill_value=-1)),\n",
       "                               ('amplitude-1',\n",
       "                                Amplitude(metric='bottleneck', metric_params={},\n",
       "                                          n_jobs=-1)),\n",
       "                               ('amplitude-2',\n",
       "                                Amplitude(metric='wasserstein',\n",
       "                                          metric_params={'p': 1}, n_jobs=-1)),\n",
       "                               ('amplitude-3',\n",
       "                                Amplitude(metric='wasserstein',\n",
       "                                          metric_params={'p': 2}, n_jobs=-1)),\n",
       "                               ('amplitude-4',\n",
       "                                Amplitude...\n",
       "                                          metric_params={'n_bins': 100, 'p': 1,\n",
       "                                                         'sigma': 1.6},\n",
       "                                          n_jobs=-1)),\n",
       "                               ('amplitude-11',\n",
       "                                Amplitude(metric='heat',\n",
       "                                          metric_params={'n_bins': 100, 'p': 1,\n",
       "                                                         'sigma': 3.2},\n",
       "                                          n_jobs=-1)),\n",
       "                               ('amplitude-12',\n",
       "                                Amplitude(metric='heat',\n",
       "                                          metric_params={'n_bins': 100, 'p': 2,\n",
       "                                                         'sigma': 1.6},\n",
       "                                          n_jobs=-1)),\n",
       "                               ('amplitude-13',\n",
       "                                Amplitude(metric='heat',\n",
       "                                          metric_params={'n_bins': 100, 'p': 2,\n",
       "                                                         'sigma': 3.2},\n",
       "                                          n_jobs=-1))])</pre></div></div></div><div class=\"sk-parallel\"><div class=\"sk-parallel-item\"><div class=\"sk-item\"><div class=\"sk-label-container\"><div class=\"sk-label sk-toggleable\"><label>persistenceentropy</label></div></div><div class=\"sk-serial\"><div class=\"sk-item\"><div class=\"sk-estimator sk-toggleable\"><input class=\"sk-toggleable__control sk-hidden--visually\" id=\"014fa442-e8ff-4993-a586-b740c146b452\" type=\"checkbox\" ><label class=\"sk-toggleable__label\" for=\"014fa442-e8ff-4993-a586-b740c146b452\">PersistenceEntropy</label><div class=\"sk-toggleable__content\"><pre>PersistenceEntropy(nan_fill_value=-1)</pre></div></div></div></div></div></div><div class=\"sk-parallel-item\"><div class=\"sk-item\"><div class=\"sk-label-container\"><div class=\"sk-label sk-toggleable\"><label>amplitude-1</label></div></div><div class=\"sk-serial\"><div class=\"sk-item\"><div class=\"sk-estimator sk-toggleable\"><input class=\"sk-toggleable__control sk-hidden--visually\" id=\"06bb9212-f7d8-471e-9d9e-bbbb0c374a6b\" type=\"checkbox\" ><label class=\"sk-toggleable__label\" for=\"06bb9212-f7d8-471e-9d9e-bbbb0c374a6b\">Amplitude</label><div class=\"sk-toggleable__content\"><pre>Amplitude(metric='bottleneck', metric_params={}, n_jobs=-1)</pre></div></div></div></div></div></div><div class=\"sk-parallel-item\"><div class=\"sk-item\"><div class=\"sk-label-container\"><div class=\"sk-label sk-toggleable\"><label>amplitude-2</label></div></div><div class=\"sk-serial\"><div class=\"sk-item\"><div class=\"sk-estimator sk-toggleable\"><input class=\"sk-toggleable__control sk-hidden--visually\" id=\"0cdbd7ba-86e1-449d-aff2-aa0c475e2400\" type=\"checkbox\" ><label class=\"sk-toggleable__label\" for=\"0cdbd7ba-86e1-449d-aff2-aa0c475e2400\">Amplitude</label><div class=\"sk-toggleable__content\"><pre>Amplitude(metric='wasserstein', metric_params={'p': 1}, n_jobs=-1)</pre></div></div></div></div></div></div><div class=\"sk-parallel-item\"><div class=\"sk-item\"><div class=\"sk-label-container\"><div class=\"sk-label sk-toggleable\"><label>amplitude-3</label></div></div><div class=\"sk-serial\"><div class=\"sk-item\"><div class=\"sk-estimator sk-toggleable\"><input class=\"sk-toggleable__control sk-hidden--visually\" id=\"0249cb78-90f1-406d-bb0c-7ccea78712de\" type=\"checkbox\" ><label class=\"sk-toggleable__label\" for=\"0249cb78-90f1-406d-bb0c-7ccea78712de\">Amplitude</label><div class=\"sk-toggleable__content\"><pre>Amplitude(metric='wasserstein', metric_params={'p': 2}, n_jobs=-1)</pre></div></div></div></div></div></div><div class=\"sk-parallel-item\"><div class=\"sk-item\"><div class=\"sk-label-container\"><div class=\"sk-label sk-toggleable\"><label>amplitude-4</label></div></div><div class=\"sk-serial\"><div class=\"sk-item\"><div class=\"sk-estimator sk-toggleable\"><input class=\"sk-toggleable__control sk-hidden--visually\" id=\"ae53f6cb-9a8d-4a63-97d3-4a2a81471891\" type=\"checkbox\" ><label class=\"sk-toggleable__label\" for=\"ae53f6cb-9a8d-4a63-97d3-4a2a81471891\">Amplitude</label><div class=\"sk-toggleable__content\"><pre>Amplitude(metric_params={'n_bins': 100, 'n_layers': 1, 'p': 1}, n_jobs=-1)</pre></div></div></div></div></div></div><div class=\"sk-parallel-item\"><div class=\"sk-item\"><div class=\"sk-label-container\"><div class=\"sk-label sk-toggleable\"><label>amplitude-5</label></div></div><div class=\"sk-serial\"><div class=\"sk-item\"><div class=\"sk-estimator sk-toggleable\"><input class=\"sk-toggleable__control sk-hidden--visually\" id=\"af213f89-4a5e-4b85-8c86-09209ef0b8b0\" type=\"checkbox\" ><label class=\"sk-toggleable__label\" for=\"af213f89-4a5e-4b85-8c86-09209ef0b8b0\">Amplitude</label><div class=\"sk-toggleable__content\"><pre>Amplitude(metric_params={'n_bins': 100, 'n_layers': 2, 'p': 1}, n_jobs=-1)</pre></div></div></div></div></div></div><div class=\"sk-parallel-item\"><div class=\"sk-item\"><div class=\"sk-label-container\"><div class=\"sk-label sk-toggleable\"><label>amplitude-6</label></div></div><div class=\"sk-serial\"><div class=\"sk-item\"><div class=\"sk-estimator sk-toggleable\"><input class=\"sk-toggleable__control sk-hidden--visually\" id=\"67d33eaa-d88b-4d20-adc3-cc0ca2822339\" type=\"checkbox\" ><label class=\"sk-toggleable__label\" for=\"67d33eaa-d88b-4d20-adc3-cc0ca2822339\">Amplitude</label><div class=\"sk-toggleable__content\"><pre>Amplitude(metric_params={'n_bins': 100, 'n_layers': 1, 'p': 2}, n_jobs=-1)</pre></div></div></div></div></div></div><div class=\"sk-parallel-item\"><div class=\"sk-item\"><div class=\"sk-label-container\"><div class=\"sk-label sk-toggleable\"><label>amplitude-7</label></div></div><div class=\"sk-serial\"><div class=\"sk-item\"><div class=\"sk-estimator sk-toggleable\"><input class=\"sk-toggleable__control sk-hidden--visually\" id=\"85112280-51b9-475e-81d0-d7781ec91381\" type=\"checkbox\" ><label class=\"sk-toggleable__label\" for=\"85112280-51b9-475e-81d0-d7781ec91381\">Amplitude</label><div class=\"sk-toggleable__content\"><pre>Amplitude(metric_params={'n_bins': 100, 'n_layers': 2, 'p': 2}, n_jobs=-1)</pre></div></div></div></div></div></div><div class=\"sk-parallel-item\"><div class=\"sk-item\"><div class=\"sk-label-container\"><div class=\"sk-label sk-toggleable\"><label>amplitude-8</label></div></div><div class=\"sk-serial\"><div class=\"sk-item\"><div class=\"sk-estimator sk-toggleable\"><input class=\"sk-toggleable__control sk-hidden--visually\" id=\"57c889db-8e5f-4109-9042-7e65fa0fb9e3\" type=\"checkbox\" ><label class=\"sk-toggleable__label\" for=\"57c889db-8e5f-4109-9042-7e65fa0fb9e3\">Amplitude</label><div class=\"sk-toggleable__content\"><pre>Amplitude(metric='betti', metric_params={'n_bins': 100, 'p': 1}, n_jobs=-1)</pre></div></div></div></div></div></div><div class=\"sk-parallel-item\"><div class=\"sk-item\"><div class=\"sk-label-container\"><div class=\"sk-label sk-toggleable\"><label>amplitude-9</label></div></div><div class=\"sk-serial\"><div class=\"sk-item\"><div class=\"sk-estimator sk-toggleable\"><input class=\"sk-toggleable__control sk-hidden--visually\" id=\"bf2e7f40-357c-4c14-a61c-dbc697f3f3db\" type=\"checkbox\" ><label class=\"sk-toggleable__label\" for=\"bf2e7f40-357c-4c14-a61c-dbc697f3f3db\">Amplitude</label><div class=\"sk-toggleable__content\"><pre>Amplitude(metric='betti', metric_params={'n_bins': 100, 'p': 2}, n_jobs=-1)</pre></div></div></div></div></div></div><div class=\"sk-parallel-item\"><div class=\"sk-item\"><div class=\"sk-label-container\"><div class=\"sk-label sk-toggleable\"><label>amplitude-10</label></div></div><div class=\"sk-serial\"><div class=\"sk-item\"><div class=\"sk-estimator sk-toggleable\"><input class=\"sk-toggleable__control sk-hidden--visually\" id=\"28c085ad-45d5-4967-8510-1c1d7db4ec2b\" type=\"checkbox\" ><label class=\"sk-toggleable__label\" for=\"28c085ad-45d5-4967-8510-1c1d7db4ec2b\">Amplitude</label><div class=\"sk-toggleable__content\"><pre>Amplitude(metric='heat', metric_params={'n_bins': 100, 'p': 1, 'sigma': 1.6},\n",
       "          n_jobs=-1)</pre></div></div></div></div></div></div><div class=\"sk-parallel-item\"><div class=\"sk-item\"><div class=\"sk-label-container\"><div class=\"sk-label sk-toggleable\"><label>amplitude-11</label></div></div><div class=\"sk-serial\"><div class=\"sk-item\"><div class=\"sk-estimator sk-toggleable\"><input class=\"sk-toggleable__control sk-hidden--visually\" id=\"0cfc82b1-7505-45f6-9a0e-611c23ff0bd2\" type=\"checkbox\" ><label class=\"sk-toggleable__label\" for=\"0cfc82b1-7505-45f6-9a0e-611c23ff0bd2\">Amplitude</label><div class=\"sk-toggleable__content\"><pre>Amplitude(metric='heat', metric_params={'n_bins': 100, 'p': 1, 'sigma': 3.2},\n",
       "          n_jobs=-1)</pre></div></div></div></div></div></div><div class=\"sk-parallel-item\"><div class=\"sk-item\"><div class=\"sk-label-container\"><div class=\"sk-label sk-toggleable\"><label>amplitude-12</label></div></div><div class=\"sk-serial\"><div class=\"sk-item\"><div class=\"sk-estimator sk-toggleable\"><input class=\"sk-toggleable__control sk-hidden--visually\" id=\"aa2b5711-08f1-4a96-97d3-3f4f365121f9\" type=\"checkbox\" ><label class=\"sk-toggleable__label\" for=\"aa2b5711-08f1-4a96-97d3-3f4f365121f9\">Amplitude</label><div class=\"sk-toggleable__content\"><pre>Amplitude(metric='heat', metric_params={'n_bins': 100, 'p': 2, 'sigma': 1.6},\n",
       "          n_jobs=-1)</pre></div></div></div></div></div></div><div class=\"sk-parallel-item\"><div class=\"sk-item\"><div class=\"sk-label-container\"><div class=\"sk-label sk-toggleable\"><label>amplitude-13</label></div></div><div class=\"sk-serial\"><div class=\"sk-item\"><div class=\"sk-estimator sk-toggleable\"><input class=\"sk-toggleable__control sk-hidden--visually\" id=\"ae500d30-d01f-456d-aa5a-90f4b683eebc\" type=\"checkbox\" ><label class=\"sk-toggleable__label\" for=\"ae500d30-d01f-456d-aa5a-90f4b683eebc\">Amplitude</label><div class=\"sk-toggleable__content\"><pre>Amplitude(metric='heat', metric_params={'n_bins': 100, 'p': 2, 'sigma': 3.2},\n",
       "          n_jobs=-1)</pre></div></div></div></div></div></div></div></div></div></div></div></div></div><div class=\"sk-parallel-item\"><div class=\"sk-item\"><div class=\"sk-label-container\"><div class=\"sk-label sk-toggleable\"><label>pipeline-3</label></div></div><div class=\"sk-serial\"><div class=\"sk-item\"><div class=\"sk-serial\"><div class=\"sk-item\"><div class=\"sk-estimator sk-toggleable\"><input class=\"sk-toggleable__control sk-hidden--visually\" id=\"aa63595b-9cd2-4c34-b0f8-58e2ed3be659\" type=\"checkbox\" ><label class=\"sk-toggleable__label\" for=\"aa63595b-9cd2-4c34-b0f8-58e2ed3be659\">Binarizer</label><div class=\"sk-toggleable__content\"><pre>Binarizer(threshold=0.4)</pre></div></div></div><div class=\"sk-item\"><div class=\"sk-estimator sk-toggleable\"><input class=\"sk-toggleable__control sk-hidden--visually\" id=\"46112f3d-bdab-4150-97d6-7854c87fb792\" type=\"checkbox\" ><label class=\"sk-toggleable__label\" for=\"46112f3d-bdab-4150-97d6-7854c87fb792\">HeightFiltration</label><div class=\"sk-toggleable__content\"><pre>HeightFiltration(direction=array([0, 1]), n_jobs=-1)</pre></div></div></div><div class=\"sk-item\"><div class=\"sk-estimator sk-toggleable\"><input class=\"sk-toggleable__control sk-hidden--visually\" id=\"8c2e3bf6-9de2-4faf-a822-228aa4322954\" type=\"checkbox\" ><label class=\"sk-toggleable__label\" for=\"8c2e3bf6-9de2-4faf-a822-228aa4322954\">CubicalPersistence</label><div class=\"sk-toggleable__content\"><pre>CubicalPersistence(n_jobs=-1)</pre></div></div></div><div class=\"sk-item\"><div class=\"sk-estimator sk-toggleable\"><input class=\"sk-toggleable__control sk-hidden--visually\" id=\"3bdde983-3cea-405b-9368-fd980a4303fb\" type=\"checkbox\" ><label class=\"sk-toggleable__label\" for=\"3bdde983-3cea-405b-9368-fd980a4303fb\">Scaler</label><div class=\"sk-toggleable__content\"><pre>Scaler(n_jobs=-1)</pre></div></div></div><div class=\"sk-item sk-dashed-wrapped\"><div class=\"sk-label-container\"><div class=\"sk-label sk-toggleable\"><input class=\"sk-toggleable__control sk-hidden--visually\" id=\"bb9397ba-4cf4-4af6-a309-0fca7f00f79a\" type=\"checkbox\" ><label class=\"sk-toggleable__label\" for=\"bb9397ba-4cf4-4af6-a309-0fca7f00f79a\">featureunion: FeatureUnion</label><div class=\"sk-toggleable__content\"><pre>FeatureUnion(transformer_list=[('persistenceentropy',\n",
       "                                PersistenceEntropy(nan_fill_value=-1)),\n",
       "                               ('amplitude-1',\n",
       "                                Amplitude(metric='bottleneck', metric_params={},\n",
       "                                          n_jobs=-1)),\n",
       "                               ('amplitude-2',\n",
       "                                Amplitude(metric='wasserstein',\n",
       "                                          metric_params={'p': 1}, n_jobs=-1)),\n",
       "                               ('amplitude-3',\n",
       "                                Amplitude(metric='wasserstein',\n",
       "                                          metric_params={'p': 2}, n_jobs=-1)),\n",
       "                               ('amplitude-4',\n",
       "                                Amplitude...\n",
       "                                          metric_params={'n_bins': 100, 'p': 1,\n",
       "                                                         'sigma': 1.6},\n",
       "                                          n_jobs=-1)),\n",
       "                               ('amplitude-11',\n",
       "                                Amplitude(metric='heat',\n",
       "                                          metric_params={'n_bins': 100, 'p': 1,\n",
       "                                                         'sigma': 3.2},\n",
       "                                          n_jobs=-1)),\n",
       "                               ('amplitude-12',\n",
       "                                Amplitude(metric='heat',\n",
       "                                          metric_params={'n_bins': 100, 'p': 2,\n",
       "                                                         'sigma': 1.6},\n",
       "                                          n_jobs=-1)),\n",
       "                               ('amplitude-13',\n",
       "                                Amplitude(metric='heat',\n",
       "                                          metric_params={'n_bins': 100, 'p': 2,\n",
       "                                                         'sigma': 3.2},\n",
       "                                          n_jobs=-1))])</pre></div></div></div><div class=\"sk-parallel\"><div class=\"sk-parallel-item\"><div class=\"sk-item\"><div class=\"sk-label-container\"><div class=\"sk-label sk-toggleable\"><label>persistenceentropy</label></div></div><div class=\"sk-serial\"><div class=\"sk-item\"><div class=\"sk-estimator sk-toggleable\"><input class=\"sk-toggleable__control sk-hidden--visually\" id=\"428f7a0b-26ed-4d73-83e7-2725e1946ddf\" type=\"checkbox\" ><label class=\"sk-toggleable__label\" for=\"428f7a0b-26ed-4d73-83e7-2725e1946ddf\">PersistenceEntropy</label><div class=\"sk-toggleable__content\"><pre>PersistenceEntropy(nan_fill_value=-1)</pre></div></div></div></div></div></div><div class=\"sk-parallel-item\"><div class=\"sk-item\"><div class=\"sk-label-container\"><div class=\"sk-label sk-toggleable\"><label>amplitude-1</label></div></div><div class=\"sk-serial\"><div class=\"sk-item\"><div class=\"sk-estimator sk-toggleable\"><input class=\"sk-toggleable__control sk-hidden--visually\" id=\"9f11e1a9-dabd-4497-833a-af8d36287201\" type=\"checkbox\" ><label class=\"sk-toggleable__label\" for=\"9f11e1a9-dabd-4497-833a-af8d36287201\">Amplitude</label><div class=\"sk-toggleable__content\"><pre>Amplitude(metric='bottleneck', metric_params={}, n_jobs=-1)</pre></div></div></div></div></div></div><div class=\"sk-parallel-item\"><div class=\"sk-item\"><div class=\"sk-label-container\"><div class=\"sk-label sk-toggleable\"><label>amplitude-2</label></div></div><div class=\"sk-serial\"><div class=\"sk-item\"><div class=\"sk-estimator sk-toggleable\"><input class=\"sk-toggleable__control sk-hidden--visually\" id=\"6e5713cd-76af-4ae6-b885-16a9cd963134\" type=\"checkbox\" ><label class=\"sk-toggleable__label\" for=\"6e5713cd-76af-4ae6-b885-16a9cd963134\">Amplitude</label><div class=\"sk-toggleable__content\"><pre>Amplitude(metric='wasserstein', metric_params={'p': 1}, n_jobs=-1)</pre></div></div></div></div></div></div><div class=\"sk-parallel-item\"><div class=\"sk-item\"><div class=\"sk-label-container\"><div class=\"sk-label sk-toggleable\"><label>amplitude-3</label></div></div><div class=\"sk-serial\"><div class=\"sk-item\"><div class=\"sk-estimator sk-toggleable\"><input class=\"sk-toggleable__control sk-hidden--visually\" id=\"22d61d52-e1a2-497b-a51c-149fdc4b274e\" type=\"checkbox\" ><label class=\"sk-toggleable__label\" for=\"22d61d52-e1a2-497b-a51c-149fdc4b274e\">Amplitude</label><div class=\"sk-toggleable__content\"><pre>Amplitude(metric='wasserstein', metric_params={'p': 2}, n_jobs=-1)</pre></div></div></div></div></div></div><div class=\"sk-parallel-item\"><div class=\"sk-item\"><div class=\"sk-label-container\"><div class=\"sk-label sk-toggleable\"><label>amplitude-4</label></div></div><div class=\"sk-serial\"><div class=\"sk-item\"><div class=\"sk-estimator sk-toggleable\"><input class=\"sk-toggleable__control sk-hidden--visually\" id=\"8c3ae380-2b4b-45dc-b830-df5f649b597c\" type=\"checkbox\" ><label class=\"sk-toggleable__label\" for=\"8c3ae380-2b4b-45dc-b830-df5f649b597c\">Amplitude</label><div class=\"sk-toggleable__content\"><pre>Amplitude(metric_params={'n_bins': 100, 'n_layers': 1, 'p': 1}, n_jobs=-1)</pre></div></div></div></div></div></div><div class=\"sk-parallel-item\"><div class=\"sk-item\"><div class=\"sk-label-container\"><div class=\"sk-label sk-toggleable\"><label>amplitude-5</label></div></div><div class=\"sk-serial\"><div class=\"sk-item\"><div class=\"sk-estimator sk-toggleable\"><input class=\"sk-toggleable__control sk-hidden--visually\" id=\"cca87254-e415-4752-b641-5493c73071c7\" type=\"checkbox\" ><label class=\"sk-toggleable__label\" for=\"cca87254-e415-4752-b641-5493c73071c7\">Amplitude</label><div class=\"sk-toggleable__content\"><pre>Amplitude(metric_params={'n_bins': 100, 'n_layers': 2, 'p': 1}, n_jobs=-1)</pre></div></div></div></div></div></div><div class=\"sk-parallel-item\"><div class=\"sk-item\"><div class=\"sk-label-container\"><div class=\"sk-label sk-toggleable\"><label>amplitude-6</label></div></div><div class=\"sk-serial\"><div class=\"sk-item\"><div class=\"sk-estimator sk-toggleable\"><input class=\"sk-toggleable__control sk-hidden--visually\" id=\"6d5bc0ef-1906-4aeb-b8b8-50d859994836\" type=\"checkbox\" ><label class=\"sk-toggleable__label\" for=\"6d5bc0ef-1906-4aeb-b8b8-50d859994836\">Amplitude</label><div class=\"sk-toggleable__content\"><pre>Amplitude(metric_params={'n_bins': 100, 'n_layers': 1, 'p': 2}, n_jobs=-1)</pre></div></div></div></div></div></div><div class=\"sk-parallel-item\"><div class=\"sk-item\"><div class=\"sk-label-container\"><div class=\"sk-label sk-toggleable\"><label>amplitude-7</label></div></div><div class=\"sk-serial\"><div class=\"sk-item\"><div class=\"sk-estimator sk-toggleable\"><input class=\"sk-toggleable__control sk-hidden--visually\" id=\"5a44c5bf-0cd5-424e-bb61-146f91fd27de\" type=\"checkbox\" ><label class=\"sk-toggleable__label\" for=\"5a44c5bf-0cd5-424e-bb61-146f91fd27de\">Amplitude</label><div class=\"sk-toggleable__content\"><pre>Amplitude(metric_params={'n_bins': 100, 'n_layers': 2, 'p': 2}, n_jobs=-1)</pre></div></div></div></div></div></div><div class=\"sk-parallel-item\"><div class=\"sk-item\"><div class=\"sk-label-container\"><div class=\"sk-label sk-toggleable\"><label>amplitude-8</label></div></div><div class=\"sk-serial\"><div class=\"sk-item\"><div class=\"sk-estimator sk-toggleable\"><input class=\"sk-toggleable__control sk-hidden--visually\" id=\"9cd50e3c-6804-4ff4-ad66-c3b846cea419\" type=\"checkbox\" ><label class=\"sk-toggleable__label\" for=\"9cd50e3c-6804-4ff4-ad66-c3b846cea419\">Amplitude</label><div class=\"sk-toggleable__content\"><pre>Amplitude(metric='betti', metric_params={'n_bins': 100, 'p': 1}, n_jobs=-1)</pre></div></div></div></div></div></div><div class=\"sk-parallel-item\"><div class=\"sk-item\"><div class=\"sk-label-container\"><div class=\"sk-label sk-toggleable\"><label>amplitude-9</label></div></div><div class=\"sk-serial\"><div class=\"sk-item\"><div class=\"sk-estimator sk-toggleable\"><input class=\"sk-toggleable__control sk-hidden--visually\" id=\"558e2c0a-5019-47ed-9a19-ee6e92ef752d\" type=\"checkbox\" ><label class=\"sk-toggleable__label\" for=\"558e2c0a-5019-47ed-9a19-ee6e92ef752d\">Amplitude</label><div class=\"sk-toggleable__content\"><pre>Amplitude(metric='betti', metric_params={'n_bins': 100, 'p': 2}, n_jobs=-1)</pre></div></div></div></div></div></div><div class=\"sk-parallel-item\"><div class=\"sk-item\"><div class=\"sk-label-container\"><div class=\"sk-label sk-toggleable\"><label>amplitude-10</label></div></div><div class=\"sk-serial\"><div class=\"sk-item\"><div class=\"sk-estimator sk-toggleable\"><input class=\"sk-toggleable__control sk-hidden--visually\" id=\"5de8e351-5c07-4b55-a035-347b5783580f\" type=\"checkbox\" ><label class=\"sk-toggleable__label\" for=\"5de8e351-5c07-4b55-a035-347b5783580f\">Amplitude</label><div class=\"sk-toggleable__content\"><pre>Amplitude(metric='heat', metric_params={'n_bins': 100, 'p': 1, 'sigma': 1.6},\n",
       "          n_jobs=-1)</pre></div></div></div></div></div></div><div class=\"sk-parallel-item\"><div class=\"sk-item\"><div class=\"sk-label-container\"><div class=\"sk-label sk-toggleable\"><label>amplitude-11</label></div></div><div class=\"sk-serial\"><div class=\"sk-item\"><div class=\"sk-estimator sk-toggleable\"><input class=\"sk-toggleable__control sk-hidden--visually\" id=\"0ad8ab09-11a4-4539-9bad-1644a19b24b5\" type=\"checkbox\" ><label class=\"sk-toggleable__label\" for=\"0ad8ab09-11a4-4539-9bad-1644a19b24b5\">Amplitude</label><div class=\"sk-toggleable__content\"><pre>Amplitude(metric='heat', metric_params={'n_bins': 100, 'p': 1, 'sigma': 3.2},\n",
       "          n_jobs=-1)</pre></div></div></div></div></div></div><div class=\"sk-parallel-item\"><div class=\"sk-item\"><div class=\"sk-label-container\"><div class=\"sk-label sk-toggleable\"><label>amplitude-12</label></div></div><div class=\"sk-serial\"><div class=\"sk-item\"><div class=\"sk-estimator sk-toggleable\"><input class=\"sk-toggleable__control sk-hidden--visually\" id=\"fa2fc79e-bc4c-4345-be31-89ca6ae54ca3\" type=\"checkbox\" ><label class=\"sk-toggleable__label\" for=\"fa2fc79e-bc4c-4345-be31-89ca6ae54ca3\">Amplitude</label><div class=\"sk-toggleable__content\"><pre>Amplitude(metric='heat', metric_params={'n_bins': 100, 'p': 2, 'sigma': 1.6},\n",
       "          n_jobs=-1)</pre></div></div></div></div></div></div><div class=\"sk-parallel-item\"><div class=\"sk-item\"><div class=\"sk-label-container\"><div class=\"sk-label sk-toggleable\"><label>amplitude-13</label></div></div><div class=\"sk-serial\"><div class=\"sk-item\"><div class=\"sk-estimator sk-toggleable\"><input class=\"sk-toggleable__control sk-hidden--visually\" id=\"adc5b1e4-8150-439d-a814-a17e3ff1980e\" type=\"checkbox\" ><label class=\"sk-toggleable__label\" for=\"adc5b1e4-8150-439d-a814-a17e3ff1980e\">Amplitude</label><div class=\"sk-toggleable__content\"><pre>Amplitude(metric='heat', metric_params={'n_bins': 100, 'p': 2, 'sigma': 3.2},\n",
       "          n_jobs=-1)</pre></div></div></div></div></div></div></div></div></div></div></div></div></div><div class=\"sk-parallel-item\"><div class=\"sk-item\"><div class=\"sk-label-container\"><div class=\"sk-label sk-toggleable\"><label>pipeline-4</label></div></div><div class=\"sk-serial\"><div class=\"sk-item\"><div class=\"sk-serial\"><div class=\"sk-item\"><div class=\"sk-estimator sk-toggleable\"><input class=\"sk-toggleable__control sk-hidden--visually\" id=\"b9149d85-a747-4740-8fae-71d99f4ab202\" type=\"checkbox\" ><label class=\"sk-toggleable__label\" for=\"b9149d85-a747-4740-8fae-71d99f4ab202\">Binarizer</label><div class=\"sk-toggleable__content\"><pre>Binarizer(threshold=0.4)</pre></div></div></div><div class=\"sk-item\"><div class=\"sk-estimator sk-toggleable\"><input class=\"sk-toggleable__control sk-hidden--visually\" id=\"e73806bd-4a2f-4e8a-ac0d-8908f882c14c\" type=\"checkbox\" ><label class=\"sk-toggleable__label\" for=\"e73806bd-4a2f-4e8a-ac0d-8908f882c14c\">HeightFiltration</label><div class=\"sk-toggleable__content\"><pre>HeightFiltration(direction=array([-1,  1]), n_jobs=-1)</pre></div></div></div><div class=\"sk-item\"><div class=\"sk-estimator sk-toggleable\"><input class=\"sk-toggleable__control sk-hidden--visually\" id=\"7ea8f1d7-e14c-4f17-9ee5-2ac17b2b7c94\" type=\"checkbox\" ><label class=\"sk-toggleable__label\" for=\"7ea8f1d7-e14c-4f17-9ee5-2ac17b2b7c94\">CubicalPersistence</label><div class=\"sk-toggleable__content\"><pre>CubicalPersistence(n_jobs=-1)</pre></div></div></div><div class=\"sk-item\"><div class=\"sk-estimator sk-toggleable\"><input class=\"sk-toggleable__control sk-hidden--visually\" id=\"2f53377f-206c-4c4c-8905-abfacac20550\" type=\"checkbox\" ><label class=\"sk-toggleable__label\" for=\"2f53377f-206c-4c4c-8905-abfacac20550\">Scaler</label><div class=\"sk-toggleable__content\"><pre>Scaler(n_jobs=-1)</pre></div></div></div><div class=\"sk-item sk-dashed-wrapped\"><div class=\"sk-label-container\"><div class=\"sk-label sk-toggleable\"><input class=\"sk-toggleable__control sk-hidden--visually\" id=\"c8107223-b381-417c-9341-29b99bd942d1\" type=\"checkbox\" ><label class=\"sk-toggleable__label\" for=\"c8107223-b381-417c-9341-29b99bd942d1\">featureunion: FeatureUnion</label><div class=\"sk-toggleable__content\"><pre>FeatureUnion(transformer_list=[('persistenceentropy',\n",
       "                                PersistenceEntropy(nan_fill_value=-1)),\n",
       "                               ('amplitude-1',\n",
       "                                Amplitude(metric='bottleneck', metric_params={},\n",
       "                                          n_jobs=-1)),\n",
       "                               ('amplitude-2',\n",
       "                                Amplitude(metric='wasserstein',\n",
       "                                          metric_params={'p': 1}, n_jobs=-1)),\n",
       "                               ('amplitude-3',\n",
       "                                Amplitude(metric='wasserstein',\n",
       "                                          metric_params={'p': 2}, n_jobs=-1)),\n",
       "                               ('amplitude-4',\n",
       "                                Amplitude...\n",
       "                                          metric_params={'n_bins': 100, 'p': 1,\n",
       "                                                         'sigma': 1.6},\n",
       "                                          n_jobs=-1)),\n",
       "                               ('amplitude-11',\n",
       "                                Amplitude(metric='heat',\n",
       "                                          metric_params={'n_bins': 100, 'p': 1,\n",
       "                                                         'sigma': 3.2},\n",
       "                                          n_jobs=-1)),\n",
       "                               ('amplitude-12',\n",
       "                                Amplitude(metric='heat',\n",
       "                                          metric_params={'n_bins': 100, 'p': 2,\n",
       "                                                         'sigma': 1.6},\n",
       "                                          n_jobs=-1)),\n",
       "                               ('amplitude-13',\n",
       "                                Amplitude(metric='heat',\n",
       "                                          metric_params={'n_bins': 100, 'p': 2,\n",
       "                                                         'sigma': 3.2},\n",
       "                                          n_jobs=-1))])</pre></div></div></div><div class=\"sk-parallel\"><div class=\"sk-parallel-item\"><div class=\"sk-item\"><div class=\"sk-label-container\"><div class=\"sk-label sk-toggleable\"><label>persistenceentropy</label></div></div><div class=\"sk-serial\"><div class=\"sk-item\"><div class=\"sk-estimator sk-toggleable\"><input class=\"sk-toggleable__control sk-hidden--visually\" id=\"58860f07-f3c8-4046-a0c8-bd94d68bcca4\" type=\"checkbox\" ><label class=\"sk-toggleable__label\" for=\"58860f07-f3c8-4046-a0c8-bd94d68bcca4\">PersistenceEntropy</label><div class=\"sk-toggleable__content\"><pre>PersistenceEntropy(nan_fill_value=-1)</pre></div></div></div></div></div></div><div class=\"sk-parallel-item\"><div class=\"sk-item\"><div class=\"sk-label-container\"><div class=\"sk-label sk-toggleable\"><label>amplitude-1</label></div></div><div class=\"sk-serial\"><div class=\"sk-item\"><div class=\"sk-estimator sk-toggleable\"><input class=\"sk-toggleable__control sk-hidden--visually\" id=\"d67cac23-295c-458c-be4d-aa4e6ef7fe19\" type=\"checkbox\" ><label class=\"sk-toggleable__label\" for=\"d67cac23-295c-458c-be4d-aa4e6ef7fe19\">Amplitude</label><div class=\"sk-toggleable__content\"><pre>Amplitude(metric='bottleneck', metric_params={}, n_jobs=-1)</pre></div></div></div></div></div></div><div class=\"sk-parallel-item\"><div class=\"sk-item\"><div class=\"sk-label-container\"><div class=\"sk-label sk-toggleable\"><label>amplitude-2</label></div></div><div class=\"sk-serial\"><div class=\"sk-item\"><div class=\"sk-estimator sk-toggleable\"><input class=\"sk-toggleable__control sk-hidden--visually\" id=\"b9012372-8226-43eb-a27b-a0059361129a\" type=\"checkbox\" ><label class=\"sk-toggleable__label\" for=\"b9012372-8226-43eb-a27b-a0059361129a\">Amplitude</label><div class=\"sk-toggleable__content\"><pre>Amplitude(metric='wasserstein', metric_params={'p': 1}, n_jobs=-1)</pre></div></div></div></div></div></div><div class=\"sk-parallel-item\"><div class=\"sk-item\"><div class=\"sk-label-container\"><div class=\"sk-label sk-toggleable\"><label>amplitude-3</label></div></div><div class=\"sk-serial\"><div class=\"sk-item\"><div class=\"sk-estimator sk-toggleable\"><input class=\"sk-toggleable__control sk-hidden--visually\" id=\"83d37365-b9d8-4006-990e-30b877198fe9\" type=\"checkbox\" ><label class=\"sk-toggleable__label\" for=\"83d37365-b9d8-4006-990e-30b877198fe9\">Amplitude</label><div class=\"sk-toggleable__content\"><pre>Amplitude(metric='wasserstein', metric_params={'p': 2}, n_jobs=-1)</pre></div></div></div></div></div></div><div class=\"sk-parallel-item\"><div class=\"sk-item\"><div class=\"sk-label-container\"><div class=\"sk-label sk-toggleable\"><label>amplitude-4</label></div></div><div class=\"sk-serial\"><div class=\"sk-item\"><div class=\"sk-estimator sk-toggleable\"><input class=\"sk-toggleable__control sk-hidden--visually\" id=\"db60f169-290e-413e-862f-5dfd180217a0\" type=\"checkbox\" ><label class=\"sk-toggleable__label\" for=\"db60f169-290e-413e-862f-5dfd180217a0\">Amplitude</label><div class=\"sk-toggleable__content\"><pre>Amplitude(metric_params={'n_bins': 100, 'n_layers': 1, 'p': 1}, n_jobs=-1)</pre></div></div></div></div></div></div><div class=\"sk-parallel-item\"><div class=\"sk-item\"><div class=\"sk-label-container\"><div class=\"sk-label sk-toggleable\"><label>amplitude-5</label></div></div><div class=\"sk-serial\"><div class=\"sk-item\"><div class=\"sk-estimator sk-toggleable\"><input class=\"sk-toggleable__control sk-hidden--visually\" id=\"e6622a13-2f41-42a5-a536-882624fc1782\" type=\"checkbox\" ><label class=\"sk-toggleable__label\" for=\"e6622a13-2f41-42a5-a536-882624fc1782\">Amplitude</label><div class=\"sk-toggleable__content\"><pre>Amplitude(metric_params={'n_bins': 100, 'n_layers': 2, 'p': 1}, n_jobs=-1)</pre></div></div></div></div></div></div><div class=\"sk-parallel-item\"><div class=\"sk-item\"><div class=\"sk-label-container\"><div class=\"sk-label sk-toggleable\"><label>amplitude-6</label></div></div><div class=\"sk-serial\"><div class=\"sk-item\"><div class=\"sk-estimator sk-toggleable\"><input class=\"sk-toggleable__control sk-hidden--visually\" id=\"951369d5-bc25-4348-9c42-79119d5e48a6\" type=\"checkbox\" ><label class=\"sk-toggleable__label\" for=\"951369d5-bc25-4348-9c42-79119d5e48a6\">Amplitude</label><div class=\"sk-toggleable__content\"><pre>Amplitude(metric_params={'n_bins': 100, 'n_layers': 1, 'p': 2}, n_jobs=-1)</pre></div></div></div></div></div></div><div class=\"sk-parallel-item\"><div class=\"sk-item\"><div class=\"sk-label-container\"><div class=\"sk-label sk-toggleable\"><label>amplitude-7</label></div></div><div class=\"sk-serial\"><div class=\"sk-item\"><div class=\"sk-estimator sk-toggleable\"><input class=\"sk-toggleable__control sk-hidden--visually\" id=\"296876d0-1d7d-451a-83cf-8800b88fb461\" type=\"checkbox\" ><label class=\"sk-toggleable__label\" for=\"296876d0-1d7d-451a-83cf-8800b88fb461\">Amplitude</label><div class=\"sk-toggleable__content\"><pre>Amplitude(metric_params={'n_bins': 100, 'n_layers': 2, 'p': 2}, n_jobs=-1)</pre></div></div></div></div></div></div><div class=\"sk-parallel-item\"><div class=\"sk-item\"><div class=\"sk-label-container\"><div class=\"sk-label sk-toggleable\"><label>amplitude-8</label></div></div><div class=\"sk-serial\"><div class=\"sk-item\"><div class=\"sk-estimator sk-toggleable\"><input class=\"sk-toggleable__control sk-hidden--visually\" id=\"f61fc018-8cda-4041-951c-dedd6545818d\" type=\"checkbox\" ><label class=\"sk-toggleable__label\" for=\"f61fc018-8cda-4041-951c-dedd6545818d\">Amplitude</label><div class=\"sk-toggleable__content\"><pre>Amplitude(metric='betti', metric_params={'n_bins': 100, 'p': 1}, n_jobs=-1)</pre></div></div></div></div></div></div><div class=\"sk-parallel-item\"><div class=\"sk-item\"><div class=\"sk-label-container\"><div class=\"sk-label sk-toggleable\"><label>amplitude-9</label></div></div><div class=\"sk-serial\"><div class=\"sk-item\"><div class=\"sk-estimator sk-toggleable\"><input class=\"sk-toggleable__control sk-hidden--visually\" id=\"113903d9-cee7-44b3-817b-eb7bfa95890c\" type=\"checkbox\" ><label class=\"sk-toggleable__label\" for=\"113903d9-cee7-44b3-817b-eb7bfa95890c\">Amplitude</label><div class=\"sk-toggleable__content\"><pre>Amplitude(metric='betti', metric_params={'n_bins': 100, 'p': 2}, n_jobs=-1)</pre></div></div></div></div></div></div><div class=\"sk-parallel-item\"><div class=\"sk-item\"><div class=\"sk-label-container\"><div class=\"sk-label sk-toggleable\"><label>amplitude-10</label></div></div><div class=\"sk-serial\"><div class=\"sk-item\"><div class=\"sk-estimator sk-toggleable\"><input class=\"sk-toggleable__control sk-hidden--visually\" id=\"cbdbb03b-8930-45e8-ada8-25ecd0073ee3\" type=\"checkbox\" ><label class=\"sk-toggleable__label\" for=\"cbdbb03b-8930-45e8-ada8-25ecd0073ee3\">Amplitude</label><div class=\"sk-toggleable__content\"><pre>Amplitude(metric='heat', metric_params={'n_bins': 100, 'p': 1, 'sigma': 1.6},\n",
       "          n_jobs=-1)</pre></div></div></div></div></div></div><div class=\"sk-parallel-item\"><div class=\"sk-item\"><div class=\"sk-label-container\"><div class=\"sk-label sk-toggleable\"><label>amplitude-11</label></div></div><div class=\"sk-serial\"><div class=\"sk-item\"><div class=\"sk-estimator sk-toggleable\"><input class=\"sk-toggleable__control sk-hidden--visually\" id=\"c8279378-aea7-4f8b-9fef-97fc639b4dae\" type=\"checkbox\" ><label class=\"sk-toggleable__label\" for=\"c8279378-aea7-4f8b-9fef-97fc639b4dae\">Amplitude</label><div class=\"sk-toggleable__content\"><pre>Amplitude(metric='heat', metric_params={'n_bins': 100, 'p': 1, 'sigma': 3.2},\n",
       "          n_jobs=-1)</pre></div></div></div></div></div></div><div class=\"sk-parallel-item\"><div class=\"sk-item\"><div class=\"sk-label-container\"><div class=\"sk-label sk-toggleable\"><label>amplitude-12</label></div></div><div class=\"sk-serial\"><div class=\"sk-item\"><div class=\"sk-estimator sk-toggleable\"><input class=\"sk-toggleable__control sk-hidden--visually\" id=\"60e1b3e7-f74a-46ad-8163-2643bb77ffac\" type=\"checkbox\" ><label class=\"sk-toggleable__label\" for=\"60e1b3e7-f74a-46ad-8163-2643bb77ffac\">Amplitude</label><div class=\"sk-toggleable__content\"><pre>Amplitude(metric='heat', metric_params={'n_bins': 100, 'p': 2, 'sigma': 1.6},\n",
       "          n_jobs=-1)</pre></div></div></div></div></div></div><div class=\"sk-parallel-item\"><div class=\"sk-item\"><div class=\"sk-label-container\"><div class=\"sk-label sk-toggleable\"><label>amplitude-13</label></div></div><div class=\"sk-serial\"><div class=\"sk-item\"><div class=\"sk-estimator sk-toggleable\"><input class=\"sk-toggleable__control sk-hidden--visually\" id=\"101df44a-2733-4655-ba37-4eae0ecdd0c2\" type=\"checkbox\" ><label class=\"sk-toggleable__label\" for=\"101df44a-2733-4655-ba37-4eae0ecdd0c2\">Amplitude</label><div class=\"sk-toggleable__content\"><pre>Amplitude(metric='heat', metric_params={'n_bins': 100, 'p': 2, 'sigma': 3.2},\n",
       "          n_jobs=-1)</pre></div></div></div></div></div></div></div></div></div></div></div></div></div><div class=\"sk-parallel-item\"><div class=\"sk-item\"><div class=\"sk-label-container\"><div class=\"sk-label sk-toggleable\"><label>pipeline-5</label></div></div><div class=\"sk-serial\"><div class=\"sk-item\"><div class=\"sk-serial\"><div class=\"sk-item\"><div class=\"sk-estimator sk-toggleable\"><input class=\"sk-toggleable__control sk-hidden--visually\" id=\"d96483e4-47fd-451f-ab7b-07c2569e6f63\" type=\"checkbox\" ><label class=\"sk-toggleable__label\" for=\"d96483e4-47fd-451f-ab7b-07c2569e6f63\">Binarizer</label><div class=\"sk-toggleable__content\"><pre>Binarizer(threshold=0.4)</pre></div></div></div><div class=\"sk-item\"><div class=\"sk-estimator sk-toggleable\"><input class=\"sk-toggleable__control sk-hidden--visually\" id=\"730695ab-12ec-4b7a-a914-637766a21685\" type=\"checkbox\" ><label class=\"sk-toggleable__label\" for=\"730695ab-12ec-4b7a-a914-637766a21685\">HeightFiltration</label><div class=\"sk-toggleable__content\"><pre>HeightFiltration(direction=array([-1,  0]), n_jobs=-1)</pre></div></div></div><div class=\"sk-item\"><div class=\"sk-estimator sk-toggleable\"><input class=\"sk-toggleable__control sk-hidden--visually\" id=\"4206b6ee-88cc-40b1-9a30-b40a09c89f89\" type=\"checkbox\" ><label class=\"sk-toggleable__label\" for=\"4206b6ee-88cc-40b1-9a30-b40a09c89f89\">CubicalPersistence</label><div class=\"sk-toggleable__content\"><pre>CubicalPersistence(n_jobs=-1)</pre></div></div></div><div class=\"sk-item\"><div class=\"sk-estimator sk-toggleable\"><input class=\"sk-toggleable__control sk-hidden--visually\" id=\"2ee4f38c-f9e9-4d91-b643-2cec98244f13\" type=\"checkbox\" ><label class=\"sk-toggleable__label\" for=\"2ee4f38c-f9e9-4d91-b643-2cec98244f13\">Scaler</label><div class=\"sk-toggleable__content\"><pre>Scaler(n_jobs=-1)</pre></div></div></div><div class=\"sk-item sk-dashed-wrapped\"><div class=\"sk-label-container\"><div class=\"sk-label sk-toggleable\"><input class=\"sk-toggleable__control sk-hidden--visually\" id=\"84424dd0-425e-45f6-b757-70aa66e91c6b\" type=\"checkbox\" ><label class=\"sk-toggleable__label\" for=\"84424dd0-425e-45f6-b757-70aa66e91c6b\">featureunion: FeatureUnion</label><div class=\"sk-toggleable__content\"><pre>FeatureUnion(transformer_list=[('persistenceentropy',\n",
       "                                PersistenceEntropy(nan_fill_value=-1)),\n",
       "                               ('amplitude-1',\n",
       "                                Amplitude(metric='bottleneck', metric_params={},\n",
       "                                          n_jobs=-1)),\n",
       "                               ('amplitude-2',\n",
       "                                Amplitude(metric='wasserstein',\n",
       "                                          metric_params={'p': 1}, n_jobs=-1)),\n",
       "                               ('amplitude-3',\n",
       "                                Amplitude(metric='wasserstein',\n",
       "                                          metric_params={'p': 2}, n_jobs=-1)),\n",
       "                               ('amplitude-4',\n",
       "                                Amplitude...\n",
       "                                          metric_params={'n_bins': 100, 'p': 1,\n",
       "                                                         'sigma': 1.6},\n",
       "                                          n_jobs=-1)),\n",
       "                               ('amplitude-11',\n",
       "                                Amplitude(metric='heat',\n",
       "                                          metric_params={'n_bins': 100, 'p': 1,\n",
       "                                                         'sigma': 3.2},\n",
       "                                          n_jobs=-1)),\n",
       "                               ('amplitude-12',\n",
       "                                Amplitude(metric='heat',\n",
       "                                          metric_params={'n_bins': 100, 'p': 2,\n",
       "                                                         'sigma': 1.6},\n",
       "                                          n_jobs=-1)),\n",
       "                               ('amplitude-13',\n",
       "                                Amplitude(metric='heat',\n",
       "                                          metric_params={'n_bins': 100, 'p': 2,\n",
       "                                                         'sigma': 3.2},\n",
       "                                          n_jobs=-1))])</pre></div></div></div><div class=\"sk-parallel\"><div class=\"sk-parallel-item\"><div class=\"sk-item\"><div class=\"sk-label-container\"><div class=\"sk-label sk-toggleable\"><label>persistenceentropy</label></div></div><div class=\"sk-serial\"><div class=\"sk-item\"><div class=\"sk-estimator sk-toggleable\"><input class=\"sk-toggleable__control sk-hidden--visually\" id=\"903b9df5-81b1-4d37-84c5-482d0fe6c946\" type=\"checkbox\" ><label class=\"sk-toggleable__label\" for=\"903b9df5-81b1-4d37-84c5-482d0fe6c946\">PersistenceEntropy</label><div class=\"sk-toggleable__content\"><pre>PersistenceEntropy(nan_fill_value=-1)</pre></div></div></div></div></div></div><div class=\"sk-parallel-item\"><div class=\"sk-item\"><div class=\"sk-label-container\"><div class=\"sk-label sk-toggleable\"><label>amplitude-1</label></div></div><div class=\"sk-serial\"><div class=\"sk-item\"><div class=\"sk-estimator sk-toggleable\"><input class=\"sk-toggleable__control sk-hidden--visually\" id=\"625f0404-5ca2-41f5-adca-be635bcd7b35\" type=\"checkbox\" ><label class=\"sk-toggleable__label\" for=\"625f0404-5ca2-41f5-adca-be635bcd7b35\">Amplitude</label><div class=\"sk-toggleable__content\"><pre>Amplitude(metric='bottleneck', metric_params={}, n_jobs=-1)</pre></div></div></div></div></div></div><div class=\"sk-parallel-item\"><div class=\"sk-item\"><div class=\"sk-label-container\"><div class=\"sk-label sk-toggleable\"><label>amplitude-2</label></div></div><div class=\"sk-serial\"><div class=\"sk-item\"><div class=\"sk-estimator sk-toggleable\"><input class=\"sk-toggleable__control sk-hidden--visually\" id=\"696c5f66-226b-4638-8892-844b4c10da6c\" type=\"checkbox\" ><label class=\"sk-toggleable__label\" for=\"696c5f66-226b-4638-8892-844b4c10da6c\">Amplitude</label><div class=\"sk-toggleable__content\"><pre>Amplitude(metric='wasserstein', metric_params={'p': 1}, n_jobs=-1)</pre></div></div></div></div></div></div><div class=\"sk-parallel-item\"><div class=\"sk-item\"><div class=\"sk-label-container\"><div class=\"sk-label sk-toggleable\"><label>amplitude-3</label></div></div><div class=\"sk-serial\"><div class=\"sk-item\"><div class=\"sk-estimator sk-toggleable\"><input class=\"sk-toggleable__control sk-hidden--visually\" id=\"2b481bf5-1af4-44a7-88b2-804bc2401150\" type=\"checkbox\" ><label class=\"sk-toggleable__label\" for=\"2b481bf5-1af4-44a7-88b2-804bc2401150\">Amplitude</label><div class=\"sk-toggleable__content\"><pre>Amplitude(metric='wasserstein', metric_params={'p': 2}, n_jobs=-1)</pre></div></div></div></div></div></div><div class=\"sk-parallel-item\"><div class=\"sk-item\"><div class=\"sk-label-container\"><div class=\"sk-label sk-toggleable\"><label>amplitude-4</label></div></div><div class=\"sk-serial\"><div class=\"sk-item\"><div class=\"sk-estimator sk-toggleable\"><input class=\"sk-toggleable__control sk-hidden--visually\" id=\"b46ce736-bd9c-4599-b7ec-b78224e2451c\" type=\"checkbox\" ><label class=\"sk-toggleable__label\" for=\"b46ce736-bd9c-4599-b7ec-b78224e2451c\">Amplitude</label><div class=\"sk-toggleable__content\"><pre>Amplitude(metric_params={'n_bins': 100, 'n_layers': 1, 'p': 1}, n_jobs=-1)</pre></div></div></div></div></div></div><div class=\"sk-parallel-item\"><div class=\"sk-item\"><div class=\"sk-label-container\"><div class=\"sk-label sk-toggleable\"><label>amplitude-5</label></div></div><div class=\"sk-serial\"><div class=\"sk-item\"><div class=\"sk-estimator sk-toggleable\"><input class=\"sk-toggleable__control sk-hidden--visually\" id=\"6e90f436-ea7b-4d7e-9972-23185fb90c67\" type=\"checkbox\" ><label class=\"sk-toggleable__label\" for=\"6e90f436-ea7b-4d7e-9972-23185fb90c67\">Amplitude</label><div class=\"sk-toggleable__content\"><pre>Amplitude(metric_params={'n_bins': 100, 'n_layers': 2, 'p': 1}, n_jobs=-1)</pre></div></div></div></div></div></div><div class=\"sk-parallel-item\"><div class=\"sk-item\"><div class=\"sk-label-container\"><div class=\"sk-label sk-toggleable\"><label>amplitude-6</label></div></div><div class=\"sk-serial\"><div class=\"sk-item\"><div class=\"sk-estimator sk-toggleable\"><input class=\"sk-toggleable__control sk-hidden--visually\" id=\"4398f7bc-66ef-46d3-bd4c-cdb3c09225bd\" type=\"checkbox\" ><label class=\"sk-toggleable__label\" for=\"4398f7bc-66ef-46d3-bd4c-cdb3c09225bd\">Amplitude</label><div class=\"sk-toggleable__content\"><pre>Amplitude(metric_params={'n_bins': 100, 'n_layers': 1, 'p': 2}, n_jobs=-1)</pre></div></div></div></div></div></div><div class=\"sk-parallel-item\"><div class=\"sk-item\"><div class=\"sk-label-container\"><div class=\"sk-label sk-toggleable\"><label>amplitude-7</label></div></div><div class=\"sk-serial\"><div class=\"sk-item\"><div class=\"sk-estimator sk-toggleable\"><input class=\"sk-toggleable__control sk-hidden--visually\" id=\"ee3c8b8a-4144-4dad-a2ea-dfdbadad3520\" type=\"checkbox\" ><label class=\"sk-toggleable__label\" for=\"ee3c8b8a-4144-4dad-a2ea-dfdbadad3520\">Amplitude</label><div class=\"sk-toggleable__content\"><pre>Amplitude(metric_params={'n_bins': 100, 'n_layers': 2, 'p': 2}, n_jobs=-1)</pre></div></div></div></div></div></div><div class=\"sk-parallel-item\"><div class=\"sk-item\"><div class=\"sk-label-container\"><div class=\"sk-label sk-toggleable\"><label>amplitude-8</label></div></div><div class=\"sk-serial\"><div class=\"sk-item\"><div class=\"sk-estimator sk-toggleable\"><input class=\"sk-toggleable__control sk-hidden--visually\" id=\"39a80844-e15b-4072-9a33-0e2493d22bbb\" type=\"checkbox\" ><label class=\"sk-toggleable__label\" for=\"39a80844-e15b-4072-9a33-0e2493d22bbb\">Amplitude</label><div class=\"sk-toggleable__content\"><pre>Amplitude(metric='betti', metric_params={'n_bins': 100, 'p': 1}, n_jobs=-1)</pre></div></div></div></div></div></div><div class=\"sk-parallel-item\"><div class=\"sk-item\"><div class=\"sk-label-container\"><div class=\"sk-label sk-toggleable\"><label>amplitude-9</label></div></div><div class=\"sk-serial\"><div class=\"sk-item\"><div class=\"sk-estimator sk-toggleable\"><input class=\"sk-toggleable__control sk-hidden--visually\" id=\"a354c20b-5510-48f6-a42c-60f52b04b196\" type=\"checkbox\" ><label class=\"sk-toggleable__label\" for=\"a354c20b-5510-48f6-a42c-60f52b04b196\">Amplitude</label><div class=\"sk-toggleable__content\"><pre>Amplitude(metric='betti', metric_params={'n_bins': 100, 'p': 2}, n_jobs=-1)</pre></div></div></div></div></div></div><div class=\"sk-parallel-item\"><div class=\"sk-item\"><div class=\"sk-label-container\"><div class=\"sk-label sk-toggleable\"><label>amplitude-10</label></div></div><div class=\"sk-serial\"><div class=\"sk-item\"><div class=\"sk-estimator sk-toggleable\"><input class=\"sk-toggleable__control sk-hidden--visually\" id=\"2569ed89-ffc3-4197-bb90-1969161b09d0\" type=\"checkbox\" ><label class=\"sk-toggleable__label\" for=\"2569ed89-ffc3-4197-bb90-1969161b09d0\">Amplitude</label><div class=\"sk-toggleable__content\"><pre>Amplitude(metric='heat', metric_params={'n_bins': 100, 'p': 1, 'sigma': 1.6},\n",
       "          n_jobs=-1)</pre></div></div></div></div></div></div><div class=\"sk-parallel-item\"><div class=\"sk-item\"><div class=\"sk-label-container\"><div class=\"sk-label sk-toggleable\"><label>amplitude-11</label></div></div><div class=\"sk-serial\"><div class=\"sk-item\"><div class=\"sk-estimator sk-toggleable\"><input class=\"sk-toggleable__control sk-hidden--visually\" id=\"7aeeece8-5ac0-428f-b2c3-72e63e02ea52\" type=\"checkbox\" ><label class=\"sk-toggleable__label\" for=\"7aeeece8-5ac0-428f-b2c3-72e63e02ea52\">Amplitude</label><div class=\"sk-toggleable__content\"><pre>Amplitude(metric='heat', metric_params={'n_bins': 100, 'p': 1, 'sigma': 3.2},\n",
       "          n_jobs=-1)</pre></div></div></div></div></div></div><div class=\"sk-parallel-item\"><div class=\"sk-item\"><div class=\"sk-label-container\"><div class=\"sk-label sk-toggleable\"><label>amplitude-12</label></div></div><div class=\"sk-serial\"><div class=\"sk-item\"><div class=\"sk-estimator sk-toggleable\"><input class=\"sk-toggleable__control sk-hidden--visually\" id=\"fff28835-2377-4f5b-9037-8214b7b874bd\" type=\"checkbox\" ><label class=\"sk-toggleable__label\" for=\"fff28835-2377-4f5b-9037-8214b7b874bd\">Amplitude</label><div class=\"sk-toggleable__content\"><pre>Amplitude(metric='heat', metric_params={'n_bins': 100, 'p': 2, 'sigma': 1.6},\n",
       "          n_jobs=-1)</pre></div></div></div></div></div></div><div class=\"sk-parallel-item\"><div class=\"sk-item\"><div class=\"sk-label-container\"><div class=\"sk-label sk-toggleable\"><label>amplitude-13</label></div></div><div class=\"sk-serial\"><div class=\"sk-item\"><div class=\"sk-estimator sk-toggleable\"><input class=\"sk-toggleable__control sk-hidden--visually\" id=\"e647b302-a6a4-4f0f-b0c7-a5914614db32\" type=\"checkbox\" ><label class=\"sk-toggleable__label\" for=\"e647b302-a6a4-4f0f-b0c7-a5914614db32\">Amplitude</label><div class=\"sk-toggleable__content\"><pre>Amplitude(metric='heat', metric_params={'n_bins': 100, 'p': 2, 'sigma': 3.2},\n",
       "          n_jobs=-1)</pre></div></div></div></div></div></div></div></div></div></div></div></div></div><div class=\"sk-parallel-item\"><div class=\"sk-item\"><div class=\"sk-label-container\"><div class=\"sk-label sk-toggleable\"><label>pipeline-6</label></div></div><div class=\"sk-serial\"><div class=\"sk-item\"><div class=\"sk-serial\"><div class=\"sk-item\"><div class=\"sk-estimator sk-toggleable\"><input class=\"sk-toggleable__control sk-hidden--visually\" id=\"7314f9cc-f21d-411e-946c-35deff6b1aaf\" type=\"checkbox\" ><label class=\"sk-toggleable__label\" for=\"7314f9cc-f21d-411e-946c-35deff6b1aaf\">Binarizer</label><div class=\"sk-toggleable__content\"><pre>Binarizer(threshold=0.4)</pre></div></div></div><div class=\"sk-item\"><div class=\"sk-estimator sk-toggleable\"><input class=\"sk-toggleable__control sk-hidden--visually\" id=\"562859be-bbe6-41d9-bacd-4f6fa7c21179\" type=\"checkbox\" ><label class=\"sk-toggleable__label\" for=\"562859be-bbe6-41d9-bacd-4f6fa7c21179\">HeightFiltration</label><div class=\"sk-toggleable__content\"><pre>HeightFiltration(direction=array([-1, -1]), n_jobs=-1)</pre></div></div></div><div class=\"sk-item\"><div class=\"sk-estimator sk-toggleable\"><input class=\"sk-toggleable__control sk-hidden--visually\" id=\"cc5056fb-d535-453a-8eb4-bd3656df692e\" type=\"checkbox\" ><label class=\"sk-toggleable__label\" for=\"cc5056fb-d535-453a-8eb4-bd3656df692e\">CubicalPersistence</label><div class=\"sk-toggleable__content\"><pre>CubicalPersistence(n_jobs=-1)</pre></div></div></div><div class=\"sk-item\"><div class=\"sk-estimator sk-toggleable\"><input class=\"sk-toggleable__control sk-hidden--visually\" id=\"c63a9ac9-bcb5-490b-ac21-4d3aaa3d87a2\" type=\"checkbox\" ><label class=\"sk-toggleable__label\" for=\"c63a9ac9-bcb5-490b-ac21-4d3aaa3d87a2\">Scaler</label><div class=\"sk-toggleable__content\"><pre>Scaler(n_jobs=-1)</pre></div></div></div><div class=\"sk-item sk-dashed-wrapped\"><div class=\"sk-label-container\"><div class=\"sk-label sk-toggleable\"><input class=\"sk-toggleable__control sk-hidden--visually\" id=\"2a113694-17c0-4eef-8608-be0c9482c812\" type=\"checkbox\" ><label class=\"sk-toggleable__label\" for=\"2a113694-17c0-4eef-8608-be0c9482c812\">featureunion: FeatureUnion</label><div class=\"sk-toggleable__content\"><pre>FeatureUnion(transformer_list=[('persistenceentropy',\n",
       "                                PersistenceEntropy(nan_fill_value=-1)),\n",
       "                               ('amplitude-1',\n",
       "                                Amplitude(metric='bottleneck', metric_params={},\n",
       "                                          n_jobs=-1)),\n",
       "                               ('amplitude-2',\n",
       "                                Amplitude(metric='wasserstein',\n",
       "                                          metric_params={'p': 1}, n_jobs=-1)),\n",
       "                               ('amplitude-3',\n",
       "                                Amplitude(metric='wasserstein',\n",
       "                                          metric_params={'p': 2}, n_jobs=-1)),\n",
       "                               ('amplitude-4',\n",
       "                                Amplitude...\n",
       "                                          metric_params={'n_bins': 100, 'p': 1,\n",
       "                                                         'sigma': 1.6},\n",
       "                                          n_jobs=-1)),\n",
       "                               ('amplitude-11',\n",
       "                                Amplitude(metric='heat',\n",
       "                                          metric_params={'n_bins': 100, 'p': 1,\n",
       "                                                         'sigma': 3.2},\n",
       "                                          n_jobs=-1)),\n",
       "                               ('amplitude-12',\n",
       "                                Amplitude(metric='heat',\n",
       "                                          metric_params={'n_bins': 100, 'p': 2,\n",
       "                                                         'sigma': 1.6},\n",
       "                                          n_jobs=-1)),\n",
       "                               ('amplitude-13',\n",
       "                                Amplitude(metric='heat',\n",
       "                                          metric_params={'n_bins': 100, 'p': 2,\n",
       "                                                         'sigma': 3.2},\n",
       "                                          n_jobs=-1))])</pre></div></div></div><div class=\"sk-parallel\"><div class=\"sk-parallel-item\"><div class=\"sk-item\"><div class=\"sk-label-container\"><div class=\"sk-label sk-toggleable\"><label>persistenceentropy</label></div></div><div class=\"sk-serial\"><div class=\"sk-item\"><div class=\"sk-estimator sk-toggleable\"><input class=\"sk-toggleable__control sk-hidden--visually\" id=\"f4165e45-c03c-41d5-9bff-2f9a3a805d53\" type=\"checkbox\" ><label class=\"sk-toggleable__label\" for=\"f4165e45-c03c-41d5-9bff-2f9a3a805d53\">PersistenceEntropy</label><div class=\"sk-toggleable__content\"><pre>PersistenceEntropy(nan_fill_value=-1)</pre></div></div></div></div></div></div><div class=\"sk-parallel-item\"><div class=\"sk-item\"><div class=\"sk-label-container\"><div class=\"sk-label sk-toggleable\"><label>amplitude-1</label></div></div><div class=\"sk-serial\"><div class=\"sk-item\"><div class=\"sk-estimator sk-toggleable\"><input class=\"sk-toggleable__control sk-hidden--visually\" id=\"812e9d96-fae2-4508-b1eb-b6cd4cce51d9\" type=\"checkbox\" ><label class=\"sk-toggleable__label\" for=\"812e9d96-fae2-4508-b1eb-b6cd4cce51d9\">Amplitude</label><div class=\"sk-toggleable__content\"><pre>Amplitude(metric='bottleneck', metric_params={}, n_jobs=-1)</pre></div></div></div></div></div></div><div class=\"sk-parallel-item\"><div class=\"sk-item\"><div class=\"sk-label-container\"><div class=\"sk-label sk-toggleable\"><label>amplitude-2</label></div></div><div class=\"sk-serial\"><div class=\"sk-item\"><div class=\"sk-estimator sk-toggleable\"><input class=\"sk-toggleable__control sk-hidden--visually\" id=\"35a5015c-5dd8-42af-a9a4-1ee9e3cdfa2e\" type=\"checkbox\" ><label class=\"sk-toggleable__label\" for=\"35a5015c-5dd8-42af-a9a4-1ee9e3cdfa2e\">Amplitude</label><div class=\"sk-toggleable__content\"><pre>Amplitude(metric='wasserstein', metric_params={'p': 1}, n_jobs=-1)</pre></div></div></div></div></div></div><div class=\"sk-parallel-item\"><div class=\"sk-item\"><div class=\"sk-label-container\"><div class=\"sk-label sk-toggleable\"><label>amplitude-3</label></div></div><div class=\"sk-serial\"><div class=\"sk-item\"><div class=\"sk-estimator sk-toggleable\"><input class=\"sk-toggleable__control sk-hidden--visually\" id=\"782f1cf2-2dd3-4a19-af37-035b9fe68d24\" type=\"checkbox\" ><label class=\"sk-toggleable__label\" for=\"782f1cf2-2dd3-4a19-af37-035b9fe68d24\">Amplitude</label><div class=\"sk-toggleable__content\"><pre>Amplitude(metric='wasserstein', metric_params={'p': 2}, n_jobs=-1)</pre></div></div></div></div></div></div><div class=\"sk-parallel-item\"><div class=\"sk-item\"><div class=\"sk-label-container\"><div class=\"sk-label sk-toggleable\"><label>amplitude-4</label></div></div><div class=\"sk-serial\"><div class=\"sk-item\"><div class=\"sk-estimator sk-toggleable\"><input class=\"sk-toggleable__control sk-hidden--visually\" id=\"09d39df4-bb32-4f14-86f2-96252972c647\" type=\"checkbox\" ><label class=\"sk-toggleable__label\" for=\"09d39df4-bb32-4f14-86f2-96252972c647\">Amplitude</label><div class=\"sk-toggleable__content\"><pre>Amplitude(metric_params={'n_bins': 100, 'n_layers': 1, 'p': 1}, n_jobs=-1)</pre></div></div></div></div></div></div><div class=\"sk-parallel-item\"><div class=\"sk-item\"><div class=\"sk-label-container\"><div class=\"sk-label sk-toggleable\"><label>amplitude-5</label></div></div><div class=\"sk-serial\"><div class=\"sk-item\"><div class=\"sk-estimator sk-toggleable\"><input class=\"sk-toggleable__control sk-hidden--visually\" id=\"172ad6e3-67c9-4441-8a64-56522029ee2f\" type=\"checkbox\" ><label class=\"sk-toggleable__label\" for=\"172ad6e3-67c9-4441-8a64-56522029ee2f\">Amplitude</label><div class=\"sk-toggleable__content\"><pre>Amplitude(metric_params={'n_bins': 100, 'n_layers': 2, 'p': 1}, n_jobs=-1)</pre></div></div></div></div></div></div><div class=\"sk-parallel-item\"><div class=\"sk-item\"><div class=\"sk-label-container\"><div class=\"sk-label sk-toggleable\"><label>amplitude-6</label></div></div><div class=\"sk-serial\"><div class=\"sk-item\"><div class=\"sk-estimator sk-toggleable\"><input class=\"sk-toggleable__control sk-hidden--visually\" id=\"1e034387-8f71-48d1-a418-59840e269b6b\" type=\"checkbox\" ><label class=\"sk-toggleable__label\" for=\"1e034387-8f71-48d1-a418-59840e269b6b\">Amplitude</label><div class=\"sk-toggleable__content\"><pre>Amplitude(metric_params={'n_bins': 100, 'n_layers': 1, 'p': 2}, n_jobs=-1)</pre></div></div></div></div></div></div><div class=\"sk-parallel-item\"><div class=\"sk-item\"><div class=\"sk-label-container\"><div class=\"sk-label sk-toggleable\"><label>amplitude-7</label></div></div><div class=\"sk-serial\"><div class=\"sk-item\"><div class=\"sk-estimator sk-toggleable\"><input class=\"sk-toggleable__control sk-hidden--visually\" id=\"db83b593-f28c-4fc5-bb3e-c2ce8f46b502\" type=\"checkbox\" ><label class=\"sk-toggleable__label\" for=\"db83b593-f28c-4fc5-bb3e-c2ce8f46b502\">Amplitude</label><div class=\"sk-toggleable__content\"><pre>Amplitude(metric_params={'n_bins': 100, 'n_layers': 2, 'p': 2}, n_jobs=-1)</pre></div></div></div></div></div></div><div class=\"sk-parallel-item\"><div class=\"sk-item\"><div class=\"sk-label-container\"><div class=\"sk-label sk-toggleable\"><label>amplitude-8</label></div></div><div class=\"sk-serial\"><div class=\"sk-item\"><div class=\"sk-estimator sk-toggleable\"><input class=\"sk-toggleable__control sk-hidden--visually\" id=\"ac9f91fa-0047-4921-bb36-355e5901ba23\" type=\"checkbox\" ><label class=\"sk-toggleable__label\" for=\"ac9f91fa-0047-4921-bb36-355e5901ba23\">Amplitude</label><div class=\"sk-toggleable__content\"><pre>Amplitude(metric='betti', metric_params={'n_bins': 100, 'p': 1}, n_jobs=-1)</pre></div></div></div></div></div></div><div class=\"sk-parallel-item\"><div class=\"sk-item\"><div class=\"sk-label-container\"><div class=\"sk-label sk-toggleable\"><label>amplitude-9</label></div></div><div class=\"sk-serial\"><div class=\"sk-item\"><div class=\"sk-estimator sk-toggleable\"><input class=\"sk-toggleable__control sk-hidden--visually\" id=\"c3016d2a-3e23-42b9-9b04-f8f850ad1670\" type=\"checkbox\" ><label class=\"sk-toggleable__label\" for=\"c3016d2a-3e23-42b9-9b04-f8f850ad1670\">Amplitude</label><div class=\"sk-toggleable__content\"><pre>Amplitude(metric='betti', metric_params={'n_bins': 100, 'p': 2}, n_jobs=-1)</pre></div></div></div></div></div></div><div class=\"sk-parallel-item\"><div class=\"sk-item\"><div class=\"sk-label-container\"><div class=\"sk-label sk-toggleable\"><label>amplitude-10</label></div></div><div class=\"sk-serial\"><div class=\"sk-item\"><div class=\"sk-estimator sk-toggleable\"><input class=\"sk-toggleable__control sk-hidden--visually\" id=\"a22259e1-a6f0-43da-967d-3e79e65162cf\" type=\"checkbox\" ><label class=\"sk-toggleable__label\" for=\"a22259e1-a6f0-43da-967d-3e79e65162cf\">Amplitude</label><div class=\"sk-toggleable__content\"><pre>Amplitude(metric='heat', metric_params={'n_bins': 100, 'p': 1, 'sigma': 1.6},\n",
       "          n_jobs=-1)</pre></div></div></div></div></div></div><div class=\"sk-parallel-item\"><div class=\"sk-item\"><div class=\"sk-label-container\"><div class=\"sk-label sk-toggleable\"><label>amplitude-11</label></div></div><div class=\"sk-serial\"><div class=\"sk-item\"><div class=\"sk-estimator sk-toggleable\"><input class=\"sk-toggleable__control sk-hidden--visually\" id=\"82f26bd1-ced7-47d4-b076-ca91eed6e43b\" type=\"checkbox\" ><label class=\"sk-toggleable__label\" for=\"82f26bd1-ced7-47d4-b076-ca91eed6e43b\">Amplitude</label><div class=\"sk-toggleable__content\"><pre>Amplitude(metric='heat', metric_params={'n_bins': 100, 'p': 1, 'sigma': 3.2},\n",
       "          n_jobs=-1)</pre></div></div></div></div></div></div><div class=\"sk-parallel-item\"><div class=\"sk-item\"><div class=\"sk-label-container\"><div class=\"sk-label sk-toggleable\"><label>amplitude-12</label></div></div><div class=\"sk-serial\"><div class=\"sk-item\"><div class=\"sk-estimator sk-toggleable\"><input class=\"sk-toggleable__control sk-hidden--visually\" id=\"128c6090-8dc1-4fd2-aa35-0db4d5e75e5f\" type=\"checkbox\" ><label class=\"sk-toggleable__label\" for=\"128c6090-8dc1-4fd2-aa35-0db4d5e75e5f\">Amplitude</label><div class=\"sk-toggleable__content\"><pre>Amplitude(metric='heat', metric_params={'n_bins': 100, 'p': 2, 'sigma': 1.6},\n",
       "          n_jobs=-1)</pre></div></div></div></div></div></div><div class=\"sk-parallel-item\"><div class=\"sk-item\"><div class=\"sk-label-container\"><div class=\"sk-label sk-toggleable\"><label>amplitude-13</label></div></div><div class=\"sk-serial\"><div class=\"sk-item\"><div class=\"sk-estimator sk-toggleable\"><input class=\"sk-toggleable__control sk-hidden--visually\" id=\"dbc17291-89df-40a4-a5f2-94455a31e55c\" type=\"checkbox\" ><label class=\"sk-toggleable__label\" for=\"dbc17291-89df-40a4-a5f2-94455a31e55c\">Amplitude</label><div class=\"sk-toggleable__content\"><pre>Amplitude(metric='heat', metric_params={'n_bins': 100, 'p': 2, 'sigma': 3.2},\n",
       "          n_jobs=-1)</pre></div></div></div></div></div></div></div></div></div></div></div></div></div><div class=\"sk-parallel-item\"><div class=\"sk-item\"><div class=\"sk-label-container\"><div class=\"sk-label sk-toggleable\"><label>pipeline-7</label></div></div><div class=\"sk-serial\"><div class=\"sk-item\"><div class=\"sk-serial\"><div class=\"sk-item\"><div class=\"sk-estimator sk-toggleable\"><input class=\"sk-toggleable__control sk-hidden--visually\" id=\"c310bce9-c66c-4f3c-96a6-fdcd2d7669dc\" type=\"checkbox\" ><label class=\"sk-toggleable__label\" for=\"c310bce9-c66c-4f3c-96a6-fdcd2d7669dc\">Binarizer</label><div class=\"sk-toggleable__content\"><pre>Binarizer(threshold=0.4)</pre></div></div></div><div class=\"sk-item\"><div class=\"sk-estimator sk-toggleable\"><input class=\"sk-toggleable__control sk-hidden--visually\" id=\"b1960067-afe0-4172-8870-93e977218d36\" type=\"checkbox\" ><label class=\"sk-toggleable__label\" for=\"b1960067-afe0-4172-8870-93e977218d36\">HeightFiltration</label><div class=\"sk-toggleable__content\"><pre>HeightFiltration(direction=array([ 0, -1]), n_jobs=-1)</pre></div></div></div><div class=\"sk-item\"><div class=\"sk-estimator sk-toggleable\"><input class=\"sk-toggleable__control sk-hidden--visually\" id=\"563104db-d195-4ac7-a1a7-f5955d5ecdbe\" type=\"checkbox\" ><label class=\"sk-toggleable__label\" for=\"563104db-d195-4ac7-a1a7-f5955d5ecdbe\">CubicalPersistence</label><div class=\"sk-toggleable__content\"><pre>CubicalPersistence(n_jobs=-1)</pre></div></div></div><div class=\"sk-item\"><div class=\"sk-estimator sk-toggleable\"><input class=\"sk-toggleable__control sk-hidden--visually\" id=\"e3d5271d-029c-4abe-9263-c0bd6c2bb5a9\" type=\"checkbox\" ><label class=\"sk-toggleable__label\" for=\"e3d5271d-029c-4abe-9263-c0bd6c2bb5a9\">Scaler</label><div class=\"sk-toggleable__content\"><pre>Scaler(n_jobs=-1)</pre></div></div></div><div class=\"sk-item sk-dashed-wrapped\"><div class=\"sk-label-container\"><div class=\"sk-label sk-toggleable\"><input class=\"sk-toggleable__control sk-hidden--visually\" id=\"3e5e1a9b-167f-404e-8cd4-7d8908243be3\" type=\"checkbox\" ><label class=\"sk-toggleable__label\" for=\"3e5e1a9b-167f-404e-8cd4-7d8908243be3\">featureunion: FeatureUnion</label><div class=\"sk-toggleable__content\"><pre>FeatureUnion(transformer_list=[('persistenceentropy',\n",
       "                                PersistenceEntropy(nan_fill_value=-1)),\n",
       "                               ('amplitude-1',\n",
       "                                Amplitude(metric='bottleneck', metric_params={},\n",
       "                                          n_jobs=-1)),\n",
       "                               ('amplitude-2',\n",
       "                                Amplitude(metric='wasserstein',\n",
       "                                          metric_params={'p': 1}, n_jobs=-1)),\n",
       "                               ('amplitude-3',\n",
       "                                Amplitude(metric='wasserstein',\n",
       "                                          metric_params={'p': 2}, n_jobs=-1)),\n",
       "                               ('amplitude-4',\n",
       "                                Amplitude...\n",
       "                                          metric_params={'n_bins': 100, 'p': 1,\n",
       "                                                         'sigma': 1.6},\n",
       "                                          n_jobs=-1)),\n",
       "                               ('amplitude-11',\n",
       "                                Amplitude(metric='heat',\n",
       "                                          metric_params={'n_bins': 100, 'p': 1,\n",
       "                                                         'sigma': 3.2},\n",
       "                                          n_jobs=-1)),\n",
       "                               ('amplitude-12',\n",
       "                                Amplitude(metric='heat',\n",
       "                                          metric_params={'n_bins': 100, 'p': 2,\n",
       "                                                         'sigma': 1.6},\n",
       "                                          n_jobs=-1)),\n",
       "                               ('amplitude-13',\n",
       "                                Amplitude(metric='heat',\n",
       "                                          metric_params={'n_bins': 100, 'p': 2,\n",
       "                                                         'sigma': 3.2},\n",
       "                                          n_jobs=-1))])</pre></div></div></div><div class=\"sk-parallel\"><div class=\"sk-parallel-item\"><div class=\"sk-item\"><div class=\"sk-label-container\"><div class=\"sk-label sk-toggleable\"><label>persistenceentropy</label></div></div><div class=\"sk-serial\"><div class=\"sk-item\"><div class=\"sk-estimator sk-toggleable\"><input class=\"sk-toggleable__control sk-hidden--visually\" id=\"86a2a7c5-cbce-4053-9476-34162a5ab9a9\" type=\"checkbox\" ><label class=\"sk-toggleable__label\" for=\"86a2a7c5-cbce-4053-9476-34162a5ab9a9\">PersistenceEntropy</label><div class=\"sk-toggleable__content\"><pre>PersistenceEntropy(nan_fill_value=-1)</pre></div></div></div></div></div></div><div class=\"sk-parallel-item\"><div class=\"sk-item\"><div class=\"sk-label-container\"><div class=\"sk-label sk-toggleable\"><label>amplitude-1</label></div></div><div class=\"sk-serial\"><div class=\"sk-item\"><div class=\"sk-estimator sk-toggleable\"><input class=\"sk-toggleable__control sk-hidden--visually\" id=\"92d508d8-7d71-4723-b190-a9a3c66d0c63\" type=\"checkbox\" ><label class=\"sk-toggleable__label\" for=\"92d508d8-7d71-4723-b190-a9a3c66d0c63\">Amplitude</label><div class=\"sk-toggleable__content\"><pre>Amplitude(metric='bottleneck', metric_params={}, n_jobs=-1)</pre></div></div></div></div></div></div><div class=\"sk-parallel-item\"><div class=\"sk-item\"><div class=\"sk-label-container\"><div class=\"sk-label sk-toggleable\"><label>amplitude-2</label></div></div><div class=\"sk-serial\"><div class=\"sk-item\"><div class=\"sk-estimator sk-toggleable\"><input class=\"sk-toggleable__control sk-hidden--visually\" id=\"c544f8ed-bff0-45a0-b819-6594966c61d2\" type=\"checkbox\" ><label class=\"sk-toggleable__label\" for=\"c544f8ed-bff0-45a0-b819-6594966c61d2\">Amplitude</label><div class=\"sk-toggleable__content\"><pre>Amplitude(metric='wasserstein', metric_params={'p': 1}, n_jobs=-1)</pre></div></div></div></div></div></div><div class=\"sk-parallel-item\"><div class=\"sk-item\"><div class=\"sk-label-container\"><div class=\"sk-label sk-toggleable\"><label>amplitude-3</label></div></div><div class=\"sk-serial\"><div class=\"sk-item\"><div class=\"sk-estimator sk-toggleable\"><input class=\"sk-toggleable__control sk-hidden--visually\" id=\"36890b9d-76f1-45e1-a89f-49d15b77f775\" type=\"checkbox\" ><label class=\"sk-toggleable__label\" for=\"36890b9d-76f1-45e1-a89f-49d15b77f775\">Amplitude</label><div class=\"sk-toggleable__content\"><pre>Amplitude(metric='wasserstein', metric_params={'p': 2}, n_jobs=-1)</pre></div></div></div></div></div></div><div class=\"sk-parallel-item\"><div class=\"sk-item\"><div class=\"sk-label-container\"><div class=\"sk-label sk-toggleable\"><label>amplitude-4</label></div></div><div class=\"sk-serial\"><div class=\"sk-item\"><div class=\"sk-estimator sk-toggleable\"><input class=\"sk-toggleable__control sk-hidden--visually\" id=\"f6f860dc-95e3-4e47-9a98-644103105c94\" type=\"checkbox\" ><label class=\"sk-toggleable__label\" for=\"f6f860dc-95e3-4e47-9a98-644103105c94\">Amplitude</label><div class=\"sk-toggleable__content\"><pre>Amplitude(metric_params={'n_bins': 100, 'n_layers': 1, 'p': 1}, n_jobs=-1)</pre></div></div></div></div></div></div><div class=\"sk-parallel-item\"><div class=\"sk-item\"><div class=\"sk-label-container\"><div class=\"sk-label sk-toggleable\"><label>amplitude-5</label></div></div><div class=\"sk-serial\"><div class=\"sk-item\"><div class=\"sk-estimator sk-toggleable\"><input class=\"sk-toggleable__control sk-hidden--visually\" id=\"8e1b4f73-71e1-4acb-95e1-662d89024961\" type=\"checkbox\" ><label class=\"sk-toggleable__label\" for=\"8e1b4f73-71e1-4acb-95e1-662d89024961\">Amplitude</label><div class=\"sk-toggleable__content\"><pre>Amplitude(metric_params={'n_bins': 100, 'n_layers': 2, 'p': 1}, n_jobs=-1)</pre></div></div></div></div></div></div><div class=\"sk-parallel-item\"><div class=\"sk-item\"><div class=\"sk-label-container\"><div class=\"sk-label sk-toggleable\"><label>amplitude-6</label></div></div><div class=\"sk-serial\"><div class=\"sk-item\"><div class=\"sk-estimator sk-toggleable\"><input class=\"sk-toggleable__control sk-hidden--visually\" id=\"3822ba60-32dd-4aa2-801f-d48daaf7f16b\" type=\"checkbox\" ><label class=\"sk-toggleable__label\" for=\"3822ba60-32dd-4aa2-801f-d48daaf7f16b\">Amplitude</label><div class=\"sk-toggleable__content\"><pre>Amplitude(metric_params={'n_bins': 100, 'n_layers': 1, 'p': 2}, n_jobs=-1)</pre></div></div></div></div></div></div><div class=\"sk-parallel-item\"><div class=\"sk-item\"><div class=\"sk-label-container\"><div class=\"sk-label sk-toggleable\"><label>amplitude-7</label></div></div><div class=\"sk-serial\"><div class=\"sk-item\"><div class=\"sk-estimator sk-toggleable\"><input class=\"sk-toggleable__control sk-hidden--visually\" id=\"0f33ab0c-5c7c-4da2-8b50-ba4e238f0a29\" type=\"checkbox\" ><label class=\"sk-toggleable__label\" for=\"0f33ab0c-5c7c-4da2-8b50-ba4e238f0a29\">Amplitude</label><div class=\"sk-toggleable__content\"><pre>Amplitude(metric_params={'n_bins': 100, 'n_layers': 2, 'p': 2}, n_jobs=-1)</pre></div></div></div></div></div></div><div class=\"sk-parallel-item\"><div class=\"sk-item\"><div class=\"sk-label-container\"><div class=\"sk-label sk-toggleable\"><label>amplitude-8</label></div></div><div class=\"sk-serial\"><div class=\"sk-item\"><div class=\"sk-estimator sk-toggleable\"><input class=\"sk-toggleable__control sk-hidden--visually\" id=\"e4b03ebc-7ba2-4af3-b5fc-6350174af13b\" type=\"checkbox\" ><label class=\"sk-toggleable__label\" for=\"e4b03ebc-7ba2-4af3-b5fc-6350174af13b\">Amplitude</label><div class=\"sk-toggleable__content\"><pre>Amplitude(metric='betti', metric_params={'n_bins': 100, 'p': 1}, n_jobs=-1)</pre></div></div></div></div></div></div><div class=\"sk-parallel-item\"><div class=\"sk-item\"><div class=\"sk-label-container\"><div class=\"sk-label sk-toggleable\"><label>amplitude-9</label></div></div><div class=\"sk-serial\"><div class=\"sk-item\"><div class=\"sk-estimator sk-toggleable\"><input class=\"sk-toggleable__control sk-hidden--visually\" id=\"96db107c-c27d-45e2-a6c3-3f72dd588928\" type=\"checkbox\" ><label class=\"sk-toggleable__label\" for=\"96db107c-c27d-45e2-a6c3-3f72dd588928\">Amplitude</label><div class=\"sk-toggleable__content\"><pre>Amplitude(metric='betti', metric_params={'n_bins': 100, 'p': 2}, n_jobs=-1)</pre></div></div></div></div></div></div><div class=\"sk-parallel-item\"><div class=\"sk-item\"><div class=\"sk-label-container\"><div class=\"sk-label sk-toggleable\"><label>amplitude-10</label></div></div><div class=\"sk-serial\"><div class=\"sk-item\"><div class=\"sk-estimator sk-toggleable\"><input class=\"sk-toggleable__control sk-hidden--visually\" id=\"2e1d87ad-3b9b-4d8a-9f2e-b6e5b446dd11\" type=\"checkbox\" ><label class=\"sk-toggleable__label\" for=\"2e1d87ad-3b9b-4d8a-9f2e-b6e5b446dd11\">Amplitude</label><div class=\"sk-toggleable__content\"><pre>Amplitude(metric='heat', metric_params={'n_bins': 100, 'p': 1, 'sigma': 1.6},\n",
       "          n_jobs=-1)</pre></div></div></div></div></div></div><div class=\"sk-parallel-item\"><div class=\"sk-item\"><div class=\"sk-label-container\"><div class=\"sk-label sk-toggleable\"><label>amplitude-11</label></div></div><div class=\"sk-serial\"><div class=\"sk-item\"><div class=\"sk-estimator sk-toggleable\"><input class=\"sk-toggleable__control sk-hidden--visually\" id=\"da3d9b6b-7e66-4696-920e-ed424d234df7\" type=\"checkbox\" ><label class=\"sk-toggleable__label\" for=\"da3d9b6b-7e66-4696-920e-ed424d234df7\">Amplitude</label><div class=\"sk-toggleable__content\"><pre>Amplitude(metric='heat', metric_params={'n_bins': 100, 'p': 1, 'sigma': 3.2},\n",
       "          n_jobs=-1)</pre></div></div></div></div></div></div><div class=\"sk-parallel-item\"><div class=\"sk-item\"><div class=\"sk-label-container\"><div class=\"sk-label sk-toggleable\"><label>amplitude-12</label></div></div><div class=\"sk-serial\"><div class=\"sk-item\"><div class=\"sk-estimator sk-toggleable\"><input class=\"sk-toggleable__control sk-hidden--visually\" id=\"7f3303ff-9af1-46f1-ba68-220211c58c5c\" type=\"checkbox\" ><label class=\"sk-toggleable__label\" for=\"7f3303ff-9af1-46f1-ba68-220211c58c5c\">Amplitude</label><div class=\"sk-toggleable__content\"><pre>Amplitude(metric='heat', metric_params={'n_bins': 100, 'p': 2, 'sigma': 1.6},\n",
       "          n_jobs=-1)</pre></div></div></div></div></div></div><div class=\"sk-parallel-item\"><div class=\"sk-item\"><div class=\"sk-label-container\"><div class=\"sk-label sk-toggleable\"><label>amplitude-13</label></div></div><div class=\"sk-serial\"><div class=\"sk-item\"><div class=\"sk-estimator sk-toggleable\"><input class=\"sk-toggleable__control sk-hidden--visually\" id=\"57850573-442a-41e4-a16a-516977055d82\" type=\"checkbox\" ><label class=\"sk-toggleable__label\" for=\"57850573-442a-41e4-a16a-516977055d82\">Amplitude</label><div class=\"sk-toggleable__content\"><pre>Amplitude(metric='heat', metric_params={'n_bins': 100, 'p': 2, 'sigma': 3.2},\n",
       "          n_jobs=-1)</pre></div></div></div></div></div></div></div></div></div></div></div></div></div><div class=\"sk-parallel-item\"><div class=\"sk-item\"><div class=\"sk-label-container\"><div class=\"sk-label sk-toggleable\"><label>pipeline-8</label></div></div><div class=\"sk-serial\"><div class=\"sk-item\"><div class=\"sk-serial\"><div class=\"sk-item\"><div class=\"sk-estimator sk-toggleable\"><input class=\"sk-toggleable__control sk-hidden--visually\" id=\"71f30dcf-1d9f-4639-b959-97d4b3c840de\" type=\"checkbox\" ><label class=\"sk-toggleable__label\" for=\"71f30dcf-1d9f-4639-b959-97d4b3c840de\">Binarizer</label><div class=\"sk-toggleable__content\"><pre>Binarizer(threshold=0.4)</pre></div></div></div><div class=\"sk-item\"><div class=\"sk-estimator sk-toggleable\"><input class=\"sk-toggleable__control sk-hidden--visually\" id=\"d1b49ec5-3817-473e-952e-11539e93cc4a\" type=\"checkbox\" ><label class=\"sk-toggleable__label\" for=\"d1b49ec5-3817-473e-952e-11539e93cc4a\">HeightFiltration</label><div class=\"sk-toggleable__content\"><pre>HeightFiltration(direction=array([ 1, -1]), n_jobs=-1)</pre></div></div></div><div class=\"sk-item\"><div class=\"sk-estimator sk-toggleable\"><input class=\"sk-toggleable__control sk-hidden--visually\" id=\"4405dade-c628-41d0-b340-da860d92f383\" type=\"checkbox\" ><label class=\"sk-toggleable__label\" for=\"4405dade-c628-41d0-b340-da860d92f383\">CubicalPersistence</label><div class=\"sk-toggleable__content\"><pre>CubicalPersistence(n_jobs=-1)</pre></div></div></div><div class=\"sk-item\"><div class=\"sk-estimator sk-toggleable\"><input class=\"sk-toggleable__control sk-hidden--visually\" id=\"2cf76a6e-7b53-4c04-a27f-0d65ab7b2608\" type=\"checkbox\" ><label class=\"sk-toggleable__label\" for=\"2cf76a6e-7b53-4c04-a27f-0d65ab7b2608\">Scaler</label><div class=\"sk-toggleable__content\"><pre>Scaler(n_jobs=-1)</pre></div></div></div><div class=\"sk-item sk-dashed-wrapped\"><div class=\"sk-label-container\"><div class=\"sk-label sk-toggleable\"><input class=\"sk-toggleable__control sk-hidden--visually\" id=\"8208ac20-67be-47b4-a5bd-2d833ce6d828\" type=\"checkbox\" ><label class=\"sk-toggleable__label\" for=\"8208ac20-67be-47b4-a5bd-2d833ce6d828\">featureunion: FeatureUnion</label><div class=\"sk-toggleable__content\"><pre>FeatureUnion(transformer_list=[('persistenceentropy',\n",
       "                                PersistenceEntropy(nan_fill_value=-1)),\n",
       "                               ('amplitude-1',\n",
       "                                Amplitude(metric='bottleneck', metric_params={},\n",
       "                                          n_jobs=-1)),\n",
       "                               ('amplitude-2',\n",
       "                                Amplitude(metric='wasserstein',\n",
       "                                          metric_params={'p': 1}, n_jobs=-1)),\n",
       "                               ('amplitude-3',\n",
       "                                Amplitude(metric='wasserstein',\n",
       "                                          metric_params={'p': 2}, n_jobs=-1)),\n",
       "                               ('amplitude-4',\n",
       "                                Amplitude...\n",
       "                                          metric_params={'n_bins': 100, 'p': 1,\n",
       "                                                         'sigma': 1.6},\n",
       "                                          n_jobs=-1)),\n",
       "                               ('amplitude-11',\n",
       "                                Amplitude(metric='heat',\n",
       "                                          metric_params={'n_bins': 100, 'p': 1,\n",
       "                                                         'sigma': 3.2},\n",
       "                                          n_jobs=-1)),\n",
       "                               ('amplitude-12',\n",
       "                                Amplitude(metric='heat',\n",
       "                                          metric_params={'n_bins': 100, 'p': 2,\n",
       "                                                         'sigma': 1.6},\n",
       "                                          n_jobs=-1)),\n",
       "                               ('amplitude-13',\n",
       "                                Amplitude(metric='heat',\n",
       "                                          metric_params={'n_bins': 100, 'p': 2,\n",
       "                                                         'sigma': 3.2},\n",
       "                                          n_jobs=-1))])</pre></div></div></div><div class=\"sk-parallel\"><div class=\"sk-parallel-item\"><div class=\"sk-item\"><div class=\"sk-label-container\"><div class=\"sk-label sk-toggleable\"><label>persistenceentropy</label></div></div><div class=\"sk-serial\"><div class=\"sk-item\"><div class=\"sk-estimator sk-toggleable\"><input class=\"sk-toggleable__control sk-hidden--visually\" id=\"c3c37870-c803-4902-b60d-1dac34730e7e\" type=\"checkbox\" ><label class=\"sk-toggleable__label\" for=\"c3c37870-c803-4902-b60d-1dac34730e7e\">PersistenceEntropy</label><div class=\"sk-toggleable__content\"><pre>PersistenceEntropy(nan_fill_value=-1)</pre></div></div></div></div></div></div><div class=\"sk-parallel-item\"><div class=\"sk-item\"><div class=\"sk-label-container\"><div class=\"sk-label sk-toggleable\"><label>amplitude-1</label></div></div><div class=\"sk-serial\"><div class=\"sk-item\"><div class=\"sk-estimator sk-toggleable\"><input class=\"sk-toggleable__control sk-hidden--visually\" id=\"683f78c9-2c71-4d1e-b28d-b1717f2f718f\" type=\"checkbox\" ><label class=\"sk-toggleable__label\" for=\"683f78c9-2c71-4d1e-b28d-b1717f2f718f\">Amplitude</label><div class=\"sk-toggleable__content\"><pre>Amplitude(metric='bottleneck', metric_params={}, n_jobs=-1)</pre></div></div></div></div></div></div><div class=\"sk-parallel-item\"><div class=\"sk-item\"><div class=\"sk-label-container\"><div class=\"sk-label sk-toggleable\"><label>amplitude-2</label></div></div><div class=\"sk-serial\"><div class=\"sk-item\"><div class=\"sk-estimator sk-toggleable\"><input class=\"sk-toggleable__control sk-hidden--visually\" id=\"574851a1-1c7b-4c85-b315-2eb3049f62c1\" type=\"checkbox\" ><label class=\"sk-toggleable__label\" for=\"574851a1-1c7b-4c85-b315-2eb3049f62c1\">Amplitude</label><div class=\"sk-toggleable__content\"><pre>Amplitude(metric='wasserstein', metric_params={'p': 1}, n_jobs=-1)</pre></div></div></div></div></div></div><div class=\"sk-parallel-item\"><div class=\"sk-item\"><div class=\"sk-label-container\"><div class=\"sk-label sk-toggleable\"><label>amplitude-3</label></div></div><div class=\"sk-serial\"><div class=\"sk-item\"><div class=\"sk-estimator sk-toggleable\"><input class=\"sk-toggleable__control sk-hidden--visually\" id=\"875ecc97-a184-4c85-9a5b-c2406f84269b\" type=\"checkbox\" ><label class=\"sk-toggleable__label\" for=\"875ecc97-a184-4c85-9a5b-c2406f84269b\">Amplitude</label><div class=\"sk-toggleable__content\"><pre>Amplitude(metric='wasserstein', metric_params={'p': 2}, n_jobs=-1)</pre></div></div></div></div></div></div><div class=\"sk-parallel-item\"><div class=\"sk-item\"><div class=\"sk-label-container\"><div class=\"sk-label sk-toggleable\"><label>amplitude-4</label></div></div><div class=\"sk-serial\"><div class=\"sk-item\"><div class=\"sk-estimator sk-toggleable\"><input class=\"sk-toggleable__control sk-hidden--visually\" id=\"594bc777-61ee-4e43-89c7-86ba7bee6b28\" type=\"checkbox\" ><label class=\"sk-toggleable__label\" for=\"594bc777-61ee-4e43-89c7-86ba7bee6b28\">Amplitude</label><div class=\"sk-toggleable__content\"><pre>Amplitude(metric_params={'n_bins': 100, 'n_layers': 1, 'p': 1}, n_jobs=-1)</pre></div></div></div></div></div></div><div class=\"sk-parallel-item\"><div class=\"sk-item\"><div class=\"sk-label-container\"><div class=\"sk-label sk-toggleable\"><label>amplitude-5</label></div></div><div class=\"sk-serial\"><div class=\"sk-item\"><div class=\"sk-estimator sk-toggleable\"><input class=\"sk-toggleable__control sk-hidden--visually\" id=\"036c97a7-de25-4d91-81ca-a50f775767d1\" type=\"checkbox\" ><label class=\"sk-toggleable__label\" for=\"036c97a7-de25-4d91-81ca-a50f775767d1\">Amplitude</label><div class=\"sk-toggleable__content\"><pre>Amplitude(metric_params={'n_bins': 100, 'n_layers': 2, 'p': 1}, n_jobs=-1)</pre></div></div></div></div></div></div><div class=\"sk-parallel-item\"><div class=\"sk-item\"><div class=\"sk-label-container\"><div class=\"sk-label sk-toggleable\"><label>amplitude-6</label></div></div><div class=\"sk-serial\"><div class=\"sk-item\"><div class=\"sk-estimator sk-toggleable\"><input class=\"sk-toggleable__control sk-hidden--visually\" id=\"bd7fa585-9556-449e-a46b-770a9af3829c\" type=\"checkbox\" ><label class=\"sk-toggleable__label\" for=\"bd7fa585-9556-449e-a46b-770a9af3829c\">Amplitude</label><div class=\"sk-toggleable__content\"><pre>Amplitude(metric_params={'n_bins': 100, 'n_layers': 1, 'p': 2}, n_jobs=-1)</pre></div></div></div></div></div></div><div class=\"sk-parallel-item\"><div class=\"sk-item\"><div class=\"sk-label-container\"><div class=\"sk-label sk-toggleable\"><label>amplitude-7</label></div></div><div class=\"sk-serial\"><div class=\"sk-item\"><div class=\"sk-estimator sk-toggleable\"><input class=\"sk-toggleable__control sk-hidden--visually\" id=\"441bc04a-ac96-4379-95f2-404d4dae00d6\" type=\"checkbox\" ><label class=\"sk-toggleable__label\" for=\"441bc04a-ac96-4379-95f2-404d4dae00d6\">Amplitude</label><div class=\"sk-toggleable__content\"><pre>Amplitude(metric_params={'n_bins': 100, 'n_layers': 2, 'p': 2}, n_jobs=-1)</pre></div></div></div></div></div></div><div class=\"sk-parallel-item\"><div class=\"sk-item\"><div class=\"sk-label-container\"><div class=\"sk-label sk-toggleable\"><label>amplitude-8</label></div></div><div class=\"sk-serial\"><div class=\"sk-item\"><div class=\"sk-estimator sk-toggleable\"><input class=\"sk-toggleable__control sk-hidden--visually\" id=\"320245b0-8362-4f2e-9c66-744bf27eaed9\" type=\"checkbox\" ><label class=\"sk-toggleable__label\" for=\"320245b0-8362-4f2e-9c66-744bf27eaed9\">Amplitude</label><div class=\"sk-toggleable__content\"><pre>Amplitude(metric='betti', metric_params={'n_bins': 100, 'p': 1}, n_jobs=-1)</pre></div></div></div></div></div></div><div class=\"sk-parallel-item\"><div class=\"sk-item\"><div class=\"sk-label-container\"><div class=\"sk-label sk-toggleable\"><label>amplitude-9</label></div></div><div class=\"sk-serial\"><div class=\"sk-item\"><div class=\"sk-estimator sk-toggleable\"><input class=\"sk-toggleable__control sk-hidden--visually\" id=\"a342d048-74b6-4b67-96cb-6b967f61273e\" type=\"checkbox\" ><label class=\"sk-toggleable__label\" for=\"a342d048-74b6-4b67-96cb-6b967f61273e\">Amplitude</label><div class=\"sk-toggleable__content\"><pre>Amplitude(metric='betti', metric_params={'n_bins': 100, 'p': 2}, n_jobs=-1)</pre></div></div></div></div></div></div><div class=\"sk-parallel-item\"><div class=\"sk-item\"><div class=\"sk-label-container\"><div class=\"sk-label sk-toggleable\"><label>amplitude-10</label></div></div><div class=\"sk-serial\"><div class=\"sk-item\"><div class=\"sk-estimator sk-toggleable\"><input class=\"sk-toggleable__control sk-hidden--visually\" id=\"a3c96170-3656-4d60-a591-1de900b2ac96\" type=\"checkbox\" ><label class=\"sk-toggleable__label\" for=\"a3c96170-3656-4d60-a591-1de900b2ac96\">Amplitude</label><div class=\"sk-toggleable__content\"><pre>Amplitude(metric='heat', metric_params={'n_bins': 100, 'p': 1, 'sigma': 1.6},\n",
       "          n_jobs=-1)</pre></div></div></div></div></div></div><div class=\"sk-parallel-item\"><div class=\"sk-item\"><div class=\"sk-label-container\"><div class=\"sk-label sk-toggleable\"><label>amplitude-11</label></div></div><div class=\"sk-serial\"><div class=\"sk-item\"><div class=\"sk-estimator sk-toggleable\"><input class=\"sk-toggleable__control sk-hidden--visually\" id=\"085809f9-fd6e-49ff-9580-40970c9bfec4\" type=\"checkbox\" ><label class=\"sk-toggleable__label\" for=\"085809f9-fd6e-49ff-9580-40970c9bfec4\">Amplitude</label><div class=\"sk-toggleable__content\"><pre>Amplitude(metric='heat', metric_params={'n_bins': 100, 'p': 1, 'sigma': 3.2},\n",
       "          n_jobs=-1)</pre></div></div></div></div></div></div><div class=\"sk-parallel-item\"><div class=\"sk-item\"><div class=\"sk-label-container\"><div class=\"sk-label sk-toggleable\"><label>amplitude-12</label></div></div><div class=\"sk-serial\"><div class=\"sk-item\"><div class=\"sk-estimator sk-toggleable\"><input class=\"sk-toggleable__control sk-hidden--visually\" id=\"8d786aad-32db-45ab-8d1f-52a715523248\" type=\"checkbox\" ><label class=\"sk-toggleable__label\" for=\"8d786aad-32db-45ab-8d1f-52a715523248\">Amplitude</label><div class=\"sk-toggleable__content\"><pre>Amplitude(metric='heat', metric_params={'n_bins': 100, 'p': 2, 'sigma': 1.6},\n",
       "          n_jobs=-1)</pre></div></div></div></div></div></div><div class=\"sk-parallel-item\"><div class=\"sk-item\"><div class=\"sk-label-container\"><div class=\"sk-label sk-toggleable\"><label>amplitude-13</label></div></div><div class=\"sk-serial\"><div class=\"sk-item\"><div class=\"sk-estimator sk-toggleable\"><input class=\"sk-toggleable__control sk-hidden--visually\" id=\"994d4adc-0efb-4ed5-8e74-d025f282c24c\" type=\"checkbox\" ><label class=\"sk-toggleable__label\" for=\"994d4adc-0efb-4ed5-8e74-d025f282c24c\">Amplitude</label><div class=\"sk-toggleable__content\"><pre>Amplitude(metric='heat', metric_params={'n_bins': 100, 'p': 2, 'sigma': 3.2},\n",
       "          n_jobs=-1)</pre></div></div></div></div></div></div></div></div></div></div></div></div></div><div class=\"sk-parallel-item\"><div class=\"sk-item\"><div class=\"sk-label-container\"><div class=\"sk-label sk-toggleable\"><label>pipeline-9</label></div></div><div class=\"sk-serial\"><div class=\"sk-item\"><div class=\"sk-serial\"><div class=\"sk-item\"><div class=\"sk-estimator sk-toggleable\"><input class=\"sk-toggleable__control sk-hidden--visually\" id=\"ade0f1b2-ecb3-4c6a-b071-d7dce6e00a7f\" type=\"checkbox\" ><label class=\"sk-toggleable__label\" for=\"ade0f1b2-ecb3-4c6a-b071-d7dce6e00a7f\">Binarizer</label><div class=\"sk-toggleable__content\"><pre>Binarizer(threshold=0.4)</pre></div></div></div><div class=\"sk-item\"><div class=\"sk-estimator sk-toggleable\"><input class=\"sk-toggleable__control sk-hidden--visually\" id=\"05cf0a0f-fbf8-4eb7-80e0-0702b207a41e\" type=\"checkbox\" ><label class=\"sk-toggleable__label\" for=\"05cf0a0f-fbf8-4eb7-80e0-0702b207a41e\">RadialFiltration</label><div class=\"sk-toggleable__content\"><pre>RadialFiltration(center=array([13,  6]), n_jobs=-1)</pre></div></div></div><div class=\"sk-item\"><div class=\"sk-estimator sk-toggleable\"><input class=\"sk-toggleable__control sk-hidden--visually\" id=\"287a0dba-2f98-47b8-bf38-500ff03716f6\" type=\"checkbox\" ><label class=\"sk-toggleable__label\" for=\"287a0dba-2f98-47b8-bf38-500ff03716f6\">CubicalPersistence</label><div class=\"sk-toggleable__content\"><pre>CubicalPersistence(n_jobs=-1)</pre></div></div></div><div class=\"sk-item\"><div class=\"sk-estimator sk-toggleable\"><input class=\"sk-toggleable__control sk-hidden--visually\" id=\"a846a1cd-fc51-44ad-ab6b-1d0dc2e3dd76\" type=\"checkbox\" ><label class=\"sk-toggleable__label\" for=\"a846a1cd-fc51-44ad-ab6b-1d0dc2e3dd76\">Scaler</label><div class=\"sk-toggleable__content\"><pre>Scaler(n_jobs=-1)</pre></div></div></div><div class=\"sk-item sk-dashed-wrapped\"><div class=\"sk-label-container\"><div class=\"sk-label sk-toggleable\"><input class=\"sk-toggleable__control sk-hidden--visually\" id=\"01bc8398-58f9-4d93-bdf7-fe7f7919505c\" type=\"checkbox\" ><label class=\"sk-toggleable__label\" for=\"01bc8398-58f9-4d93-bdf7-fe7f7919505c\">featureunion: FeatureUnion</label><div class=\"sk-toggleable__content\"><pre>FeatureUnion(transformer_list=[('persistenceentropy',\n",
       "                                PersistenceEntropy(nan_fill_value=-1)),\n",
       "                               ('amplitude-1',\n",
       "                                Amplitude(metric='bottleneck', metric_params={},\n",
       "                                          n_jobs=-1)),\n",
       "                               ('amplitude-2',\n",
       "                                Amplitude(metric='wasserstein',\n",
       "                                          metric_params={'p': 1}, n_jobs=-1)),\n",
       "                               ('amplitude-3',\n",
       "                                Amplitude(metric='wasserstein',\n",
       "                                          metric_params={'p': 2}, n_jobs=-1)),\n",
       "                               ('amplitude-4',\n",
       "                                Amplitude...\n",
       "                                          metric_params={'n_bins': 100, 'p': 1,\n",
       "                                                         'sigma': 1.6},\n",
       "                                          n_jobs=-1)),\n",
       "                               ('amplitude-11',\n",
       "                                Amplitude(metric='heat',\n",
       "                                          metric_params={'n_bins': 100, 'p': 1,\n",
       "                                                         'sigma': 3.2},\n",
       "                                          n_jobs=-1)),\n",
       "                               ('amplitude-12',\n",
       "                                Amplitude(metric='heat',\n",
       "                                          metric_params={'n_bins': 100, 'p': 2,\n",
       "                                                         'sigma': 1.6},\n",
       "                                          n_jobs=-1)),\n",
       "                               ('amplitude-13',\n",
       "                                Amplitude(metric='heat',\n",
       "                                          metric_params={'n_bins': 100, 'p': 2,\n",
       "                                                         'sigma': 3.2},\n",
       "                                          n_jobs=-1))])</pre></div></div></div><div class=\"sk-parallel\"><div class=\"sk-parallel-item\"><div class=\"sk-item\"><div class=\"sk-label-container\"><div class=\"sk-label sk-toggleable\"><label>persistenceentropy</label></div></div><div class=\"sk-serial\"><div class=\"sk-item\"><div class=\"sk-estimator sk-toggleable\"><input class=\"sk-toggleable__control sk-hidden--visually\" id=\"61035868-2fee-4294-a82a-d6d94d681bd1\" type=\"checkbox\" ><label class=\"sk-toggleable__label\" for=\"61035868-2fee-4294-a82a-d6d94d681bd1\">PersistenceEntropy</label><div class=\"sk-toggleable__content\"><pre>PersistenceEntropy(nan_fill_value=-1)</pre></div></div></div></div></div></div><div class=\"sk-parallel-item\"><div class=\"sk-item\"><div class=\"sk-label-container\"><div class=\"sk-label sk-toggleable\"><label>amplitude-1</label></div></div><div class=\"sk-serial\"><div class=\"sk-item\"><div class=\"sk-estimator sk-toggleable\"><input class=\"sk-toggleable__control sk-hidden--visually\" id=\"74cffaad-9e5c-4eca-9fd7-837a601ac9b2\" type=\"checkbox\" ><label class=\"sk-toggleable__label\" for=\"74cffaad-9e5c-4eca-9fd7-837a601ac9b2\">Amplitude</label><div class=\"sk-toggleable__content\"><pre>Amplitude(metric='bottleneck', metric_params={}, n_jobs=-1)</pre></div></div></div></div></div></div><div class=\"sk-parallel-item\"><div class=\"sk-item\"><div class=\"sk-label-container\"><div class=\"sk-label sk-toggleable\"><label>amplitude-2</label></div></div><div class=\"sk-serial\"><div class=\"sk-item\"><div class=\"sk-estimator sk-toggleable\"><input class=\"sk-toggleable__control sk-hidden--visually\" id=\"d196bb92-467e-42ad-ba12-af7433de3a01\" type=\"checkbox\" ><label class=\"sk-toggleable__label\" for=\"d196bb92-467e-42ad-ba12-af7433de3a01\">Amplitude</label><div class=\"sk-toggleable__content\"><pre>Amplitude(metric='wasserstein', metric_params={'p': 1}, n_jobs=-1)</pre></div></div></div></div></div></div><div class=\"sk-parallel-item\"><div class=\"sk-item\"><div class=\"sk-label-container\"><div class=\"sk-label sk-toggleable\"><label>amplitude-3</label></div></div><div class=\"sk-serial\"><div class=\"sk-item\"><div class=\"sk-estimator sk-toggleable\"><input class=\"sk-toggleable__control sk-hidden--visually\" id=\"dad45e80-79b2-4b68-ab1b-748a19ee1b02\" type=\"checkbox\" ><label class=\"sk-toggleable__label\" for=\"dad45e80-79b2-4b68-ab1b-748a19ee1b02\">Amplitude</label><div class=\"sk-toggleable__content\"><pre>Amplitude(metric='wasserstein', metric_params={'p': 2}, n_jobs=-1)</pre></div></div></div></div></div></div><div class=\"sk-parallel-item\"><div class=\"sk-item\"><div class=\"sk-label-container\"><div class=\"sk-label sk-toggleable\"><label>amplitude-4</label></div></div><div class=\"sk-serial\"><div class=\"sk-item\"><div class=\"sk-estimator sk-toggleable\"><input class=\"sk-toggleable__control sk-hidden--visually\" id=\"2843fd42-ae54-4240-b55f-3e5b8d8f340b\" type=\"checkbox\" ><label class=\"sk-toggleable__label\" for=\"2843fd42-ae54-4240-b55f-3e5b8d8f340b\">Amplitude</label><div class=\"sk-toggleable__content\"><pre>Amplitude(metric_params={'n_bins': 100, 'n_layers': 1, 'p': 1}, n_jobs=-1)</pre></div></div></div></div></div></div><div class=\"sk-parallel-item\"><div class=\"sk-item\"><div class=\"sk-label-container\"><div class=\"sk-label sk-toggleable\"><label>amplitude-5</label></div></div><div class=\"sk-serial\"><div class=\"sk-item\"><div class=\"sk-estimator sk-toggleable\"><input class=\"sk-toggleable__control sk-hidden--visually\" id=\"8f7a8c5c-1123-47b2-9670-887efc02af1b\" type=\"checkbox\" ><label class=\"sk-toggleable__label\" for=\"8f7a8c5c-1123-47b2-9670-887efc02af1b\">Amplitude</label><div class=\"sk-toggleable__content\"><pre>Amplitude(metric_params={'n_bins': 100, 'n_layers': 2, 'p': 1}, n_jobs=-1)</pre></div></div></div></div></div></div><div class=\"sk-parallel-item\"><div class=\"sk-item\"><div class=\"sk-label-container\"><div class=\"sk-label sk-toggleable\"><label>amplitude-6</label></div></div><div class=\"sk-serial\"><div class=\"sk-item\"><div class=\"sk-estimator sk-toggleable\"><input class=\"sk-toggleable__control sk-hidden--visually\" id=\"79e0fc45-2160-4c69-991d-4d199d8f71bc\" type=\"checkbox\" ><label class=\"sk-toggleable__label\" for=\"79e0fc45-2160-4c69-991d-4d199d8f71bc\">Amplitude</label><div class=\"sk-toggleable__content\"><pre>Amplitude(metric_params={'n_bins': 100, 'n_layers': 1, 'p': 2}, n_jobs=-1)</pre></div></div></div></div></div></div><div class=\"sk-parallel-item\"><div class=\"sk-item\"><div class=\"sk-label-container\"><div class=\"sk-label sk-toggleable\"><label>amplitude-7</label></div></div><div class=\"sk-serial\"><div class=\"sk-item\"><div class=\"sk-estimator sk-toggleable\"><input class=\"sk-toggleable__control sk-hidden--visually\" id=\"1707f7c4-8033-4d27-818f-669878b404b5\" type=\"checkbox\" ><label class=\"sk-toggleable__label\" for=\"1707f7c4-8033-4d27-818f-669878b404b5\">Amplitude</label><div class=\"sk-toggleable__content\"><pre>Amplitude(metric_params={'n_bins': 100, 'n_layers': 2, 'p': 2}, n_jobs=-1)</pre></div></div></div></div></div></div><div class=\"sk-parallel-item\"><div class=\"sk-item\"><div class=\"sk-label-container\"><div class=\"sk-label sk-toggleable\"><label>amplitude-8</label></div></div><div class=\"sk-serial\"><div class=\"sk-item\"><div class=\"sk-estimator sk-toggleable\"><input class=\"sk-toggleable__control sk-hidden--visually\" id=\"68b802f9-e708-458a-8e85-d496cc5c528b\" type=\"checkbox\" ><label class=\"sk-toggleable__label\" for=\"68b802f9-e708-458a-8e85-d496cc5c528b\">Amplitude</label><div class=\"sk-toggleable__content\"><pre>Amplitude(metric='betti', metric_params={'n_bins': 100, 'p': 1}, n_jobs=-1)</pre></div></div></div></div></div></div><div class=\"sk-parallel-item\"><div class=\"sk-item\"><div class=\"sk-label-container\"><div class=\"sk-label sk-toggleable\"><label>amplitude-9</label></div></div><div class=\"sk-serial\"><div class=\"sk-item\"><div class=\"sk-estimator sk-toggleable\"><input class=\"sk-toggleable__control sk-hidden--visually\" id=\"13ab5826-3ed1-469f-8b8b-8fffefdb4472\" type=\"checkbox\" ><label class=\"sk-toggleable__label\" for=\"13ab5826-3ed1-469f-8b8b-8fffefdb4472\">Amplitude</label><div class=\"sk-toggleable__content\"><pre>Amplitude(metric='betti', metric_params={'n_bins': 100, 'p': 2}, n_jobs=-1)</pre></div></div></div></div></div></div><div class=\"sk-parallel-item\"><div class=\"sk-item\"><div class=\"sk-label-container\"><div class=\"sk-label sk-toggleable\"><label>amplitude-10</label></div></div><div class=\"sk-serial\"><div class=\"sk-item\"><div class=\"sk-estimator sk-toggleable\"><input class=\"sk-toggleable__control sk-hidden--visually\" id=\"c5ef73d8-2672-4a2d-9c4d-f3af9167ca58\" type=\"checkbox\" ><label class=\"sk-toggleable__label\" for=\"c5ef73d8-2672-4a2d-9c4d-f3af9167ca58\">Amplitude</label><div class=\"sk-toggleable__content\"><pre>Amplitude(metric='heat', metric_params={'n_bins': 100, 'p': 1, 'sigma': 1.6},\n",
       "          n_jobs=-1)</pre></div></div></div></div></div></div><div class=\"sk-parallel-item\"><div class=\"sk-item\"><div class=\"sk-label-container\"><div class=\"sk-label sk-toggleable\"><label>amplitude-11</label></div></div><div class=\"sk-serial\"><div class=\"sk-item\"><div class=\"sk-estimator sk-toggleable\"><input class=\"sk-toggleable__control sk-hidden--visually\" id=\"653f5c27-020d-4cf6-a52d-3685047d6396\" type=\"checkbox\" ><label class=\"sk-toggleable__label\" for=\"653f5c27-020d-4cf6-a52d-3685047d6396\">Amplitude</label><div class=\"sk-toggleable__content\"><pre>Amplitude(metric='heat', metric_params={'n_bins': 100, 'p': 1, 'sigma': 3.2},\n",
       "          n_jobs=-1)</pre></div></div></div></div></div></div><div class=\"sk-parallel-item\"><div class=\"sk-item\"><div class=\"sk-label-container\"><div class=\"sk-label sk-toggleable\"><label>amplitude-12</label></div></div><div class=\"sk-serial\"><div class=\"sk-item\"><div class=\"sk-estimator sk-toggleable\"><input class=\"sk-toggleable__control sk-hidden--visually\" id=\"0c99128b-bb3d-48a6-92dc-d886b61b3153\" type=\"checkbox\" ><label class=\"sk-toggleable__label\" for=\"0c99128b-bb3d-48a6-92dc-d886b61b3153\">Amplitude</label><div class=\"sk-toggleable__content\"><pre>Amplitude(metric='heat', metric_params={'n_bins': 100, 'p': 2, 'sigma': 1.6},\n",
       "          n_jobs=-1)</pre></div></div></div></div></div></div><div class=\"sk-parallel-item\"><div class=\"sk-item\"><div class=\"sk-label-container\"><div class=\"sk-label sk-toggleable\"><label>amplitude-13</label></div></div><div class=\"sk-serial\"><div class=\"sk-item\"><div class=\"sk-estimator sk-toggleable\"><input class=\"sk-toggleable__control sk-hidden--visually\" id=\"95756b09-0cf2-4b77-8451-b5e24318af82\" type=\"checkbox\" ><label class=\"sk-toggleable__label\" for=\"95756b09-0cf2-4b77-8451-b5e24318af82\">Amplitude</label><div class=\"sk-toggleable__content\"><pre>Amplitude(metric='heat', metric_params={'n_bins': 100, 'p': 2, 'sigma': 3.2},\n",
       "          n_jobs=-1)</pre></div></div></div></div></div></div></div></div></div></div></div></div></div><div class=\"sk-parallel-item\"><div class=\"sk-item\"><div class=\"sk-label-container\"><div class=\"sk-label sk-toggleable\"><label>pipeline-10</label></div></div><div class=\"sk-serial\"><div class=\"sk-item\"><div class=\"sk-serial\"><div class=\"sk-item\"><div class=\"sk-estimator sk-toggleable\"><input class=\"sk-toggleable__control sk-hidden--visually\" id=\"16d1dd9e-b715-45fe-ac7a-c8365fe39348\" type=\"checkbox\" ><label class=\"sk-toggleable__label\" for=\"16d1dd9e-b715-45fe-ac7a-c8365fe39348\">Binarizer</label><div class=\"sk-toggleable__content\"><pre>Binarizer(threshold=0.4)</pre></div></div></div><div class=\"sk-item\"><div class=\"sk-estimator sk-toggleable\"><input class=\"sk-toggleable__control sk-hidden--visually\" id=\"14d07b6b-b6d6-4055-b466-0f1feea7892b\" type=\"checkbox\" ><label class=\"sk-toggleable__label\" for=\"14d07b6b-b6d6-4055-b466-0f1feea7892b\">RadialFiltration</label><div class=\"sk-toggleable__content\"><pre>RadialFiltration(center=array([ 6, 13]), n_jobs=-1)</pre></div></div></div><div class=\"sk-item\"><div class=\"sk-estimator sk-toggleable\"><input class=\"sk-toggleable__control sk-hidden--visually\" id=\"156c05fa-6087-49b0-9aa6-815d9e083f43\" type=\"checkbox\" ><label class=\"sk-toggleable__label\" for=\"156c05fa-6087-49b0-9aa6-815d9e083f43\">CubicalPersistence</label><div class=\"sk-toggleable__content\"><pre>CubicalPersistence(n_jobs=-1)</pre></div></div></div><div class=\"sk-item\"><div class=\"sk-estimator sk-toggleable\"><input class=\"sk-toggleable__control sk-hidden--visually\" id=\"e142a9ef-058b-48eb-8401-0125314e9ece\" type=\"checkbox\" ><label class=\"sk-toggleable__label\" for=\"e142a9ef-058b-48eb-8401-0125314e9ece\">Scaler</label><div class=\"sk-toggleable__content\"><pre>Scaler(n_jobs=-1)</pre></div></div></div><div class=\"sk-item sk-dashed-wrapped\"><div class=\"sk-label-container\"><div class=\"sk-label sk-toggleable\"><input class=\"sk-toggleable__control sk-hidden--visually\" id=\"e262003c-7d0a-4d91-9594-b9a37672cfe3\" type=\"checkbox\" ><label class=\"sk-toggleable__label\" for=\"e262003c-7d0a-4d91-9594-b9a37672cfe3\">featureunion: FeatureUnion</label><div class=\"sk-toggleable__content\"><pre>FeatureUnion(transformer_list=[('persistenceentropy',\n",
       "                                PersistenceEntropy(nan_fill_value=-1)),\n",
       "                               ('amplitude-1',\n",
       "                                Amplitude(metric='bottleneck', metric_params={},\n",
       "                                          n_jobs=-1)),\n",
       "                               ('amplitude-2',\n",
       "                                Amplitude(metric='wasserstein',\n",
       "                                          metric_params={'p': 1}, n_jobs=-1)),\n",
       "                               ('amplitude-3',\n",
       "                                Amplitude(metric='wasserstein',\n",
       "                                          metric_params={'p': 2}, n_jobs=-1)),\n",
       "                               ('amplitude-4',\n",
       "                                Amplitude...\n",
       "                                          metric_params={'n_bins': 100, 'p': 1,\n",
       "                                                         'sigma': 1.6},\n",
       "                                          n_jobs=-1)),\n",
       "                               ('amplitude-11',\n",
       "                                Amplitude(metric='heat',\n",
       "                                          metric_params={'n_bins': 100, 'p': 1,\n",
       "                                                         'sigma': 3.2},\n",
       "                                          n_jobs=-1)),\n",
       "                               ('amplitude-12',\n",
       "                                Amplitude(metric='heat',\n",
       "                                          metric_params={'n_bins': 100, 'p': 2,\n",
       "                                                         'sigma': 1.6},\n",
       "                                          n_jobs=-1)),\n",
       "                               ('amplitude-13',\n",
       "                                Amplitude(metric='heat',\n",
       "                                          metric_params={'n_bins': 100, 'p': 2,\n",
       "                                                         'sigma': 3.2},\n",
       "                                          n_jobs=-1))])</pre></div></div></div><div class=\"sk-parallel\"><div class=\"sk-parallel-item\"><div class=\"sk-item\"><div class=\"sk-label-container\"><div class=\"sk-label sk-toggleable\"><label>persistenceentropy</label></div></div><div class=\"sk-serial\"><div class=\"sk-item\"><div class=\"sk-estimator sk-toggleable\"><input class=\"sk-toggleable__control sk-hidden--visually\" id=\"21d205d5-9f28-420d-af44-11c574107296\" type=\"checkbox\" ><label class=\"sk-toggleable__label\" for=\"21d205d5-9f28-420d-af44-11c574107296\">PersistenceEntropy</label><div class=\"sk-toggleable__content\"><pre>PersistenceEntropy(nan_fill_value=-1)</pre></div></div></div></div></div></div><div class=\"sk-parallel-item\"><div class=\"sk-item\"><div class=\"sk-label-container\"><div class=\"sk-label sk-toggleable\"><label>amplitude-1</label></div></div><div class=\"sk-serial\"><div class=\"sk-item\"><div class=\"sk-estimator sk-toggleable\"><input class=\"sk-toggleable__control sk-hidden--visually\" id=\"a44dbcd2-0dbf-4467-bd8e-e548c194f994\" type=\"checkbox\" ><label class=\"sk-toggleable__label\" for=\"a44dbcd2-0dbf-4467-bd8e-e548c194f994\">Amplitude</label><div class=\"sk-toggleable__content\"><pre>Amplitude(metric='bottleneck', metric_params={}, n_jobs=-1)</pre></div></div></div></div></div></div><div class=\"sk-parallel-item\"><div class=\"sk-item\"><div class=\"sk-label-container\"><div class=\"sk-label sk-toggleable\"><label>amplitude-2</label></div></div><div class=\"sk-serial\"><div class=\"sk-item\"><div class=\"sk-estimator sk-toggleable\"><input class=\"sk-toggleable__control sk-hidden--visually\" id=\"a4ce0093-b113-4132-9f99-a9293310c6bd\" type=\"checkbox\" ><label class=\"sk-toggleable__label\" for=\"a4ce0093-b113-4132-9f99-a9293310c6bd\">Amplitude</label><div class=\"sk-toggleable__content\"><pre>Amplitude(metric='wasserstein', metric_params={'p': 1}, n_jobs=-1)</pre></div></div></div></div></div></div><div class=\"sk-parallel-item\"><div class=\"sk-item\"><div class=\"sk-label-container\"><div class=\"sk-label sk-toggleable\"><label>amplitude-3</label></div></div><div class=\"sk-serial\"><div class=\"sk-item\"><div class=\"sk-estimator sk-toggleable\"><input class=\"sk-toggleable__control sk-hidden--visually\" id=\"0ae38cc7-6ff8-4a96-a59f-cc1f015f1b92\" type=\"checkbox\" ><label class=\"sk-toggleable__label\" for=\"0ae38cc7-6ff8-4a96-a59f-cc1f015f1b92\">Amplitude</label><div class=\"sk-toggleable__content\"><pre>Amplitude(metric='wasserstein', metric_params={'p': 2}, n_jobs=-1)</pre></div></div></div></div></div></div><div class=\"sk-parallel-item\"><div class=\"sk-item\"><div class=\"sk-label-container\"><div class=\"sk-label sk-toggleable\"><label>amplitude-4</label></div></div><div class=\"sk-serial\"><div class=\"sk-item\"><div class=\"sk-estimator sk-toggleable\"><input class=\"sk-toggleable__control sk-hidden--visually\" id=\"be586a92-9fbf-4d4a-a4f8-cc181b39cf55\" type=\"checkbox\" ><label class=\"sk-toggleable__label\" for=\"be586a92-9fbf-4d4a-a4f8-cc181b39cf55\">Amplitude</label><div class=\"sk-toggleable__content\"><pre>Amplitude(metric_params={'n_bins': 100, 'n_layers': 1, 'p': 1}, n_jobs=-1)</pre></div></div></div></div></div></div><div class=\"sk-parallel-item\"><div class=\"sk-item\"><div class=\"sk-label-container\"><div class=\"sk-label sk-toggleable\"><label>amplitude-5</label></div></div><div class=\"sk-serial\"><div class=\"sk-item\"><div class=\"sk-estimator sk-toggleable\"><input class=\"sk-toggleable__control sk-hidden--visually\" id=\"8ba3caff-1cb0-430e-a001-5d51d764a578\" type=\"checkbox\" ><label class=\"sk-toggleable__label\" for=\"8ba3caff-1cb0-430e-a001-5d51d764a578\">Amplitude</label><div class=\"sk-toggleable__content\"><pre>Amplitude(metric_params={'n_bins': 100, 'n_layers': 2, 'p': 1}, n_jobs=-1)</pre></div></div></div></div></div></div><div class=\"sk-parallel-item\"><div class=\"sk-item\"><div class=\"sk-label-container\"><div class=\"sk-label sk-toggleable\"><label>amplitude-6</label></div></div><div class=\"sk-serial\"><div class=\"sk-item\"><div class=\"sk-estimator sk-toggleable\"><input class=\"sk-toggleable__control sk-hidden--visually\" id=\"cef08b46-3ca7-4596-99bb-262bd1348077\" type=\"checkbox\" ><label class=\"sk-toggleable__label\" for=\"cef08b46-3ca7-4596-99bb-262bd1348077\">Amplitude</label><div class=\"sk-toggleable__content\"><pre>Amplitude(metric_params={'n_bins': 100, 'n_layers': 1, 'p': 2}, n_jobs=-1)</pre></div></div></div></div></div></div><div class=\"sk-parallel-item\"><div class=\"sk-item\"><div class=\"sk-label-container\"><div class=\"sk-label sk-toggleable\"><label>amplitude-7</label></div></div><div class=\"sk-serial\"><div class=\"sk-item\"><div class=\"sk-estimator sk-toggleable\"><input class=\"sk-toggleable__control sk-hidden--visually\" id=\"d0feb904-0f47-4794-87a4-3d3422d40806\" type=\"checkbox\" ><label class=\"sk-toggleable__label\" for=\"d0feb904-0f47-4794-87a4-3d3422d40806\">Amplitude</label><div class=\"sk-toggleable__content\"><pre>Amplitude(metric_params={'n_bins': 100, 'n_layers': 2, 'p': 2}, n_jobs=-1)</pre></div></div></div></div></div></div><div class=\"sk-parallel-item\"><div class=\"sk-item\"><div class=\"sk-label-container\"><div class=\"sk-label sk-toggleable\"><label>amplitude-8</label></div></div><div class=\"sk-serial\"><div class=\"sk-item\"><div class=\"sk-estimator sk-toggleable\"><input class=\"sk-toggleable__control sk-hidden--visually\" id=\"3f434696-99bc-41c2-8c2c-7e270d7c2aa6\" type=\"checkbox\" ><label class=\"sk-toggleable__label\" for=\"3f434696-99bc-41c2-8c2c-7e270d7c2aa6\">Amplitude</label><div class=\"sk-toggleable__content\"><pre>Amplitude(metric='betti', metric_params={'n_bins': 100, 'p': 1}, n_jobs=-1)</pre></div></div></div></div></div></div><div class=\"sk-parallel-item\"><div class=\"sk-item\"><div class=\"sk-label-container\"><div class=\"sk-label sk-toggleable\"><label>amplitude-9</label></div></div><div class=\"sk-serial\"><div class=\"sk-item\"><div class=\"sk-estimator sk-toggleable\"><input class=\"sk-toggleable__control sk-hidden--visually\" id=\"c13c14d7-f6db-4565-9d01-b93f46ddefa4\" type=\"checkbox\" ><label class=\"sk-toggleable__label\" for=\"c13c14d7-f6db-4565-9d01-b93f46ddefa4\">Amplitude</label><div class=\"sk-toggleable__content\"><pre>Amplitude(metric='betti', metric_params={'n_bins': 100, 'p': 2}, n_jobs=-1)</pre></div></div></div></div></div></div><div class=\"sk-parallel-item\"><div class=\"sk-item\"><div class=\"sk-label-container\"><div class=\"sk-label sk-toggleable\"><label>amplitude-10</label></div></div><div class=\"sk-serial\"><div class=\"sk-item\"><div class=\"sk-estimator sk-toggleable\"><input class=\"sk-toggleable__control sk-hidden--visually\" id=\"97ce402f-64ba-45f4-8576-8362df0c714b\" type=\"checkbox\" ><label class=\"sk-toggleable__label\" for=\"97ce402f-64ba-45f4-8576-8362df0c714b\">Amplitude</label><div class=\"sk-toggleable__content\"><pre>Amplitude(metric='heat', metric_params={'n_bins': 100, 'p': 1, 'sigma': 1.6},\n",
       "          n_jobs=-1)</pre></div></div></div></div></div></div><div class=\"sk-parallel-item\"><div class=\"sk-item\"><div class=\"sk-label-container\"><div class=\"sk-label sk-toggleable\"><label>amplitude-11</label></div></div><div class=\"sk-serial\"><div class=\"sk-item\"><div class=\"sk-estimator sk-toggleable\"><input class=\"sk-toggleable__control sk-hidden--visually\" id=\"afab2d0b-9d8b-4071-b109-51beb452b28f\" type=\"checkbox\" ><label class=\"sk-toggleable__label\" for=\"afab2d0b-9d8b-4071-b109-51beb452b28f\">Amplitude</label><div class=\"sk-toggleable__content\"><pre>Amplitude(metric='heat', metric_params={'n_bins': 100, 'p': 1, 'sigma': 3.2},\n",
       "          n_jobs=-1)</pre></div></div></div></div></div></div><div class=\"sk-parallel-item\"><div class=\"sk-item\"><div class=\"sk-label-container\"><div class=\"sk-label sk-toggleable\"><label>amplitude-12</label></div></div><div class=\"sk-serial\"><div class=\"sk-item\"><div class=\"sk-estimator sk-toggleable\"><input class=\"sk-toggleable__control sk-hidden--visually\" id=\"41e9ee2d-3813-4efc-aeef-dacbfcb01d40\" type=\"checkbox\" ><label class=\"sk-toggleable__label\" for=\"41e9ee2d-3813-4efc-aeef-dacbfcb01d40\">Amplitude</label><div class=\"sk-toggleable__content\"><pre>Amplitude(metric='heat', metric_params={'n_bins': 100, 'p': 2, 'sigma': 1.6},\n",
       "          n_jobs=-1)</pre></div></div></div></div></div></div><div class=\"sk-parallel-item\"><div class=\"sk-item\"><div class=\"sk-label-container\"><div class=\"sk-label sk-toggleable\"><label>amplitude-13</label></div></div><div class=\"sk-serial\"><div class=\"sk-item\"><div class=\"sk-estimator sk-toggleable\"><input class=\"sk-toggleable__control sk-hidden--visually\" id=\"5a7ff0c1-3727-436f-bac4-acf66404f80c\" type=\"checkbox\" ><label class=\"sk-toggleable__label\" for=\"5a7ff0c1-3727-436f-bac4-acf66404f80c\">Amplitude</label><div class=\"sk-toggleable__content\"><pre>Amplitude(metric='heat', metric_params={'n_bins': 100, 'p': 2, 'sigma': 3.2},\n",
       "          n_jobs=-1)</pre></div></div></div></div></div></div></div></div></div></div></div></div></div><div class=\"sk-parallel-item\"><div class=\"sk-item\"><div class=\"sk-label-container\"><div class=\"sk-label sk-toggleable\"><label>pipeline-11</label></div></div><div class=\"sk-serial\"><div class=\"sk-item\"><div class=\"sk-serial\"><div class=\"sk-item\"><div class=\"sk-estimator sk-toggleable\"><input class=\"sk-toggleable__control sk-hidden--visually\" id=\"5691135a-868c-4072-b32d-8173eae0b104\" type=\"checkbox\" ><label class=\"sk-toggleable__label\" for=\"5691135a-868c-4072-b32d-8173eae0b104\">Binarizer</label><div class=\"sk-toggleable__content\"><pre>Binarizer(threshold=0.4)</pre></div></div></div><div class=\"sk-item\"><div class=\"sk-estimator sk-toggleable\"><input class=\"sk-toggleable__control sk-hidden--visually\" id=\"aa90de1a-627b-4ffe-99a6-715181bef62c\" type=\"checkbox\" ><label class=\"sk-toggleable__label\" for=\"aa90de1a-627b-4ffe-99a6-715181bef62c\">RadialFiltration</label><div class=\"sk-toggleable__content\"><pre>RadialFiltration(center=array([13, 13]), n_jobs=-1)</pre></div></div></div><div class=\"sk-item\"><div class=\"sk-estimator sk-toggleable\"><input class=\"sk-toggleable__control sk-hidden--visually\" id=\"9612f7db-92a0-456f-b8f9-2de37bd9d15e\" type=\"checkbox\" ><label class=\"sk-toggleable__label\" for=\"9612f7db-92a0-456f-b8f9-2de37bd9d15e\">CubicalPersistence</label><div class=\"sk-toggleable__content\"><pre>CubicalPersistence(n_jobs=-1)</pre></div></div></div><div class=\"sk-item\"><div class=\"sk-estimator sk-toggleable\"><input class=\"sk-toggleable__control sk-hidden--visually\" id=\"ed958580-9d4a-4fae-b5a0-eb6719dcd0e5\" type=\"checkbox\" ><label class=\"sk-toggleable__label\" for=\"ed958580-9d4a-4fae-b5a0-eb6719dcd0e5\">Scaler</label><div class=\"sk-toggleable__content\"><pre>Scaler(n_jobs=-1)</pre></div></div></div><div class=\"sk-item sk-dashed-wrapped\"><div class=\"sk-label-container\"><div class=\"sk-label sk-toggleable\"><input class=\"sk-toggleable__control sk-hidden--visually\" id=\"6a2c1707-9049-4e28-9b94-a37cb65fcbaa\" type=\"checkbox\" ><label class=\"sk-toggleable__label\" for=\"6a2c1707-9049-4e28-9b94-a37cb65fcbaa\">featureunion: FeatureUnion</label><div class=\"sk-toggleable__content\"><pre>FeatureUnion(transformer_list=[('persistenceentropy',\n",
       "                                PersistenceEntropy(nan_fill_value=-1)),\n",
       "                               ('amplitude-1',\n",
       "                                Amplitude(metric='bottleneck', metric_params={},\n",
       "                                          n_jobs=-1)),\n",
       "                               ('amplitude-2',\n",
       "                                Amplitude(metric='wasserstein',\n",
       "                                          metric_params={'p': 1}, n_jobs=-1)),\n",
       "                               ('amplitude-3',\n",
       "                                Amplitude(metric='wasserstein',\n",
       "                                          metric_params={'p': 2}, n_jobs=-1)),\n",
       "                               ('amplitude-4',\n",
       "                                Amplitude...\n",
       "                                          metric_params={'n_bins': 100, 'p': 1,\n",
       "                                                         'sigma': 1.6},\n",
       "                                          n_jobs=-1)),\n",
       "                               ('amplitude-11',\n",
       "                                Amplitude(metric='heat',\n",
       "                                          metric_params={'n_bins': 100, 'p': 1,\n",
       "                                                         'sigma': 3.2},\n",
       "                                          n_jobs=-1)),\n",
       "                               ('amplitude-12',\n",
       "                                Amplitude(metric='heat',\n",
       "                                          metric_params={'n_bins': 100, 'p': 2,\n",
       "                                                         'sigma': 1.6},\n",
       "                                          n_jobs=-1)),\n",
       "                               ('amplitude-13',\n",
       "                                Amplitude(metric='heat',\n",
       "                                          metric_params={'n_bins': 100, 'p': 2,\n",
       "                                                         'sigma': 3.2},\n",
       "                                          n_jobs=-1))])</pre></div></div></div><div class=\"sk-parallel\"><div class=\"sk-parallel-item\"><div class=\"sk-item\"><div class=\"sk-label-container\"><div class=\"sk-label sk-toggleable\"><label>persistenceentropy</label></div></div><div class=\"sk-serial\"><div class=\"sk-item\"><div class=\"sk-estimator sk-toggleable\"><input class=\"sk-toggleable__control sk-hidden--visually\" id=\"c3e46bfb-8922-46f8-8382-4f2de9e2cf0f\" type=\"checkbox\" ><label class=\"sk-toggleable__label\" for=\"c3e46bfb-8922-46f8-8382-4f2de9e2cf0f\">PersistenceEntropy</label><div class=\"sk-toggleable__content\"><pre>PersistenceEntropy(nan_fill_value=-1)</pre></div></div></div></div></div></div><div class=\"sk-parallel-item\"><div class=\"sk-item\"><div class=\"sk-label-container\"><div class=\"sk-label sk-toggleable\"><label>amplitude-1</label></div></div><div class=\"sk-serial\"><div class=\"sk-item\"><div class=\"sk-estimator sk-toggleable\"><input class=\"sk-toggleable__control sk-hidden--visually\" id=\"c449bcaa-da88-4dbf-b645-a1af2552f964\" type=\"checkbox\" ><label class=\"sk-toggleable__label\" for=\"c449bcaa-da88-4dbf-b645-a1af2552f964\">Amplitude</label><div class=\"sk-toggleable__content\"><pre>Amplitude(metric='bottleneck', metric_params={}, n_jobs=-1)</pre></div></div></div></div></div></div><div class=\"sk-parallel-item\"><div class=\"sk-item\"><div class=\"sk-label-container\"><div class=\"sk-label sk-toggleable\"><label>amplitude-2</label></div></div><div class=\"sk-serial\"><div class=\"sk-item\"><div class=\"sk-estimator sk-toggleable\"><input class=\"sk-toggleable__control sk-hidden--visually\" id=\"2c2d6cfb-aa25-4b42-b82b-0af91587fd17\" type=\"checkbox\" ><label class=\"sk-toggleable__label\" for=\"2c2d6cfb-aa25-4b42-b82b-0af91587fd17\">Amplitude</label><div class=\"sk-toggleable__content\"><pre>Amplitude(metric='wasserstein', metric_params={'p': 1}, n_jobs=-1)</pre></div></div></div></div></div></div><div class=\"sk-parallel-item\"><div class=\"sk-item\"><div class=\"sk-label-container\"><div class=\"sk-label sk-toggleable\"><label>amplitude-3</label></div></div><div class=\"sk-serial\"><div class=\"sk-item\"><div class=\"sk-estimator sk-toggleable\"><input class=\"sk-toggleable__control sk-hidden--visually\" id=\"695fecb0-a12d-4784-9cc6-e37a297aa660\" type=\"checkbox\" ><label class=\"sk-toggleable__label\" for=\"695fecb0-a12d-4784-9cc6-e37a297aa660\">Amplitude</label><div class=\"sk-toggleable__content\"><pre>Amplitude(metric='wasserstein', metric_params={'p': 2}, n_jobs=-1)</pre></div></div></div></div></div></div><div class=\"sk-parallel-item\"><div class=\"sk-item\"><div class=\"sk-label-container\"><div class=\"sk-label sk-toggleable\"><label>amplitude-4</label></div></div><div class=\"sk-serial\"><div class=\"sk-item\"><div class=\"sk-estimator sk-toggleable\"><input class=\"sk-toggleable__control sk-hidden--visually\" id=\"e2a2afd7-dba4-42d5-bcab-2dda28c1ea52\" type=\"checkbox\" ><label class=\"sk-toggleable__label\" for=\"e2a2afd7-dba4-42d5-bcab-2dda28c1ea52\">Amplitude</label><div class=\"sk-toggleable__content\"><pre>Amplitude(metric_params={'n_bins': 100, 'n_layers': 1, 'p': 1}, n_jobs=-1)</pre></div></div></div></div></div></div><div class=\"sk-parallel-item\"><div class=\"sk-item\"><div class=\"sk-label-container\"><div class=\"sk-label sk-toggleable\"><label>amplitude-5</label></div></div><div class=\"sk-serial\"><div class=\"sk-item\"><div class=\"sk-estimator sk-toggleable\"><input class=\"sk-toggleable__control sk-hidden--visually\" id=\"897c0d6b-bc6d-4310-bd30-63e6a813da32\" type=\"checkbox\" ><label class=\"sk-toggleable__label\" for=\"897c0d6b-bc6d-4310-bd30-63e6a813da32\">Amplitude</label><div class=\"sk-toggleable__content\"><pre>Amplitude(metric_params={'n_bins': 100, 'n_layers': 2, 'p': 1}, n_jobs=-1)</pre></div></div></div></div></div></div><div class=\"sk-parallel-item\"><div class=\"sk-item\"><div class=\"sk-label-container\"><div class=\"sk-label sk-toggleable\"><label>amplitude-6</label></div></div><div class=\"sk-serial\"><div class=\"sk-item\"><div class=\"sk-estimator sk-toggleable\"><input class=\"sk-toggleable__control sk-hidden--visually\" id=\"e7e278f9-aba0-4af5-bf4c-28766faab7c7\" type=\"checkbox\" ><label class=\"sk-toggleable__label\" for=\"e7e278f9-aba0-4af5-bf4c-28766faab7c7\">Amplitude</label><div class=\"sk-toggleable__content\"><pre>Amplitude(metric_params={'n_bins': 100, 'n_layers': 1, 'p': 2}, n_jobs=-1)</pre></div></div></div></div></div></div><div class=\"sk-parallel-item\"><div class=\"sk-item\"><div class=\"sk-label-container\"><div class=\"sk-label sk-toggleable\"><label>amplitude-7</label></div></div><div class=\"sk-serial\"><div class=\"sk-item\"><div class=\"sk-estimator sk-toggleable\"><input class=\"sk-toggleable__control sk-hidden--visually\" id=\"ab1af32a-5d7d-4608-9997-68d125a324aa\" type=\"checkbox\" ><label class=\"sk-toggleable__label\" for=\"ab1af32a-5d7d-4608-9997-68d125a324aa\">Amplitude</label><div class=\"sk-toggleable__content\"><pre>Amplitude(metric_params={'n_bins': 100, 'n_layers': 2, 'p': 2}, n_jobs=-1)</pre></div></div></div></div></div></div><div class=\"sk-parallel-item\"><div class=\"sk-item\"><div class=\"sk-label-container\"><div class=\"sk-label sk-toggleable\"><label>amplitude-8</label></div></div><div class=\"sk-serial\"><div class=\"sk-item\"><div class=\"sk-estimator sk-toggleable\"><input class=\"sk-toggleable__control sk-hidden--visually\" id=\"9391f2d3-f8bf-4c4e-b594-f03445b071f4\" type=\"checkbox\" ><label class=\"sk-toggleable__label\" for=\"9391f2d3-f8bf-4c4e-b594-f03445b071f4\">Amplitude</label><div class=\"sk-toggleable__content\"><pre>Amplitude(metric='betti', metric_params={'n_bins': 100, 'p': 1}, n_jobs=-1)</pre></div></div></div></div></div></div><div class=\"sk-parallel-item\"><div class=\"sk-item\"><div class=\"sk-label-container\"><div class=\"sk-label sk-toggleable\"><label>amplitude-9</label></div></div><div class=\"sk-serial\"><div class=\"sk-item\"><div class=\"sk-estimator sk-toggleable\"><input class=\"sk-toggleable__control sk-hidden--visually\" id=\"c3b39997-c6ac-4645-9e28-7b612180534e\" type=\"checkbox\" ><label class=\"sk-toggleable__label\" for=\"c3b39997-c6ac-4645-9e28-7b612180534e\">Amplitude</label><div class=\"sk-toggleable__content\"><pre>Amplitude(metric='betti', metric_params={'n_bins': 100, 'p': 2}, n_jobs=-1)</pre></div></div></div></div></div></div><div class=\"sk-parallel-item\"><div class=\"sk-item\"><div class=\"sk-label-container\"><div class=\"sk-label sk-toggleable\"><label>amplitude-10</label></div></div><div class=\"sk-serial\"><div class=\"sk-item\"><div class=\"sk-estimator sk-toggleable\"><input class=\"sk-toggleable__control sk-hidden--visually\" id=\"54996558-a938-4f20-91bb-a0a42230d9b0\" type=\"checkbox\" ><label class=\"sk-toggleable__label\" for=\"54996558-a938-4f20-91bb-a0a42230d9b0\">Amplitude</label><div class=\"sk-toggleable__content\"><pre>Amplitude(metric='heat', metric_params={'n_bins': 100, 'p': 1, 'sigma': 1.6},\n",
       "          n_jobs=-1)</pre></div></div></div></div></div></div><div class=\"sk-parallel-item\"><div class=\"sk-item\"><div class=\"sk-label-container\"><div class=\"sk-label sk-toggleable\"><label>amplitude-11</label></div></div><div class=\"sk-serial\"><div class=\"sk-item\"><div class=\"sk-estimator sk-toggleable\"><input class=\"sk-toggleable__control sk-hidden--visually\" id=\"8cf76487-9ec1-4da6-a84d-f9da31ca8195\" type=\"checkbox\" ><label class=\"sk-toggleable__label\" for=\"8cf76487-9ec1-4da6-a84d-f9da31ca8195\">Amplitude</label><div class=\"sk-toggleable__content\"><pre>Amplitude(metric='heat', metric_params={'n_bins': 100, 'p': 1, 'sigma': 3.2},\n",
       "          n_jobs=-1)</pre></div></div></div></div></div></div><div class=\"sk-parallel-item\"><div class=\"sk-item\"><div class=\"sk-label-container\"><div class=\"sk-label sk-toggleable\"><label>amplitude-12</label></div></div><div class=\"sk-serial\"><div class=\"sk-item\"><div class=\"sk-estimator sk-toggleable\"><input class=\"sk-toggleable__control sk-hidden--visually\" id=\"331fba46-6936-4b49-8b34-e29c9dac3c0b\" type=\"checkbox\" ><label class=\"sk-toggleable__label\" for=\"331fba46-6936-4b49-8b34-e29c9dac3c0b\">Amplitude</label><div class=\"sk-toggleable__content\"><pre>Amplitude(metric='heat', metric_params={'n_bins': 100, 'p': 2, 'sigma': 1.6},\n",
       "          n_jobs=-1)</pre></div></div></div></div></div></div><div class=\"sk-parallel-item\"><div class=\"sk-item\"><div class=\"sk-label-container\"><div class=\"sk-label sk-toggleable\"><label>amplitude-13</label></div></div><div class=\"sk-serial\"><div class=\"sk-item\"><div class=\"sk-estimator sk-toggleable\"><input class=\"sk-toggleable__control sk-hidden--visually\" id=\"a5bb44d6-3d48-4f4f-a796-94da2428b659\" type=\"checkbox\" ><label class=\"sk-toggleable__label\" for=\"a5bb44d6-3d48-4f4f-a796-94da2428b659\">Amplitude</label><div class=\"sk-toggleable__content\"><pre>Amplitude(metric='heat', metric_params={'n_bins': 100, 'p': 2, 'sigma': 3.2},\n",
       "          n_jobs=-1)</pre></div></div></div></div></div></div></div></div></div></div></div></div></div><div class=\"sk-parallel-item\"><div class=\"sk-item\"><div class=\"sk-label-container\"><div class=\"sk-label sk-toggleable\"><label>pipeline-12</label></div></div><div class=\"sk-serial\"><div class=\"sk-item\"><div class=\"sk-serial\"><div class=\"sk-item\"><div class=\"sk-estimator sk-toggleable\"><input class=\"sk-toggleable__control sk-hidden--visually\" id=\"b24361f5-2fca-40b1-ad10-0ec4f7d24d25\" type=\"checkbox\" ><label class=\"sk-toggleable__label\" for=\"b24361f5-2fca-40b1-ad10-0ec4f7d24d25\">Binarizer</label><div class=\"sk-toggleable__content\"><pre>Binarizer(threshold=0.4)</pre></div></div></div><div class=\"sk-item\"><div class=\"sk-estimator sk-toggleable\"><input class=\"sk-toggleable__control sk-hidden--visually\" id=\"0383dbb3-e084-4909-8806-80f480b0d2cc\" type=\"checkbox\" ><label class=\"sk-toggleable__label\" for=\"0383dbb3-e084-4909-8806-80f480b0d2cc\">RadialFiltration</label><div class=\"sk-toggleable__content\"><pre>RadialFiltration(center=array([20, 13]), n_jobs=-1)</pre></div></div></div><div class=\"sk-item\"><div class=\"sk-estimator sk-toggleable\"><input class=\"sk-toggleable__control sk-hidden--visually\" id=\"d454f46b-288f-4f91-9e5f-a29eb36a8b3f\" type=\"checkbox\" ><label class=\"sk-toggleable__label\" for=\"d454f46b-288f-4f91-9e5f-a29eb36a8b3f\">CubicalPersistence</label><div class=\"sk-toggleable__content\"><pre>CubicalPersistence(n_jobs=-1)</pre></div></div></div><div class=\"sk-item\"><div class=\"sk-estimator sk-toggleable\"><input class=\"sk-toggleable__control sk-hidden--visually\" id=\"b5df5456-a24c-4e01-a6ae-a2f2a7dd6c07\" type=\"checkbox\" ><label class=\"sk-toggleable__label\" for=\"b5df5456-a24c-4e01-a6ae-a2f2a7dd6c07\">Scaler</label><div class=\"sk-toggleable__content\"><pre>Scaler(n_jobs=-1)</pre></div></div></div><div class=\"sk-item sk-dashed-wrapped\"><div class=\"sk-label-container\"><div class=\"sk-label sk-toggleable\"><input class=\"sk-toggleable__control sk-hidden--visually\" id=\"d8fbd1a4-8a1e-41cd-a730-f4d12b952416\" type=\"checkbox\" ><label class=\"sk-toggleable__label\" for=\"d8fbd1a4-8a1e-41cd-a730-f4d12b952416\">featureunion: FeatureUnion</label><div class=\"sk-toggleable__content\"><pre>FeatureUnion(transformer_list=[('persistenceentropy',\n",
       "                                PersistenceEntropy(nan_fill_value=-1)),\n",
       "                               ('amplitude-1',\n",
       "                                Amplitude(metric='bottleneck', metric_params={},\n",
       "                                          n_jobs=-1)),\n",
       "                               ('amplitude-2',\n",
       "                                Amplitude(metric='wasserstein',\n",
       "                                          metric_params={'p': 1}, n_jobs=-1)),\n",
       "                               ('amplitude-3',\n",
       "                                Amplitude(metric='wasserstein',\n",
       "                                          metric_params={'p': 2}, n_jobs=-1)),\n",
       "                               ('amplitude-4',\n",
       "                                Amplitude...\n",
       "                                          metric_params={'n_bins': 100, 'p': 1,\n",
       "                                                         'sigma': 1.6},\n",
       "                                          n_jobs=-1)),\n",
       "                               ('amplitude-11',\n",
       "                                Amplitude(metric='heat',\n",
       "                                          metric_params={'n_bins': 100, 'p': 1,\n",
       "                                                         'sigma': 3.2},\n",
       "                                          n_jobs=-1)),\n",
       "                               ('amplitude-12',\n",
       "                                Amplitude(metric='heat',\n",
       "                                          metric_params={'n_bins': 100, 'p': 2,\n",
       "                                                         'sigma': 1.6},\n",
       "                                          n_jobs=-1)),\n",
       "                               ('amplitude-13',\n",
       "                                Amplitude(metric='heat',\n",
       "                                          metric_params={'n_bins': 100, 'p': 2,\n",
       "                                                         'sigma': 3.2},\n",
       "                                          n_jobs=-1))])</pre></div></div></div><div class=\"sk-parallel\"><div class=\"sk-parallel-item\"><div class=\"sk-item\"><div class=\"sk-label-container\"><div class=\"sk-label sk-toggleable\"><label>persistenceentropy</label></div></div><div class=\"sk-serial\"><div class=\"sk-item\"><div class=\"sk-estimator sk-toggleable\"><input class=\"sk-toggleable__control sk-hidden--visually\" id=\"5dbfcd8c-6941-4869-b673-5c0e06aee163\" type=\"checkbox\" ><label class=\"sk-toggleable__label\" for=\"5dbfcd8c-6941-4869-b673-5c0e06aee163\">PersistenceEntropy</label><div class=\"sk-toggleable__content\"><pre>PersistenceEntropy(nan_fill_value=-1)</pre></div></div></div></div></div></div><div class=\"sk-parallel-item\"><div class=\"sk-item\"><div class=\"sk-label-container\"><div class=\"sk-label sk-toggleable\"><label>amplitude-1</label></div></div><div class=\"sk-serial\"><div class=\"sk-item\"><div class=\"sk-estimator sk-toggleable\"><input class=\"sk-toggleable__control sk-hidden--visually\" id=\"b0ed9425-0085-401e-8b4e-fb7e9d042eec\" type=\"checkbox\" ><label class=\"sk-toggleable__label\" for=\"b0ed9425-0085-401e-8b4e-fb7e9d042eec\">Amplitude</label><div class=\"sk-toggleable__content\"><pre>Amplitude(metric='bottleneck', metric_params={}, n_jobs=-1)</pre></div></div></div></div></div></div><div class=\"sk-parallel-item\"><div class=\"sk-item\"><div class=\"sk-label-container\"><div class=\"sk-label sk-toggleable\"><label>amplitude-2</label></div></div><div class=\"sk-serial\"><div class=\"sk-item\"><div class=\"sk-estimator sk-toggleable\"><input class=\"sk-toggleable__control sk-hidden--visually\" id=\"9413c3ad-290b-44a7-b85e-0d6b144c1060\" type=\"checkbox\" ><label class=\"sk-toggleable__label\" for=\"9413c3ad-290b-44a7-b85e-0d6b144c1060\">Amplitude</label><div class=\"sk-toggleable__content\"><pre>Amplitude(metric='wasserstein', metric_params={'p': 1}, n_jobs=-1)</pre></div></div></div></div></div></div><div class=\"sk-parallel-item\"><div class=\"sk-item\"><div class=\"sk-label-container\"><div class=\"sk-label sk-toggleable\"><label>amplitude-3</label></div></div><div class=\"sk-serial\"><div class=\"sk-item\"><div class=\"sk-estimator sk-toggleable\"><input class=\"sk-toggleable__control sk-hidden--visually\" id=\"8c1a2d37-a030-4c5b-a284-12c4148803c7\" type=\"checkbox\" ><label class=\"sk-toggleable__label\" for=\"8c1a2d37-a030-4c5b-a284-12c4148803c7\">Amplitude</label><div class=\"sk-toggleable__content\"><pre>Amplitude(metric='wasserstein', metric_params={'p': 2}, n_jobs=-1)</pre></div></div></div></div></div></div><div class=\"sk-parallel-item\"><div class=\"sk-item\"><div class=\"sk-label-container\"><div class=\"sk-label sk-toggleable\"><label>amplitude-4</label></div></div><div class=\"sk-serial\"><div class=\"sk-item\"><div class=\"sk-estimator sk-toggleable\"><input class=\"sk-toggleable__control sk-hidden--visually\" id=\"06cadd98-9019-42b5-b91e-e19154bfcd3e\" type=\"checkbox\" ><label class=\"sk-toggleable__label\" for=\"06cadd98-9019-42b5-b91e-e19154bfcd3e\">Amplitude</label><div class=\"sk-toggleable__content\"><pre>Amplitude(metric_params={'n_bins': 100, 'n_layers': 1, 'p': 1}, n_jobs=-1)</pre></div></div></div></div></div></div><div class=\"sk-parallel-item\"><div class=\"sk-item\"><div class=\"sk-label-container\"><div class=\"sk-label sk-toggleable\"><label>amplitude-5</label></div></div><div class=\"sk-serial\"><div class=\"sk-item\"><div class=\"sk-estimator sk-toggleable\"><input class=\"sk-toggleable__control sk-hidden--visually\" id=\"0d1890d4-4626-406f-998b-6fca6c626306\" type=\"checkbox\" ><label class=\"sk-toggleable__label\" for=\"0d1890d4-4626-406f-998b-6fca6c626306\">Amplitude</label><div class=\"sk-toggleable__content\"><pre>Amplitude(metric_params={'n_bins': 100, 'n_layers': 2, 'p': 1}, n_jobs=-1)</pre></div></div></div></div></div></div><div class=\"sk-parallel-item\"><div class=\"sk-item\"><div class=\"sk-label-container\"><div class=\"sk-label sk-toggleable\"><label>amplitude-6</label></div></div><div class=\"sk-serial\"><div class=\"sk-item\"><div class=\"sk-estimator sk-toggleable\"><input class=\"sk-toggleable__control sk-hidden--visually\" id=\"ed917396-0799-4855-906c-0b547c6168cd\" type=\"checkbox\" ><label class=\"sk-toggleable__label\" for=\"ed917396-0799-4855-906c-0b547c6168cd\">Amplitude</label><div class=\"sk-toggleable__content\"><pre>Amplitude(metric_params={'n_bins': 100, 'n_layers': 1, 'p': 2}, n_jobs=-1)</pre></div></div></div></div></div></div><div class=\"sk-parallel-item\"><div class=\"sk-item\"><div class=\"sk-label-container\"><div class=\"sk-label sk-toggleable\"><label>amplitude-7</label></div></div><div class=\"sk-serial\"><div class=\"sk-item\"><div class=\"sk-estimator sk-toggleable\"><input class=\"sk-toggleable__control sk-hidden--visually\" id=\"9636695e-c6a4-4236-a90f-f5a40aac37e0\" type=\"checkbox\" ><label class=\"sk-toggleable__label\" for=\"9636695e-c6a4-4236-a90f-f5a40aac37e0\">Amplitude</label><div class=\"sk-toggleable__content\"><pre>Amplitude(metric_params={'n_bins': 100, 'n_layers': 2, 'p': 2}, n_jobs=-1)</pre></div></div></div></div></div></div><div class=\"sk-parallel-item\"><div class=\"sk-item\"><div class=\"sk-label-container\"><div class=\"sk-label sk-toggleable\"><label>amplitude-8</label></div></div><div class=\"sk-serial\"><div class=\"sk-item\"><div class=\"sk-estimator sk-toggleable\"><input class=\"sk-toggleable__control sk-hidden--visually\" id=\"08998f1f-815b-4d63-927f-1f4a7ff4ec04\" type=\"checkbox\" ><label class=\"sk-toggleable__label\" for=\"08998f1f-815b-4d63-927f-1f4a7ff4ec04\">Amplitude</label><div class=\"sk-toggleable__content\"><pre>Amplitude(metric='betti', metric_params={'n_bins': 100, 'p': 1}, n_jobs=-1)</pre></div></div></div></div></div></div><div class=\"sk-parallel-item\"><div class=\"sk-item\"><div class=\"sk-label-container\"><div class=\"sk-label sk-toggleable\"><label>amplitude-9</label></div></div><div class=\"sk-serial\"><div class=\"sk-item\"><div class=\"sk-estimator sk-toggleable\"><input class=\"sk-toggleable__control sk-hidden--visually\" id=\"f8d994cf-2e41-425c-81ab-8acd2e382e9a\" type=\"checkbox\" ><label class=\"sk-toggleable__label\" for=\"f8d994cf-2e41-425c-81ab-8acd2e382e9a\">Amplitude</label><div class=\"sk-toggleable__content\"><pre>Amplitude(metric='betti', metric_params={'n_bins': 100, 'p': 2}, n_jobs=-1)</pre></div></div></div></div></div></div><div class=\"sk-parallel-item\"><div class=\"sk-item\"><div class=\"sk-label-container\"><div class=\"sk-label sk-toggleable\"><label>amplitude-10</label></div></div><div class=\"sk-serial\"><div class=\"sk-item\"><div class=\"sk-estimator sk-toggleable\"><input class=\"sk-toggleable__control sk-hidden--visually\" id=\"827d325b-5df1-4bbd-ade7-983c23af6a10\" type=\"checkbox\" ><label class=\"sk-toggleable__label\" for=\"827d325b-5df1-4bbd-ade7-983c23af6a10\">Amplitude</label><div class=\"sk-toggleable__content\"><pre>Amplitude(metric='heat', metric_params={'n_bins': 100, 'p': 1, 'sigma': 1.6},\n",
       "          n_jobs=-1)</pre></div></div></div></div></div></div><div class=\"sk-parallel-item\"><div class=\"sk-item\"><div class=\"sk-label-container\"><div class=\"sk-label sk-toggleable\"><label>amplitude-11</label></div></div><div class=\"sk-serial\"><div class=\"sk-item\"><div class=\"sk-estimator sk-toggleable\"><input class=\"sk-toggleable__control sk-hidden--visually\" id=\"aa69d14e-70a5-4761-821f-3ef74160dc8b\" type=\"checkbox\" ><label class=\"sk-toggleable__label\" for=\"aa69d14e-70a5-4761-821f-3ef74160dc8b\">Amplitude</label><div class=\"sk-toggleable__content\"><pre>Amplitude(metric='heat', metric_params={'n_bins': 100, 'p': 1, 'sigma': 3.2},\n",
       "          n_jobs=-1)</pre></div></div></div></div></div></div><div class=\"sk-parallel-item\"><div class=\"sk-item\"><div class=\"sk-label-container\"><div class=\"sk-label sk-toggleable\"><label>amplitude-12</label></div></div><div class=\"sk-serial\"><div class=\"sk-item\"><div class=\"sk-estimator sk-toggleable\"><input class=\"sk-toggleable__control sk-hidden--visually\" id=\"5473f12f-110c-4821-addc-34e978137049\" type=\"checkbox\" ><label class=\"sk-toggleable__label\" for=\"5473f12f-110c-4821-addc-34e978137049\">Amplitude</label><div class=\"sk-toggleable__content\"><pre>Amplitude(metric='heat', metric_params={'n_bins': 100, 'p': 2, 'sigma': 1.6},\n",
       "          n_jobs=-1)</pre></div></div></div></div></div></div><div class=\"sk-parallel-item\"><div class=\"sk-item\"><div class=\"sk-label-container\"><div class=\"sk-label sk-toggleable\"><label>amplitude-13</label></div></div><div class=\"sk-serial\"><div class=\"sk-item\"><div class=\"sk-estimator sk-toggleable\"><input class=\"sk-toggleable__control sk-hidden--visually\" id=\"a584a57a-d0bd-4ad9-b21c-fb0e5aa394b7\" type=\"checkbox\" ><label class=\"sk-toggleable__label\" for=\"a584a57a-d0bd-4ad9-b21c-fb0e5aa394b7\">Amplitude</label><div class=\"sk-toggleable__content\"><pre>Amplitude(metric='heat', metric_params={'n_bins': 100, 'p': 2, 'sigma': 3.2},\n",
       "          n_jobs=-1)</pre></div></div></div></div></div></div></div></div></div></div></div></div></div><div class=\"sk-parallel-item\"><div class=\"sk-item\"><div class=\"sk-label-container\"><div class=\"sk-label sk-toggleable\"><label>pipeline-13</label></div></div><div class=\"sk-serial\"><div class=\"sk-item\"><div class=\"sk-serial\"><div class=\"sk-item\"><div class=\"sk-estimator sk-toggleable\"><input class=\"sk-toggleable__control sk-hidden--visually\" id=\"d87fc3d2-cb82-4d38-9748-934b97f31722\" type=\"checkbox\" ><label class=\"sk-toggleable__label\" for=\"d87fc3d2-cb82-4d38-9748-934b97f31722\">Binarizer</label><div class=\"sk-toggleable__content\"><pre>Binarizer(threshold=0.4)</pre></div></div></div><div class=\"sk-item\"><div class=\"sk-estimator sk-toggleable\"><input class=\"sk-toggleable__control sk-hidden--visually\" id=\"bf7e6359-c4ae-4ca1-a1f9-e886a8a9e0ae\" type=\"checkbox\" ><label class=\"sk-toggleable__label\" for=\"bf7e6359-c4ae-4ca1-a1f9-e886a8a9e0ae\">RadialFiltration</label><div class=\"sk-toggleable__content\"><pre>RadialFiltration(center=array([13, 20]), n_jobs=-1)</pre></div></div></div><div class=\"sk-item\"><div class=\"sk-estimator sk-toggleable\"><input class=\"sk-toggleable__control sk-hidden--visually\" id=\"2c477c12-c4c3-4690-8ebd-924f73df1ca8\" type=\"checkbox\" ><label class=\"sk-toggleable__label\" for=\"2c477c12-c4c3-4690-8ebd-924f73df1ca8\">CubicalPersistence</label><div class=\"sk-toggleable__content\"><pre>CubicalPersistence(n_jobs=-1)</pre></div></div></div><div class=\"sk-item\"><div class=\"sk-estimator sk-toggleable\"><input class=\"sk-toggleable__control sk-hidden--visually\" id=\"4df4c97c-353c-40a9-9f59-5ca1578adddd\" type=\"checkbox\" ><label class=\"sk-toggleable__label\" for=\"4df4c97c-353c-40a9-9f59-5ca1578adddd\">Scaler</label><div class=\"sk-toggleable__content\"><pre>Scaler(n_jobs=-1)</pre></div></div></div><div class=\"sk-item sk-dashed-wrapped\"><div class=\"sk-label-container\"><div class=\"sk-label sk-toggleable\"><input class=\"sk-toggleable__control sk-hidden--visually\" id=\"1ac79768-b670-4e0c-a54d-def61e1a1788\" type=\"checkbox\" ><label class=\"sk-toggleable__label\" for=\"1ac79768-b670-4e0c-a54d-def61e1a1788\">featureunion: FeatureUnion</label><div class=\"sk-toggleable__content\"><pre>FeatureUnion(transformer_list=[('persistenceentropy',\n",
       "                                PersistenceEntropy(nan_fill_value=-1)),\n",
       "                               ('amplitude-1',\n",
       "                                Amplitude(metric='bottleneck', metric_params={},\n",
       "                                          n_jobs=-1)),\n",
       "                               ('amplitude-2',\n",
       "                                Amplitude(metric='wasserstein',\n",
       "                                          metric_params={'p': 1}, n_jobs=-1)),\n",
       "                               ('amplitude-3',\n",
       "                                Amplitude(metric='wasserstein',\n",
       "                                          metric_params={'p': 2}, n_jobs=-1)),\n",
       "                               ('amplitude-4',\n",
       "                                Amplitude...\n",
       "                                          metric_params={'n_bins': 100, 'p': 1,\n",
       "                                                         'sigma': 1.6},\n",
       "                                          n_jobs=-1)),\n",
       "                               ('amplitude-11',\n",
       "                                Amplitude(metric='heat',\n",
       "                                          metric_params={'n_bins': 100, 'p': 1,\n",
       "                                                         'sigma': 3.2},\n",
       "                                          n_jobs=-1)),\n",
       "                               ('amplitude-12',\n",
       "                                Amplitude(metric='heat',\n",
       "                                          metric_params={'n_bins': 100, 'p': 2,\n",
       "                                                         'sigma': 1.6},\n",
       "                                          n_jobs=-1)),\n",
       "                               ('amplitude-13',\n",
       "                                Amplitude(metric='heat',\n",
       "                                          metric_params={'n_bins': 100, 'p': 2,\n",
       "                                                         'sigma': 3.2},\n",
       "                                          n_jobs=-1))])</pre></div></div></div><div class=\"sk-parallel\"><div class=\"sk-parallel-item\"><div class=\"sk-item\"><div class=\"sk-label-container\"><div class=\"sk-label sk-toggleable\"><label>persistenceentropy</label></div></div><div class=\"sk-serial\"><div class=\"sk-item\"><div class=\"sk-estimator sk-toggleable\"><input class=\"sk-toggleable__control sk-hidden--visually\" id=\"1cbb63cc-73fb-48cb-9536-6a50a196e81f\" type=\"checkbox\" ><label class=\"sk-toggleable__label\" for=\"1cbb63cc-73fb-48cb-9536-6a50a196e81f\">PersistenceEntropy</label><div class=\"sk-toggleable__content\"><pre>PersistenceEntropy(nan_fill_value=-1)</pre></div></div></div></div></div></div><div class=\"sk-parallel-item\"><div class=\"sk-item\"><div class=\"sk-label-container\"><div class=\"sk-label sk-toggleable\"><label>amplitude-1</label></div></div><div class=\"sk-serial\"><div class=\"sk-item\"><div class=\"sk-estimator sk-toggleable\"><input class=\"sk-toggleable__control sk-hidden--visually\" id=\"6c56e383-0b0b-4d79-bf10-eb4d5c8d30e1\" type=\"checkbox\" ><label class=\"sk-toggleable__label\" for=\"6c56e383-0b0b-4d79-bf10-eb4d5c8d30e1\">Amplitude</label><div class=\"sk-toggleable__content\"><pre>Amplitude(metric='bottleneck', metric_params={}, n_jobs=-1)</pre></div></div></div></div></div></div><div class=\"sk-parallel-item\"><div class=\"sk-item\"><div class=\"sk-label-container\"><div class=\"sk-label sk-toggleable\"><label>amplitude-2</label></div></div><div class=\"sk-serial\"><div class=\"sk-item\"><div class=\"sk-estimator sk-toggleable\"><input class=\"sk-toggleable__control sk-hidden--visually\" id=\"427aa00b-80e0-4eb9-8dd8-6d58d6e46e11\" type=\"checkbox\" ><label class=\"sk-toggleable__label\" for=\"427aa00b-80e0-4eb9-8dd8-6d58d6e46e11\">Amplitude</label><div class=\"sk-toggleable__content\"><pre>Amplitude(metric='wasserstein', metric_params={'p': 1}, n_jobs=-1)</pre></div></div></div></div></div></div><div class=\"sk-parallel-item\"><div class=\"sk-item\"><div class=\"sk-label-container\"><div class=\"sk-label sk-toggleable\"><label>amplitude-3</label></div></div><div class=\"sk-serial\"><div class=\"sk-item\"><div class=\"sk-estimator sk-toggleable\"><input class=\"sk-toggleable__control sk-hidden--visually\" id=\"12eb15a3-8aff-47bf-8c9e-91a3df36e3ef\" type=\"checkbox\" ><label class=\"sk-toggleable__label\" for=\"12eb15a3-8aff-47bf-8c9e-91a3df36e3ef\">Amplitude</label><div class=\"sk-toggleable__content\"><pre>Amplitude(metric='wasserstein', metric_params={'p': 2}, n_jobs=-1)</pre></div></div></div></div></div></div><div class=\"sk-parallel-item\"><div class=\"sk-item\"><div class=\"sk-label-container\"><div class=\"sk-label sk-toggleable\"><label>amplitude-4</label></div></div><div class=\"sk-serial\"><div class=\"sk-item\"><div class=\"sk-estimator sk-toggleable\"><input class=\"sk-toggleable__control sk-hidden--visually\" id=\"db5286b7-6b75-44b9-a095-6e2c366a9b34\" type=\"checkbox\" ><label class=\"sk-toggleable__label\" for=\"db5286b7-6b75-44b9-a095-6e2c366a9b34\">Amplitude</label><div class=\"sk-toggleable__content\"><pre>Amplitude(metric_params={'n_bins': 100, 'n_layers': 1, 'p': 1}, n_jobs=-1)</pre></div></div></div></div></div></div><div class=\"sk-parallel-item\"><div class=\"sk-item\"><div class=\"sk-label-container\"><div class=\"sk-label sk-toggleable\"><label>amplitude-5</label></div></div><div class=\"sk-serial\"><div class=\"sk-item\"><div class=\"sk-estimator sk-toggleable\"><input class=\"sk-toggleable__control sk-hidden--visually\" id=\"f39ca70c-0237-4dd3-9987-394246a0ee37\" type=\"checkbox\" ><label class=\"sk-toggleable__label\" for=\"f39ca70c-0237-4dd3-9987-394246a0ee37\">Amplitude</label><div class=\"sk-toggleable__content\"><pre>Amplitude(metric_params={'n_bins': 100, 'n_layers': 2, 'p': 1}, n_jobs=-1)</pre></div></div></div></div></div></div><div class=\"sk-parallel-item\"><div class=\"sk-item\"><div class=\"sk-label-container\"><div class=\"sk-label sk-toggleable\"><label>amplitude-6</label></div></div><div class=\"sk-serial\"><div class=\"sk-item\"><div class=\"sk-estimator sk-toggleable\"><input class=\"sk-toggleable__control sk-hidden--visually\" id=\"a0914615-b876-4c3e-8228-93d329193c83\" type=\"checkbox\" ><label class=\"sk-toggleable__label\" for=\"a0914615-b876-4c3e-8228-93d329193c83\">Amplitude</label><div class=\"sk-toggleable__content\"><pre>Amplitude(metric_params={'n_bins': 100, 'n_layers': 1, 'p': 2}, n_jobs=-1)</pre></div></div></div></div></div></div><div class=\"sk-parallel-item\"><div class=\"sk-item\"><div class=\"sk-label-container\"><div class=\"sk-label sk-toggleable\"><label>amplitude-7</label></div></div><div class=\"sk-serial\"><div class=\"sk-item\"><div class=\"sk-estimator sk-toggleable\"><input class=\"sk-toggleable__control sk-hidden--visually\" id=\"7970af5b-3bd2-4922-84cf-8e252c632be4\" type=\"checkbox\" ><label class=\"sk-toggleable__label\" for=\"7970af5b-3bd2-4922-84cf-8e252c632be4\">Amplitude</label><div class=\"sk-toggleable__content\"><pre>Amplitude(metric_params={'n_bins': 100, 'n_layers': 2, 'p': 2}, n_jobs=-1)</pre></div></div></div></div></div></div><div class=\"sk-parallel-item\"><div class=\"sk-item\"><div class=\"sk-label-container\"><div class=\"sk-label sk-toggleable\"><label>amplitude-8</label></div></div><div class=\"sk-serial\"><div class=\"sk-item\"><div class=\"sk-estimator sk-toggleable\"><input class=\"sk-toggleable__control sk-hidden--visually\" id=\"4104ff3a-799d-4c3e-80e5-0d2a1f772990\" type=\"checkbox\" ><label class=\"sk-toggleable__label\" for=\"4104ff3a-799d-4c3e-80e5-0d2a1f772990\">Amplitude</label><div class=\"sk-toggleable__content\"><pre>Amplitude(metric='betti', metric_params={'n_bins': 100, 'p': 1}, n_jobs=-1)</pre></div></div></div></div></div></div><div class=\"sk-parallel-item\"><div class=\"sk-item\"><div class=\"sk-label-container\"><div class=\"sk-label sk-toggleable\"><label>amplitude-9</label></div></div><div class=\"sk-serial\"><div class=\"sk-item\"><div class=\"sk-estimator sk-toggleable\"><input class=\"sk-toggleable__control sk-hidden--visually\" id=\"e00d48b1-dd81-447c-a6b1-8c2c1b9c20c8\" type=\"checkbox\" ><label class=\"sk-toggleable__label\" for=\"e00d48b1-dd81-447c-a6b1-8c2c1b9c20c8\">Amplitude</label><div class=\"sk-toggleable__content\"><pre>Amplitude(metric='betti', metric_params={'n_bins': 100, 'p': 2}, n_jobs=-1)</pre></div></div></div></div></div></div><div class=\"sk-parallel-item\"><div class=\"sk-item\"><div class=\"sk-label-container\"><div class=\"sk-label sk-toggleable\"><label>amplitude-10</label></div></div><div class=\"sk-serial\"><div class=\"sk-item\"><div class=\"sk-estimator sk-toggleable\"><input class=\"sk-toggleable__control sk-hidden--visually\" id=\"5e6aefaf-fc6d-464e-8707-f8319b452729\" type=\"checkbox\" ><label class=\"sk-toggleable__label\" for=\"5e6aefaf-fc6d-464e-8707-f8319b452729\">Amplitude</label><div class=\"sk-toggleable__content\"><pre>Amplitude(metric='heat', metric_params={'n_bins': 100, 'p': 1, 'sigma': 1.6},\n",
       "          n_jobs=-1)</pre></div></div></div></div></div></div><div class=\"sk-parallel-item\"><div class=\"sk-item\"><div class=\"sk-label-container\"><div class=\"sk-label sk-toggleable\"><label>amplitude-11</label></div></div><div class=\"sk-serial\"><div class=\"sk-item\"><div class=\"sk-estimator sk-toggleable\"><input class=\"sk-toggleable__control sk-hidden--visually\" id=\"1e5f802c-e03d-4a95-a361-8ed933fd2144\" type=\"checkbox\" ><label class=\"sk-toggleable__label\" for=\"1e5f802c-e03d-4a95-a361-8ed933fd2144\">Amplitude</label><div class=\"sk-toggleable__content\"><pre>Amplitude(metric='heat', metric_params={'n_bins': 100, 'p': 1, 'sigma': 3.2},\n",
       "          n_jobs=-1)</pre></div></div></div></div></div></div><div class=\"sk-parallel-item\"><div class=\"sk-item\"><div class=\"sk-label-container\"><div class=\"sk-label sk-toggleable\"><label>amplitude-12</label></div></div><div class=\"sk-serial\"><div class=\"sk-item\"><div class=\"sk-estimator sk-toggleable\"><input class=\"sk-toggleable__control sk-hidden--visually\" id=\"215467e8-1e21-494a-8683-66c07c5cbf7a\" type=\"checkbox\" ><label class=\"sk-toggleable__label\" for=\"215467e8-1e21-494a-8683-66c07c5cbf7a\">Amplitude</label><div class=\"sk-toggleable__content\"><pre>Amplitude(metric='heat', metric_params={'n_bins': 100, 'p': 2, 'sigma': 1.6},\n",
       "          n_jobs=-1)</pre></div></div></div></div></div></div><div class=\"sk-parallel-item\"><div class=\"sk-item\"><div class=\"sk-label-container\"><div class=\"sk-label sk-toggleable\"><label>amplitude-13</label></div></div><div class=\"sk-serial\"><div class=\"sk-item\"><div class=\"sk-estimator sk-toggleable\"><input class=\"sk-toggleable__control sk-hidden--visually\" id=\"eaaeb25d-0824-40a4-ac43-e1360bd67663\" type=\"checkbox\" ><label class=\"sk-toggleable__label\" for=\"eaaeb25d-0824-40a4-ac43-e1360bd67663\">Amplitude</label><div class=\"sk-toggleable__content\"><pre>Amplitude(metric='heat', metric_params={'n_bins': 100, 'p': 2, 'sigma': 3.2},\n",
       "          n_jobs=-1)</pre></div></div></div></div></div></div></div></div></div></div></div></div></div><div class=\"sk-parallel-item\"><div class=\"sk-item\"><div class=\"sk-label-container\"><div class=\"sk-label sk-toggleable\"><label>pipeline-14</label></div></div><div class=\"sk-serial\"><div class=\"sk-item\"><div class=\"sk-serial\"><div class=\"sk-item\"><div class=\"sk-estimator sk-toggleable\"><input class=\"sk-toggleable__control sk-hidden--visually\" id=\"f52b249c-597f-407f-946a-9ac93a392911\" type=\"checkbox\" ><label class=\"sk-toggleable__label\" for=\"f52b249c-597f-407f-946a-9ac93a392911\">Binarizer</label><div class=\"sk-toggleable__content\"><pre>Binarizer(threshold=0.4)</pre></div></div></div><div class=\"sk-item\"><div class=\"sk-estimator sk-toggleable\"><input class=\"sk-toggleable__control sk-hidden--visually\" id=\"1cb70d0d-7910-4b90-9256-b9eb15ce0393\" type=\"checkbox\" ><label class=\"sk-toggleable__label\" for=\"1cb70d0d-7910-4b90-9256-b9eb15ce0393\">RadialFiltration</label><div class=\"sk-toggleable__content\"><pre>RadialFiltration(center=array([6, 6]), n_jobs=-1)</pre></div></div></div><div class=\"sk-item\"><div class=\"sk-estimator sk-toggleable\"><input class=\"sk-toggleable__control sk-hidden--visually\" id=\"e414f5c9-cfca-4603-a683-86382b3abded\" type=\"checkbox\" ><label class=\"sk-toggleable__label\" for=\"e414f5c9-cfca-4603-a683-86382b3abded\">CubicalPersistence</label><div class=\"sk-toggleable__content\"><pre>CubicalPersistence(n_jobs=-1)</pre></div></div></div><div class=\"sk-item\"><div class=\"sk-estimator sk-toggleable\"><input class=\"sk-toggleable__control sk-hidden--visually\" id=\"0622b0ad-4fc8-48c5-9282-4d097d518a34\" type=\"checkbox\" ><label class=\"sk-toggleable__label\" for=\"0622b0ad-4fc8-48c5-9282-4d097d518a34\">Scaler</label><div class=\"sk-toggleable__content\"><pre>Scaler(n_jobs=-1)</pre></div></div></div><div class=\"sk-item sk-dashed-wrapped\"><div class=\"sk-label-container\"><div class=\"sk-label sk-toggleable\"><input class=\"sk-toggleable__control sk-hidden--visually\" id=\"fe90f914-942e-4177-9087-4af519e08294\" type=\"checkbox\" ><label class=\"sk-toggleable__label\" for=\"fe90f914-942e-4177-9087-4af519e08294\">featureunion: FeatureUnion</label><div class=\"sk-toggleable__content\"><pre>FeatureUnion(transformer_list=[('persistenceentropy',\n",
       "                                PersistenceEntropy(nan_fill_value=-1)),\n",
       "                               ('amplitude-1',\n",
       "                                Amplitude(metric='bottleneck', metric_params={},\n",
       "                                          n_jobs=-1)),\n",
       "                               ('amplitude-2',\n",
       "                                Amplitude(metric='wasserstein',\n",
       "                                          metric_params={'p': 1}, n_jobs=-1)),\n",
       "                               ('amplitude-3',\n",
       "                                Amplitude(metric='wasserstein',\n",
       "                                          metric_params={'p': 2}, n_jobs=-1)),\n",
       "                               ('amplitude-4',\n",
       "                                Amplitude...\n",
       "                                          metric_params={'n_bins': 100, 'p': 1,\n",
       "                                                         'sigma': 1.6},\n",
       "                                          n_jobs=-1)),\n",
       "                               ('amplitude-11',\n",
       "                                Amplitude(metric='heat',\n",
       "                                          metric_params={'n_bins': 100, 'p': 1,\n",
       "                                                         'sigma': 3.2},\n",
       "                                          n_jobs=-1)),\n",
       "                               ('amplitude-12',\n",
       "                                Amplitude(metric='heat',\n",
       "                                          metric_params={'n_bins': 100, 'p': 2,\n",
       "                                                         'sigma': 1.6},\n",
       "                                          n_jobs=-1)),\n",
       "                               ('amplitude-13',\n",
       "                                Amplitude(metric='heat',\n",
       "                                          metric_params={'n_bins': 100, 'p': 2,\n",
       "                                                         'sigma': 3.2},\n",
       "                                          n_jobs=-1))])</pre></div></div></div><div class=\"sk-parallel\"><div class=\"sk-parallel-item\"><div class=\"sk-item\"><div class=\"sk-label-container\"><div class=\"sk-label sk-toggleable\"><label>persistenceentropy</label></div></div><div class=\"sk-serial\"><div class=\"sk-item\"><div class=\"sk-estimator sk-toggleable\"><input class=\"sk-toggleable__control sk-hidden--visually\" id=\"0a07ae63-4fac-4395-95e0-4b751729bd00\" type=\"checkbox\" ><label class=\"sk-toggleable__label\" for=\"0a07ae63-4fac-4395-95e0-4b751729bd00\">PersistenceEntropy</label><div class=\"sk-toggleable__content\"><pre>PersistenceEntropy(nan_fill_value=-1)</pre></div></div></div></div></div></div><div class=\"sk-parallel-item\"><div class=\"sk-item\"><div class=\"sk-label-container\"><div class=\"sk-label sk-toggleable\"><label>amplitude-1</label></div></div><div class=\"sk-serial\"><div class=\"sk-item\"><div class=\"sk-estimator sk-toggleable\"><input class=\"sk-toggleable__control sk-hidden--visually\" id=\"bad51f4d-0779-4a79-b7f1-e74099e6b381\" type=\"checkbox\" ><label class=\"sk-toggleable__label\" for=\"bad51f4d-0779-4a79-b7f1-e74099e6b381\">Amplitude</label><div class=\"sk-toggleable__content\"><pre>Amplitude(metric='bottleneck', metric_params={}, n_jobs=-1)</pre></div></div></div></div></div></div><div class=\"sk-parallel-item\"><div class=\"sk-item\"><div class=\"sk-label-container\"><div class=\"sk-label sk-toggleable\"><label>amplitude-2</label></div></div><div class=\"sk-serial\"><div class=\"sk-item\"><div class=\"sk-estimator sk-toggleable\"><input class=\"sk-toggleable__control sk-hidden--visually\" id=\"b8738ab0-ec92-4d29-a779-fc20c30a0773\" type=\"checkbox\" ><label class=\"sk-toggleable__label\" for=\"b8738ab0-ec92-4d29-a779-fc20c30a0773\">Amplitude</label><div class=\"sk-toggleable__content\"><pre>Amplitude(metric='wasserstein', metric_params={'p': 1}, n_jobs=-1)</pre></div></div></div></div></div></div><div class=\"sk-parallel-item\"><div class=\"sk-item\"><div class=\"sk-label-container\"><div class=\"sk-label sk-toggleable\"><label>amplitude-3</label></div></div><div class=\"sk-serial\"><div class=\"sk-item\"><div class=\"sk-estimator sk-toggleable\"><input class=\"sk-toggleable__control sk-hidden--visually\" id=\"2d6cc3d3-8b15-47e5-b826-b8f72fa9caf0\" type=\"checkbox\" ><label class=\"sk-toggleable__label\" for=\"2d6cc3d3-8b15-47e5-b826-b8f72fa9caf0\">Amplitude</label><div class=\"sk-toggleable__content\"><pre>Amplitude(metric='wasserstein', metric_params={'p': 2}, n_jobs=-1)</pre></div></div></div></div></div></div><div class=\"sk-parallel-item\"><div class=\"sk-item\"><div class=\"sk-label-container\"><div class=\"sk-label sk-toggleable\"><label>amplitude-4</label></div></div><div class=\"sk-serial\"><div class=\"sk-item\"><div class=\"sk-estimator sk-toggleable\"><input class=\"sk-toggleable__control sk-hidden--visually\" id=\"94a12443-48bf-44c4-a91b-6662a0e03e05\" type=\"checkbox\" ><label class=\"sk-toggleable__label\" for=\"94a12443-48bf-44c4-a91b-6662a0e03e05\">Amplitude</label><div class=\"sk-toggleable__content\"><pre>Amplitude(metric_params={'n_bins': 100, 'n_layers': 1, 'p': 1}, n_jobs=-1)</pre></div></div></div></div></div></div><div class=\"sk-parallel-item\"><div class=\"sk-item\"><div class=\"sk-label-container\"><div class=\"sk-label sk-toggleable\"><label>amplitude-5</label></div></div><div class=\"sk-serial\"><div class=\"sk-item\"><div class=\"sk-estimator sk-toggleable\"><input class=\"sk-toggleable__control sk-hidden--visually\" id=\"95baeb4c-896e-4d38-8a9e-cc1a056b1cee\" type=\"checkbox\" ><label class=\"sk-toggleable__label\" for=\"95baeb4c-896e-4d38-8a9e-cc1a056b1cee\">Amplitude</label><div class=\"sk-toggleable__content\"><pre>Amplitude(metric_params={'n_bins': 100, 'n_layers': 2, 'p': 1}, n_jobs=-1)</pre></div></div></div></div></div></div><div class=\"sk-parallel-item\"><div class=\"sk-item\"><div class=\"sk-label-container\"><div class=\"sk-label sk-toggleable\"><label>amplitude-6</label></div></div><div class=\"sk-serial\"><div class=\"sk-item\"><div class=\"sk-estimator sk-toggleable\"><input class=\"sk-toggleable__control sk-hidden--visually\" id=\"37707a6d-997d-48b1-9b45-cdb634b2589f\" type=\"checkbox\" ><label class=\"sk-toggleable__label\" for=\"37707a6d-997d-48b1-9b45-cdb634b2589f\">Amplitude</label><div class=\"sk-toggleable__content\"><pre>Amplitude(metric_params={'n_bins': 100, 'n_layers': 1, 'p': 2}, n_jobs=-1)</pre></div></div></div></div></div></div><div class=\"sk-parallel-item\"><div class=\"sk-item\"><div class=\"sk-label-container\"><div class=\"sk-label sk-toggleable\"><label>amplitude-7</label></div></div><div class=\"sk-serial\"><div class=\"sk-item\"><div class=\"sk-estimator sk-toggleable\"><input class=\"sk-toggleable__control sk-hidden--visually\" id=\"fa51f3a3-1fd0-4ae6-884b-ec19d00c6e48\" type=\"checkbox\" ><label class=\"sk-toggleable__label\" for=\"fa51f3a3-1fd0-4ae6-884b-ec19d00c6e48\">Amplitude</label><div class=\"sk-toggleable__content\"><pre>Amplitude(metric_params={'n_bins': 100, 'n_layers': 2, 'p': 2}, n_jobs=-1)</pre></div></div></div></div></div></div><div class=\"sk-parallel-item\"><div class=\"sk-item\"><div class=\"sk-label-container\"><div class=\"sk-label sk-toggleable\"><label>amplitude-8</label></div></div><div class=\"sk-serial\"><div class=\"sk-item\"><div class=\"sk-estimator sk-toggleable\"><input class=\"sk-toggleable__control sk-hidden--visually\" id=\"eea979fb-e96b-46a3-aef1-3d7003f22c08\" type=\"checkbox\" ><label class=\"sk-toggleable__label\" for=\"eea979fb-e96b-46a3-aef1-3d7003f22c08\">Amplitude</label><div class=\"sk-toggleable__content\"><pre>Amplitude(metric='betti', metric_params={'n_bins': 100, 'p': 1}, n_jobs=-1)</pre></div></div></div></div></div></div><div class=\"sk-parallel-item\"><div class=\"sk-item\"><div class=\"sk-label-container\"><div class=\"sk-label sk-toggleable\"><label>amplitude-9</label></div></div><div class=\"sk-serial\"><div class=\"sk-item\"><div class=\"sk-estimator sk-toggleable\"><input class=\"sk-toggleable__control sk-hidden--visually\" id=\"7f107587-b5e3-41db-bbaf-09d9151db1e5\" type=\"checkbox\" ><label class=\"sk-toggleable__label\" for=\"7f107587-b5e3-41db-bbaf-09d9151db1e5\">Amplitude</label><div class=\"sk-toggleable__content\"><pre>Amplitude(metric='betti', metric_params={'n_bins': 100, 'p': 2}, n_jobs=-1)</pre></div></div></div></div></div></div><div class=\"sk-parallel-item\"><div class=\"sk-item\"><div class=\"sk-label-container\"><div class=\"sk-label sk-toggleable\"><label>amplitude-10</label></div></div><div class=\"sk-serial\"><div class=\"sk-item\"><div class=\"sk-estimator sk-toggleable\"><input class=\"sk-toggleable__control sk-hidden--visually\" id=\"6eb70936-41cf-4e08-b407-d28b83d63eb9\" type=\"checkbox\" ><label class=\"sk-toggleable__label\" for=\"6eb70936-41cf-4e08-b407-d28b83d63eb9\">Amplitude</label><div class=\"sk-toggleable__content\"><pre>Amplitude(metric='heat', metric_params={'n_bins': 100, 'p': 1, 'sigma': 1.6},\n",
       "          n_jobs=-1)</pre></div></div></div></div></div></div><div class=\"sk-parallel-item\"><div class=\"sk-item\"><div class=\"sk-label-container\"><div class=\"sk-label sk-toggleable\"><label>amplitude-11</label></div></div><div class=\"sk-serial\"><div class=\"sk-item\"><div class=\"sk-estimator sk-toggleable\"><input class=\"sk-toggleable__control sk-hidden--visually\" id=\"e0eee29b-b990-45c8-94eb-729bda651a56\" type=\"checkbox\" ><label class=\"sk-toggleable__label\" for=\"e0eee29b-b990-45c8-94eb-729bda651a56\">Amplitude</label><div class=\"sk-toggleable__content\"><pre>Amplitude(metric='heat', metric_params={'n_bins': 100, 'p': 1, 'sigma': 3.2},\n",
       "          n_jobs=-1)</pre></div></div></div></div></div></div><div class=\"sk-parallel-item\"><div class=\"sk-item\"><div class=\"sk-label-container\"><div class=\"sk-label sk-toggleable\"><label>amplitude-12</label></div></div><div class=\"sk-serial\"><div class=\"sk-item\"><div class=\"sk-estimator sk-toggleable\"><input class=\"sk-toggleable__control sk-hidden--visually\" id=\"421fddc6-6a49-468d-a809-ea7cba25f412\" type=\"checkbox\" ><label class=\"sk-toggleable__label\" for=\"421fddc6-6a49-468d-a809-ea7cba25f412\">Amplitude</label><div class=\"sk-toggleable__content\"><pre>Amplitude(metric='heat', metric_params={'n_bins': 100, 'p': 2, 'sigma': 1.6},\n",
       "          n_jobs=-1)</pre></div></div></div></div></div></div><div class=\"sk-parallel-item\"><div class=\"sk-item\"><div class=\"sk-label-container\"><div class=\"sk-label sk-toggleable\"><label>amplitude-13</label></div></div><div class=\"sk-serial\"><div class=\"sk-item\"><div class=\"sk-estimator sk-toggleable\"><input class=\"sk-toggleable__control sk-hidden--visually\" id=\"02492feb-9746-4697-9911-e4fc51511172\" type=\"checkbox\" ><label class=\"sk-toggleable__label\" for=\"02492feb-9746-4697-9911-e4fc51511172\">Amplitude</label><div class=\"sk-toggleable__content\"><pre>Amplitude(metric='heat', metric_params={'n_bins': 100, 'p': 2, 'sigma': 3.2},\n",
       "          n_jobs=-1)</pre></div></div></div></div></div></div></div></div></div></div></div></div></div><div class=\"sk-parallel-item\"><div class=\"sk-item\"><div class=\"sk-label-container\"><div class=\"sk-label sk-toggleable\"><label>pipeline-15</label></div></div><div class=\"sk-serial\"><div class=\"sk-item\"><div class=\"sk-serial\"><div class=\"sk-item\"><div class=\"sk-estimator sk-toggleable\"><input class=\"sk-toggleable__control sk-hidden--visually\" id=\"a16b6b37-ca51-4840-9db8-c5177bf3b177\" type=\"checkbox\" ><label class=\"sk-toggleable__label\" for=\"a16b6b37-ca51-4840-9db8-c5177bf3b177\">Binarizer</label><div class=\"sk-toggleable__content\"><pre>Binarizer(threshold=0.4)</pre></div></div></div><div class=\"sk-item\"><div class=\"sk-estimator sk-toggleable\"><input class=\"sk-toggleable__control sk-hidden--visually\" id=\"b44bd02b-869e-45aa-84b7-b6a71b35ee57\" type=\"checkbox\" ><label class=\"sk-toggleable__label\" for=\"b44bd02b-869e-45aa-84b7-b6a71b35ee57\">RadialFiltration</label><div class=\"sk-toggleable__content\"><pre>RadialFiltration(center=array([ 6, 20]), n_jobs=-1)</pre></div></div></div><div class=\"sk-item\"><div class=\"sk-estimator sk-toggleable\"><input class=\"sk-toggleable__control sk-hidden--visually\" id=\"4df09f48-73b8-4876-ad6b-beb51ea18e04\" type=\"checkbox\" ><label class=\"sk-toggleable__label\" for=\"4df09f48-73b8-4876-ad6b-beb51ea18e04\">CubicalPersistence</label><div class=\"sk-toggleable__content\"><pre>CubicalPersistence(n_jobs=-1)</pre></div></div></div><div class=\"sk-item\"><div class=\"sk-estimator sk-toggleable\"><input class=\"sk-toggleable__control sk-hidden--visually\" id=\"e246a986-30e4-4615-9452-61769e8d05e9\" type=\"checkbox\" ><label class=\"sk-toggleable__label\" for=\"e246a986-30e4-4615-9452-61769e8d05e9\">Scaler</label><div class=\"sk-toggleable__content\"><pre>Scaler(n_jobs=-1)</pre></div></div></div><div class=\"sk-item sk-dashed-wrapped\"><div class=\"sk-label-container\"><div class=\"sk-label sk-toggleable\"><input class=\"sk-toggleable__control sk-hidden--visually\" id=\"09eabbb1-2709-44bf-9814-845dcfa260fc\" type=\"checkbox\" ><label class=\"sk-toggleable__label\" for=\"09eabbb1-2709-44bf-9814-845dcfa260fc\">featureunion: FeatureUnion</label><div class=\"sk-toggleable__content\"><pre>FeatureUnion(transformer_list=[('persistenceentropy',\n",
       "                                PersistenceEntropy(nan_fill_value=-1)),\n",
       "                               ('amplitude-1',\n",
       "                                Amplitude(metric='bottleneck', metric_params={},\n",
       "                                          n_jobs=-1)),\n",
       "                               ('amplitude-2',\n",
       "                                Amplitude(metric='wasserstein',\n",
       "                                          metric_params={'p': 1}, n_jobs=-1)),\n",
       "                               ('amplitude-3',\n",
       "                                Amplitude(metric='wasserstein',\n",
       "                                          metric_params={'p': 2}, n_jobs=-1)),\n",
       "                               ('amplitude-4',\n",
       "                                Amplitude...\n",
       "                                          metric_params={'n_bins': 100, 'p': 1,\n",
       "                                                         'sigma': 1.6},\n",
       "                                          n_jobs=-1)),\n",
       "                               ('amplitude-11',\n",
       "                                Amplitude(metric='heat',\n",
       "                                          metric_params={'n_bins': 100, 'p': 1,\n",
       "                                                         'sigma': 3.2},\n",
       "                                          n_jobs=-1)),\n",
       "                               ('amplitude-12',\n",
       "                                Amplitude(metric='heat',\n",
       "                                          metric_params={'n_bins': 100, 'p': 2,\n",
       "                                                         'sigma': 1.6},\n",
       "                                          n_jobs=-1)),\n",
       "                               ('amplitude-13',\n",
       "                                Amplitude(metric='heat',\n",
       "                                          metric_params={'n_bins': 100, 'p': 2,\n",
       "                                                         'sigma': 3.2},\n",
       "                                          n_jobs=-1))])</pre></div></div></div><div class=\"sk-parallel\"><div class=\"sk-parallel-item\"><div class=\"sk-item\"><div class=\"sk-label-container\"><div class=\"sk-label sk-toggleable\"><label>persistenceentropy</label></div></div><div class=\"sk-serial\"><div class=\"sk-item\"><div class=\"sk-estimator sk-toggleable\"><input class=\"sk-toggleable__control sk-hidden--visually\" id=\"f9fee6f6-fdf7-48a3-bf83-6c1fdf449862\" type=\"checkbox\" ><label class=\"sk-toggleable__label\" for=\"f9fee6f6-fdf7-48a3-bf83-6c1fdf449862\">PersistenceEntropy</label><div class=\"sk-toggleable__content\"><pre>PersistenceEntropy(nan_fill_value=-1)</pre></div></div></div></div></div></div><div class=\"sk-parallel-item\"><div class=\"sk-item\"><div class=\"sk-label-container\"><div class=\"sk-label sk-toggleable\"><label>amplitude-1</label></div></div><div class=\"sk-serial\"><div class=\"sk-item\"><div class=\"sk-estimator sk-toggleable\"><input class=\"sk-toggleable__control sk-hidden--visually\" id=\"94869e04-e726-47c7-aac3-76473ade4309\" type=\"checkbox\" ><label class=\"sk-toggleable__label\" for=\"94869e04-e726-47c7-aac3-76473ade4309\">Amplitude</label><div class=\"sk-toggleable__content\"><pre>Amplitude(metric='bottleneck', metric_params={}, n_jobs=-1)</pre></div></div></div></div></div></div><div class=\"sk-parallel-item\"><div class=\"sk-item\"><div class=\"sk-label-container\"><div class=\"sk-label sk-toggleable\"><label>amplitude-2</label></div></div><div class=\"sk-serial\"><div class=\"sk-item\"><div class=\"sk-estimator sk-toggleable\"><input class=\"sk-toggleable__control sk-hidden--visually\" id=\"427eb20d-75da-431a-b536-d406e90d825e\" type=\"checkbox\" ><label class=\"sk-toggleable__label\" for=\"427eb20d-75da-431a-b536-d406e90d825e\">Amplitude</label><div class=\"sk-toggleable__content\"><pre>Amplitude(metric='wasserstein', metric_params={'p': 1}, n_jobs=-1)</pre></div></div></div></div></div></div><div class=\"sk-parallel-item\"><div class=\"sk-item\"><div class=\"sk-label-container\"><div class=\"sk-label sk-toggleable\"><label>amplitude-3</label></div></div><div class=\"sk-serial\"><div class=\"sk-item\"><div class=\"sk-estimator sk-toggleable\"><input class=\"sk-toggleable__control sk-hidden--visually\" id=\"5b40c7b1-d5fa-4419-9c0b-9c91cbbc177e\" type=\"checkbox\" ><label class=\"sk-toggleable__label\" for=\"5b40c7b1-d5fa-4419-9c0b-9c91cbbc177e\">Amplitude</label><div class=\"sk-toggleable__content\"><pre>Amplitude(metric='wasserstein', metric_params={'p': 2}, n_jobs=-1)</pre></div></div></div></div></div></div><div class=\"sk-parallel-item\"><div class=\"sk-item\"><div class=\"sk-label-container\"><div class=\"sk-label sk-toggleable\"><label>amplitude-4</label></div></div><div class=\"sk-serial\"><div class=\"sk-item\"><div class=\"sk-estimator sk-toggleable\"><input class=\"sk-toggleable__control sk-hidden--visually\" id=\"b427f80c-6749-4f71-859f-41d3b4313c55\" type=\"checkbox\" ><label class=\"sk-toggleable__label\" for=\"b427f80c-6749-4f71-859f-41d3b4313c55\">Amplitude</label><div class=\"sk-toggleable__content\"><pre>Amplitude(metric_params={'n_bins': 100, 'n_layers': 1, 'p': 1}, n_jobs=-1)</pre></div></div></div></div></div></div><div class=\"sk-parallel-item\"><div class=\"sk-item\"><div class=\"sk-label-container\"><div class=\"sk-label sk-toggleable\"><label>amplitude-5</label></div></div><div class=\"sk-serial\"><div class=\"sk-item\"><div class=\"sk-estimator sk-toggleable\"><input class=\"sk-toggleable__control sk-hidden--visually\" id=\"f31265d1-cac9-44b2-a87c-c947adeb7187\" type=\"checkbox\" ><label class=\"sk-toggleable__label\" for=\"f31265d1-cac9-44b2-a87c-c947adeb7187\">Amplitude</label><div class=\"sk-toggleable__content\"><pre>Amplitude(metric_params={'n_bins': 100, 'n_layers': 2, 'p': 1}, n_jobs=-1)</pre></div></div></div></div></div></div><div class=\"sk-parallel-item\"><div class=\"sk-item\"><div class=\"sk-label-container\"><div class=\"sk-label sk-toggleable\"><label>amplitude-6</label></div></div><div class=\"sk-serial\"><div class=\"sk-item\"><div class=\"sk-estimator sk-toggleable\"><input class=\"sk-toggleable__control sk-hidden--visually\" id=\"ca971b73-8e78-41cb-b348-09ffec43330e\" type=\"checkbox\" ><label class=\"sk-toggleable__label\" for=\"ca971b73-8e78-41cb-b348-09ffec43330e\">Amplitude</label><div class=\"sk-toggleable__content\"><pre>Amplitude(metric_params={'n_bins': 100, 'n_layers': 1, 'p': 2}, n_jobs=-1)</pre></div></div></div></div></div></div><div class=\"sk-parallel-item\"><div class=\"sk-item\"><div class=\"sk-label-container\"><div class=\"sk-label sk-toggleable\"><label>amplitude-7</label></div></div><div class=\"sk-serial\"><div class=\"sk-item\"><div class=\"sk-estimator sk-toggleable\"><input class=\"sk-toggleable__control sk-hidden--visually\" id=\"42582d54-4744-4294-9910-8ab47431d8d1\" type=\"checkbox\" ><label class=\"sk-toggleable__label\" for=\"42582d54-4744-4294-9910-8ab47431d8d1\">Amplitude</label><div class=\"sk-toggleable__content\"><pre>Amplitude(metric_params={'n_bins': 100, 'n_layers': 2, 'p': 2}, n_jobs=-1)</pre></div></div></div></div></div></div><div class=\"sk-parallel-item\"><div class=\"sk-item\"><div class=\"sk-label-container\"><div class=\"sk-label sk-toggleable\"><label>amplitude-8</label></div></div><div class=\"sk-serial\"><div class=\"sk-item\"><div class=\"sk-estimator sk-toggleable\"><input class=\"sk-toggleable__control sk-hidden--visually\" id=\"6466c9c6-8ddc-4891-8980-445fe786a3db\" type=\"checkbox\" ><label class=\"sk-toggleable__label\" for=\"6466c9c6-8ddc-4891-8980-445fe786a3db\">Amplitude</label><div class=\"sk-toggleable__content\"><pre>Amplitude(metric='betti', metric_params={'n_bins': 100, 'p': 1}, n_jobs=-1)</pre></div></div></div></div></div></div><div class=\"sk-parallel-item\"><div class=\"sk-item\"><div class=\"sk-label-container\"><div class=\"sk-label sk-toggleable\"><label>amplitude-9</label></div></div><div class=\"sk-serial\"><div class=\"sk-item\"><div class=\"sk-estimator sk-toggleable\"><input class=\"sk-toggleable__control sk-hidden--visually\" id=\"4044c5f8-aa4a-404d-89e3-127d7c119384\" type=\"checkbox\" ><label class=\"sk-toggleable__label\" for=\"4044c5f8-aa4a-404d-89e3-127d7c119384\">Amplitude</label><div class=\"sk-toggleable__content\"><pre>Amplitude(metric='betti', metric_params={'n_bins': 100, 'p': 2}, n_jobs=-1)</pre></div></div></div></div></div></div><div class=\"sk-parallel-item\"><div class=\"sk-item\"><div class=\"sk-label-container\"><div class=\"sk-label sk-toggleable\"><label>amplitude-10</label></div></div><div class=\"sk-serial\"><div class=\"sk-item\"><div class=\"sk-estimator sk-toggleable\"><input class=\"sk-toggleable__control sk-hidden--visually\" id=\"e3a4ccce-5004-4d44-a2c4-b314446d9182\" type=\"checkbox\" ><label class=\"sk-toggleable__label\" for=\"e3a4ccce-5004-4d44-a2c4-b314446d9182\">Amplitude</label><div class=\"sk-toggleable__content\"><pre>Amplitude(metric='heat', metric_params={'n_bins': 100, 'p': 1, 'sigma': 1.6},\n",
       "          n_jobs=-1)</pre></div></div></div></div></div></div><div class=\"sk-parallel-item\"><div class=\"sk-item\"><div class=\"sk-label-container\"><div class=\"sk-label sk-toggleable\"><label>amplitude-11</label></div></div><div class=\"sk-serial\"><div class=\"sk-item\"><div class=\"sk-estimator sk-toggleable\"><input class=\"sk-toggleable__control sk-hidden--visually\" id=\"474d0354-d820-4a1c-a702-5894f2e7444f\" type=\"checkbox\" ><label class=\"sk-toggleable__label\" for=\"474d0354-d820-4a1c-a702-5894f2e7444f\">Amplitude</label><div class=\"sk-toggleable__content\"><pre>Amplitude(metric='heat', metric_params={'n_bins': 100, 'p': 1, 'sigma': 3.2},\n",
       "          n_jobs=-1)</pre></div></div></div></div></div></div><div class=\"sk-parallel-item\"><div class=\"sk-item\"><div class=\"sk-label-container\"><div class=\"sk-label sk-toggleable\"><label>amplitude-12</label></div></div><div class=\"sk-serial\"><div class=\"sk-item\"><div class=\"sk-estimator sk-toggleable\"><input class=\"sk-toggleable__control sk-hidden--visually\" id=\"0578aae7-8871-45c4-8c81-c4c8ffcc4827\" type=\"checkbox\" ><label class=\"sk-toggleable__label\" for=\"0578aae7-8871-45c4-8c81-c4c8ffcc4827\">Amplitude</label><div class=\"sk-toggleable__content\"><pre>Amplitude(metric='heat', metric_params={'n_bins': 100, 'p': 2, 'sigma': 1.6},\n",
       "          n_jobs=-1)</pre></div></div></div></div></div></div><div class=\"sk-parallel-item\"><div class=\"sk-item\"><div class=\"sk-label-container\"><div class=\"sk-label sk-toggleable\"><label>amplitude-13</label></div></div><div class=\"sk-serial\"><div class=\"sk-item\"><div class=\"sk-estimator sk-toggleable\"><input class=\"sk-toggleable__control sk-hidden--visually\" id=\"2a4f5b38-8edf-4b32-a50a-4eed74a05d6c\" type=\"checkbox\" ><label class=\"sk-toggleable__label\" for=\"2a4f5b38-8edf-4b32-a50a-4eed74a05d6c\">Amplitude</label><div class=\"sk-toggleable__content\"><pre>Amplitude(metric='heat', metric_params={'n_bins': 100, 'p': 2, 'sigma': 3.2},\n",
       "          n_jobs=-1)</pre></div></div></div></div></div></div></div></div></div></div></div></div></div><div class=\"sk-parallel-item\"><div class=\"sk-item\"><div class=\"sk-label-container\"><div class=\"sk-label sk-toggleable\"><label>pipeline-16</label></div></div><div class=\"sk-serial\"><div class=\"sk-item\"><div class=\"sk-serial\"><div class=\"sk-item\"><div class=\"sk-estimator sk-toggleable\"><input class=\"sk-toggleable__control sk-hidden--visually\" id=\"01057735-d86d-4f53-ba6a-003f987ab97e\" type=\"checkbox\" ><label class=\"sk-toggleable__label\" for=\"01057735-d86d-4f53-ba6a-003f987ab97e\">Binarizer</label><div class=\"sk-toggleable__content\"><pre>Binarizer(threshold=0.4)</pre></div></div></div><div class=\"sk-item\"><div class=\"sk-estimator sk-toggleable\"><input class=\"sk-toggleable__control sk-hidden--visually\" id=\"ea03fd2e-ac43-48f6-b9b3-e8b65eb9c409\" type=\"checkbox\" ><label class=\"sk-toggleable__label\" for=\"ea03fd2e-ac43-48f6-b9b3-e8b65eb9c409\">RadialFiltration</label><div class=\"sk-toggleable__content\"><pre>RadialFiltration(center=array([20,  6]), n_jobs=-1)</pre></div></div></div><div class=\"sk-item\"><div class=\"sk-estimator sk-toggleable\"><input class=\"sk-toggleable__control sk-hidden--visually\" id=\"6d1b5b2d-ae41-4dd6-8843-24bd16a7965c\" type=\"checkbox\" ><label class=\"sk-toggleable__label\" for=\"6d1b5b2d-ae41-4dd6-8843-24bd16a7965c\">CubicalPersistence</label><div class=\"sk-toggleable__content\"><pre>CubicalPersistence(n_jobs=-1)</pre></div></div></div><div class=\"sk-item\"><div class=\"sk-estimator sk-toggleable\"><input class=\"sk-toggleable__control sk-hidden--visually\" id=\"e384c757-15f5-4315-9d05-524453467ffc\" type=\"checkbox\" ><label class=\"sk-toggleable__label\" for=\"e384c757-15f5-4315-9d05-524453467ffc\">Scaler</label><div class=\"sk-toggleable__content\"><pre>Scaler(n_jobs=-1)</pre></div></div></div><div class=\"sk-item sk-dashed-wrapped\"><div class=\"sk-label-container\"><div class=\"sk-label sk-toggleable\"><input class=\"sk-toggleable__control sk-hidden--visually\" id=\"2a12cda7-dc2e-47c2-8944-bd68902591ae\" type=\"checkbox\" ><label class=\"sk-toggleable__label\" for=\"2a12cda7-dc2e-47c2-8944-bd68902591ae\">featureunion: FeatureUnion</label><div class=\"sk-toggleable__content\"><pre>FeatureUnion(transformer_list=[('persistenceentropy',\n",
       "                                PersistenceEntropy(nan_fill_value=-1)),\n",
       "                               ('amplitude-1',\n",
       "                                Amplitude(metric='bottleneck', metric_params={},\n",
       "                                          n_jobs=-1)),\n",
       "                               ('amplitude-2',\n",
       "                                Amplitude(metric='wasserstein',\n",
       "                                          metric_params={'p': 1}, n_jobs=-1)),\n",
       "                               ('amplitude-3',\n",
       "                                Amplitude(metric='wasserstein',\n",
       "                                          metric_params={'p': 2}, n_jobs=-1)),\n",
       "                               ('amplitude-4',\n",
       "                                Amplitude...\n",
       "                                          metric_params={'n_bins': 100, 'p': 1,\n",
       "                                                         'sigma': 1.6},\n",
       "                                          n_jobs=-1)),\n",
       "                               ('amplitude-11',\n",
       "                                Amplitude(metric='heat',\n",
       "                                          metric_params={'n_bins': 100, 'p': 1,\n",
       "                                                         'sigma': 3.2},\n",
       "                                          n_jobs=-1)),\n",
       "                               ('amplitude-12',\n",
       "                                Amplitude(metric='heat',\n",
       "                                          metric_params={'n_bins': 100, 'p': 2,\n",
       "                                                         'sigma': 1.6},\n",
       "                                          n_jobs=-1)),\n",
       "                               ('amplitude-13',\n",
       "                                Amplitude(metric='heat',\n",
       "                                          metric_params={'n_bins': 100, 'p': 2,\n",
       "                                                         'sigma': 3.2},\n",
       "                                          n_jobs=-1))])</pre></div></div></div><div class=\"sk-parallel\"><div class=\"sk-parallel-item\"><div class=\"sk-item\"><div class=\"sk-label-container\"><div class=\"sk-label sk-toggleable\"><label>persistenceentropy</label></div></div><div class=\"sk-serial\"><div class=\"sk-item\"><div class=\"sk-estimator sk-toggleable\"><input class=\"sk-toggleable__control sk-hidden--visually\" id=\"61ffed8d-6b6d-4956-86af-504c86cb24fe\" type=\"checkbox\" ><label class=\"sk-toggleable__label\" for=\"61ffed8d-6b6d-4956-86af-504c86cb24fe\">PersistenceEntropy</label><div class=\"sk-toggleable__content\"><pre>PersistenceEntropy(nan_fill_value=-1)</pre></div></div></div></div></div></div><div class=\"sk-parallel-item\"><div class=\"sk-item\"><div class=\"sk-label-container\"><div class=\"sk-label sk-toggleable\"><label>amplitude-1</label></div></div><div class=\"sk-serial\"><div class=\"sk-item\"><div class=\"sk-estimator sk-toggleable\"><input class=\"sk-toggleable__control sk-hidden--visually\" id=\"58dd5e8a-9d13-4a6e-8f8a-519b2d43f526\" type=\"checkbox\" ><label class=\"sk-toggleable__label\" for=\"58dd5e8a-9d13-4a6e-8f8a-519b2d43f526\">Amplitude</label><div class=\"sk-toggleable__content\"><pre>Amplitude(metric='bottleneck', metric_params={}, n_jobs=-1)</pre></div></div></div></div></div></div><div class=\"sk-parallel-item\"><div class=\"sk-item\"><div class=\"sk-label-container\"><div class=\"sk-label sk-toggleable\"><label>amplitude-2</label></div></div><div class=\"sk-serial\"><div class=\"sk-item\"><div class=\"sk-estimator sk-toggleable\"><input class=\"sk-toggleable__control sk-hidden--visually\" id=\"c3e2aefe-a021-456d-afb6-866f76e50b98\" type=\"checkbox\" ><label class=\"sk-toggleable__label\" for=\"c3e2aefe-a021-456d-afb6-866f76e50b98\">Amplitude</label><div class=\"sk-toggleable__content\"><pre>Amplitude(metric='wasserstein', metric_params={'p': 1}, n_jobs=-1)</pre></div></div></div></div></div></div><div class=\"sk-parallel-item\"><div class=\"sk-item\"><div class=\"sk-label-container\"><div class=\"sk-label sk-toggleable\"><label>amplitude-3</label></div></div><div class=\"sk-serial\"><div class=\"sk-item\"><div class=\"sk-estimator sk-toggleable\"><input class=\"sk-toggleable__control sk-hidden--visually\" id=\"9cf24461-f690-45ed-8ee6-dcdf27832eff\" type=\"checkbox\" ><label class=\"sk-toggleable__label\" for=\"9cf24461-f690-45ed-8ee6-dcdf27832eff\">Amplitude</label><div class=\"sk-toggleable__content\"><pre>Amplitude(metric='wasserstein', metric_params={'p': 2}, n_jobs=-1)</pre></div></div></div></div></div></div><div class=\"sk-parallel-item\"><div class=\"sk-item\"><div class=\"sk-label-container\"><div class=\"sk-label sk-toggleable\"><label>amplitude-4</label></div></div><div class=\"sk-serial\"><div class=\"sk-item\"><div class=\"sk-estimator sk-toggleable\"><input class=\"sk-toggleable__control sk-hidden--visually\" id=\"5f89f621-f99e-4108-a93f-fbe2a0bfadb0\" type=\"checkbox\" ><label class=\"sk-toggleable__label\" for=\"5f89f621-f99e-4108-a93f-fbe2a0bfadb0\">Amplitude</label><div class=\"sk-toggleable__content\"><pre>Amplitude(metric_params={'n_bins': 100, 'n_layers': 1, 'p': 1}, n_jobs=-1)</pre></div></div></div></div></div></div><div class=\"sk-parallel-item\"><div class=\"sk-item\"><div class=\"sk-label-container\"><div class=\"sk-label sk-toggleable\"><label>amplitude-5</label></div></div><div class=\"sk-serial\"><div class=\"sk-item\"><div class=\"sk-estimator sk-toggleable\"><input class=\"sk-toggleable__control sk-hidden--visually\" id=\"5cfb910f-c5a2-46f4-9964-e3a78f8faf06\" type=\"checkbox\" ><label class=\"sk-toggleable__label\" for=\"5cfb910f-c5a2-46f4-9964-e3a78f8faf06\">Amplitude</label><div class=\"sk-toggleable__content\"><pre>Amplitude(metric_params={'n_bins': 100, 'n_layers': 2, 'p': 1}, n_jobs=-1)</pre></div></div></div></div></div></div><div class=\"sk-parallel-item\"><div class=\"sk-item\"><div class=\"sk-label-container\"><div class=\"sk-label sk-toggleable\"><label>amplitude-6</label></div></div><div class=\"sk-serial\"><div class=\"sk-item\"><div class=\"sk-estimator sk-toggleable\"><input class=\"sk-toggleable__control sk-hidden--visually\" id=\"4b39d389-17a1-46ad-9329-80960ffabca4\" type=\"checkbox\" ><label class=\"sk-toggleable__label\" for=\"4b39d389-17a1-46ad-9329-80960ffabca4\">Amplitude</label><div class=\"sk-toggleable__content\"><pre>Amplitude(metric_params={'n_bins': 100, 'n_layers': 1, 'p': 2}, n_jobs=-1)</pre></div></div></div></div></div></div><div class=\"sk-parallel-item\"><div class=\"sk-item\"><div class=\"sk-label-container\"><div class=\"sk-label sk-toggleable\"><label>amplitude-7</label></div></div><div class=\"sk-serial\"><div class=\"sk-item\"><div class=\"sk-estimator sk-toggleable\"><input class=\"sk-toggleable__control sk-hidden--visually\" id=\"a346141c-b6e2-4c11-adb8-619bf4e12601\" type=\"checkbox\" ><label class=\"sk-toggleable__label\" for=\"a346141c-b6e2-4c11-adb8-619bf4e12601\">Amplitude</label><div class=\"sk-toggleable__content\"><pre>Amplitude(metric_params={'n_bins': 100, 'n_layers': 2, 'p': 2}, n_jobs=-1)</pre></div></div></div></div></div></div><div class=\"sk-parallel-item\"><div class=\"sk-item\"><div class=\"sk-label-container\"><div class=\"sk-label sk-toggleable\"><label>amplitude-8</label></div></div><div class=\"sk-serial\"><div class=\"sk-item\"><div class=\"sk-estimator sk-toggleable\"><input class=\"sk-toggleable__control sk-hidden--visually\" id=\"964472ce-cf26-4777-b54b-5c413db5c506\" type=\"checkbox\" ><label class=\"sk-toggleable__label\" for=\"964472ce-cf26-4777-b54b-5c413db5c506\">Amplitude</label><div class=\"sk-toggleable__content\"><pre>Amplitude(metric='betti', metric_params={'n_bins': 100, 'p': 1}, n_jobs=-1)</pre></div></div></div></div></div></div><div class=\"sk-parallel-item\"><div class=\"sk-item\"><div class=\"sk-label-container\"><div class=\"sk-label sk-toggleable\"><label>amplitude-9</label></div></div><div class=\"sk-serial\"><div class=\"sk-item\"><div class=\"sk-estimator sk-toggleable\"><input class=\"sk-toggleable__control sk-hidden--visually\" id=\"acd1ee24-61ab-4d43-8038-5b136c4dcb92\" type=\"checkbox\" ><label class=\"sk-toggleable__label\" for=\"acd1ee24-61ab-4d43-8038-5b136c4dcb92\">Amplitude</label><div class=\"sk-toggleable__content\"><pre>Amplitude(metric='betti', metric_params={'n_bins': 100, 'p': 2}, n_jobs=-1)</pre></div></div></div></div></div></div><div class=\"sk-parallel-item\"><div class=\"sk-item\"><div class=\"sk-label-container\"><div class=\"sk-label sk-toggleable\"><label>amplitude-10</label></div></div><div class=\"sk-serial\"><div class=\"sk-item\"><div class=\"sk-estimator sk-toggleable\"><input class=\"sk-toggleable__control sk-hidden--visually\" id=\"b79d725d-aff0-4328-89f8-5df8f9ec7eb6\" type=\"checkbox\" ><label class=\"sk-toggleable__label\" for=\"b79d725d-aff0-4328-89f8-5df8f9ec7eb6\">Amplitude</label><div class=\"sk-toggleable__content\"><pre>Amplitude(metric='heat', metric_params={'n_bins': 100, 'p': 1, 'sigma': 1.6},\n",
       "          n_jobs=-1)</pre></div></div></div></div></div></div><div class=\"sk-parallel-item\"><div class=\"sk-item\"><div class=\"sk-label-container\"><div class=\"sk-label sk-toggleable\"><label>amplitude-11</label></div></div><div class=\"sk-serial\"><div class=\"sk-item\"><div class=\"sk-estimator sk-toggleable\"><input class=\"sk-toggleable__control sk-hidden--visually\" id=\"897a21d5-64f7-44be-934f-2af2e6b59efd\" type=\"checkbox\" ><label class=\"sk-toggleable__label\" for=\"897a21d5-64f7-44be-934f-2af2e6b59efd\">Amplitude</label><div class=\"sk-toggleable__content\"><pre>Amplitude(metric='heat', metric_params={'n_bins': 100, 'p': 1, 'sigma': 3.2},\n",
       "          n_jobs=-1)</pre></div></div></div></div></div></div><div class=\"sk-parallel-item\"><div class=\"sk-item\"><div class=\"sk-label-container\"><div class=\"sk-label sk-toggleable\"><label>amplitude-12</label></div></div><div class=\"sk-serial\"><div class=\"sk-item\"><div class=\"sk-estimator sk-toggleable\"><input class=\"sk-toggleable__control sk-hidden--visually\" id=\"a544eb7b-442b-4e1c-9adc-6b5c3b2c17a0\" type=\"checkbox\" ><label class=\"sk-toggleable__label\" for=\"a544eb7b-442b-4e1c-9adc-6b5c3b2c17a0\">Amplitude</label><div class=\"sk-toggleable__content\"><pre>Amplitude(metric='heat', metric_params={'n_bins': 100, 'p': 2, 'sigma': 1.6},\n",
       "          n_jobs=-1)</pre></div></div></div></div></div></div><div class=\"sk-parallel-item\"><div class=\"sk-item\"><div class=\"sk-label-container\"><div class=\"sk-label sk-toggleable\"><label>amplitude-13</label></div></div><div class=\"sk-serial\"><div class=\"sk-item\"><div class=\"sk-estimator sk-toggleable\"><input class=\"sk-toggleable__control sk-hidden--visually\" id=\"40a6e80d-7c67-402c-bd65-0d6fcadeec4c\" type=\"checkbox\" ><label class=\"sk-toggleable__label\" for=\"40a6e80d-7c67-402c-bd65-0d6fcadeec4c\">Amplitude</label><div class=\"sk-toggleable__content\"><pre>Amplitude(metric='heat', metric_params={'n_bins': 100, 'p': 2, 'sigma': 3.2},\n",
       "          n_jobs=-1)</pre></div></div></div></div></div></div></div></div></div></div></div></div></div><div class=\"sk-parallel-item\"><div class=\"sk-item\"><div class=\"sk-label-container\"><div class=\"sk-label sk-toggleable\"><label>pipeline-17</label></div></div><div class=\"sk-serial\"><div class=\"sk-item\"><div class=\"sk-serial\"><div class=\"sk-item\"><div class=\"sk-estimator sk-toggleable\"><input class=\"sk-toggleable__control sk-hidden--visually\" id=\"62f83669-042a-4d8e-811f-9059ce4cff93\" type=\"checkbox\" ><label class=\"sk-toggleable__label\" for=\"62f83669-042a-4d8e-811f-9059ce4cff93\">Binarizer</label><div class=\"sk-toggleable__content\"><pre>Binarizer(threshold=0.4)</pre></div></div></div><div class=\"sk-item\"><div class=\"sk-estimator sk-toggleable\"><input class=\"sk-toggleable__control sk-hidden--visually\" id=\"8ec7cb27-80b4-4585-b11f-b4d31c580c02\" type=\"checkbox\" ><label class=\"sk-toggleable__label\" for=\"8ec7cb27-80b4-4585-b11f-b4d31c580c02\">RadialFiltration</label><div class=\"sk-toggleable__content\"><pre>RadialFiltration(center=array([20, 20]), n_jobs=-1)</pre></div></div></div><div class=\"sk-item\"><div class=\"sk-estimator sk-toggleable\"><input class=\"sk-toggleable__control sk-hidden--visually\" id=\"e4279b60-a6b6-4a9c-859c-f74d22c811df\" type=\"checkbox\" ><label class=\"sk-toggleable__label\" for=\"e4279b60-a6b6-4a9c-859c-f74d22c811df\">CubicalPersistence</label><div class=\"sk-toggleable__content\"><pre>CubicalPersistence(n_jobs=-1)</pre></div></div></div><div class=\"sk-item\"><div class=\"sk-estimator sk-toggleable\"><input class=\"sk-toggleable__control sk-hidden--visually\" id=\"255b6e76-c3dc-4675-a694-d304194a7edd\" type=\"checkbox\" ><label class=\"sk-toggleable__label\" for=\"255b6e76-c3dc-4675-a694-d304194a7edd\">Scaler</label><div class=\"sk-toggleable__content\"><pre>Scaler(n_jobs=-1)</pre></div></div></div><div class=\"sk-item sk-dashed-wrapped\"><div class=\"sk-label-container\"><div class=\"sk-label sk-toggleable\"><input class=\"sk-toggleable__control sk-hidden--visually\" id=\"51f9201b-288c-4dc0-b84e-7056cf524433\" type=\"checkbox\" ><label class=\"sk-toggleable__label\" for=\"51f9201b-288c-4dc0-b84e-7056cf524433\">featureunion: FeatureUnion</label><div class=\"sk-toggleable__content\"><pre>FeatureUnion(transformer_list=[('persistenceentropy',\n",
       "                                PersistenceEntropy(nan_fill_value=-1)),\n",
       "                               ('amplitude-1',\n",
       "                                Amplitude(metric='bottleneck', metric_params={},\n",
       "                                          n_jobs=-1)),\n",
       "                               ('amplitude-2',\n",
       "                                Amplitude(metric='wasserstein',\n",
       "                                          metric_params={'p': 1}, n_jobs=-1)),\n",
       "                               ('amplitude-3',\n",
       "                                Amplitude(metric='wasserstein',\n",
       "                                          metric_params={'p': 2}, n_jobs=-1)),\n",
       "                               ('amplitude-4',\n",
       "                                Amplitude...\n",
       "                                          metric_params={'n_bins': 100, 'p': 1,\n",
       "                                                         'sigma': 1.6},\n",
       "                                          n_jobs=-1)),\n",
       "                               ('amplitude-11',\n",
       "                                Amplitude(metric='heat',\n",
       "                                          metric_params={'n_bins': 100, 'p': 1,\n",
       "                                                         'sigma': 3.2},\n",
       "                                          n_jobs=-1)),\n",
       "                               ('amplitude-12',\n",
       "                                Amplitude(metric='heat',\n",
       "                                          metric_params={'n_bins': 100, 'p': 2,\n",
       "                                                         'sigma': 1.6},\n",
       "                                          n_jobs=-1)),\n",
       "                               ('amplitude-13',\n",
       "                                Amplitude(metric='heat',\n",
       "                                          metric_params={'n_bins': 100, 'p': 2,\n",
       "                                                         'sigma': 3.2},\n",
       "                                          n_jobs=-1))])</pre></div></div></div><div class=\"sk-parallel\"><div class=\"sk-parallel-item\"><div class=\"sk-item\"><div class=\"sk-label-container\"><div class=\"sk-label sk-toggleable\"><label>persistenceentropy</label></div></div><div class=\"sk-serial\"><div class=\"sk-item\"><div class=\"sk-estimator sk-toggleable\"><input class=\"sk-toggleable__control sk-hidden--visually\" id=\"c1e18afe-a329-465a-adc5-021f52af6cbb\" type=\"checkbox\" ><label class=\"sk-toggleable__label\" for=\"c1e18afe-a329-465a-adc5-021f52af6cbb\">PersistenceEntropy</label><div class=\"sk-toggleable__content\"><pre>PersistenceEntropy(nan_fill_value=-1)</pre></div></div></div></div></div></div><div class=\"sk-parallel-item\"><div class=\"sk-item\"><div class=\"sk-label-container\"><div class=\"sk-label sk-toggleable\"><label>amplitude-1</label></div></div><div class=\"sk-serial\"><div class=\"sk-item\"><div class=\"sk-estimator sk-toggleable\"><input class=\"sk-toggleable__control sk-hidden--visually\" id=\"caad593e-00c4-40c5-a31d-8c54056515b7\" type=\"checkbox\" ><label class=\"sk-toggleable__label\" for=\"caad593e-00c4-40c5-a31d-8c54056515b7\">Amplitude</label><div class=\"sk-toggleable__content\"><pre>Amplitude(metric='bottleneck', metric_params={}, n_jobs=-1)</pre></div></div></div></div></div></div><div class=\"sk-parallel-item\"><div class=\"sk-item\"><div class=\"sk-label-container\"><div class=\"sk-label sk-toggleable\"><label>amplitude-2</label></div></div><div class=\"sk-serial\"><div class=\"sk-item\"><div class=\"sk-estimator sk-toggleable\"><input class=\"sk-toggleable__control sk-hidden--visually\" id=\"7dd830b2-a506-4cd7-9984-9c41ccb9a3d9\" type=\"checkbox\" ><label class=\"sk-toggleable__label\" for=\"7dd830b2-a506-4cd7-9984-9c41ccb9a3d9\">Amplitude</label><div class=\"sk-toggleable__content\"><pre>Amplitude(metric='wasserstein', metric_params={'p': 1}, n_jobs=-1)</pre></div></div></div></div></div></div><div class=\"sk-parallel-item\"><div class=\"sk-item\"><div class=\"sk-label-container\"><div class=\"sk-label sk-toggleable\"><label>amplitude-3</label></div></div><div class=\"sk-serial\"><div class=\"sk-item\"><div class=\"sk-estimator sk-toggleable\"><input class=\"sk-toggleable__control sk-hidden--visually\" id=\"7c35887d-d43b-4df2-bd65-1783f49a765d\" type=\"checkbox\" ><label class=\"sk-toggleable__label\" for=\"7c35887d-d43b-4df2-bd65-1783f49a765d\">Amplitude</label><div class=\"sk-toggleable__content\"><pre>Amplitude(metric='wasserstein', metric_params={'p': 2}, n_jobs=-1)</pre></div></div></div></div></div></div><div class=\"sk-parallel-item\"><div class=\"sk-item\"><div class=\"sk-label-container\"><div class=\"sk-label sk-toggleable\"><label>amplitude-4</label></div></div><div class=\"sk-serial\"><div class=\"sk-item\"><div class=\"sk-estimator sk-toggleable\"><input class=\"sk-toggleable__control sk-hidden--visually\" id=\"3ca40ff2-3543-4b8b-8424-a6b7378dce7c\" type=\"checkbox\" ><label class=\"sk-toggleable__label\" for=\"3ca40ff2-3543-4b8b-8424-a6b7378dce7c\">Amplitude</label><div class=\"sk-toggleable__content\"><pre>Amplitude(metric_params={'n_bins': 100, 'n_layers': 1, 'p': 1}, n_jobs=-1)</pre></div></div></div></div></div></div><div class=\"sk-parallel-item\"><div class=\"sk-item\"><div class=\"sk-label-container\"><div class=\"sk-label sk-toggleable\"><label>amplitude-5</label></div></div><div class=\"sk-serial\"><div class=\"sk-item\"><div class=\"sk-estimator sk-toggleable\"><input class=\"sk-toggleable__control sk-hidden--visually\" id=\"501864dc-9cff-4ca4-9fbf-1c82006fc2c7\" type=\"checkbox\" ><label class=\"sk-toggleable__label\" for=\"501864dc-9cff-4ca4-9fbf-1c82006fc2c7\">Amplitude</label><div class=\"sk-toggleable__content\"><pre>Amplitude(metric_params={'n_bins': 100, 'n_layers': 2, 'p': 1}, n_jobs=-1)</pre></div></div></div></div></div></div><div class=\"sk-parallel-item\"><div class=\"sk-item\"><div class=\"sk-label-container\"><div class=\"sk-label sk-toggleable\"><label>amplitude-6</label></div></div><div class=\"sk-serial\"><div class=\"sk-item\"><div class=\"sk-estimator sk-toggleable\"><input class=\"sk-toggleable__control sk-hidden--visually\" id=\"936ed9c5-eb29-446e-a412-7d53bed44127\" type=\"checkbox\" ><label class=\"sk-toggleable__label\" for=\"936ed9c5-eb29-446e-a412-7d53bed44127\">Amplitude</label><div class=\"sk-toggleable__content\"><pre>Amplitude(metric_params={'n_bins': 100, 'n_layers': 1, 'p': 2}, n_jobs=-1)</pre></div></div></div></div></div></div><div class=\"sk-parallel-item\"><div class=\"sk-item\"><div class=\"sk-label-container\"><div class=\"sk-label sk-toggleable\"><label>amplitude-7</label></div></div><div class=\"sk-serial\"><div class=\"sk-item\"><div class=\"sk-estimator sk-toggleable\"><input class=\"sk-toggleable__control sk-hidden--visually\" id=\"b781c6fc-2305-4aaa-a12d-de989aea1e8a\" type=\"checkbox\" ><label class=\"sk-toggleable__label\" for=\"b781c6fc-2305-4aaa-a12d-de989aea1e8a\">Amplitude</label><div class=\"sk-toggleable__content\"><pre>Amplitude(metric_params={'n_bins': 100, 'n_layers': 2, 'p': 2}, n_jobs=-1)</pre></div></div></div></div></div></div><div class=\"sk-parallel-item\"><div class=\"sk-item\"><div class=\"sk-label-container\"><div class=\"sk-label sk-toggleable\"><label>amplitude-8</label></div></div><div class=\"sk-serial\"><div class=\"sk-item\"><div class=\"sk-estimator sk-toggleable\"><input class=\"sk-toggleable__control sk-hidden--visually\" id=\"a723150d-002f-4ba1-8be5-50893b645ae6\" type=\"checkbox\" ><label class=\"sk-toggleable__label\" for=\"a723150d-002f-4ba1-8be5-50893b645ae6\">Amplitude</label><div class=\"sk-toggleable__content\"><pre>Amplitude(metric='betti', metric_params={'n_bins': 100, 'p': 1}, n_jobs=-1)</pre></div></div></div></div></div></div><div class=\"sk-parallel-item\"><div class=\"sk-item\"><div class=\"sk-label-container\"><div class=\"sk-label sk-toggleable\"><label>amplitude-9</label></div></div><div class=\"sk-serial\"><div class=\"sk-item\"><div class=\"sk-estimator sk-toggleable\"><input class=\"sk-toggleable__control sk-hidden--visually\" id=\"cdfc1f32-8bf9-44f9-9bdb-3f9232765f1f\" type=\"checkbox\" ><label class=\"sk-toggleable__label\" for=\"cdfc1f32-8bf9-44f9-9bdb-3f9232765f1f\">Amplitude</label><div class=\"sk-toggleable__content\"><pre>Amplitude(metric='betti', metric_params={'n_bins': 100, 'p': 2}, n_jobs=-1)</pre></div></div></div></div></div></div><div class=\"sk-parallel-item\"><div class=\"sk-item\"><div class=\"sk-label-container\"><div class=\"sk-label sk-toggleable\"><label>amplitude-10</label></div></div><div class=\"sk-serial\"><div class=\"sk-item\"><div class=\"sk-estimator sk-toggleable\"><input class=\"sk-toggleable__control sk-hidden--visually\" id=\"4631992d-b98e-4f06-9ade-20352acf7782\" type=\"checkbox\" ><label class=\"sk-toggleable__label\" for=\"4631992d-b98e-4f06-9ade-20352acf7782\">Amplitude</label><div class=\"sk-toggleable__content\"><pre>Amplitude(metric='heat', metric_params={'n_bins': 100, 'p': 1, 'sigma': 1.6},\n",
       "          n_jobs=-1)</pre></div></div></div></div></div></div><div class=\"sk-parallel-item\"><div class=\"sk-item\"><div class=\"sk-label-container\"><div class=\"sk-label sk-toggleable\"><label>amplitude-11</label></div></div><div class=\"sk-serial\"><div class=\"sk-item\"><div class=\"sk-estimator sk-toggleable\"><input class=\"sk-toggleable__control sk-hidden--visually\" id=\"05b36325-fdad-4c51-8c34-82ff114e6628\" type=\"checkbox\" ><label class=\"sk-toggleable__label\" for=\"05b36325-fdad-4c51-8c34-82ff114e6628\">Amplitude</label><div class=\"sk-toggleable__content\"><pre>Amplitude(metric='heat', metric_params={'n_bins': 100, 'p': 1, 'sigma': 3.2},\n",
       "          n_jobs=-1)</pre></div></div></div></div></div></div><div class=\"sk-parallel-item\"><div class=\"sk-item\"><div class=\"sk-label-container\"><div class=\"sk-label sk-toggleable\"><label>amplitude-12</label></div></div><div class=\"sk-serial\"><div class=\"sk-item\"><div class=\"sk-estimator sk-toggleable\"><input class=\"sk-toggleable__control sk-hidden--visually\" id=\"995dde22-9a51-4571-98a4-0edb2ae1b6e6\" type=\"checkbox\" ><label class=\"sk-toggleable__label\" for=\"995dde22-9a51-4571-98a4-0edb2ae1b6e6\">Amplitude</label><div class=\"sk-toggleable__content\"><pre>Amplitude(metric='heat', metric_params={'n_bins': 100, 'p': 2, 'sigma': 1.6},\n",
       "          n_jobs=-1)</pre></div></div></div></div></div></div><div class=\"sk-parallel-item\"><div class=\"sk-item\"><div class=\"sk-label-container\"><div class=\"sk-label sk-toggleable\"><label>amplitude-13</label></div></div><div class=\"sk-serial\"><div class=\"sk-item\"><div class=\"sk-estimator sk-toggleable\"><input class=\"sk-toggleable__control sk-hidden--visually\" id=\"01c94d69-0699-4a54-8d2b-c8c21868e043\" type=\"checkbox\" ><label class=\"sk-toggleable__label\" for=\"01c94d69-0699-4a54-8d2b-c8c21868e043\">Amplitude</label><div class=\"sk-toggleable__content\"><pre>Amplitude(metric='heat', metric_params={'n_bins': 100, 'p': 2, 'sigma': 3.2},\n",
       "          n_jobs=-1)</pre></div></div></div></div></div></div></div></div></div></div></div></div></div></div></div></div></div>"
      ],
      "text/plain": [
       "FeatureUnion(n_jobs=-1,\n",
       "             transformer_list=[('pipeline-1',\n",
       "                                Pipeline(steps=[('binarizer',\n",
       "                                                 Binarizer(threshold=0.4)),\n",
       "                                                ('heightfiltration',\n",
       "                                                 HeightFiltration(direction=array([1, 0]),\n",
       "                                                                  n_jobs=-1)),\n",
       "                                                ('cubicalpersistence',\n",
       "                                                 CubicalPersistence(n_jobs=-1)),\n",
       "                                                ('scaler', Scaler(n_jobs=-1)),\n",
       "                                                ('featureunion',\n",
       "                                                 FeatureUnion(transformer_list=[('persistenceentropy',\n",
       "                                                                                 PersistenceEntrop...\n",
       "                                                                                           metric_params={'n_bins': 100,\n",
       "                                                                                                          'p': 1,\n",
       "                                                                                                          'sigma': 1.6},\n",
       "                                                                                           n_jobs=-1)),\n",
       "                                                                                ('amplitude-11',\n",
       "                                                                                 Amplitude(metric='heat',\n",
       "                                                                                           metric_params={'n_bins': 100,\n",
       "                                                                                                          'p': 1,\n",
       "                                                                                                          'sigma': 3.2},\n",
       "                                                                                           n_jobs=-1)),\n",
       "                                                                                ('amplitude-12',\n",
       "                                                                                 Amplitude(metric='heat',\n",
       "                                                                                           metric_params={'n_bins': 100,\n",
       "                                                                                                          'p': 2,\n",
       "                                                                                                          'sigma': 1.6},\n",
       "                                                                                           n_jobs=-1)),\n",
       "                                                                                ('amplitude-13',\n",
       "                                                                                 Amplitude(metric='heat',\n",
       "                                                                                           metric_params={'n_bins': 100,\n",
       "                                                                                                          'p': 2,\n",
       "                                                                                                          'sigma': 3.2},\n",
       "                                                                                           n_jobs=-1))]))]))])"
      ]
     },
     "execution_count": 82,
     "metadata": {},
     "output_type": "execute_result"
    }
   ],
   "source": [
    "from sklearn import set_config\n",
    "set_config(display='diagram')  \n",
    "\n",
    "tda_union"
   ]
  },
  {
   "cell_type": "code",
   "execution_count": 83,
   "id": "armed-destination",
   "metadata": {},
   "outputs": [
    {
     "data": {
      "text/plain": [
       "(600, 28, 28)"
      ]
     },
     "execution_count": 83,
     "metadata": {},
     "output_type": "execute_result"
    }
   ],
   "source": [
    "X_train.shape"
   ]
  },
  {
   "cell_type": "code",
   "execution_count": 84,
   "id": "recent-clothing",
   "metadata": {},
   "outputs": [
    {
     "data": {
      "text/plain": [
       "(600, 476)"
      ]
     },
     "execution_count": 84,
     "metadata": {},
     "output_type": "execute_result"
    }
   ],
   "source": [
    "X_train_tda = tda_union.fit_transform(X_train)\n",
    "X_train_tda.shape"
   ]
  },
  {
   "cell_type": "code",
   "execution_count": 85,
   "id": "suspected-while",
   "metadata": {},
   "outputs": [
    {
     "data": {
      "text/plain": [
       "0.86"
      ]
     },
     "execution_count": 85,
     "metadata": {},
     "output_type": "execute_result"
    }
   ],
   "source": [
    "from sklearn.ensemble import RandomForestClassifier\n",
    "\n",
    "rf = RandomForestClassifier()\n",
    "rf.fit(X_train_tda, y_train)\n",
    "\n",
    "X_test_tda = tda_union.transform(X_test)\n",
    "rf.score(X_test_tda, y_test)"
   ]
  },
  {
   "cell_type": "markdown",
   "id": "exotic-credit",
   "metadata": {},
   "source": [
    "How can we improve this classification? W can try to reduce some of the 476 topological features used here. By loooking at the correlation between the features, we can remove highly correlated features and reduce the complexity of the model, also improving efficiency. We could also try other ML algorithms besides Random Forests like SVM, clustering, etc."
   ]
  },
  {
   "cell_type": "code",
   "execution_count": null,
   "id": "interstate-screw",
   "metadata": {},
   "outputs": [],
   "source": []
  }
 ],
 "metadata": {
  "kernelspec": {
   "display_name": "Python 3",
   "language": "python",
   "name": "python3"
  },
  "language_info": {
   "codemirror_mode": {
    "name": "ipython",
    "version": 3
   },
   "file_extension": ".py",
   "mimetype": "text/x-python",
   "name": "python",
   "nbconvert_exporter": "python",
   "pygments_lexer": "ipython3",
   "version": "3.8.5"
  }
 },
 "nbformat": 4,
 "nbformat_minor": 5
}
